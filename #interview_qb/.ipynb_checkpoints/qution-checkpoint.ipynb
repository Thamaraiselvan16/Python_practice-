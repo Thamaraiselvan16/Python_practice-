{
 "cells": [
  {
   "cell_type": "markdown",
   "metadata": {},
   "source": [
    "# While loop"
   ]
  },
  {
   "cell_type": "code",
   "execution_count": 1,
   "metadata": {},
   "outputs": [],
   "source": [
    "#SUM OF NUMBERS\n",
    "\n",
    "a=int(input(\"Enter the number :\"))\n",
    "\n",
    "sum=0\n",
    "i=1\n",
    "while (i<=a):\n",
    "    sum=sum+i\n",
    "    i=i+1\n",
    "print(sum)\n"
   ]
  },
  {
   "cell_type": "code",
   "execution_count": 18,
   "metadata": {},
   "outputs": [
    {
     "name": "stdout",
     "output_type": "stream",
     "text": [
      "enter123\n",
      "321\n"
     ]
    }
   ],
   "source": [
    "# reverse a number\n",
    "num=int(input(\"enter\"))\n",
    "\n",
    "rev=0\n",
    "while num>0:\n",
    "    rem=num%10\n",
    "    rev=rev*10+rem\n",
    "    num=num//10\n",
    "print(rev)"
   ]
  },
  {
   "cell_type": "code",
   "execution_count": 3,
   "metadata": {},
   "outputs": [
    {
     "name": "stdout",
     "output_type": "stream",
     "text": [
      "enter: 123\n",
      "321\n",
      "not palindrome\n"
     ]
    }
   ],
   "source": [
    "# palidrome\n",
    "\n",
    "num=int(input(\"enter: \"))\n",
    "\n",
    "rev=0\n",
    "temp=num\n",
    "\n",
    "while num>0:\n",
    "    rem=num%10\n",
    "    rev=rev*10+rem\n",
    "    num=num//10\n",
    "print(rev)\n",
    "if temp==rev:\n",
    "    print(\"palindrome\")\n",
    "else:\n",
    "    print(\"not palindrome\")\n",
    "    "
   ]
  },
  {
   "cell_type": "code",
   "execution_count": 7,
   "metadata": {},
   "outputs": [
    {
     "name": "stdout",
     "output_type": "stream",
     "text": [
      "ennter :153\n",
      "armstrong\n"
     ]
    }
   ],
   "source": [
    "# aramstrong number \n",
    "\n",
    "num=int(input(\"ennter :\"))\n",
    "sum=0\n",
    "temp=num\n",
    "while num>0:\n",
    "    rem=num%10\n",
    "    sum=sum+rem*rem*rem\n",
    "    num=num//10\n",
    "if temp==sum:\n",
    "    print(\"armstrong\")\n",
    "else:\n",
    "    print(\"not armstrong\")"
   ]
  },
  {
   "cell_type": "code",
   "execution_count": 9,
   "metadata": {},
   "outputs": [
    {
     "name": "stdout",
     "output_type": "stream",
     "text": [
      "1\n",
      "2\n",
      "3\n",
      "4\n",
      "5\n",
      "6\n",
      "7\n",
      "8\n",
      "9\n",
      "10\n"
     ]
    }
   ],
   "source": [
    "#PRINT FIRST 10 NUMBER\n",
    "\n",
    "for i in range(1,11):\n",
    "    print(i)"
   ]
  },
  {
   "cell_type": "code",
   "execution_count": 11,
   "metadata": {},
   "outputs": [
    {
     "name": "stdout",
     "output_type": "stream",
     "text": [
      "0\n",
      "2\n",
      "4\n",
      "6\n",
      "8\n",
      "10\n"
     ]
    }
   ],
   "source": [
    "# print even \n",
    "\n",
    "for i in range(0,11,2):\n",
    "    print(i)"
   ]
  },
  {
   "cell_type": "code",
   "execution_count": 12,
   "metadata": {},
   "outputs": [
    {
     "name": "stdout",
     "output_type": "stream",
     "text": [
      "1\n",
      "3\n",
      "5\n",
      "7\n",
      "9\n"
     ]
    }
   ],
   "source": [
    "# print odd \n",
    "\n",
    "for i in range(1,11,2):\n",
    "    print(i)"
   ]
  },
  {
   "cell_type": "code",
   "execution_count": 15,
   "metadata": {},
   "outputs": [
    {
     "name": "stdout",
     "output_type": "stream",
     "text": [
      "10\n",
      "8\n",
      "6\n",
      "4\n",
      "2\n"
     ]
    }
   ],
   "source": [
    "# even nuumbers in reversed order\n",
    "for i in range(10,0,-2):\n",
    "    print(i)"
   ]
  },
  {
   "cell_type": "code",
   "execution_count": 29,
   "metadata": {},
   "outputs": [
    {
     "name": "stdout",
     "output_type": "stream",
     "text": [
      "enter a number: 5\n",
      "1 x 5 =5\n",
      "2 x 5 =10\n",
      "3 x 5 =15\n",
      "4 x 5 =20\n",
      "5 x 5 =25\n",
      "6 x 5 =30\n",
      "7 x 5 =35\n",
      "8 x 5 =40\n",
      "9 x 5 =45\n",
      "10 x 5 =50\n"
     ]
    }
   ],
   "source": [
    "# table of number\n",
    "num1=int(input(\"enter a number: \"))\n",
    "\n",
    "for n in range(1,11):\n",
    "    sum=num1*n\n",
    "    print(f\"{n} x {num1} ={sum}\")"
   ]
  },
  {
   "cell_type": "code",
   "execution_count": 4,
   "metadata": {},
   "outputs": [
    {
     "name": "stdout",
     "output_type": "stream",
     "text": [
      "Enter a digit: 43\n",
      "12\n"
     ]
    }
   ],
   "source": [
    "# product of a digit\n",
    "num=int(input(\"Enter a digit: \"))\n",
    "n=num\n",
    "product=1\n",
    "\n",
    "while n!=0:\n",
    "    rem=n%10\n",
    "    product =product*rem\n",
    "    n=n//10\n",
    "print(product)"
   ]
  },
  {
   "cell_type": "code",
   "execution_count": 46,
   "metadata": {},
   "outputs": [
    {
     "name": "stdout",
     "output_type": "stream",
     "text": [
      "enter a number: 5\n",
      "120\n"
     ]
    }
   ],
   "source": [
    "# factorial of a number\n",
    "\n",
    "def fact(x):\n",
    "    if x==0 or x==1:\n",
    "        return 1\n",
    "    else:\n",
    "        return(x*fact(x-1)) \n",
    "        \n",
    "res=fact(int(input(\"enter a number: \")))\n",
    "print(res)"
   ]
  },
  {
   "cell_type": "code",
   "execution_count": 48,
   "metadata": {},
   "outputs": [
    {
     "name": "stdout",
     "output_type": "stream",
     "text": [
      "Enter a number: 10\n",
      "5.0\n"
     ]
    }
   ],
   "source": [
    "# average of a num\n",
    "\n",
    "n=int(input(\"Enter a number: \"))\n",
    "\n",
    "avg=n/2\n",
    "print(avg)"
   ]
  },
  {
   "cell_type": "code",
   "execution_count": 51,
   "metadata": {},
   "outputs": [
    {
     "name": "stdout",
     "output_type": "stream",
     "text": [
      "total even number is:  600\n",
      "total odd number is:  625\n"
     ]
    }
   ],
   "source": [
    "#sum of even and odd number\n",
    "even=0\n",
    "odd=0\n",
    "for i in range(1,50):\n",
    "    if i%2==0:\n",
    "        even=even+i\n",
    "    elif i%2!=0:\n",
    "        odd=odd+i\n",
    "print(\"total even number is: \",even)\n",
    "print(\"total odd number is: \",odd)"
   ]
  },
  {
   "cell_type": "code",
   "execution_count": 62,
   "metadata": {},
   "outputs": [
    {
     "name": "stdout",
     "output_type": "stream",
     "text": [
      "121 143 165 187 209 231 253 275 297 319 341 363 385 407 429 451 473 495 "
     ]
    }
   ],
   "source": [
    "for i in range(100, 501):\n",
    "    if i%11==0 and i%2!=0:\n",
    "        print(i,end=\" \")"
   ]
  },
  {
   "cell_type": "code",
   "execution_count": 1,
   "metadata": {},
   "outputs": [
    {
     "name": "stdout",
     "output_type": "stream",
     "text": [
      "[12, 45, 'sasd', 354, 100, 'happy']\n"
     ]
    }
   ],
   "source": [
    "# list method\n",
    "\n",
    "#append\n",
    "\n",
    "a=[12,45,\"sasd\",354]\n",
    "\n",
    "a.append(100)\n",
    "a.append(\"happy\")\n",
    "print(a)"
   ]
  },
  {
   "cell_type": "code",
   "execution_count": 2,
   "metadata": {},
   "outputs": [
    {
     "name": "stdout",
     "output_type": "stream",
     "text": [
      "[12, 34, 'asjd', 33, 23, 11, 'aadg', 233]\n"
     ]
    }
   ],
   "source": [
    "a=[12,34,\"asjd\",33]\n",
    "b=[23,11,\"aadg\",233]\n",
    "\n",
    "a.extend(b)\n",
    "print(a)"
   ]
  },
  {
   "cell_type": "code",
   "execution_count": 12,
   "metadata": {},
   "outputs": [
    {
     "name": "stdout",
     "output_type": "stream",
     "text": [
      "2586335732736\n",
      "2586335545728\n",
      "False\n"
     ]
    }
   ],
   "source": [
    "a=[12,34,\"asjd\",33]\n",
    "b=a.copy()\n",
    "print(id(a))\n",
    "print(id(b))\n",
    "print(id(a) is id(b))"
   ]
  },
  {
   "cell_type": "code",
   "execution_count": 23,
   "metadata": {},
   "outputs": [
    {
     "name": "stdout",
     "output_type": "stream",
     "text": [
      "[12, 33, 34]\n"
     ]
    }
   ],
   "source": [
    "#sort\n",
    "a=[12,34,33]\n",
    "a.sort()\n",
    "print(a)"
   ]
  },
  {
   "cell_type": "code",
   "execution_count": 26,
   "metadata": {},
   "outputs": [
    {
     "name": "stdout",
     "output_type": "stream",
     "text": [
      "[4, 7, 3, 75, 23, 54, 43, 12]\n",
      "[12, 43, 54, 23, 75, 3, 7, 4]\n"
     ]
    }
   ],
   "source": [
    "#reverse\n",
    "a=[12,43,54,23,75,3,7,4]\n",
    "a.reverse()\n",
    "print(a)\n",
    "print(a[::-1])"
   ]
  },
  {
   "cell_type": "code",
   "execution_count": 28,
   "metadata": {},
   "outputs": [
    {
     "name": "stdout",
     "output_type": "stream",
     "text": [
      "[3, 4, 7, 12, 23, 43, 54, 75]\n",
      "[75, 54, 43, 23, 12, 7, 4, 3]\n"
     ]
    }
   ],
   "source": [
    "# print desending order\n",
    "a=[12,43,54,23,75,3,7,4]\n",
    "a.sort()\n",
    "print(a)\n",
    "a.sort(reverse=True)\n",
    "print(a)"
   ]
  },
  {
   "cell_type": "code",
   "execution_count": 29,
   "metadata": {},
   "outputs": [
    {
     "name": "stdout",
     "output_type": "stream",
     "text": [
      "[10, 20, 12, 34, 57, 78]\n"
     ]
    }
   ],
   "source": [
    "#inser(index,value)\n",
    "\n",
    "a=[12,34,57,78]\n",
    "a.insert(0,10)\n",
    "a.insert(1,20)\n",
    "print(a)"
   ]
  },
  {
   "cell_type": "code",
   "execution_count": 30,
   "metadata": {},
   "outputs": [
    {
     "name": "stdout",
     "output_type": "stream",
     "text": [
      "4\n"
     ]
    }
   ],
   "source": [
    "#count(object)\n",
    "\n",
    "a=[12,12,12,12,34,57,78]\n",
    "b=a.count(12)\n",
    "print(b)"
   ]
  },
  {
   "cell_type": "code",
   "execution_count": 42,
   "metadata": {},
   "outputs": [
    {
     "name": "stdout",
     "output_type": "stream",
     "text": [
      "12\n",
      "78\n"
     ]
    }
   ],
   "source": [
    "#pop\n",
    "a=[12,12,12,12,34,57,78]\n",
    "b=a.pop(2)  #using index\n",
    "c=a.pop()\n",
    "print(b)\n",
    "print(c)"
   ]
  },
  {
   "cell_type": "code",
   "execution_count": 43,
   "metadata": {},
   "outputs": [
    {
     "name": "stdout",
     "output_type": "stream",
     "text": [
      "[12, 12, 12, 34, 57, 78]\n"
     ]
    }
   ],
   "source": [
    "#remove(object)\n",
    "\n",
    "a=[12,12,12,12,34,57,78]\n",
    "a.remove(12)\n",
    "print(a)"
   ]
  },
  {
   "cell_type": "code",
   "execution_count": 62,
   "metadata": {},
   "outputs": [
    {
     "name": "stdout",
     "output_type": "stream",
     "text": [
      "2\n"
     ]
    }
   ],
   "source": [
    "a=[100,20,50,60]\n",
    "print(a.index(50))\n",
    "# print(a.index(200))\n",
    "# print(a.index(20,0,3))\n",
    "# print(a.index(50))\n",
    "# a.remove(50)\n",
    "# print(a)\n",
    "# print(a.index(300))\n",
    "# print(a.pop(5))"
   ]
  },
  {
   "cell_type": "code",
   "execution_count": 63,
   "metadata": {},
   "outputs": [
    {
     "name": "stdout",
     "output_type": "stream",
     "text": [
      "[12, 34, 54]\n",
      "[100, 34, 54]\n"
     ]
    }
   ],
   "source": [
    "#update in without build in method\n",
    "\n",
    "a=[12,34,54]\n",
    "print(a)\n",
    "a[0]=100\n",
    "print(a)"
   ]
  },
  {
   "cell_type": "code",
   "execution_count": 75,
   "metadata": {},
   "outputs": [
    {
     "name": "stdout",
     "output_type": "stream",
     "text": [
      "[12, 34, 54]\n",
      "[100, 200, 34, 54]\n"
     ]
    }
   ],
   "source": [
    "#update multiple element without built in method\n",
    "\n",
    "a=[12,34,54]\n",
    "print(a)\n",
    "a[0:1]=100,200\n",
    "print(a)"
   ]
  },
  {
   "cell_type": "code",
   "execution_count": 80,
   "metadata": {},
   "outputs": [
    {
     "name": "stdout",
     "output_type": "stream",
     "text": [
      "[10, 20, 30, 50, 100]\n"
     ]
    }
   ],
   "source": [
    "# python program for \n",
    "\n",
    "# i/p : [10,20,30,50,100,20,10]\n",
    "# o/p : [10,20,30,50,100]\n",
    "\n",
    "a=[10,20,30,50,100,20,10]\n",
    "b=[]\n",
    "for i in a:\n",
    "    if i not in b:\n",
    "        b.append(i)\n",
    "print(b)\n",
    "        "
   ]
  },
  {
   "cell_type": "code",
   "execution_count": 84,
   "metadata": {},
   "outputs": [
    {
     "name": "stdout",
     "output_type": "stream",
     "text": [
      "[10, 20, 30, 50, 100]\n"
     ]
    }
   ],
   "source": [
    "b=[]\n",
    "def dupp(a):\n",
    "    for i in a:\n",
    "        if i not in b:\n",
    "            b.append(i)\n",
    "a=[10,20,30,50,100,20,10]\n",
    "dupp(a) \n",
    "print(b)"
   ]
  },
  {
   "cell_type": "code",
   "execution_count": null,
   "metadata": {},
   "outputs": [],
   "source": [
    "c=[for i in ]"
   ]
  }
 ],
 "metadata": {
  "kernelspec": {
   "display_name": "Python 3 (ipykernel)",
   "language": "python",
   "name": "python3"
  },
  "language_info": {
   "codemirror_mode": {
    "name": "ipython",
    "version": 3
   },
   "file_extension": ".py",
   "mimetype": "text/x-python",
   "name": "python",
   "nbconvert_exporter": "python",
   "pygments_lexer": "ipython3",
   "version": "3.11.5"
  }
 },
 "nbformat": 4,
 "nbformat_minor": 2
}
