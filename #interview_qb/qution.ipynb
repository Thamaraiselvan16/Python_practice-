{
 "cells": [
  {
   "cell_type": "markdown",
   "metadata": {},
   "source": [
    "# While loop"
   ]
  },
  {
   "cell_type": "code",
   "execution_count": 1,
   "metadata": {},
   "outputs": [],
   "source": [
    "#SUM OF NUMBERS\n",
    "\n",
    "a=int(input(\"Enter the number :\"))\n",
    "\n",
    "sum=0\n",
    "i=1\n",
    "while (i<=a):\n",
    "    sum=sum+i\n",
    "    i=i+1\n",
    "print(sum)\n"
   ]
  },
  {
   "cell_type": "code",
   "execution_count": 3,
   "metadata": {},
   "outputs": [
    {
     "name": "stdout",
     "output_type": "stream",
     "text": [
      "enter: 123\n",
      "321\n",
      "not palindrome\n"
     ]
    }
   ],
   "source": [
    "# palidrome\n",
    "\n",
    "num=int(input(\"enter: \"))\n",
    "\n",
    "rev=0\n",
    "temp=num\n",
    "\n",
    "while num>0:\n",
    "    rem=num%10\n",
    "    rev=rev*10+rem\n",
    "    num=num//10\n",
    "print(rev)\n",
    "if temp==rev:\n",
    "    print(\"palindrome\")\n",
    "else:\n",
    "    print(\"not palindrome\")\n",
    "    "
   ]
  },
  {
   "cell_type": "code",
   "execution_count": 7,
   "metadata": {},
   "outputs": [
    {
     "name": "stdout",
     "output_type": "stream",
     "text": [
      "ennter :153\n",
      "armstrong\n"
     ]
    }
   ],
   "source": [
    "# aramstrong number \n",
    "\n",
    "num=int(input(\"ennter :\"))\n",
    "sum=0\n",
    "temp=num\n",
    "while num>0:\n",
    "    rem=num%10\n",
    "    sum=sum+rem*rem*rem\n",
    "    num=num//10\n",
    "if temp==sum:\n",
    "    print(\"armstrong\")\n",
    "else:\n",
    "    print(\"not armstrong\")"
   ]
  },
  {
   "cell_type": "code",
   "execution_count": 9,
   "metadata": {},
   "outputs": [
    {
     "name": "stdout",
     "output_type": "stream",
     "text": [
      "1\n",
      "2\n",
      "3\n",
      "4\n",
      "5\n",
      "6\n",
      "7\n",
      "8\n",
      "9\n",
      "10\n"
     ]
    }
   ],
   "source": [
    "#PRINT FIRST 10 NUMBER\n",
    "\n",
    "for i in range(1,11):\n",
    "    print(i)"
   ]
  },
  {
   "cell_type": "code",
   "execution_count": 11,
   "metadata": {},
   "outputs": [
    {
     "name": "stdout",
     "output_type": "stream",
     "text": [
      "0\n",
      "2\n",
      "4\n",
      "6\n",
      "8\n",
      "10\n"
     ]
    }
   ],
   "source": [
    "# print even \n",
    "\n",
    "for i in range(0,11,2):\n",
    "    print(i)"
   ]
  },
  {
   "cell_type": "code",
   "execution_count": 12,
   "metadata": {},
   "outputs": [
    {
     "name": "stdout",
     "output_type": "stream",
     "text": [
      "1\n",
      "3\n",
      "5\n",
      "7\n",
      "9\n"
     ]
    }
   ],
   "source": [
    "# print odd \n",
    "\n",
    "for i in range(1,11,2):\n",
    "    print(i)"
   ]
  },
  {
   "cell_type": "code",
   "execution_count": 15,
   "metadata": {},
   "outputs": [
    {
     "name": "stdout",
     "output_type": "stream",
     "text": [
      "10\n",
      "8\n",
      "6\n",
      "4\n",
      "2\n"
     ]
    }
   ],
   "source": [
    "# even nuumbers in reversed order\n",
    "for i in range(10,0,-2):\n",
    "    print(i)"
   ]
  },
  {
   "cell_type": "code",
   "execution_count": 29,
   "metadata": {},
   "outputs": [
    {
     "name": "stdout",
     "output_type": "stream",
     "text": [
      "enter a number: 5\n",
      "1 x 5 =5\n",
      "2 x 5 =10\n",
      "3 x 5 =15\n",
      "4 x 5 =20\n",
      "5 x 5 =25\n",
      "6 x 5 =30\n",
      "7 x 5 =35\n",
      "8 x 5 =40\n",
      "9 x 5 =45\n",
      "10 x 5 =50\n"
     ]
    }
   ],
   "source": [
    "# table of number\n",
    "num1=int(input(\"enter a number: \"))\n",
    "\n",
    "for n in range(1,11):\n",
    "    sum=num1*n\n",
    "    print(f\"{n} x {num1} ={sum}\")"
   ]
  },
  {
   "cell_type": "code",
   "execution_count": 4,
   "metadata": {},
   "outputs": [
    {
     "name": "stdout",
     "output_type": "stream",
     "text": [
      "Enter a digit: 43\n",
      "12\n"
     ]
    }
   ],
   "source": [
    "# product of a digit\n",
    "num=int(input(\"Enter a digit: \"))\n",
    "n=num\n",
    "product=1\n",
    "\n",
    "while n!=0:\n",
    "    rem=n%10\n",
    "    product =product*rem\n",
    "    n=n//10\n",
    "print(product)"
   ]
  },
  {
   "cell_type": "code",
   "execution_count": 46,
   "metadata": {},
   "outputs": [
    {
     "name": "stdout",
     "output_type": "stream",
     "text": [
      "enter a number: 5\n",
      "120\n"
     ]
    }
   ],
   "source": [
    "# factorial of a number\n",
    "\n",
    "def fact(x):\n",
    "    if x==0 or x==1:\n",
    "        return 1\n",
    "    else:\n",
    "        return(x*fact(x-1)) \n",
    "        \n",
    "res=fact(int(input(\"enter a number: \")))\n",
    "print(res)"
   ]
  },
  {
   "cell_type": "code",
   "execution_count": 48,
   "metadata": {},
   "outputs": [
    {
     "name": "stdout",
     "output_type": "stream",
     "text": [
      "Enter a number: 10\n",
      "5.0\n"
     ]
    }
   ],
   "source": [
    "# average of a num\n",
    "\n",
    "n=int(input(\"Enter a number: \"))\n",
    "\n",
    "avg=n/2\n",
    "print(avg)"
   ]
  },
  {
   "cell_type": "code",
   "execution_count": 51,
   "metadata": {},
   "outputs": [
    {
     "name": "stdout",
     "output_type": "stream",
     "text": [
      "total even number is:  600\n",
      "total odd number is:  625\n"
     ]
    }
   ],
   "source": [
    "#sum of even and odd number\n",
    "even=0\n",
    "odd=0\n",
    "for i in range(1,50):\n",
    "    if i%2==0:\n",
    "        even=even+i\n",
    "    elif i%2!=0:\n",
    "        odd=odd+i\n",
    "print(\"total even number is: \",even)\n",
    "print(\"total odd number is: \",odd)"
   ]
  },
  {
   "cell_type": "code",
   "execution_count": 62,
   "metadata": {},
   "outputs": [
    {
     "name": "stdout",
     "output_type": "stream",
     "text": [
      "121 143 165 187 209 231 253 275 297 319 341 363 385 407 429 451 473 495 "
     ]
    }
   ],
   "source": [
    "for i in range(100, 501):\n",
    "    if i%11==0 and i%2!=0:\n",
    "        print(i,end=\" \")"
   ]
  },
  {
   "cell_type": "code",
   "execution_count": 1,
   "metadata": {},
   "outputs": [
    {
     "name": "stdout",
     "output_type": "stream",
     "text": [
      "[12, 45, 'sasd', 354, 100, 'happy']\n"
     ]
    }
   ],
   "source": [
    "# list method\n",
    "\n",
    "#append\n",
    "\n",
    "a=[12,45,\"sasd\",354]\n",
    "\n",
    "a.append(100)\n",
    "a.append(\"happy\")\n",
    "print(a)"
   ]
  },
  {
   "cell_type": "code",
   "execution_count": 2,
   "metadata": {},
   "outputs": [
    {
     "name": "stdout",
     "output_type": "stream",
     "text": [
      "[12, 34, 'asjd', 33, 23, 11, 'aadg', 233]\n"
     ]
    }
   ],
   "source": [
    "a=[12,34,\"asjd\",33]\n",
    "b=[23,11,\"aadg\",233]\n",
    "\n",
    "a.extend(b)\n",
    "print(a)"
   ]
  },
  {
   "cell_type": "code",
   "execution_count": 12,
   "metadata": {},
   "outputs": [
    {
     "name": "stdout",
     "output_type": "stream",
     "text": [
      "2586335732736\n",
      "2586335545728\n",
      "False\n"
     ]
    }
   ],
   "source": [
    "a=[12,34,\"asjd\",33]\n",
    "b=a.copy()\n",
    "print(id(a))\n",
    "print(id(b))\n",
    "print(id(a) is id(b))"
   ]
  },
  {
   "cell_type": "code",
   "execution_count": 23,
   "metadata": {},
   "outputs": [
    {
     "name": "stdout",
     "output_type": "stream",
     "text": [
      "[12, 33, 34]\n"
     ]
    }
   ],
   "source": [
    "#sort\n",
    "a=[12,34,33]\n",
    "a.sort()\n",
    "print(a)"
   ]
  },
  {
   "cell_type": "code",
   "execution_count": 26,
   "metadata": {},
   "outputs": [
    {
     "name": "stdout",
     "output_type": "stream",
     "text": [
      "[4, 7, 3, 75, 23, 54, 43, 12]\n",
      "[12, 43, 54, 23, 75, 3, 7, 4]\n"
     ]
    }
   ],
   "source": [
    "#reverse\n",
    "a=[12,43,54,23,75,3,7,4]\n",
    "a.reverse()\n",
    "print(a)\n",
    "print(a[::-1])"
   ]
  },
  {
   "cell_type": "code",
   "execution_count": 28,
   "metadata": {},
   "outputs": [
    {
     "name": "stdout",
     "output_type": "stream",
     "text": [
      "[3, 4, 7, 12, 23, 43, 54, 75]\n",
      "[75, 54, 43, 23, 12, 7, 4, 3]\n"
     ]
    }
   ],
   "source": [
    "# print desending order\n",
    "a=[12,43,54,23,75,3,7,4]\n",
    "a.sort()\n",
    "print(a)\n",
    "a.sort(reverse=True)\n",
    "print(a)"
   ]
  },
  {
   "cell_type": "code",
   "execution_count": 29,
   "metadata": {},
   "outputs": [
    {
     "name": "stdout",
     "output_type": "stream",
     "text": [
      "[10, 20, 12, 34, 57, 78]\n"
     ]
    }
   ],
   "source": [
    "#inser(index,value)\n",
    "\n",
    "a=[12,34,57,78]\n",
    "a.insert(0,10)\n",
    "a.insert(1,20)\n",
    "print(a)"
   ]
  },
  {
   "cell_type": "code",
   "execution_count": 30,
   "metadata": {},
   "outputs": [
    {
     "name": "stdout",
     "output_type": "stream",
     "text": [
      "4\n"
     ]
    }
   ],
   "source": [
    "#count(object)\n",
    "\n",
    "a=[12,12,12,12,34,57,78]\n",
    "b=a.count(12)\n",
    "print(b)"
   ]
  },
  {
   "cell_type": "code",
   "execution_count": 42,
   "metadata": {},
   "outputs": [
    {
     "name": "stdout",
     "output_type": "stream",
     "text": [
      "12\n",
      "78\n"
     ]
    }
   ],
   "source": [
    "#pop\n",
    "a=[12,12,12,12,34,57,78]\n",
    "b=a.pop(2)  #using index\n",
    "c=a.pop()\n",
    "print(b)\n",
    "print(c)"
   ]
  },
  {
   "cell_type": "code",
   "execution_count": 43,
   "metadata": {},
   "outputs": [
    {
     "name": "stdout",
     "output_type": "stream",
     "text": [
      "[12, 12, 12, 34, 57, 78]\n"
     ]
    }
   ],
   "source": [
    "#remove(object)\n",
    "\n",
    "a=[12,12,12,12,34,57,78]\n",
    "a.remove(12)\n",
    "print(a)"
   ]
  },
  {
   "cell_type": "code",
   "execution_count": 62,
   "metadata": {},
   "outputs": [
    {
     "name": "stdout",
     "output_type": "stream",
     "text": [
      "2\n"
     ]
    }
   ],
   "source": [
    "a=[100,20,50,60]\n",
    "print(a.index(50))\n",
    "# print(a.index(200))\n",
    "# print(a.index(20,0,3))\n",
    "# print(a.index(50))\n",
    "# a.remove(50)\n",
    "# print(a)\n",
    "# print(a.index(300))\n",
    "# print(a.pop(5))"
   ]
  },
  {
   "cell_type": "code",
   "execution_count": 63,
   "metadata": {},
   "outputs": [
    {
     "name": "stdout",
     "output_type": "stream",
     "text": [
      "[12, 34, 54]\n",
      "[100, 34, 54]\n"
     ]
    }
   ],
   "source": [
    "#update in without build in method\n",
    "\n",
    "a=[12,34,54]\n",
    "print(a)\n",
    "a[0]=100\n",
    "print(a)"
   ]
  },
  {
   "cell_type": "code",
   "execution_count": 75,
   "metadata": {},
   "outputs": [
    {
     "name": "stdout",
     "output_type": "stream",
     "text": [
      "[12, 34, 54]\n",
      "[100, 200, 34, 54]\n"
     ]
    }
   ],
   "source": [
    "#update multiple element without built in method\n",
    "\n",
    "a=[12,34,54]\n",
    "print(a)\n",
    "a[0:1]=100,200\n",
    "print(a)"
   ]
  },
  {
   "cell_type": "code",
   "execution_count": 80,
   "metadata": {},
   "outputs": [
    {
     "name": "stdout",
     "output_type": "stream",
     "text": [
      "[10, 20, 30, 50, 100]\n"
     ]
    }
   ],
   "source": [
    "# python program for \n",
    "\n",
    "# i/p : [10,20,30,50,100,20,10]\n",
    "# o/p : [10,20,30,50,100]\n",
    "\n",
    "a=[10,20,30,50,100,20,10]\n",
    "b=[]\n",
    "for i in a:\n",
    "    if i not in b:\n",
    "        b.append(i)\n",
    "print(b)\n",
    "        "
   ]
  },
  {
   "cell_type": "code",
   "execution_count": 84,
   "metadata": {},
   "outputs": [
    {
     "name": "stdout",
     "output_type": "stream",
     "text": [
      "[10, 20, 30, 50, 100]\n"
     ]
    }
   ],
   "source": [
    "b=[]\n",
    "def dupp(a):\n",
    "    for i in a:\n",
    "        if i not in b:\n",
    "            b.append(i)\n",
    "a=[10,20,30,50,100,20,10]\n",
    "dupp(a) \n",
    "print(b)"
   ]
  },
  {
   "cell_type": "code",
   "execution_count": null,
   "metadata": {},
   "outputs": [],
   "source": [
    "c=[for i in ]"
   ]
  },
  {
   "cell_type": "code",
   "execution_count": 11,
   "metadata": {},
   "outputs": [
    {
     "name": "stdout",
     "output_type": "stream",
     "text": [
      "[0, 2, 4, 6, 8, 10, 12, 14, 16, 18, 20, 22, 24, 26, 28, 30, 32, 34, 36, 38, 40, 42, 44, 46, 48, 50, 52, 54, 56, 58, 60, 62, 64, 66, 68, 70, 72, 74, 76, 78, 80, 82, 84, 86, 88, 90, 92, 94, 96, 98]\n"
     ]
    }
   ],
   "source": [
    "#list compresion\n",
    "\n",
    "\n",
    "# normal method\n",
    "\n",
    "# for i in range(0,100):\n",
    "#     if i %2==0:\n",
    "#         print(i)\n",
    "        \n",
    "        \n",
    "        \n",
    "        \n",
    "# comprehsion method\n",
    "\n",
    "res=[i for i in range(0,100) if i%2==0]\n",
    "print(res)"
   ]
  },
  {
   "cell_type": "code",
   "execution_count": 13,
   "metadata": {},
   "outputs": [
    {
     "name": "stdout",
     "output_type": "stream",
     "text": [
      "appu\n",
      "amma\n",
      "appa\n",
      "['appu', 'amma', 'appa']\n"
     ]
    }
   ],
   "source": [
    "#normal stringg\n",
    "a1=['appu','dhill','amma','appa']\n",
    "for i in a1:\n",
    "    if \"a\" in i:\n",
    "        print(i)\n",
    "\n",
    "\n",
    "\n",
    "# string in list comprehionn\n",
    "a=['appu','dhill','amma','appa']\n",
    "\n",
    "res=[i for i in a if \"a\" in i]\n",
    "print(res)"
   ]
  },
  {
   "cell_type": "code",
   "execution_count": 18,
   "metadata": {},
   "outputs": [
    {
     "name": "stdout",
     "output_type": "stream",
     "text": [
      "12\n",
      "[12]\n"
     ]
    }
   ],
   "source": [
    "\n",
    "# normal one\n",
    "a=[12,34,545,\"asgsc\",\"asagsd\",123]\n",
    "for i in a:\n",
    "    if i==12:\n",
    "        print(i)\n",
    "        \n",
    "#list comprehension with if condition\n",
    "\n",
    "res=[i for i in a if i==12]\n",
    "print(res)"
   ]
  },
  {
   "cell_type": "code",
   "execution_count": 33,
   "metadata": {},
   "outputs": [
    {
     "name": "stdout",
     "output_type": "stream",
     "text": [
      "30\n",
      "[30]\n"
     ]
    }
   ],
   "source": [
    "# nested if\n",
    "\n",
    "a=[10,20,30,40,50]\n",
    "\n",
    "for i in a:\n",
    "    if i%2==0:\n",
    "        if i%3==0:\n",
    "            print(i)\n",
    "        \n",
    "# list  comprehansion\n",
    "\n",
    "res=[i for i in a if i%2==0 if i%3==0]\n",
    "print(res)"
   ]
  },
  {
   "cell_type": "code",
   "execution_count": 41,
   "metadata": {},
   "outputs": [
    {
     "name": "stdout",
     "output_type": "stream",
     "text": [
      "even numbers 10\n",
      "even numbers 20\n",
      "even numbers 30\n",
      "even numbers 40\n",
      "even numbers 50\n",
      "['even', 'even', 'even', 'even', 'even']\n"
     ]
    }
   ],
   "source": [
    "#if else\n",
    "\n",
    "a=[10,20,30,40,50]\n",
    "for i in a:\n",
    "    if i%2==0:\n",
    "        print(\"even numbers\",i)\n",
    "    else:\n",
    "        print(\"odd number\",i)\n",
    "        \n",
    "#list comprehension\n",
    "\n",
    "res=[ \"even\" if i%2==0 else \"odd\" for i in a]\n",
    "print(res)\n"
   ]
  },
  {
   "cell_type": "code",
   "execution_count": 43,
   "metadata": {},
   "outputs": [
    {
     "name": "stdout",
     "output_type": "stream",
     "text": [
      "1\n",
      "2\n",
      "2\n",
      "4\n",
      "[1, 2, 2, 4]\n"
     ]
    }
   ],
   "source": [
    "# nested for loop\n",
    "for i in range(1,3):\n",
    "    for j in range(1,3):\n",
    "        print(i*j)\n",
    "        \n",
    "# list comprehension\n",
    "\n",
    "res=[i*j for i in range (1,3) for j in range(1,3)]\n",
    "print(res)"
   ]
  },
  {
   "cell_type": "code",
   "execution_count": 47,
   "metadata": {},
   "outputs": [
    {
     "name": "stdout",
     "output_type": "stream",
     "text": [
      "['1 X 1 = 1', '1 X 2 = 2', '1 X 3 = 3', '1 X 4 = 4', '1 X 5 = 5', '1 X 6 = 6', '1 X 7 = 7', '1 X 8 = 8', '1 X 9 = 9', '1 X 10 = 10', '2 X 1 = 2', '2 X 2 = 4', '2 X 3 = 6', '2 X 4 = 8', '2 X 5 = 10', '2 X 6 = 12', '2 X 7 = 14', '2 X 8 = 16', '2 X 9 = 18', '2 X 10 = 20', '3 X 1 = 3', '3 X 2 = 6', '3 X 3 = 9', '3 X 4 = 12', '3 X 5 = 15', '3 X 6 = 18', '3 X 7 = 21', '3 X 8 = 24', '3 X 9 = 27', '3 X 10 = 30', '4 X 1 = 4', '4 X 2 = 8', '4 X 3 = 12', '4 X 4 = 16', '4 X 5 = 20', '4 X 6 = 24', '4 X 7 = 28', '4 X 8 = 32', '4 X 9 = 36', '4 X 10 = 40', '5 X 1 = 5', '5 X 2 = 10', '5 X 3 = 15', '5 X 4 = 20', '5 X 5 = 25', '5 X 6 = 30', '5 X 7 = 35', '5 X 8 = 40', '5 X 9 = 45', '5 X 10 = 50', '6 X 1 = 6', '6 X 2 = 12', '6 X 3 = 18', '6 X 4 = 24', '6 X 5 = 30', '6 X 6 = 36', '6 X 7 = 42', '6 X 8 = 48', '6 X 9 = 54', '6 X 10 = 60', '7 X 1 = 7', '7 X 2 = 14', '7 X 3 = 21', '7 X 4 = 28', '7 X 5 = 35', '7 X 6 = 42', '7 X 7 = 49', '7 X 8 = 56', '7 X 9 = 63', '7 X 10 = 70', '8 X 1 = 8', '8 X 2 = 16', '8 X 3 = 24', '8 X 4 = 32', '8 X 5 = 40', '8 X 6 = 48', '8 X 7 = 56', '8 X 8 = 64', '8 X 9 = 72', '8 X 10 = 80', '9 X 1 = 9', '9 X 2 = 18', '9 X 3 = 27', '9 X 4 = 36', '9 X 5 = 45', '9 X 6 = 54', '9 X 7 = 63', '9 X 8 = 72', '9 X 9 = 81', '9 X 10 = 90', '10 X 1 = 10', '10 X 2 = 20', '10 X 3 = 30', '10 X 4 = 40', '10 X 5 = 50', '10 X 6 = 60', '10 X 7 = 70', '10 X 8 = 80', '10 X 9 = 90', '10 X 10 = 100']\n"
     ]
    }
   ],
   "source": [
    "# for i in range(1,11):\n",
    "#     for j in range(1,11):\n",
    "#         print(i*j)\n",
    "        \n",
    "        \n",
    "res=[f\"{i} X {j} = {i*j}\" for i in range(1,11) for j in range(1,11)]\n",
    "print(res)"
   ]
  },
  {
   "cell_type": "code",
   "execution_count": 52,
   "metadata": {},
   "outputs": [
    {
     "name": "stdout",
     "output_type": "stream",
     "text": [
      "1\n",
      "2\n",
      "3\n",
      "4\n",
      "5\n",
      "6\n",
      "[1, 2, 3, 4, 5, 6]\n"
     ]
    }
   ],
   "source": [
    "#flatten list\n",
    "\n",
    "li=[[1,2,3],[4,5,6]]\n",
    "# li=((1,2,3),(4,5,6))\n",
    "for i in li:\n",
    "    for j in i:\n",
    "        print(j)\n",
    "        \n",
    "#list comprehenssion\n",
    "\n",
    "res=[j for i in li for j in i]\n",
    "print(res)"
   ]
  },
  {
   "cell_type": "code",
   "execution_count": 54,
   "metadata": {},
   "outputs": [
    {
     "name": "stdout",
     "output_type": "stream",
     "text": [
      "[[0], [1], [2], [3], [4]]\n"
     ]
    }
   ],
   "source": [
    "MyList = [[i] for i in range(5)]\n",
    "print(MyList) "
   ]
  },
  {
   "cell_type": "code",
   "execution_count": 60,
   "metadata": {},
   "outputs": [
    {
     "name": "stdout",
     "output_type": "stream",
     "text": [
      "[1, 2, 3, 4, 6, 8, 6, 4, 356, 3]\n"
     ]
    }
   ],
   "source": [
    "# Nested list comprehension\n",
    "li=[[1,2,3,4,6],[8,6,4,356,3]]\n",
    "matrix = [j for i in li for j in i]\n",
    " \n",
    "print(matrix)"
   ]
  },
  {
   "cell_type": "markdown",
   "metadata": {},
   "source": [
    "# set"
   ]
  },
  {
   "cell_type": "code",
   "execution_count": 10,
   "metadata": {},
   "outputs": [
    {
     "name": "stdout",
     "output_type": "stream",
     "text": [
      "{1}\n"
     ]
    }
   ],
   "source": [
    "# add a list of element to a sit\n",
    "\n",
    "s=set()\n",
    "# dir(set)\n",
    "s.add(1)\n",
    "print(s)"
   ]
  }
 ],
 "metadata": {
  "kernelspec": {
   "display_name": "Python 3 (ipykernel)",
   "language": "python",
   "name": "python3"
  },
  "language_info": {
   "codemirror_mode": {
    "name": "ipython",
    "version": 3
   },
   "file_extension": ".py",
   "mimetype": "text/x-python",
   "name": "python",
   "nbconvert_exporter": "python",
   "pygments_lexer": "ipython3",
   "version": "3.11.5"
  }
 },
 "nbformat": 4,
 "nbformat_minor": 2
}
