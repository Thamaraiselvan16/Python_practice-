{
 "cells": [
  {
   "cell_type": "code",
   "execution_count": 4,
   "id": "aab7239f",
   "metadata": {},
   "outputs": [
    {
     "name": "stdout",
     "output_type": "stream",
     "text": [
      "Enter the directory path to search: C:\\Users\\91753\\Desktop\n",
      "Enter the keyword to search for: thamaraiselvan\n",
      "Files containing the keyword: \n",
      "C:\\Users\\91753\\Desktop\\sample.txt\n"
     ]
    }
   ],
   "source": [
    "#searching a file\n",
    "import os\n",
    "directory=input (\"Enter the directory path to search: \") \n",
    "keyword=input (\"Enter the keyword to search for: \")\n",
    "matches=[]\n",
    "for root, _,files in os.walk (directory) :\n",
    "    for file in files:\n",
    "        if file.endswith (\".txt\"): #search only within text files # and also chand the .txt to html,css,py,pdf,mpe.mp4\n",
    "            file_path=os.path.join (root, file)\n",
    "            with open(file_path, \"r\", encoding=\"utf-8\",errors=\"ignore\")  as f:\n",
    "                content=f.read()\n",
    "                if keyword in content:\n",
    "                    matches.append(file_path)\n",
    "if matches: \n",
    "    print (\"Files containing the keyword: \") \n",
    "    for file in matches:\n",
    "        print (file)\n",
    "else:\n",
    "    print (\"NO matching file found\")"
   ]
  },
  {
   "cell_type": "code",
   "execution_count": null,
   "id": "5b85ab4a",
   "metadata": {},
   "outputs": [],
   "source": [
    "import os\n",
    "import time\n",
    "from watchdog.observers import Observer\n",
    "from watchdog.events import FileSystemEventHandler\n",
    "directory = input(\"Enter the directory path to monitor: \")\n",
    "keyword = input(\"Enter the keyword to search for: \")\n",
    "class LogFileHandler(FileSystemEventHandler):\n",
    "    def on_modified(self, event):\n",
    "        if event.is_directory:\n",
    "            return\n",
    "        if event.src_path.endswith(\".log\"):  # Adjust the file extension as needed\n",
    "            with open(event.src_path, \"r\", encoding=\"utf-8\", errors=\"ignore\") as f:\n",
    "                content = f.read()\n",
    "                if keyword in content:\n",
    "                    print(f\"Keyword found in {event.src_path}\")\n",
    "                    # You can integrate notification mechanisms here (e.g., sending an email or a notification)\n",
    "event_handler = LogFileHandler()\n",
    "observer = Observer()\n",
    "observer.schedule(event_handler, path=directory, recursive=True)\n",
    "observer.start()\n",
    "\n",
    "try:\n",
    "    while True:\n",
    "        time.sleep(1)\n",
    "except KeyboardInterrupt:\n",
    "    observer.stop()\n",
    "\n",
    "observer.join()\n"
   ]
  },
  {
   "cell_type": "code",
   "execution_count": null,
   "id": "2f62637d",
   "metadata": {},
   "outputs": [],
   "source": [
    "#file organizer\n",
    "import os\n",
    "import shutil\n",
    "import time\n",
    "from watchdog.observers import Observer\n",
    "from watchdog.events import FileSystemEventHandler\n",
    "\n",
    "media_extensions = {\n",
    "    \"Images\": [\".jpg\", \".jpeg\", \".png\", \".gif\",\".tiff\"],\n",
    "    \"Videos\": [\".mp4\", \".avi\", \".mkv\",\".mov\",\".flv\",\".avchd\"],\n",
    "    \"Audio\": [\".mp3\",\".m4a\",\".wav\", \".flac\"],\n",
    "    \"Document\":[\".txt\",\".doc\",\".docx\",\".docm\",\".pdf\",\".xls\",\".xlsx\",\".xlsm\",\".csv\",\".odt\",\".ppt\",\".pptx\",\".pptm\",\".odp\"],\n",
    "    \"Programming files\":[\".html\",\".htm\",\".css\",\".js\",\".bat\"],\n",
    "    \"Software\":[\".exe\",\".war\",\".app\",\".bin\",\".jar\",\".ear\",\".zip\",\".apk\",\".7z\",\".rar\"]\n",
    "}\n",
    "directory = input(\"Enter the directory path to monitor: \")\n",
    "class MediaFileHandler(FileSystemEventHandler):\n",
    "    def on_created(self, event):\n",
    "        if event.is_directory:\n",
    "            return\n",
    "        for media_type, extensions in media_extensions.items():\n",
    "            if any(event.src_path.lower().endswith(ext) for ext in extensions):\n",
    "                target_dir = os.path.join(directory, media_type)\n",
    "                os.makedirs(target_dir, exist_ok=True)\n",
    "                shutil.move(event.src_path, os.path.join(target_dir, os.path.basename(event.src_path)))\n",
    "                print(f\"Moved {event.src_path} to {target_dir}\")\n",
    "event_handler = MediaFileHandler()\n",
    "observer = Observer()\n",
    "observer.schedule(event_handler, path=directory, recursive=False)\n",
    "observer.start()\n",
    "\n",
    "try:\n",
    "    while True:\n",
    "        time.sleep(1)\n",
    "except KeyboardInterrupt:\n",
    "    observer.stop()\n",
    "\n",
    "observer.join()\n"
   ]
  },
  {
   "cell_type": "code",
   "execution_count": null,
   "id": "108719a0",
   "metadata": {},
   "outputs": [],
   "source": [
    "#COBINATION OF SEARCH FILE AND FILE ORGANIZER\n",
    "import os\n",
    "import shutil\n",
    "import time\n",
    "from watchdog.observers import Observer\n",
    "from watchdog.events import FileSystemEventHandler\n",
    "\n",
    "# Search for files containing a keyword\n",
    "def search_files(directory, keyword, extensions):\n",
    "    matches = []\n",
    "    for root, _, files in os.walk(directory):\n",
    "        for file in files:\n",
    "            if file.endswith(extensions):\n",
    "                file_path = os.path.join(root, file)\n",
    "                with open(file_path, \"r\", encoding=\"utf-8\", errors=\"ignore\") as f:\n",
    "                    content = f.read()\n",
    "                    if keyword in content:\n",
    "                        matches.append(file_path)\n",
    "    return matches\n",
    "\n",
    "# Organize files based on extensions\n",
    "def organize_files(directory, media_extensions):\n",
    "    class MediaFileHandler(FileSystemEventHandler):\n",
    "        def on_created(self, event):\n",
    "            if event.is_directory:\n",
    "                return\n",
    "            for media_type, extensions in media_extensions.items():\n",
    "                if any(event.src_path.lower().endswith(ext) for ext in extensions):\n",
    "                    target_dir = os.path.join(directory, media_type)\n",
    "                    os.makedirs(target_dir, exist_ok=True)\n",
    "                    shutil.move(event.src_path, os.path.join(target_dir, os.path.basename(event.src_path)))\n",
    "                    print(f\"Moved {event.src_path} to {target_dir}\")\n",
    "\n",
    "    event_handler = MediaFileHandler()\n",
    "    observer = Observer()\n",
    "    observer.schedule(event_handler, path=directory, recursive=False)\n",
    "    observer.start()\n",
    "\n",
    "    try:\n",
    "        while True:\n",
    "            time.sleep(1)\n",
    "    except KeyboardInterrupt:\n",
    "        observer.stop()\n",
    "\n",
    "    observer.join()\n",
    "\n",
    "# Main code\n",
    "search_directory = input(\"Enter the directory path to search: \")\n",
    "keyword = input(\"Enter the keyword to search for: \")\n",
    "search_extensions = (\".txt\", \".html\", \".css\", \".py\", \".pdf\", \".mp4\")\n",
    "\n",
    "organize_directory = input(\"Enter the directory path to monitor: \")\n",
    "media_extensions = {\n",
    "    \"Images\": [\".jpg\", \".jpeg\", \".png\", \".gif\", \".tiff\"],\n",
    "    \"Videos\": [\".mp4\", \".avi\", \".mkv\", \".mov\", \".flv\", \".avchd\"],\n",
    "    \"Audio\": [\".mp3\", \".m4a\", \".wav\", \".flac\"],\n",
    "    \"Document\": [\".txt\", \".doc\", \".docx\", \".docm\", \".pdf\", \".xls\", \".xlsx\", \".xlsm\", \".csv\", \".odt\", \".ppt\", \".pptx\", \".pptm\", \".odp\"],\n",
    "    \"Programming files\": [\".html\", \".htm\", \".css\", \".js\", \".bat\"],\n",
    "    \"Software\": [\".exe\", \".war\", \".app\", \".bin\", \".jar\", \".ear\", \".zip\", \".apk\", \".7z\", \".rar\"]\n",
    "}\n",
    "\n",
    "# Perform file search\n",
    "search_matches = search_files(search_directory, keyword, search_extensions)\n",
    "if search_matches:\n",
    "    print(\"Files containing the keyword:\")\n",
    "    for file in search_matches:\n",
    "        print(file)\n",
    "else:\n",
    "    print(\"NO matching file found\")\n",
    "\n",
    "# Organize files\n",
    "organize_files(organize_directory, media_extensions)\n"
   ]
  },
  {
   "cell_type": "code",
   "execution_count": 5,
   "id": "7440f4e2",
   "metadata": {},
   "outputs": [
    {
     "name": "stdout",
     "output_type": "stream",
     "text": [
      "['__abs__', '__add__', '__and__', '__bool__', '__ceil__', '__class__', '__delattr__', '__dir__', '__divmod__', '__doc__', '__eq__', '__float__', '__floor__', '__floordiv__', '__format__', '__ge__', '__getattribute__', '__getnewargs__', '__getstate__', '__gt__', '__hash__', '__index__', '__init__', '__init_subclass__', '__int__', '__invert__', '__le__', '__lshift__', '__lt__', '__mod__', '__mul__', '__ne__', '__neg__', '__new__', '__or__', '__pos__', '__pow__', '__radd__', '__rand__', '__rdivmod__', '__reduce__', '__reduce_ex__', '__repr__', '__rfloordiv__', '__rlshift__', '__rmod__', '__rmul__', '__ror__', '__round__', '__rpow__', '__rrshift__', '__rshift__', '__rsub__', '__rtruediv__', '__rxor__', '__setattr__', '__sizeof__', '__str__', '__sub__', '__subclasshook__', '__truediv__', '__trunc__', '__xor__', 'as_integer_ratio', 'bit_count', 'bit_length', 'conjugate', 'denominator', 'from_bytes', 'imag', 'numerator', 'real', 'to_bytes']\n"
     ]
    }
   ],
   "source": [
    "print(dir(int))"
   ]
  },
  {
   "cell_type": "code",
   "execution_count": 6,
   "id": "0ba5f1ec",
   "metadata": {},
   "outputs": [
    {
     "name": "stdout",
     "output_type": "stream",
     "text": [
      "['__abs__', '__add__', '__bool__', '__ceil__', '__class__', '__delattr__', '__dir__', '__divmod__', '__doc__', '__eq__', '__float__', '__floor__', '__floordiv__', '__format__', '__ge__', '__getattribute__', '__getformat__', '__getnewargs__', '__getstate__', '__gt__', '__hash__', '__init__', '__init_subclass__', '__int__', '__le__', '__lt__', '__mod__', '__mul__', '__ne__', '__neg__', '__new__', '__pos__', '__pow__', '__radd__', '__rdivmod__', '__reduce__', '__reduce_ex__', '__repr__', '__rfloordiv__', '__rmod__', '__rmul__', '__round__', '__rpow__', '__rsub__', '__rtruediv__', '__setattr__', '__sizeof__', '__str__', '__sub__', '__subclasshook__', '__truediv__', '__trunc__', 'as_integer_ratio', 'conjugate', 'fromhex', 'hex', 'imag', 'is_integer', 'real']\n"
     ]
    }
   ],
   "source": [
    "print(dir(float))"
   ]
  },
  {
   "cell_type": "code",
   "execution_count": 7,
   "id": "a0207d77",
   "metadata": {},
   "outputs": [
    {
     "name": "stdout",
     "output_type": "stream",
     "text": [
      "['__abs__', '__add__', '__bool__', '__class__', '__complex__', '__delattr__', '__dir__', '__doc__', '__eq__', '__format__', '__ge__', '__getattribute__', '__getnewargs__', '__getstate__', '__gt__', '__hash__', '__init__', '__init_subclass__', '__le__', '__lt__', '__mul__', '__ne__', '__neg__', '__new__', '__pos__', '__pow__', '__radd__', '__reduce__', '__reduce_ex__', '__repr__', '__rmul__', '__rpow__', '__rsub__', '__rtruediv__', '__setattr__', '__sizeof__', '__str__', '__sub__', '__subclasshook__', '__truediv__', 'conjugate', 'imag', 'real']\n"
     ]
    }
   ],
   "source": [
    "print(dir(complex))"
   ]
  },
  {
   "cell_type": "code",
   "execution_count": null,
   "id": "4faf2bab",
   "metadata": {},
   "outputs": [],
   "source": [
    "#int => 'as_integer_ratio', 'bit_count', 'bit_length', 'conjugate', \n",
    "#'denominator', 'from_bytes', 'imag', 'numerator', 'real', 'to_bytes'\n",
    "\n",
    "#float =>  'as_integer_ratio', 'conjugate', 'fromhex', 'hex', \n",
    "#'imag', 'is_integer', 'real'\n",
    "\n",
    "#dir =>  'conjugate', 'imag', 'real'"
   ]
  },
  {
   "cell_type": "code",
   "execution_count": null,
   "id": "6afb49b1",
   "metadata": {},
   "outputs": [],
   "source": [
    "num=0.75\n",
    "print(num.as_integer_ratio())\n",
    "print(num.conjugate())\n",
    "print(num.hex())\n",
    "print(num.is_integer())"
   ]
  },
  {
   "cell_type": "code",
   "execution_count": null,
   "id": "60c02052",
   "metadata": {},
   "outputs": [],
   "source": [
    "num=25\n",
    "print(num.as_integer_ratio())\n",
    "print(num.conjugate())\n",
    "print(num.hex())\n",
    "print(num.is_integer())"
   ]
  },
  {
   "cell_type": "code",
   "execution_count": 11,
   "id": "7b2d8b3c",
   "metadata": {},
   "outputs": [
    {
     "name": "stdout",
     "output_type": "stream",
     "text": [
      "as_integer_ratio: (12345, 1)\n",
      "bit_count: 6\n",
      "bit_length: 14\n",
      "conjugate: 12345\n"
     ]
    }
   ],
   "source": [
    "# int methods\n",
    "num = 12345\n",
    "\n",
    "# as_integer_ratio\n",
    "ratio = num.as_integer_ratio()\n",
    "print(\"as_integer_ratio:\", ratio)\n",
    "\n",
    "# bit_count\n",
    "bit_count = num.bit_count()\n",
    "print(\"bit_count:\", bit_count)\n",
    "\n",
    "# bit_length\n",
    "bit_length = num.bit_length()\n",
    "print(\"bit_length:\", bit_length)\n",
    "\n",
    "# conjugate\n",
    "conj = num.conjugate()\n",
    "print(\"conjugate:\", conj)\n",
    "\n",
    "# denominator (not applicable to int, included for completion)\n",
    "# from_bytes (not applicable to int, included for completion)\n",
    "# imag (not applicable to int, included for completion)\n",
    "# numerator (not applicable to int, included for completion)\n",
    "# real (not applicable to int, included for completion)\n",
    "# to_bytes (not applicable to int, included for completion)\n"
   ]
  },
  {
   "cell_type": "code",
   "execution_count": 12,
   "id": "4671c085",
   "metadata": {},
   "outputs": [
    {
     "name": "stdout",
     "output_type": "stream",
     "text": [
      "as_integer_ratio: (3537115888337719, 1125899906842624)\n",
      "conjugate: 3.14159\n",
      "fromhex: 3.141592653589793\n",
      "hex: 0x1.921f9f01b866ep+1\n",
      "is_integer: False\n",
      "real: 3.14159\n"
     ]
    }
   ],
   "source": [
    "# float methods\n",
    "num = 3.14159\n",
    "\n",
    "# as_integer_ratio\n",
    "ratio = num.as_integer_ratio()\n",
    "print(\"as_integer_ratio:\", ratio)\n",
    "\n",
    "# conjugate\n",
    "conj = num.conjugate()\n",
    "print(\"conjugate:\", conj)\n",
    "\n",
    "# fromhex\n",
    "hex_num = \"0x1.921fb54442d18p+1\"\n",
    "float_num = float.fromhex(hex_num)\n",
    "print(\"fromhex:\", float_num)\n",
    "\n",
    "# hex\n",
    "hex_representation = num.hex()\n",
    "print(\"hex:\", hex_representation)\n",
    "\n",
    "# imag (not applicable to float, included for completion)\n",
    "# is_integer\n",
    "is_int = num.is_integer()\n",
    "print(\"is_integer:\", is_int)\n",
    "\n",
    "# real\n",
    "real_part = num.real\n",
    "print(\"real:\", real_part)\n"
   ]
  },
  {
   "cell_type": "code",
   "execution_count": 13,
   "id": "b746256d",
   "metadata": {},
   "outputs": [
    {
     "name": "stdout",
     "output_type": "stream",
     "text": [
      "conjugate: (5-3j)\n",
      "imag: 3.0\n",
      "real: 5.0\n"
     ]
    }
   ],
   "source": [
    "# dir methods\n",
    "num = 5 + 3j\n",
    "\n",
    "# conjugate\n",
    "conj = num.conjugate()\n",
    "print(\"conjugate:\", conj)\n",
    "\n",
    "# imag\n",
    "imag_part = num.imag\n",
    "print(\"imag:\", imag_part)\n",
    "\n",
    "# real\n",
    "real_part = num.real\n",
    "print(\"real:\", real_part)\n"
   ]
  },
  {
   "cell_type": "code",
   "execution_count": null,
   "id": "63e26f32",
   "metadata": {},
   "outputs": [
    {
     "name": "stdout",
     "output_type": "stream",
     "text": [
      "Enter the directory path to monitor: C:\\Users\\91753\\Desktop\n",
      "Enter the keyword to search for: error\n"
     ]
    }
   ],
   "source": []
  },
  {
   "cell_type": "code",
   "execution_count": null,
   "id": "0b8e83a0",
   "metadata": {},
   "outputs": [],
   "source": []
  },
  {
   "cell_type": "code",
   "execution_count": null,
   "id": "ee3faf2f",
   "metadata": {},
   "outputs": [],
   "source": []
  }
 ],
 "metadata": {
  "kernelspec": {
   "display_name": "Python 3 (ipykernel)",
   "language": "python",
   "name": "python3"
  },
  "language_info": {
   "codemirror_mode": {
    "name": "ipython",
    "version": 3
   },
   "file_extension": ".py",
   "mimetype": "text/x-python",
   "name": "python",
   "nbconvert_exporter": "python",
   "pygments_lexer": "ipython3",
   "version": "3.11.3"
  }
 },
 "nbformat": 4,
 "nbformat_minor": 5
}
