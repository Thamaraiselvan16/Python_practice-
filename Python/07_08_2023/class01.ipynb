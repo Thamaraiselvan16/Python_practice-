{
 "cells": [
  {
   "cell_type": "markdown",
   "id": "6644154d",
   "metadata": {},
   "source": [
    "# version"
   ]
  },
  {
   "cell_type": "code",
   "execution_count": 7,
   "id": "fd32a646",
   "metadata": {},
   "outputs": [
    {
     "ename": "NameError",
     "evalue": "name 'python' is not defined",
     "output_type": "error",
     "traceback": [
      "\u001b[1;31m---------------------------------------------------------------------------\u001b[0m",
      "\u001b[1;31mNameError\u001b[0m                                 Traceback (most recent call last)",
      "Cell \u001b[1;32mIn[7], line 1\u001b[0m\n\u001b[1;32m----> 1\u001b[0m python \u001b[38;5;241m-\u001b[39m\u001b[38;5;241m-\u001b[39mversion\n",
      "\u001b[1;31mNameError\u001b[0m: name 'python' is not defined"
     ]
    }
   ],
   "source": [
    "python --version"
   ]
  },
  {
   "cell_type": "code",
   "execution_count": 8,
   "id": "c29cc9af",
   "metadata": {},
   "outputs": [
    {
     "name": "stdout",
     "output_type": "stream",
     "text": [
      "3.11.3 | packaged by Anaconda, Inc. | (main, Apr 19 2023, 23:46:34) [MSC v.1916 64 bit (AMD64)]\n"
     ]
    }
   ],
   "source": [
    "import sys\n",
    "print(sys.version)"
   ]
  },
  {
   "cell_type": "markdown",
   "id": "0b0d5c2d",
   "metadata": {},
   "source": [
    "keywords"
   ]
  },
  {
   "cell_type": "code",
   "execution_count": 12,
   "id": "bf6f6628",
   "metadata": {},
   "outputs": [
    {
     "name": "stdout",
     "output_type": "stream",
     "text": [
      "['False', 'None', 'True', 'and', 'as', 'assert', 'async', 'await', 'break', 'class', 'continue', 'def', 'del', 'elif', 'else', 'except', 'finally', 'for', 'from', 'global', 'if', 'import', 'in', 'is', 'lambda', 'nonlocal', 'not', 'or', 'pass', 'raise', 'return', 'try', 'while', 'with', 'yield']\n"
     ]
    }
   ],
   "source": [
    "import keyword\n",
    "k=keyword.kwlist\n",
    "print(k)"
   ]
  },
  {
   "cell_type": "markdown",
   "id": "ec552a06",
   "metadata": {},
   "source": [
    "identifires and variables"
   ]
  },
  {
   "cell_type": "code",
   "execution_count": 17,
   "id": "fa8cae2d",
   "metadata": {},
   "outputs": [
    {
     "name": "stdout",
     "output_type": "stream",
     "text": [
      "10\n"
     ]
    }
   ],
   "source": [
    "score=10\n",
    "print(score)"
   ]
  },
  {
   "cell_type": "markdown",
   "id": "dfa83dcf",
   "metadata": {},
   "source": [
    "# comands"
   ]
  },
  {
   "cell_type": "code",
   "execution_count": null,
   "id": "f252ddf3",
   "metadata": {},
   "outputs": [],
   "source": [
    "1)single line---#"
   ]
  },
  {
   "cell_type": "code",
   "execution_count": null,
   "id": "7a413a7d",
   "metadata": {},
   "outputs": [],
   "source": [
    "2) multi line---'',\"\",'\"\"'"
   ]
  },
  {
   "cell_type": "markdown",
   "id": "383898c8",
   "metadata": {},
   "source": [
    "python variables, constants an literals"
   ]
  },
  {
   "cell_type": "code",
   "execution_count": null,
   "id": "281455e3",
   "metadata": {},
   "outputs": [],
   "source": []
  },
  {
   "cell_type": "code",
   "execution_count": null,
   "id": "658a5624",
   "metadata": {},
   "outputs": [],
   "source": []
  },
  {
   "cell_type": "code",
   "execution_count": null,
   "id": "389ff82f",
   "metadata": {},
   "outputs": [],
   "source": []
  }
 ],
 "metadata": {
  "kernelspec": {
   "display_name": "Python 3 (ipykernel)",
   "language": "python",
   "name": "python3"
  },
  "language_info": {
   "codemirror_mode": {
    "name": "ipython",
    "version": 3
   },
   "file_extension": ".py",
   "mimetype": "text/x-python",
   "name": "python",
   "nbconvert_exporter": "python",
   "pygments_lexer": "ipython3",
   "version": "3.11.3"
  }
 },
 "nbformat": 4,
 "nbformat_minor": 5
}
