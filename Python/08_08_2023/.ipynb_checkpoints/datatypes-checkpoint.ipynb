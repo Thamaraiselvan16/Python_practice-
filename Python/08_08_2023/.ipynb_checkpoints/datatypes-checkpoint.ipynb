{
 "cells": [
  {
   "cell_type": "code",
   "execution_count": 1,
   "id": "bceb5f62",
   "metadata": {},
   "outputs": [
    {
     "name": "stdout",
     "output_type": "stream",
     "text": [
      "5\n",
      "<class 'int'>\n"
     ]
    }
   ],
   "source": [
    "#nueric\n",
    "num=5\n",
    "print (num)\n",
    "print(type(num))"
   ]
  },
  {
   "cell_type": "code",
   "execution_count": 3,
   "id": "a7f6d733",
   "metadata": {},
   "outputs": [
    {
     "name": "stdout",
     "output_type": "stream",
     "text": [
      "12.8\n",
      "(1+2j)\n",
      "<class 'float'>\n",
      "<class 'complex'>\n"
     ]
    }
   ],
   "source": [
    "#float and complex number\n",
    "num=12.8\n",
    "num1=1+2j\n",
    "print(num)\n",
    "print(num1)\n",
    "print(type(num))\n",
    "print(type(num1))"
   ]
  },
  {
   "cell_type": "code",
   "execution_count": 5,
   "id": "3bdab2ed",
   "metadata": {},
   "outputs": [
    {
     "name": "stdout",
     "output_type": "stream",
     "text": [
      "['py', 'java', 'switch']\n",
      "<class 'list'>\n"
     ]
    }
   ],
   "source": [
    "#list\n",
    "lan=[\"py\",\"java\",\"switch\"]\n",
    "print(lan)\n",
    "print(type(lan))"
   ]
  },
  {
   "cell_type": "code",
   "execution_count": 7,
   "id": "2498ccd3",
   "metadata": {},
   "outputs": [
    {
     "name": "stdout",
     "output_type": "stream",
     "text": [
      "(1, 2, 'thamarai', 'ful stack')\n",
      "<class 'tuple'>\n"
     ]
    }
   ],
   "source": [
    "#tuple\n",
    "a=(1,2,\"thamarai\",\"ful stack\")\n",
    "print(a)\n",
    "print(type(a))"
   ]
  },
  {
   "cell_type": "code",
   "execution_count": 8,
   "id": "24b1b66d",
   "metadata": {},
   "outputs": [
    {
     "name": "stdout",
     "output_type": "stream",
     "text": [
      "a a a\n"
     ]
    }
   ],
   "source": [
    "#string\n",
    "a='a'\n",
    "b=\"a\"\n",
    "c=\"\"\"a\"\"\"\n",
    "print(a,b,c)"
   ]
  },
  {
   "cell_type": "code",
   "execution_count": 9,
   "id": "70aef1c8",
   "metadata": {},
   "outputs": [
    {
     "name": "stdout",
     "output_type": "stream",
     "text": [
      "frozenset({64.3, 1, 2, 4})\n",
      "<class 'frozenset'>\n"
     ]
    }
   ],
   "source": [
    "#frozenset\n",
    "s={1,2,4,64.3}\n",
    "b=frozenset(s)\n",
    "print(b)\n",
    "print(type(b))\n"
   ]
  },
  {
   "cell_type": "code",
   "execution_count": 10,
   "id": "4ca8b53f",
   "metadata": {},
   "outputs": [
    {
     "name": "stdout",
     "output_type": "stream",
     "text": [
      "{'a': 'thamarai', frozenset({64.3, 1, 2, 4}): 'dhill'}\n",
      "<class 'dict'>\n"
     ]
    }
   ],
   "source": [
    "#dictionary\n",
    "a={a:\"thamarai\",b:\"dhill\"}\n",
    "print(a)\n",
    "print(type(a))"
   ]
  },
  {
   "cell_type": "code",
   "execution_count": null,
   "id": "3fffccec",
   "metadata": {},
   "outputs": [],
   "source": [
    "#python type converter\n",
    "#1---implicit\n",
    "#2---Explicit"
   ]
  },
  {
   "cell_type": "code",
   "execution_count": 11,
   "id": "ece6f79c",
   "metadata": {},
   "outputs": [
    {
     "name": "stdout",
     "output_type": "stream",
     "text": [
      "<class 'int'>\n",
      "<class 'float'>\n",
      "124.43\n",
      "<class 'float'>\n"
     ]
    }
   ],
   "source": [
    "#implicit convertion\n",
    "a=123\n",
    "print(type(a))\n",
    "b=1.43\n",
    "print(type(b))\n",
    "res=a+b\n",
    "print(res)\n",
    "print(type(res))"
   ]
  },
  {
   "cell_type": "code",
   "execution_count": 12,
   "id": "ab8dafa4",
   "metadata": {},
   "outputs": [
    {
     "name": "stdout",
     "output_type": "stream",
     "text": [
      "<class 'str'>\n",
      "<class 'int'>\n",
      "24\n",
      "<class 'int'>\n"
     ]
    }
   ],
   "source": [
    "#explicit\n",
    "a=\"12\"\n",
    "print(type(a))\n",
    "b=12\n",
    "print(type(b))\n",
    "c=int(a)\n",
    "res=c+b\n",
    "print(res)\n",
    "print(type(res))"
   ]
  },
  {
   "cell_type": "code",
   "execution_count": 14,
   "id": "a025d7da",
   "metadata": {},
   "outputs": [
    {
     "name": "stdout",
     "output_type": "stream",
     "text": [
      "a+b: 20\n"
     ]
    }
   ],
   "source": [
    "#operators\n",
    "#arithmetic\n",
    "a=10\n",
    "b=10\n",
    "print (\"a+b:\",a+b)\n",
    "#similarly -, *, /, //, **"
   ]
  },
  {
   "cell_type": "code",
   "execution_count": 18,
   "id": "af9beaf7",
   "metadata": {},
   "outputs": [
    {
     "name": "stdout",
     "output_type": "stream",
     "text": [
      "a+=: 11\n"
     ]
    }
   ],
   "source": [
    "#assignment\n",
    "a=10\n",
    "b=2\n",
    "#thi condition used for \"result\"\n",
    "res=a+1\n",
    "print(\"a+=:\", res)\n",
    "#similarrly use =, +=, -=, *=, /=, %=, **="
   ]
  },
  {
   "cell_type": "code",
   "execution_count": 20,
   "id": "27054cc3",
   "metadata": {},
   "outputs": [
    {
     "name": "stdout",
     "output_type": "stream",
     "text": [
      "a==b: False\n",
      "a!=b: True\n"
     ]
    }
   ],
   "source": [
    "#comparision\n",
    "a=10\n",
    "b=2\n",
    "print(\"a==b:\",a==b)\n",
    "print(\"a!=b:\",a!=b)\n",
    "#similarly used "
   ]
  },
  {
   "cell_type": "code",
   "execution_count": 28,
   "id": "0c5f5d2f",
   "metadata": {},
   "outputs": [
    {
     "name": "stdout",
     "output_type": "stream",
     "text": [
      "True\n",
      "False\n",
      "True\n",
      "True\n"
     ]
    }
   ],
   "source": [
    "#logical\n",
    "print(True and True)\n",
    "print(True and False)\n",
    "print(True or True)\n",
    "print(True or True)"
   ]
  },
  {
   "cell_type": "code",
   "execution_count": 32,
   "id": "0df0948f",
   "metadata": {},
   "outputs": [
    {
     "name": "stdout",
     "output_type": "stream",
     "text": [
      "12\n",
      "13\n"
     ]
    }
   ],
   "source": [
    "#bitwise\n",
    "print(12&13)\n",
    "print(12|13)"
   ]
  },
  {
   "cell_type": "code",
   "execution_count": 23,
   "id": "491d4b75",
   "metadata": {},
   "outputs": [
    {
     "name": "stdout",
     "output_type": "stream",
     "text": [
      "True\n",
      "False\n",
      "140734009939016\n",
      "True\n"
     ]
    }
   ],
   "source": [
    "#specisl\n",
    "#is and is not\n",
    "x1=10\n",
    "y1=1\n",
    "x2=\"hello\"\n",
    "y2=\"tts\"\n",
    "x3=[1,2,3]\n",
    "x3=[1,2,3]\n",
    "print (x1 is not y1)\n",
    "print (x2 is y2)\n",
    "print(id(x1))\n",
    "\n",
    "#in and ot in\n",
    "\n",
    "message=\"thamarai\"\n",
    "\n",
    "print(\"h\" in message)"
   ]
  },
  {
   "cell_type": "code",
   "execution_count": null,
   "id": "3e841fa1",
   "metadata": {},
   "outputs": [],
   "source": [
    "#count the number of words \n",
    "sentence = input(\"Enter a sentence: \")\n",
    "words = sentence.split()\n",
    "average_length = sum(len(word) for word in words) / len(words)\n",
    "\n",
    "print(\"Average word length:\", average_length)\n"
   ]
  },
  {
   "cell_type": "code",
   "execution_count": null,
   "id": "173d60ed",
   "metadata": {},
   "outputs": [],
   "source": [
    "#count the number of words \n",
    "name=\"thamarai selvan\"\n",
    "words=name.split()\n",
    "ave_len=sum(len(word) for word in words)/len(words)\n",
    "print(\"A\",ave_len)"
   ]
  },
  {
   "cell_type": "code",
   "execution_count": 2,
   "id": "dd8e42bc",
   "metadata": {},
   "outputs": [
    {
     "name": "stdout",
     "output_type": "stream",
     "text": [
      "Enter the first number: 10\n",
      "Enter the second number: 8\n",
      "Enter the third number: 3\n",
      "Numbers in ascending order: 3 8 10\n"
     ]
    }
   ],
   "source": [
    "#print ascending order\n",
    "# Input three numbers\n",
    "num1 = int(input(\"Enter the first number: \"))\n",
    "num2 = int(input(\"Enter the second number: \"))\n",
    "num3 = int(input(\"Enter the third number: \"))\n",
    "\n",
    "# Arrange the numbers in ascending order\n",
    "numbers = [num1, num2, num3]\n",
    "numbers.sort()\n",
    "\n",
    "# Print the numbers in ascending order\n",
    "print(\"Numbers in ascending order:\", numbers[0], numbers[1], numbers[2])\n"
   ]
  },
  {
   "cell_type": "code",
   "execution_count": 5,
   "id": "c4916207",
   "metadata": {},
   "outputs": [
    {
     "name": "stdout",
     "output_type": "stream",
     "text": [
      "Enter the first number: 1\n",
      "Enter the second number: 2\n",
      "Enter the third number: 47\n",
      "Numbers in ascending order: 47 2 1\n"
     ]
    }
   ],
   "source": [
    "#print desending order\n",
    "# Input three numbers\n",
    "num1 = int(input(\"Enter the first number: \"))\n",
    "num2 = int(input(\"Enter the second number: \"))\n",
    "num3 = int(input(\"Enter the third number: \"))\n",
    "\n",
    "# Arrange the numbers in ascending order\n",
    "numbers = [num1, num2, num3]\n",
    "numbers.sort(reverse=True)\n",
    "\n",
    "# Print the numbers in ascending order\n",
    "print(\"Numbers in ascending order:\", numbers[0], numbers[1], numbers[2])\n"
   ]
  },
  {
   "cell_type": "code",
   "execution_count": null,
   "id": "5db611b3",
   "metadata": {},
   "outputs": [],
   "source": []
  }
 ],
 "metadata": {
  "kernelspec": {
   "display_name": "Python 3 (ipykernel)",
   "language": "python",
   "name": "python3"
  },
  "language_info": {
   "codemirror_mode": {
    "name": "ipython",
    "version": 3
   },
   "file_extension": ".py",
   "mimetype": "text/x-python",
   "name": "python",
   "nbconvert_exporter": "python",
   "pygments_lexer": "ipython3",
   "version": "3.11.3"
  }
 },
 "nbformat": 4,
 "nbformat_minor": 5
}
