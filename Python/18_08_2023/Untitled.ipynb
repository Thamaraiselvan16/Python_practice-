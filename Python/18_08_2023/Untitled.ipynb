{
 "cells": [
  {
   "cell_type": "markdown",
   "id": "79bf3cce",
   "metadata": {},
   "source": [
    "# LOOPS"
   ]
  },
  {
   "cell_type": "code",
   "execution_count": 5,
   "id": "582783eb",
   "metadata": {},
   "outputs": [
    {
     "name": "stdout",
     "output_type": "stream",
     "text": [
      "p\n",
      "y\n",
      "t\n",
      "h\n",
      "o\n",
      "n\n"
     ]
    }
   ],
   "source": [
    "# LOOPS WITH STRINGS\n",
    "for x in \"python\":\n",
    "    print (x)"
   ]
  },
  {
   "cell_type": "code",
   "execution_count": 6,
   "id": "9e0ef2f5",
   "metadata": {},
   "outputs": [
    {
     "name": "stdout",
     "output_type": "stream",
     "text": [
      "apple\n",
      "a\n",
      "p\n",
      "p\n",
      "l\n",
      "e\n",
      "banana\n",
      "b\n",
      "a\n",
      "n\n",
      "a\n",
      "n\n",
      "a\n",
      "cheery\n",
      "c\n",
      "h\n",
      "e\n",
      "e\n",
      "r\n",
      "y\n"
     ]
    }
   ],
   "source": [
    "# list of strings\n",
    "f=['apple','banana','cheery']\n",
    "for x in f:\n",
    "    print (x)\n",
    "    for y in x:\n",
    "        print (y)"
   ]
  },
  {
   "cell_type": "code",
   "execution_count": null,
   "id": "65e617bf",
   "metadata": {},
   "outputs": [],
   "source": [
    "# Hospital Emergency Room simulator ( Thamaraiselvan )\n",
    "\n",
    "while True:\n",
    "    # Patient information\n",
    "    patient_name = input(\"Enter patient's name (or type 'exit' to quit): \")\n",
    "    if patient_name.upper() == 'EXIT':\n",
    "        print(\"Exiting the simulator.\")\n",
    "        break\n",
    "    \n",
    "    patient_age = int(input(\"Enter patient's age: \"))\n",
    "    print(\"Select the patient's symptom:\")\n",
    "    print(\"1. Bleeding\")\n",
    "    print(\"2. Difficulty Breathing\")\n",
    "    print(\"3. Chest Pain\")\n",
    "    print(\"4. Fever\")\n",
    "    print(\"5. Cough\")\n",
    "    symptom_choice = int(input(\"Enter the corresponding number for the symptom: \"))\n",
    "    time_of_visit = input(\"Enter time of visit (HH:MM AM/PM): \")\n",
    "    time_parts = time_of_visit.split()\n",
    "    hours, minutes = map(int, time_parts[0].split(\":\"))\n",
    "    am_pm = time_parts[1].upper()\n",
    "    room_number = input(\"Enter room number: \")\n",
    "\n",
    "    # Convert 12-hour time to 24-hour format\n",
    "    if am_pm == \"PM\" and hours != 12:\n",
    "        hours += 12\n",
    "    elif am_pm == \"AM\" and hours == 12:\n",
    "        hours = 0\n",
    "\n",
    "    # Calculate total minutes for comparison\n",
    "    total_minutes = hours * 60 + minutes\n",
    "\n",
    "    # Priority based on symptoms and time of visit\n",
    "    if symptom_choice == 1:\n",
    "        priority = \"Immediate\"\n",
    "        severity = \"Critical\"\n",
    "    elif symptom_choice == 2 or symptom_choice == 3:\n",
    "        priority = \"High\"\n",
    "        if 480 <= total_minutes <= 1080:  # 8:00 AM to 6:00 PM\n",
    "            severity = \"Urgent\"\n",
    "        else:\n",
    "            severity = \"Less Urgent\"\n",
    "    elif symptom_choice == 4 or symptom_choice == 5:\n",
    "        priority = \"Medium\"\n",
    "        severity = \"Moderate\"\n",
    "    else:\n",
    "        priority = \"Low\"\n",
    "        severity = \"Minor\"\n",
    "\n",
    "    print(\"\\nPatient: {}\".format(patient_name))\n",
    "    print(\"Age: {}\".format(patient_age))\n",
    "    print(\"Symptom: {}\".format(symptom_choice))\n",
    "    print(\"Time of Visit: {:02d}:{:02d} {}\".format(hours, minutes, am_pm))\n",
    "    print(\"Room Number: {}\".format(room_number))\n",
    "    print(\"Priority: {}\".format(priority))\n",
    "    print(\"Severity: {}\".format(severity))\n",
    "    print(\"\\n\")\n"
   ]
  }
 ],
 "metadata": {
  "kernelspec": {
   "display_name": "Python 3 (ipykernel)",
   "language": "python",
   "name": "python3"
  },
  "language_info": {
   "codemirror_mode": {
    "name": "ipython",
    "version": 3
   },
   "file_extension": ".py",
   "mimetype": "text/x-python",
   "name": "python",
   "nbconvert_exporter": "python",
   "pygments_lexer": "ipython3",
   "version": "3.11.3"
  }
 },
 "nbformat": 4,
 "nbformat_minor": 5
}
