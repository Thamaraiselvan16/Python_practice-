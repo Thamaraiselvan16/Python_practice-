{
 "cells": [
  {
   "cell_type": "code",
   "execution_count": 1,
   "id": "cea9e322",
   "metadata": {
    "scrolled": true
   },
   "outputs": [
    {
     "name": "stdout",
     "output_type": "stream",
     "text": [
      "30\n"
     ]
    }
   ],
   "source": [
    "#math\n",
    "add = lambda x, y: x + y\n",
    "result = add(10, 20)\n",
    "print(result)  # Output: 30\n"
   ]
  },
  {
   "cell_type": "code",
   "execution_count": 2,
   "id": "5f3215a5",
   "metadata": {},
   "outputs": [
    {
     "name": "stdout",
     "output_type": "stream",
     "text": [
      "30\n",
      "-10\n",
      "200\n",
      "0.5\n",
      "10\n"
     ]
    }
   ],
   "source": [
    "#multi math\n",
    "lambda_functions = [\n",
    "    lambda x, y: x + y,\n",
    "    lambda x, y: x - y,\n",
    "    lambda x, y: x * y,\n",
    "    lambda x, y: x / y,\n",
    "    lambda x, y: x % y\n",
    "]\n",
    "\n",
    "result1 = lambda_functions[0](10, 20)\n",
    "result2 = lambda_functions[1](10, 20)\n",
    "result3 = lambda_functions[2](10, 20)\n",
    "result4 = lambda_functions[3](10, 20)\n",
    "result5 = lambda_functions[4](10, 20)\n",
    "\n",
    "print(result1)  # Output: 30\n",
    "print(result2)  # Output: -10\n",
    "print(result3)  # Output: 200\n",
    "print(result4)  # 0.5\n",
    "print(result5)  #10"
   ]
  },
  {
   "cell_type": "code",
   "execution_count": 3,
   "id": "e0a701f8",
   "metadata": {},
   "outputs": [
    {
     "name": "stdout",
     "output_type": "stream",
     "text": [
      "25\n"
     ]
    }
   ],
   "source": [
    "#Lambda function to calculate the square of a number:\n",
    "square = lambda x: x ** 2\n",
    "result = square(5)\n",
    "print(result)  # Output: 25"
   ]
  },
  {
   "cell_type": "code",
   "execution_count": 6,
   "id": "ccf65cf4",
   "metadata": {},
   "outputs": [
    {
     "name": "stdout",
     "output_type": "stream",
     "text": [
      "True\n"
     ]
    }
   ],
   "source": [
    "#Lambda function to check if a number is even:\n",
    "is_even = lambda x: x % 2 == 0\n",
    "result = is_even(6)\n",
    "print(result)  # Output: True"
   ]
  },
  {
   "cell_type": "code",
   "execution_count": 7,
   "id": "8ba649a3",
   "metadata": {},
   "outputs": [
    {
     "name": "stdout",
     "output_type": "stream",
     "text": [
      "[2, 4, 6, 8, 10]\n"
     ]
    }
   ],
   "source": [
    "#Lambda function to filter even numbers from a list:\n",
    "numbers = [1, 2, 3, 4, 5, 6, 7, 8, 9, 10]\n",
    "even_numbers = list(filter(lambda x: x % 2 == 0, numbers))\n",
    "print(even_numbers)  # Output: [2, 4, 6, 8, 10]"
   ]
  },
  {
   "cell_type": "code",
   "execution_count": 8,
   "id": "80db40d5",
   "metadata": {},
   "outputs": [
    {
     "name": "stdout",
     "output_type": "stream",
     "text": [
      "[1, 3, 5, 7, 9]\n"
     ]
    }
   ],
   "source": [
    "#Lambda function to filter odd numbers from a list:\n",
    "numbers = [1, 2, 3, 4, 5, 6, 7, 8, 9, 10]\n",
    "even_numbers = list(filter(lambda x: x % 2 != 0, numbers))\n",
    "print(even_numbers)  # Output: [1, 3, 5, 7, 9]"
   ]
  },
  {
   "cell_type": "code",
   "execution_count": 19,
   "id": "a7817928",
   "metadata": {
    "scrolled": true
   },
   "outputs": [
    {
     "name": "stdout",
     "output_type": "stream",
     "text": [
      "[(4, 1), (2, 3), (1, 5), (3, 10)]\n"
     ]
    }
   ],
   "source": [
    "#Lambda function to sort a list of tuples by the second element:\n",
    "pairs = [(1, 5), (2, 3), (3, 10), (4, 1)]\n",
    "sorted_pairs = sorted(pairs, key=lambda x: x[1]) #change the value index value\n",
    "print(sorted_pairs)  # Output: [(4, 1), (2, 3), (1, 5), (3, 10)]"
   ]
  },
  {
   "cell_type": "code",
   "execution_count": 3,
   "id": "05225722",
   "metadata": {},
   "outputs": [
    {
     "name": "stdout",
     "output_type": "stream",
     "text": [
      "Enter the index value:1\n",
      "Enter the index value:1\n",
      "Enter the index value:1\n",
      "['e', 'o', 'y']\n"
     ]
    }
   ],
   "source": [
    "#### Lambda function to extract the first character of each word in a list of strings:\n",
    "words = [\"Hello\", \"World\", \"Python\"]\n",
    "first_chars = list(map(lambda x: x[int(input(\"Enter the index value:\"))], words))\n",
    "print(first_chars)"
   ]
  },
  {
   "cell_type": "code",
   "execution_count": 31,
   "id": "b1855438",
   "metadata": {},
   "outputs": [
    {
     "name": "stdout",
     "output_type": "stream",
     "text": [
      "Entert the Number:6\n",
      "720\n"
     ]
    }
   ],
   "source": [
    "#Lambda function to calculate the factorial of a number using recursion:\n",
    "factorial = lambda x: 1 if x == 0 else x * factorial(x - 1)\n",
    "result = factorial(int(input(\"Entert the Number:\")))\n",
    "print(result)"
   ]
  },
  {
   "cell_type": "code",
   "execution_count": 1,
   "id": "1387de19",
   "metadata": {},
   "outputs": [
    {
     "name": "stdout",
     "output_type": "stream",
     "text": [
      "Enter the length and width separated by a comma (,): 2,4\n",
      "The area of the rectangle is: 8\n"
     ]
    }
   ],
   "source": [
    "rectangle_area = lambda length, width: length * width\n",
    "length, width = map(int, input(\"Enter the length and width separated by a comma (,): \").split(\",\"))\n",
    "result = rectangle_area(length, width)\n",
    "print(\"The area of the rectangle is:\", result)"
   ]
  },
  {
   "cell_type": "code",
   "execution_count": 2,
   "id": "4968f85c",
   "metadata": {},
   "outputs": [
    {
     "name": "stdout",
     "output_type": "stream",
     "text": [
      "Enter the Celsius:77\n",
      "170.6\n"
     ]
    }
   ],
   "source": [
    "#Lambda function to convert a temperature in Celsius to Fahrenheit:\n",
    "celsius_to_fahrenheit = lambda celsius: (celsius * 9/5) + 32\n",
    "result = celsius_to_fahrenheit(int(input(\"Enter the Celsius:\")))\n",
    "print(result)"
   ]
  },
  {
   "cell_type": "code",
   "execution_count": 6,
   "id": "7503c1e4",
   "metadata": {},
   "outputs": [
    {
     "name": "stdout",
     "output_type": "stream",
     "text": [
      "67\n"
     ]
    }
   ],
   "source": [
    "#Lambda function to find the maximum value in a list:\n",
    "numbers = [12, 45, 23, 67, 9, 56, 31]\n",
    "max_value = lambda lst: max(lst)\n",
    "result = max_value(numbers)\n",
    "print(result)  # Output: 67"
   ]
  },
  {
   "cell_type": "code",
   "execution_count": 1,
   "id": "59b3cf89",
   "metadata": {},
   "outputs": [
    {
     "name": "stdout",
     "output_type": "stream",
     "text": [
      "Enter your mail id:tts@gmail.com\n",
      "gmail.com\n"
     ]
    }
   ],
   "source": [
    "#Lambda function to extract the domain from an email address:\n",
    "get_domain = lambda email: email.split('@')[1]\n",
    "result = get_domain((input(\"Enter your mail id:\")))\n",
    "print(result)"
   ]
  },
  {
   "cell_type": "code",
   "execution_count": 4,
   "id": "948ac445",
   "metadata": {},
   "outputs": [
    {
     "name": "stdout",
     "output_type": "stream",
     "text": [
      "Enter the word: hi\n",
      "False\n"
     ]
    }
   ],
   "source": [
    "#Lambda function to check if a string is a palindrome:\n",
    "is_palindrome = lambda s: s == s[::-1]\n",
    "result = is_palindrome(input(\"Enter the word: \")) #racecar.tenet,appa,amma\n",
    "print(result)"
   ]
  },
  {
   "cell_type": "code",
   "execution_count": 6,
   "id": "91362b1e",
   "metadata": {},
   "outputs": [
    {
     "name": "stdout",
     "output_type": "stream",
     "text": [
      "Enter a number:24\n",
      "4.898979485566356\n"
     ]
    }
   ],
   "source": [
    "#Lambda function to calculate the square root of a number:\n",
    "import math\n",
    "sqrt = lambda x: math.sqrt(x)\n",
    "result = sqrt(int(input(\"Enter a number:\")))\n",
    "print(result)  # Output: 4.0"
   ]
  },
  {
   "cell_type": "code",
   "execution_count": 9,
   "id": "ed728c69",
   "metadata": {},
   "outputs": [
    {
     "name": "stdout",
     "output_type": "stream",
     "text": [
      "141.3716694115407\n"
     ]
    }
   ],
   "source": [
    "#Lambda function to calculate the volume of a cylinder:\n",
    "cylinder_volume = lambda radius, height: math.pi * radius ** 2 * height\n",
    "result = cylinder_volume(3, 5)\n",
    "print(result)  # Output: 141.3716694115407"
   ]
  },
  {
   "cell_type": "code",
   "execution_count": 10,
   "id": "92611a13",
   "metadata": {},
   "outputs": [
    {
     "name": "stdout",
     "output_type": "stream",
     "text": [
      "5.0\n"
     ]
    }
   ],
   "source": [
    "#Lambda function to calculate the length of a hypotenuse in a right triangle:\n",
    "hypotenuse_length = lambda a, b: math.sqrt(a ** 2 + b ** 2)\n",
    "result = hypotenuse_length(3, 4)\n",
    "print(result)  # Output: 5.0"
   ]
  },
  {
   "cell_type": "code",
   "execution_count": 19,
   "id": "e5e42f1c",
   "metadata": {},
   "outputs": [
    {
     "name": "stdout",
     "output_type": "stream",
     "text": [
      "Hello world\n"
     ]
    }
   ],
   "source": [
    "#Lambda function to capitalize the first letter of a string:\n",
    "capitalize_first_letter = lambda s: s.capitalize()\n",
    "result = capitalize_first_letter(\"hello world\")\n",
    "print(result)  # Output: \"Hello world\""
   ]
  },
  {
   "cell_type": "code",
   "execution_count": 23,
   "id": "c1a8ccd3",
   "metadata": {},
   "outputs": [
    {
     "name": "stdout",
     "output_type": "stream",
     "text": [
      "['banana', 'cherry', 'elderberry']\n"
     ]
    }
   ],
   "source": [
    "#Lambda function to filter words longer than a specified length from a list of strings:\n",
    "words = [\"apple\", \"banana\", \"cherry\", \"date\", \"elderberry\"]\n",
    "filter_long_words = lambda word_list, length: list(filter(lambda word: len(word) > length, word_list))\n",
    "result = filter_long_words(words, 5)\n",
    "print(result)  # Output: [\"banana\", \"cherry\", \"elderberry\"]\n"
   ]
  },
  {
   "cell_type": "code",
   "execution_count": 24,
   "id": "275a020c",
   "metadata": {},
   "outputs": [
    {
     "name": "stdout",
     "output_type": "stream",
     "text": [
      "[5, 4, 3, 2, 1]\n"
     ]
    }
   ],
   "source": [
    "#Lambda function to reverse the order of a list:\n",
    "reverse_list = lambda lst: lst[::-1]\n",
    "result = reverse_list([1, 2, 3, 4, 5])\n",
    "print(result)  # Output: [5, 4, 3, 2, 1]"
   ]
  },
  {
   "cell_type": "code",
   "execution_count": 25,
   "id": "09831930",
   "metadata": {},
   "outputs": [
    {
     "name": "stdout",
     "output_type": "stream",
     "text": [
      "55\n"
     ]
    }
   ],
   "source": [
    "#Lambda function to calculate the sum of the squares of numbers in a list:\n",
    "numbers = [1, 2, 3, 4, 5]\n",
    "sum_of_squares = lambda lst: sum(map(lambda x: x ** 2, lst))\n",
    "result = sum_of_squares(numbers)\n",
    "print(result)  # Output: 55"
   ]
  },
  {
   "cell_type": "code",
   "execution_count": 26,
   "id": "ec183c0a",
   "metadata": {},
   "outputs": [
    {
     "name": "stdout",
     "output_type": "stream",
     "text": [
      "4\n"
     ]
    }
   ],
   "source": [
    "#Lambda function to find the median of a list of numbers:\n",
    "find_median = lambda numbers: sorted(numbers)[len(numbers) // 2] if len(numbers) % 2 != 0 else (numbers[len(numbers) // 2 - 1] + numbers[len(numbers) // 2]) / 2\n",
    "result = find_median([3, 1, 4, 1, 5, 9, 2, 6, 5, 3, 5])\n",
    "print(result)  # Output: 4"
   ]
  },
  {
   "cell_type": "code",
   "execution_count": 27,
   "id": "85d1c7ad",
   "metadata": {},
   "outputs": [
    {
     "name": "stdout",
     "output_type": "stream",
     "text": [
      "[1, 3, 6, 10, 15]\n"
     ]
    }
   ],
   "source": [
    "#Lambda function to calculate the cumulative sum of a list:\n",
    "cumulative_sum = lambda lst: [sum(lst[:i + 1]) for i in range(len(lst))]\n",
    "result = cumulative_sum([1, 2, 3, 4, 5])\n",
    "print(result)  # Output: [1, 3, 6, 10, 15]"
   ]
  },
  {
   "cell_type": "code",
   "execution_count": 28,
   "id": "24cdb7cf",
   "metadata": {},
   "outputs": [
    {
     "name": "stdout",
     "output_type": "stream",
     "text": [
      "['APPLE', 'BANANA', 'CHERRY']\n"
     ]
    }
   ],
   "source": [
    "#Lambda function to convert a list of strings to uppercase:\n",
    "to_uppercase = lambda strings: [s.upper() for s in strings]\n",
    "result = to_uppercase([\"apple\", \"banana\", \"cherry\"])\n",
    "print(result)  # Output: [\"APPLE\", \"BANANA\", \"CHERRY\"]"
   ]
  },
  {
   "cell_type": "code",
   "execution_count": 29,
   "id": "0050f51d",
   "metadata": {},
   "outputs": [
    {
     "name": "stdout",
     "output_type": "stream",
     "text": [
      "3\n"
     ]
    }
   ],
   "source": [
    "#Lambda function to count the number of vowels in a string:\n",
    "count_vowels = lambda s: sum(1 for char in s if char.lower() in \"aeiou\")\n",
    "result = count_vowels(\"Hello, World!\")\n",
    "print(result)  # Output: 3"
   ]
  },
  {
   "cell_type": "code",
   "execution_count": 30,
   "id": "8492d0f8",
   "metadata": {},
   "outputs": [
    {
     "name": "stdout",
     "output_type": "stream",
     "text": [
      "120\n"
     ]
    }
   ],
   "source": [
    "#Lambda function to calculate the factorial of a number using functools.reduce:\n",
    "from functools import reduce\n",
    "factorial = lambda n: reduce(lambda x, y: x * y, range(1, n + 1), 1)\n",
    "result = factorial(5)\n",
    "print(result)  # Output: 120"
   ]
  },
  {
   "cell_type": "code",
   "execution_count": 31,
   "id": "0531bd26",
   "metadata": {},
   "outputs": [
    {
     "name": "stdout",
     "output_type": "stream",
     "text": [
      "[0, 1, 1, 2, 3, 5, 8, 13, 21, 34]\n"
     ]
    }
   ],
   "source": [
    "#Lambda function to generate a Fibonacci sequence up to a specified number of terms:\n",
    "from functools import reduce\n",
    "fibonacci = lambda n: reduce(lambda x, _: x + [x[-1] + x[-2]], range(n - 2), [0, 1])\n",
    "result = fibonacci(10)\n",
    "print(result)  # Output: [0, 1, 1, 2, 3, 5, 8, 13, 21, 34]\n"
   ]
  },
  {
   "cell_type": "code",
   "execution_count": 1,
   "id": "7785f007",
   "metadata": {},
   "outputs": [
    {
     "name": "stdout",
     "output_type": "stream",
     "text": [
      "20\n"
     ]
    }
   ],
   "source": [
    "# Pass a lambda function as an argument to my_function()\n",
    "def my_function(func):\n",
    "    return func(10)\n",
    "print(my_function(lambda x: x * 2))"
   ]
  },
  {
   "cell_type": "code",
   "execution_count": 2,
   "id": "e9832ee2",
   "metadata": {},
   "outputs": [
    {
     "name": "stdout",
     "output_type": "stream",
     "text": [
      "25.0\n"
     ]
    }
   ],
   "source": [
    "# Calculate the area of a triangle\n",
    "# Use a lambda function to calculate the area of a triangle with a base of 10 and a height of 5\n",
    "def calculate_area_triangle(base, height):\n",
    "    return (base * height) / 2\n",
    "print(calculate_area_triangle(10, 5))"
   ]
  },
  {
   "cell_type": "code",
   "execution_count": 6,
   "id": "6bbda4ec",
   "metadata": {},
   "outputs": [
    {
     "name": "stdout",
     "output_type": "stream",
     "text": [
      "5\n"
     ]
    }
   ],
   "source": [
    "# Find the maximum element in the list using a lambda function\n",
    "my_list = [1, 2, 3, 4, 5]\n",
    "max_element = max(my_list, key=lambda x: x)\n",
    "print(max_element)"
   ]
  },
  {
   "cell_type": "code",
   "execution_count": 7,
   "id": "eaf2b94f",
   "metadata": {},
   "outputs": [
    {
     "name": "stdout",
     "output_type": "stream",
     "text": [
      "{1: 'a', 2: 'b', 3: 'c'}\n"
     ]
    }
   ],
   "source": [
    "# Create a dictionary from the list of tuples using a lambda function\n",
    "my_list = [(1, 'a'), (2, 'b'), (3, 'c')]\n",
    "my_dict = dict(map(lambda x: (x[0], x[1]), my_list))\n",
    "print(my_dict)"
   ]
  },
  {
   "cell_type": "code",
   "execution_count": 12,
   "id": "a9aec40a",
   "metadata": {},
   "outputs": [
    {
     "name": "stdout",
     "output_type": "stream",
     "text": [
      "[1, 2, 3, 4]\n"
     ]
    }
   ],
   "source": [
    "# Filter out the elements in the list that are less than 5\n",
    "my_list = [1, 2, 3, 4, 5]\n",
    "def filter_less_than(list_of_elements, threshold):\n",
    "    return list(filter(lambda x: x < threshold, list_of_elements))\n",
    "filtered_list = filter_less_than(my_list, 5)\n",
    "print(filtered_list)"
   ]
  },
  {
   "cell_type": "code",
   "execution_count": 19,
   "id": "92a1931c",
   "metadata": {},
   "outputs": [
    {
     "name": "stdout",
     "output_type": "stream",
     "text": [
      "Enter a number (1 t0 5): 4.6\n",
      "5\n"
     ]
    }
   ],
   "source": [
    "# Find the element in the list that is closest to the target value using a lambda function\n",
    "my_list = [1, 2, 3, 4, 5]\n",
    "target_value = float(input(\"Enter a number (1 t0 5): \"))\n",
    "closest_element = min(my_list, key=lambda x: abs(x - target_value))\n",
    "print(closest_element)"
   ]
  },
  {
   "cell_type": "code",
   "execution_count": 20,
   "id": "f5ca521a",
   "metadata": {},
   "outputs": [
    {
     "name": "stdout",
     "output_type": "stream",
     "text": [
      "[1, 2, 3, 4, 5]\n"
     ]
    }
   ],
   "source": [
    "# Create a list of all the unique elements in the list using a lambda function\n",
    "my_list = [1, 1, 2, 2, 3, 3, 4, 4, 5, 5]\n",
    "unique_list = list(set(my_list))\n",
    "print(unique_list)"
   ]
  },
  {
   "cell_type": "code",
   "execution_count": 23,
   "id": "01f46941",
   "metadata": {},
   "outputs": [
    {
     "name": "stdout",
     "output_type": "stream",
     "text": [
      "['OLLEH', 'DLROW']\n"
     ]
    }
   ],
   "source": [
    "# Reverse the strings in the list using the reverse_list() function\n",
    "my_list=[\"HELLO\",\"WORLD\"]\n",
    "def reverse_list(list_of_strings):\n",
    "    return list(map(lambda x: x[::-1], list_of_strings))\n",
    "reversed_list = reverse_list(my_list)\n",
    "print(reversed_list)"
   ]
  },
  {
   "cell_type": "code",
   "execution_count": 28,
   "id": "db110e02",
   "metadata": {},
   "outputs": [
    {
     "name": "stdout",
     "output_type": "stream",
     "text": [
      "[51465, 728, 99, 63, 2, 1, 0]\n"
     ]
    }
   ],
   "source": [
    "# Sort the numbers in the list in descending order using the sort_list_descending() function\n",
    "my_list=[99,51465,2,63,728,0,1]\n",
    "def sort_list_descending(list_of_numbers):\n",
    "    return sorted(list_of_numbers, key=lambda x: x, reverse=True)\n",
    "sorted_list = sort_list_descending(my_list)\n",
    "print(sorted_list)\n"
   ]
  },
  {
   "cell_type": "code",
   "execution_count": 33,
   "id": "751d880e",
   "metadata": {},
   "outputs": [
    {
     "name": "stdout",
     "output_type": "stream",
     "text": [
      "['Hello!...', 'World!...', 'Python!...']\n"
     ]
    }
   ],
   "source": [
    "# Format each string in the list using a lambda function\n",
    "# Apply the lambda function to each element in the list\n",
    "my_list = ['hello', 'world', 'python']\n",
    "format_list = lambda x: f\"{x.capitalize()}!...\"\n",
    "formatted_list = list(map(format_list, my_list))\n",
    "print(formatted_list)"
   ]
  },
  {
   "cell_type": "code",
   "execution_count": 36,
   "id": "05c3417d",
   "metadata": {},
   "outputs": [
    {
     "name": "stdout",
     "output_type": "stream",
     "text": [
      "{'h': ['hello'], 'w': ['world'], 'p': ['python'], 'a': ['apple'], 'b': ['banana']}\n"
     ]
    }
   ],
   "source": [
    "# Group the strings by their first letter using a lambda function\n",
    "# Apply the lambda function to each element in the list\n",
    "my_list = ['hello', 'world', 'python', 'apple', 'banana']\n",
    "group_by_first_letter = lambda x: x[0]\n",
    "grouped_list = {}\n",
    "for string in my_list:\n",
    "    key = group_by_first_letter(string)\n",
    "    if key not in grouped_list:\n",
    "        grouped_list[key] = []\n",
    "    grouped_list[key].append(string)\n",
    "print(grouped_list)"
   ]
  },
  {
   "cell_type": "code",
   "execution_count": 40,
   "id": "8991f141",
   "metadata": {},
   "outputs": [
    {
     "name": "stdout",
     "output_type": "stream",
     "text": [
      "[1.23, 6.79, 9.88]\n"
     ]
    }
   ],
   "source": [
    "# Round the numbers to 2 decimal places using a lambda function\n",
    "# Apply the lambda function to each element in the list\n",
    "my_list = [1.2345, 6.7890, 9.8765]\n",
    "round_to_two_decimals = lambda x: round(x, 2)\n",
    "rounded_list = list(map(round_to_two_decimals, my_list))\n",
    "print(rounded_list)"
   ]
  },
  {
   "cell_type": "code",
   "execution_count": 43,
   "id": "c7f52b85",
   "metadata": {},
   "outputs": [
    {
     "name": "stdout",
     "output_type": "stream",
     "text": [
      "[2, 3, 4, 5, 6]\n"
     ]
    }
   ],
   "source": [
    "# Increment each number in the list using a lambda function\n",
    "# Apply the lambda function to each element in the list\n",
    "my_list = [1, 2, 3, 4, 5]\n",
    "increment = lambda x: x + 1\n",
    "incremented_list = list(map(increment, my_list))\n",
    "print(incremented_list)"
   ]
  },
  {
   "cell_type": "code",
   "execution_count": 44,
   "id": "ec914f45",
   "metadata": {},
   "outputs": [
    {
     "name": "stdout",
     "output_type": "stream",
     "text": [
      "['hello', 'world', 'python']\n"
     ]
    }
   ],
   "source": [
    "# Convert each string in the list to lowercase using a lambda function\n",
    "# Apply the lambda function to each element in the list\n",
    "my_list = ['HELLO', 'WORLD', 'PYTHON']\n",
    "to_lowercase = lambda x: x.lower()\n",
    "lowercased_list = list(map(to_lowercase, my_list))\n",
    "print(lowercased_list)"
   ]
  },
  {
   "cell_type": "code",
   "execution_count": 45,
   "id": "45387995",
   "metadata": {},
   "outputs": [
    {
     "name": "stdout",
     "output_type": "stream",
     "text": [
      "['Alice', 'Bob', 'Carol']\n"
     ]
    }
   ],
   "source": [
    "# Get the name of each person from the list of dictionaries using a lambda function\n",
    "# Apply the lambda function to each element in the list\n",
    "my_dict_list = [{'name': 'Alice', 'age': 25}, {'name': 'Bob', 'age': 30}, {'name': 'Carol', 'age': 27}]\n",
    "get_name = lambda x: x['name']\n",
    "name_list = list(map(get_name, my_dict_list))\n",
    "print(name_list)"
   ]
  },
  {
   "cell_type": "code",
   "execution_count": 46,
   "id": "4ef7f872",
   "metadata": {},
   "outputs": [
    {
     "name": "stdout",
     "output_type": "stream",
     "text": [
      "[25, 30, 27]\n"
     ]
    }
   ],
   "source": [
    "# Get the age of each person from the list of dictionaries using a lambda function\n",
    "# Apply the lambda function to each element in the list\n",
    "my_dict_list = [{'name': 'Alice', 'age': 25}, {'name': 'Bob', 'age': 30}, {'name': 'Carol', 'age': 27}]\n",
    "get_name = lambda x: x['age']\n",
    "name_list = list(map(get_name, my_dict_list))\n",
    "print(name_list)"
   ]
  },
  {
   "cell_type": "code",
   "execution_count": 54,
   "id": "4a44bf04",
   "metadata": {
    "scrolled": true
   },
   "outputs": [
    {
     "name": "stdout",
     "output_type": "stream",
     "text": [
      "python\n"
     ]
    }
   ],
   "source": [
    "# Get the longest string in the list using a lambda function\n",
    "my_list = ['hello', 'world', 'python', 'apple']\n",
    "longest_string = max(my_list, key=lambda x: len(x))\n",
    "print(longest_string)"
   ]
  },
  {
   "cell_type": "code",
   "execution_count": null,
   "id": "3063e08f",
   "metadata": {},
   "outputs": [],
   "source": []
  },
  {
   "cell_type": "code",
   "execution_count": null,
   "id": "daa47dc2",
   "metadata": {},
   "outputs": [],
   "source": []
  },
  {
   "cell_type": "code",
   "execution_count": null,
   "id": "25156f74",
   "metadata": {},
   "outputs": [],
   "source": []
  },
  {
   "cell_type": "code",
   "execution_count": null,
   "id": "f4b21f87",
   "metadata": {},
   "outputs": [],
   "source": []
  },
  {
   "cell_type": "code",
   "execution_count": null,
   "id": "aba21229",
   "metadata": {},
   "outputs": [],
   "source": []
  }
 ],
 "metadata": {
  "kernelspec": {
   "display_name": "Python 3 (ipykernel)",
   "language": "python",
   "name": "python3"
  },
  "language_info": {
   "codemirror_mode": {
    "name": "ipython",
    "version": 3
   },
   "file_extension": ".py",
   "mimetype": "text/x-python",
   "name": "python",
   "nbconvert_exporter": "python",
   "pygments_lexer": "ipython3",
   "version": "3.11.3"
  }
 },
 "nbformat": 4,
 "nbformat_minor": 5
}
