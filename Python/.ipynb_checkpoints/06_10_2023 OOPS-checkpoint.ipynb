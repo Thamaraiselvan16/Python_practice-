{
 "cells": [
  {
   "cell_type": "code",
   "execution_count": 4,
   "id": "0d649f79",
   "metadata": {},
   "outputs": [
    {
     "name": "stdout",
     "output_type": "stream",
     "text": [
      "10\n",
      "10\n",
      "BMW\n",
      "BMW\n"
     ]
    }
   ],
   "source": [
    "#instance variable\n",
    "class car:\n",
    "    def __init__ (self):\n",
    "        self.mil=10\n",
    "        self.carname=\"BMW\"\n",
    "car1=car()\n",
    "car2=car()\n",
    "print(car1.mil)\n",
    "print(car2.mil)\n",
    "print(car1.carname)\n",
    "print(car2.carname)"
   ]
  },
  {
   "cell_type": "code",
   "execution_count": 7,
   "id": "41e8a06b",
   "metadata": {},
   "outputs": [
    {
     "name": "stdout",
     "output_type": "stream",
     "text": [
      "10\n",
      "10\n",
      "BMW\n",
      "4\n"
     ]
    }
   ],
   "source": [
    "#static /class variable\n",
    "class car:\n",
    "    wheels=4\n",
    "    def __init__ (self):\n",
    "        self.mil=10\n",
    "        self.carname=\"BMW\"\n",
    "car1=car()\n",
    "car2=car()\n",
    "print(car1.mil)\n",
    "print(car2.mil)\n",
    "print(car1.carname)\n",
    "print(car2.wheels)"
   ]
  },
  {
   "cell_type": "code",
   "execution_count": 10,
   "id": "a7960962",
   "metadata": {},
   "outputs": [
    {
     "name": "stdout",
     "output_type": "stream",
     "text": [
      "77 78 75\n",
      "99 87 65\n"
     ]
    }
   ],
   "source": [
    "#methods\n",
    "#1 instanc methon\n",
    "class student:\n",
    "    def __init__ (self,math,tamil,comp):\n",
    "        self.math=math\n",
    "        self.tamil=tamil\n",
    "        self.comp=comp\n",
    "        print(self.math,self.tamil,self.comp)\n",
    "thamarai=student(77,78,75)\n",
    "dhill=student(99,87,65)"
   ]
  },
  {
   "cell_type": "code",
   "execution_count": 14,
   "id": "d7fb7496",
   "metadata": {},
   "outputs": [
    {
     "data": {
      "text/plain": [
       "(99, 87, 65)"
      ]
     },
     "execution_count": 14,
     "metadata": {},
     "output_type": "execute_result"
    }
   ],
   "source": [
    "##instance methon\n",
    "#1.1)accessor method\n",
    "class student:\n",
    "    def __init__ (self,math,tamil,comp):\n",
    "        self.math=math\n",
    "        self.tamil=tamil\n",
    "        self.comp=comp\n",
    "    def get_math(self):\n",
    "        return self.math,self.tamil,self.comp\n",
    "dhill=student(99,87,65)\n",
    "dhill.get_math()"
   ]
  },
  {
   "cell_type": "code",
   "execution_count": null,
   "id": "6a028172",
   "metadata": {},
   "outputs": [],
   "source": [
    "##instance methon\n",
    "#1.2)mutator method\n"
   ]
  },
  {
   "cell_type": "code",
   "execution_count": null,
   "id": "9a344e66",
   "metadata": {},
   "outputs": [],
   "source": []
  },
  {
   "cell_type": "code",
   "execution_count": 56,
   "id": "b204dfe1",
   "metadata": {},
   "outputs": [
    {
     "ename": "SyntaxError",
     "evalue": "unmatched ')' (836774122.py, line 34)",
     "output_type": "error",
     "traceback": [
      "\u001b[1;36m  Cell \u001b[1;32mIn[56], line 34\u001b[1;36m\u001b[0m\n\u001b[1;33m    amm=student.account\"FSD\")\u001b[0m\n\u001b[1;37m                            ^\u001b[0m\n\u001b[1;31mSyntaxError\u001b[0m\u001b[1;31m:\u001b[0m unmatched ')'\n"
     ]
    }
   ],
   "source": [
    "class student:\n",
    "    def __init__ (self,name,rollno):\n",
    "        self.name=name\n",
    "        self.rollno=rollno\n",
    "    def show(self):\n",
    "        print(self.name,self.rollno)\n",
    "    class laptop:\n",
    "        def __init__(self):\n",
    "            self.brand=\"hp\"\n",
    "            self.price=200000\n",
    "        def show(self):\n",
    "            print(self.brand,self.price)\n",
    "    class cource:\n",
    "        def __init__(self,cource_name):\n",
    "            self.cource_name=cource_name\n",
    "        def show(self):\n",
    "            print(self.cource_name)\n",
    "    class account:\n",
    "        def __init__ (self):\n",
    "            self.amount=95000\n",
    "        def show(self):\n",
    "            print(self.amount)\n",
    "   \n",
    "stu=student(\"dhill\",21)\n",
    "stu.show()\n",
    "\n",
    "lap1=student.laptop()\n",
    "lap1.show()\n",
    "\n",
    "cour=student.cource(\"FSD\")\n",
    "#print(cour.cource_name)\n",
    "cour.show()\n",
    "\n",
    "amm=student.account\"FSD\")\n",
    "#print(cour.cource_name)\n",
    "amm.show()"
   ]
  },
  {
   "cell_type": "code",
   "execution_count": null,
   "id": "08d7ad74",
   "metadata": {},
   "outputs": [],
   "source": []
  },
  {
   "cell_type": "code",
   "execution_count": null,
   "id": "04720841",
   "metadata": {},
   "outputs": [],
   "source": []
  },
  {
   "cell_type": "code",
   "execution_count": null,
   "id": "9d399064",
   "metadata": {},
   "outputs": [],
   "source": []
  },
  {
   "cell_type": "code",
   "execution_count": null,
   "id": "e0c93b16",
   "metadata": {},
   "outputs": [],
   "source": []
  }
 ],
 "metadata": {
  "kernelspec": {
   "display_name": "Python 3 (ipykernel)",
   "language": "python",
   "name": "python3"
  },
  "language_info": {
   "codemirror_mode": {
    "name": "ipython",
    "version": 3
   },
   "file_extension": ".py",
   "mimetype": "text/x-python",
   "name": "python",
   "nbconvert_exporter": "python",
   "pygments_lexer": "ipython3",
   "version": "3.11.3"
  }
 },
 "nbformat": 4,
 "nbformat_minor": 5
}
