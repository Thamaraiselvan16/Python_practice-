{
 "cells": [
  {
   "cell_type": "code",
   "execution_count": null,
   "id": "b8b71db9",
   "metadata": {
    "collapsed": true
   },
   "outputs": [],
   "source": [
    "#syntax of nested while loop"
   ]
  },
  {
   "cell_type": "code",
   "execution_count": 17,
   "id": "2c045172",
   "metadata": {},
   "outputs": [
    {
     "name": "stdout",
     "output_type": "stream",
     "text": [
      "* \n",
      "* * \n",
      "* * * \n",
      "* * * * \n",
      "* * * * * \n"
     ]
    }
   ],
   "source": [
    "num=5\n",
    "row=1\n",
    "while row<=num:\n",
    "    col=1\n",
    "    while col<=row:\n",
    "        print(\"*\",end=\" \")\n",
    "        col=col+1\n",
    "    print()\n",
    "    row=row+1"
   ]
  },
  {
   "cell_type": "code",
   "execution_count": 13,
   "id": "11b4c55f",
   "metadata": {},
   "outputs": [
    {
     "name": "stdout",
     "output_type": "stream",
     "text": [
      "1 \n",
      "2 3 \n",
      "4 5 6 \n",
      "7 8 9 10 \n",
      "11 12 13 14 15 \n"
     ]
    }
   ],
   "source": [
    "num=5\n",
    "row=1\n",
    "s=1\n",
    "while row<=num:\n",
    "    col=1\n",
    "    while col<=row:\n",
    "        print(s,end=\" \")\n",
    "        col=col+1\n",
    "        s=s+1\n",
    "    print()\n",
    "    row=row+1"
   ]
  },
  {
   "cell_type": "code",
   "execution_count": 15,
   "id": "50b93d19",
   "metadata": {},
   "outputs": [
    {
     "name": "stdout",
     "output_type": "stream",
     "text": [
      "1 \n",
      "1 2 \n",
      "1 2 3 \n",
      "1 2 3 4 \n",
      "1 2 3 4 5 \n"
     ]
    }
   ],
   "source": [
    "num=5\n",
    "row=1\n",
    "s=0\n",
    "while row<=num:\n",
    "    col=1\n",
    "    while col<=row:\n",
    "        print(col,end=\" \")\n",
    "        col=col+1\n",
    "        s=s+1\n",
    "    print()\n",
    "    row=row+1"
   ]
  },
  {
   "cell_type": "code",
   "execution_count": 49,
   "id": "610cf585",
   "metadata": {},
   "outputs": [
    {
     "name": "stdout",
     "output_type": "stream",
     "text": [
      "(1, 2, 3, [2, 3, 2], 32, 13)\n",
      "('apple', 'thamarai', 'dhill')\n",
      "[('name', 'thamarai'), ('age', 21), ('cource', 'FSD')]\n",
      "2\n",
      "32\n",
      "13\n",
      "dhill\n",
      "dhill\n",
      "('name', 'thamarai')\n",
      "thamarai\n"
     ]
    }
   ],
   "source": [
    "list1=[1,2,3,[2,3,2],32,13]\n",
    "set1={\"apple\",\"thamarai\",\"dhill\"}\n",
    "dic1={\"name\":\"thamarai\",\"age\":21,\"cource\":\"FSD\"}\n",
    "t1=tuple(list1)\n",
    "print(t1)\n",
    "t2=tuple(set1)\n",
    "print(t2)\n",
    "t3 = [(k, v) for k, v in dic1.items()]\n",
    "print(t3)\n",
    "print(t1[3][2])\n",
    "print(t1[4])\n",
    "print(t1[-1])\n",
    "print(t2[2])\n",
    "print(t2[-1])\n",
    "print(t3[0])\n",
    "print(t3[0][1])"
   ]
  },
  {
   "cell_type": "code",
   "execution_count": 51,
   "id": "4f231f89",
   "metadata": {},
   "outputs": [
    {
     "name": "stdout",
     "output_type": "stream",
     "text": [
      "tuple element is tuple1\n",
      "list second element is list 3\n",
      "element in dict a\n"
     ]
    }
   ],
   "source": [
    "#wap to use list,set and dict in tuple and can we acesses the elements\n",
    "s=(\"tuple1\",[\"list 1\",\"list 2\",\"list 3\"],{1:\"n\",2:\"a\"})\n",
    "print(\"tuple element is\",s[0])\n",
    "print(\"list second element is\",s[1][2])\n",
    "print(\"element in dict\",s[2][2])"
   ]
  },
  {
   "cell_type": "code",
   "execution_count": 55,
   "id": "7eb09e70",
   "metadata": {},
   "outputs": [
    {
     "name": "stdout",
     "output_type": "stream",
     "text": [
      "1\n",
      "(1, 2, [3, 4, 5, 6], {8, 'apple', 7})\n",
      "5\n"
     ]
    }
   ],
   "source": [
    "t=(1,2,[3,4,5,6],{\"apple\",7,8},{\"name\":\"ak\",9:\"gk\"})\n",
    "print(t[0])\n",
    "print(t[0:4])\n",
    "print(t[2][2])"
   ]
  },
  {
   "cell_type": "code",
   "execution_count": 56,
   "id": "1da7b6a7",
   "metadata": {},
   "outputs": [
    {
     "name": "stdout",
     "output_type": "stream",
     "text": [
      "(1, 2, 3, 5, 3, 2, 3, 4)\n"
     ]
    }
   ],
   "source": [
    "t1=(1,2,3,5)\n",
    "t2=(3,2,3,4)\n",
    "print(t1+t2)"
   ]
  },
  {
   "cell_type": "code",
   "execution_count": 67,
   "id": "ec2a97cf",
   "metadata": {},
   "outputs": [
    {
     "name": "stdout",
     "output_type": "stream",
     "text": [
      "\n",
      "([1, 2, 3, 3], {'a': 1, 'b': 2})\n"
     ]
    }
   ],
   "source": [
    "#modifying the list inside the tuple\n",
    "tuple1=([1,2,3],{\"a\":1})\n",
    "a=tuple1[0].append(3)\n",
    "tuple1[1][\"b\"]=2\n",
    "print(tuple1)"
   ]
  }
 ],
 "metadata": {
  "kernelspec": {
   "display_name": "Python 3 (ipykernel)",
   "language": "python",
   "name": "python3"
  },
  "language_info": {
   "codemirror_mode": {
    "name": "ipython",
    "version": 3
   },
   "file_extension": ".py",
   "mimetype": "text/x-python",
   "name": "python",
   "nbconvert_exporter": "python",
   "pygments_lexer": "ipython3",
   "version": "3.11.3"
  }
 },
 "nbformat": 4,
 "nbformat_minor": 5
}
