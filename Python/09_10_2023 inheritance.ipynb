{
 "cells": [
  {
   "cell_type": "code",
   "execution_count": 4,
   "id": "dfb5aa08",
   "metadata": {},
   "outputs": [
    {
     "name": "stdout",
     "output_type": "stream",
     "text": [
      "BOW BOW\n",
      "meyaw\n",
      "screech\n",
      "howl\n"
     ]
    }
   ],
   "source": [
    "# INHERITANCE\n",
    "#1)SINGLE INHERITANCE\n",
    "# method overloding\n",
    "\n",
    "class Animal:\n",
    "    def speak(self):\n",
    "        return \"what type of animal are you\"\n",
    "class Bird:\n",
    "    def speak(self):\n",
    "        return \"what type of bird are you\"\n",
    "class Dog(Animal):\n",
    "    def speak (self):\n",
    "        return \"BOW BOW\"\n",
    "class Cat(Animal):\n",
    "    def speak(self):\n",
    "        return \"meyaw\"\n",
    "class Bat(Bird):\n",
    "    def speak(self):\n",
    "        return \"screech\"\n",
    "class Wolf(Animal):\n",
    "    def speak(self):\n",
    "        return \"howl\"\n",
    "    \n",
    "dog=Dog()\n",
    "cat=Cat()\n",
    "bat=Bat()\n",
    "wolf=Wolf()\n",
    "\n",
    "print(dog.speak())\n",
    "print(cat.speak())\n",
    "print(bat.speak())\n",
    "print(wolf.speak())\n"
   ]
  },
  {
   "cell_type": "code",
   "execution_count": 7,
   "id": "42c7c473",
   "metadata": {},
   "outputs": [
    {
     "name": "stdout",
     "output_type": "stream",
     "text": [
      "BOW BOW and, what type of animal are you\n",
      "meyaw and, what type of animal are you\n",
      "screech and, what type of bird are you\n",
      "howland, what type of animal are you\n"
     ]
    }
   ],
   "source": [
    "# INHERITANCE\n",
    "#1)SINGLE INHERITANCE\n",
    "#method overriding\n",
    "\n",
    "class Animal:\n",
    "    def speak(self):\n",
    "        return \"what type of animal are you\"\n",
    "class Bird:\n",
    "    def speak(self):\n",
    "        return \"what type of bird are you\"\n",
    "class Dog(Animal):\n",
    "    def speak (self):\n",
    "        result=super().speak()\n",
    "        return f\"BOW BOW and, {result}\"\n",
    "class Cat(Animal):\n",
    "    def speak(self):\n",
    "        result=super().speak()\n",
    "        return f\"meyaw and, {result}\"\n",
    "class Bat(Bird):\n",
    "    def speak(self):\n",
    "        result=super().speak()\n",
    "        return f\"screech and, {result}\"\n",
    "class Wolf(Animal):\n",
    "    def speak(self):\n",
    "        result=super().speak()\n",
    "        return f\"howland, {result}\"\n",
    "    \n",
    "dog=Dog()\n",
    "cat=Cat()\n",
    "bat=Bat()\n",
    "wolf=Wolf()\n",
    "\n",
    "print(dog.speak())\n",
    "print(cat.speak())\n",
    "print(bat.speak())\n",
    "print(wolf.speak())"
   ]
  },
  {
   "cell_type": "code",
   "execution_count": 13,
   "id": "c7cb9779",
   "metadata": {},
   "outputs": [
    {
     "name": "stdout",
     "output_type": "stream",
     "text": [
      "BOW BOW\n",
      "meyaw\n",
      "screech\n",
      "howl\n"
     ]
    }
   ],
   "source": [
    "#2)multiple inhiritance\n",
    "#method overloding\n",
    "\n",
    "class Animal:\n",
    "    def speak(self):\n",
    "        return \"what type of animal are you\"\n",
    "class Bird:\n",
    "    def speak(self):\n",
    "        return \"what type of bird are you\"\n",
    "class Dog(Animal):\n",
    "    def speak (self):\n",
    "        return \"BOW BOW\"\n",
    "class Cat(Animal):\n",
    "    def speak(self):\n",
    "        return \"meyaw\"\n",
    "class Bat(Bird,Animal):\n",
    "    def speak(self):\n",
    "        return \"screech\"\n",
    "class Wolf(Animal):\n",
    "    def speak(self):\n",
    "        return \"howl\"\n",
    "    \n",
    "dog=Dog()\n",
    "cat=Cat()\n",
    "bat=Bat()\n",
    "wolf=Wolf()\n",
    "\n",
    "print(dog.speak())\n",
    "print(cat.speak())\n",
    "print(bat.speak())\n",
    "print(wolf.speak())"
   ]
  },
  {
   "cell_type": "code",
   "execution_count": 15,
   "id": "3b7c400b",
   "metadata": {},
   "outputs": [
    {
     "name": "stdout",
     "output_type": "stream",
     "text": [
      "BOW BOW and, what type of animal are you\n",
      "meyaw and, what type of animal are you\n",
      "screech and, what type of bird are you\n",
      "howland, what type of animal are you\n"
     ]
    }
   ],
   "source": [
    "#2)multiple inhiritance\n",
    "#method overrding\n",
    "class Animal:\n",
    "    def speak(self):\n",
    "        return \"what type of animal are you\"\n",
    "class Bird:\n",
    "    def speak(self):\n",
    "        return \"what type of bird are you\"\n",
    "class Dog(Animal):\n",
    "    def speak (self):\n",
    "        result=super().speak()\n",
    "        return f\"BOW BOW and, {result}\"\n",
    "class Cat(Animal):\n",
    "    def speak(self):\n",
    "        result=super().speak()\n",
    "        return f\"meyaw and, {result}\"\n",
    "class Bat(Bird,Animal):\n",
    "    def speak(self):\n",
    "        result=super().speak()\n",
    "        return f\"screech and, {result}\"\n",
    "class Wolf(Animal):\n",
    "    def speak(self):\n",
    "        result=super().speak()\n",
    "        return f\"howland, {result}\"\n",
    "    \n",
    "dog=Dog()\n",
    "cat=Cat()\n",
    "bat=Bat()\n",
    "wolf=Wolf()\n",
    "\n",
    "print(dog.speak())\n",
    "print(cat.speak())\n",
    "print(bat.speak())\n",
    "print(wolf.speak())"
   ]
  },
  {
   "cell_type": "code",
   "execution_count": 42,
   "id": "0d74dd68",
   "metadata": {},
   "outputs": [
    {
     "name": "stdout",
     "output_type": "stream",
     "text": [
      "hello from grand parent\n",
      "hello from grand parent\n"
     ]
    }
   ],
   "source": [
    "#3)multiple inheritance\n",
    "##method overloding\n",
    "\n",
    "class graparent:\n",
    "    def greet(self):\n",
    "        return \"hello from grand parent\"\n",
    "class parent(graparent):\n",
    "    def parent(self):\n",
    "        return \"hi from parent\"\n",
    "class Child(parent):\n",
    "    pass\n",
    "\n",
    "child =Child()\n",
    "print(child.greet())\n",
    "print(child.greet())\n",
    "    "
   ]
  },
  {
   "cell_type": "code",
   "execution_count": 34,
   "id": "af673d6a",
   "metadata": {},
   "outputs": [
    {
     "name": "stdout",
     "output_type": "stream",
     "text": [
      "hello from child\n",
      "hi from parent\n",
      "hello from grandparent\n"
     ]
    }
   ],
   "source": [
    "class Grandparent:\n",
    "    def greet0(self):\n",
    "        return \"hello from grandparent\"\n",
    "\n",
    "class Parent(Grandparent):\n",
    "    def parent(self):\n",
    "        return \"hi from parent\"\n",
    "\n",
    "class Child(Parent):\n",
    "    def greet(self):  \n",
    "        return \"hello from child\"\n",
    "\n",
    "child = Child()\n",
    "print(child.greet())\n",
    "print(child.parent())\n",
    "print(child.greet0())"
   ]
  },
  {
   "cell_type": "code",
   "execution_count": 36,
   "id": "d2838aca",
   "metadata": {},
   "outputs": [
    {
     "name": "stdout",
     "output_type": "stream",
     "text": [
      "hi from parent\n",
      "hello from grand parent\n"
     ]
    }
   ],
   "source": [
    "class graparent:\n",
    "    def greet0(self):\n",
    "        return \"hello from grand parent\"\n",
    "\n",
    "class parent(graparent):\n",
    "    def parent(self):\n",
    "        return \"hi from parent\"\n",
    "\n",
    "class Child(parent):\n",
    "    pass\n",
    "\n",
    "child = Child()\n",
    "print(child.parent())\n",
    "print(child.greet0())  # Calls the greet0 method from the graparent class\n"
   ]
  },
  {
   "cell_type": "code",
   "execution_count": 2,
   "id": "f9334511",
   "metadata": {},
   "outputs": [
    {
     "ename": "TypeError",
     "evalue": "Car.start() missing 1 required positional argument: 'self'",
     "output_type": "error",
     "traceback": [
      "\u001b[1;31m---------------------------------------------------------------------------\u001b[0m",
      "\u001b[1;31mTypeError\u001b[0m                                 Traceback (most recent call last)",
      "Cell \u001b[1;32mIn[2], line 14\u001b[0m\n\u001b[0;32m     12\u001b[0m car\u001b[38;5;241m=\u001b[39mCar()\n\u001b[0;32m     13\u001b[0m motor\u001b[38;5;241m=\u001b[39mmotorcycle()\n\u001b[1;32m---> 14\u001b[0m \u001b[38;5;28mprint\u001b[39m(Car\u001b[38;5;241m.\u001b[39mstart())\n\u001b[0;32m     15\u001b[0m \u001b[38;5;28mprint\u001b[39m(motorcycle\u001b[38;5;241m.\u001b[39mstart())\n",
      "\u001b[1;31mTypeError\u001b[0m: Car.start() missing 1 required positional argument: 'self'"
     ]
    }
   ],
   "source": [
    "#4) herarical\n",
    "class vehicle:\n",
    "    def start(self):\n",
    "        return \"vehicle\"\n",
    "class Car(vehicle):\n",
    "    def start(self):\n",
    "        return \"car\"\n",
    "class motorcycle(vehicle):\n",
    "    def start(self):\n",
    "        return \"motor cycle\"\n",
    "    \n",
    "car=Car()\n",
    "motor=motorcycle()\n",
    "print(Car.start())\n",
    "print(motorcycle.start())"
   ]
  },
  {
   "cell_type": "code",
   "execution_count": 3,
   "id": "f81d45db",
   "metadata": {},
   "outputs": [
    {
     "name": "stdout",
     "output_type": "stream",
     "text": [
      "Fiction Book Info:\n",
      "Title: The Great Gatsby\n",
      "Author: F. Scott Fitzgerald\n",
      "Price: $9.99\n",
      "Genre: Classic\n",
      "\n",
      "Non-Fiction Book Info:\n",
      "Title: Sapiens: A Brief History of Humankind\n",
      "Author: Yuval Noah Harari\n",
      "Price: $14.99\n",
      "Topic: History\n"
     ]
    }
   ],
   "source": [
    "class Book:\n",
    "    def __init__(self, title, author, price):\n",
    "        self.title = title\n",
    "        self.author = author\n",
    "        self.price = price\n",
    "\n",
    "    def get_info(self):\n",
    "        return f\"Title: {self.title}\\nAuthor: {self.author}\\nPrice: ${self.price:.2f}\"\n",
    "\n",
    "class FictionBook(Book):\n",
    "    def __init__(self, title, author, price, genre):\n",
    "        super().__init__(title, author, price)\n",
    "        self.genre = genre\n",
    "\n",
    "    def get_info(self):\n",
    "        base_info = super().get_info()\n",
    "        return f\"{base_info}\\nGenre: {self.genre}\"\n",
    "\n",
    "class NonFictionBook(Book):\n",
    "    def __init__(self, title, author, price, topic):\n",
    "        super().__init__(title, author, price)\n",
    "        self.topic = topic\n",
    "\n",
    "    def get_info(self):\n",
    "        base_info = super().get_info()\n",
    "        return f\"{base_info}\\nTopic: {self.topic}\"\n",
    "\n",
    "# Usage example\n",
    "if __name__ == \"__main__\":\n",
    "    fiction_book = FictionBook(\"The Great Gatsby\", \"F. Scott Fitzgerald\", 9.99, \"Classic\")\n",
    "    non_fiction_book = NonFictionBook(\"Sapiens: A Brief History of Humankind\", \"Yuval Noah Harari\", 14.99, \"History\")\n",
    "\n",
    "    print(\"Fiction Book Info:\")\n",
    "    print(fiction_book.get_info())\n",
    "    print(\"\\nNon-Fiction Book Info:\")\n",
    "    print(non_fiction_book.get_info())"
   ]
  },
  {
   "cell_type": "code",
   "execution_count": 31,
   "id": "26b71025",
   "metadata": {},
   "outputs": [
    {
     "name": "stdout",
     "output_type": "stream",
     "text": [
      "A Brief History of Time 15.99\n"
     ]
    }
   ],
   "source": [
    "class books:\n",
    "    def __init__(self, title, author, price):\n",
    "        self.title = title\n",
    "        self.author = author\n",
    "        self.price = price\n",
    "\n",
    "class fiction(books):\n",
    "    def __init__(self, title, author, price):\n",
    "        super().__init__(title, author, price)\n",
    "\n",
    "class notification(books):\n",
    "    def __init__(self, title, author, price):\n",
    "        super().__init__(title, author, price)\n",
    "\n",
    "# Create instances of the subclasses\n",
    "book2 = books(\"A Brief History of Time\", \"Stephen Hawking\", 15.99)\n",
    "fiction_book = fiction(\"Fiction Book\", \"Fiction Author\", 10.99)\n",
    "notification_book = notification(\"Notification Book\", \"Notification Author\", 5.99)\n",
    "\n",
    "print(book2.title,book2.price)"
   ]
  },
  {
   "cell_type": "code",
   "execution_count": null,
   "id": "3e128056",
   "metadata": {},
   "outputs": [],
   "source": [
    "# class books:\n",
    "    def _init_(self,title,author,price):\n",
    "        self.title=title\n",
    "        self.author=author\n",
    "        self.prioce=price\n",
    "    \n",
    "class fiction (books):\n",
    "    def _init_(self,title,author,price):\n",
    "        super._init_(self,author,title,price)\n",
    "        \n",
    "\n",
    "class notification (books):\n",
    "    def _init_(self,author,price,title):\n",
    "        super._init_(self,author,title,price)\n",
    "       \n",
    "    \n",
    "\n",
    "\n",
    "book2 = books(\"A Brief History of Time\", \"Stephen Hawking\", 15.99, \"Physics\")\n",
    "\n",
    "book2.fiction()"
   ]
  },
  {
   "cell_type": "code",
   "execution_count": 32,
   "id": "1949a818",
   "metadata": {},
   "outputs": [
    {
     "ename": "TypeError",
     "evalue": "Fiction() takes no arguments",
     "output_type": "error",
     "traceback": [
      "\u001b[1;31m---------------------------------------------------------------------------\u001b[0m",
      "\u001b[1;31mTypeError\u001b[0m                                 Traceback (most recent call last)",
      "Cell \u001b[1;32mIn[32], line 44\u001b[0m\n\u001b[0;32m     41\u001b[0m         \u001b[38;5;28mprint\u001b[39m(\u001b[38;5;124mf\u001b[39m\u001b[38;5;124m\"\u001b[39m\u001b[38;5;124mTopic: \u001b[39m\u001b[38;5;132;01m{\u001b[39;00m\u001b[38;5;28mself\u001b[39m\u001b[38;5;241m.\u001b[39mtopic\u001b[38;5;132;01m}\u001b[39;00m\u001b[38;5;124m\"\u001b[39m)\n\u001b[0;32m     43\u001b[0m \u001b[38;5;66;03m# Create some book objects\u001b[39;00m\n\u001b[1;32m---> 44\u001b[0m book1 \u001b[38;5;241m=\u001b[39m Fiction(\u001b[38;5;124m\"\u001b[39m\u001b[38;5;124mThe Hitchhiker\u001b[39m\u001b[38;5;124m'\u001b[39m\u001b[38;5;124ms Guide to the Galaxy\u001b[39m\u001b[38;5;124m\"\u001b[39m, \u001b[38;5;124m\"\u001b[39m\u001b[38;5;124mDouglas Adams\u001b[39m\u001b[38;5;124m\"\u001b[39m, \u001b[38;5;241m12.99\u001b[39m, \u001b[38;5;124m\"\u001b[39m\u001b[38;5;124mScience Fiction \u001b[39m\u001b[38;5;130;01m\\n\u001b[39;00m\u001b[38;5;124m\"\u001b[39m)\n\u001b[0;32m     45\u001b[0m book2 \u001b[38;5;241m=\u001b[39m Notfiction(\u001b[38;5;124m\"\u001b[39m\u001b[38;5;124mA Brief History of Time\u001b[39m\u001b[38;5;124m\"\u001b[39m, \u001b[38;5;124m\"\u001b[39m\u001b[38;5;124mStephen Hawking\u001b[39m\u001b[38;5;124m\"\u001b[39m, \u001b[38;5;241m15.99\u001b[39m, \u001b[38;5;124m\"\u001b[39m\u001b[38;5;124mPhysics \u001b[39m\u001b[38;5;130;01m\\n\u001b[39;00m\u001b[38;5;124m\"\u001b[39m)\n\u001b[0;32m     46\u001b[0m book3 \u001b[38;5;241m=\u001b[39m Book(\u001b[38;5;124m\"\u001b[39m\u001b[38;5;124mA Brief History of Time\u001b[39m\u001b[38;5;124m\"\u001b[39m, \u001b[38;5;124m\"\u001b[39m\u001b[38;5;124mStephen Hawking\u001b[39m\u001b[38;5;124m\"\u001b[39m, \u001b[38;5;241m15.99\u001b[39m)\n",
      "\u001b[1;31mTypeError\u001b[0m: Fiction() takes no arguments"
     ]
    }
   ],
   "source": [
    "# Define a base class for Book\n",
    "class Book:\n",
    "    # Initialize the common attributes for all books\n",
    "    def _init_(self, title, author, price):\n",
    "        self.title = title\n",
    "        self.author = author\n",
    "        self.price = price\n",
    "    \n",
    "    # Define a common method for displaying book information\n",
    "    def display(self):\n",
    "        print(f\"Title: {self.title}\")\n",
    "        print(f\"Author: {self.author}\")\n",
    "        print(f\"Price: {self.price}\")\n",
    "\n",
    "# Define a subclass for Fiction books\n",
    "class Fiction(Book):\n",
    "    # Initialize the specific attribute for fiction books\n",
    "    def _init_(self, title, author, price, genre):\n",
    "        # Call the base class constructor\n",
    "        super()._init_(title, author, price)\n",
    "        self.genre = genre\n",
    "    \n",
    "    # Override the display method to include genre\n",
    "    def display(self):\n",
    "        # Call the base class display method\n",
    "        super().display()\n",
    "        print(f\"Genre: {self.genre}\")\n",
    "\n",
    "# Define a subclass for Nonfiction books\n",
    "class Notfiction(Book):\n",
    "    # Initialize the specific attribute for nonfiction books\n",
    "    def _init_(self, title, author, price, topic):\n",
    "        # Call the base class constructor\n",
    "        super()._init_(title, author, price)\n",
    "        self.topic = topic\n",
    "    \n",
    "    # Override the display method to include topic\n",
    "    def display(self):\n",
    "        # Call the base class display method\n",
    "        super().display()\n",
    "        print(f\"Topic: {self.topic}\")\n",
    "\n",
    "# Create some book objects\n",
    "book1 = Fiction(\"The Hitchhiker's Guide to the Galaxy\", \"Douglas Adams\", 12.99, \"Science Fiction \\n\")\n",
    "book2 = Notfiction(\"A Brief History of Time\", \"Stephen Hawking\", 15.99, \"Physics \\n\")\n",
    "book3 = Book(\"A Brief History of Time\", \"Stephen Hawking\", 15.99)\n",
    "\n",
    "# Display the book information\n",
    "book1.display()\n",
    "book2.display()\n",
    "book3.display()"
   ]
  },
  {
   "cell_type": "code",
   "execution_count": 33,
   "id": "66336e79",
   "metadata": {},
   "outputs": [
    {
     "name": "stdout",
     "output_type": "stream",
     "text": [
      "Title: The Hitchhiker's Guide to the Galaxy\n",
      "Author: Douglas Adams\n",
      "Price: 12.99\n",
      "Genre: Science Fiction\n",
      "Title: A Brief History of Time\n",
      "Author: Stephen Hawking\n",
      "Price: 15.99\n",
      "Topic: Physics\n",
      "Title: Some Book\n",
      "Author: Some Author\n",
      "Price: 9.99\n"
     ]
    }
   ],
   "source": [
    "class Book:\n",
    "    def __init__(self, title, author, price):\n",
    "        self.title = title\n",
    "        self.author = author\n",
    "        self.price = price\n",
    "    \n",
    "    def display(self):\n",
    "        print(f\"Title: {self.title}\")\n",
    "        print(f\"Author: {self.author}\")\n",
    "        print(f\"Price: {self.price}\")\n",
    "\n",
    "class Fiction(Book):\n",
    "    def __init__(self, title, author, price, genre):\n",
    "        super().__init__(title, author, price)\n",
    "        self.genre = genre\n",
    "    \n",
    "    def display(self):\n",
    "        super().display()\n",
    "        print(f\"Genre: {self.genre}\")\n",
    "\n",
    "class Nonfiction(Book):\n",
    "    def __init__(self, title, author, price, topic):\n",
    "        super().__init__(title, author, price)\n",
    "        self.topic = topic\n",
    "    \n",
    "    def display(self):\n",
    "        super().display()\n",
    "        print(f\"Topic: {self.topic}\")\n",
    "\n",
    "# Create some book objects\n",
    "book1 = Fiction(\"The Hitchhiker's Guide to the Galaxy\", \"Douglas Adams\", 12.99, \"Science Fiction\")\n",
    "book2 = Nonfiction(\"A Brief History of Time\", \"Stephen Hawking\", 15.99, \"Physics\")\n",
    "book3 = Book(\"Some Book\", \"Some Author\", 9.99)\n",
    "\n",
    "# Display the book information\n",
    "book1.display()\n",
    "book2.display()\n",
    "book3.display()\n"
   ]
  },
  {
   "cell_type": "code",
   "execution_count": 3,
   "id": "91c78db4",
   "metadata": {},
   "outputs": [
    {
     "name": "stdout",
     "output_type": "stream",
     "text": [
      "Enter a number: 40\n",
      "The factors of 40 are: [1, 2, 4, 5, 8, 10, 20, 40]\n"
     ]
    }
   ],
   "source": [
    "#get input n from user. print all the factors of n\n",
    "# Get input from the user\n",
    "n = int(input(\"Enter a number: \"))\n",
    "\n",
    "# Initialize a list to store factors\n",
    "factors = []\n",
    "\n",
    "# Loop from 1 to n and check for factors\n",
    "for i in range(1, n + 1):\n",
    "    if n % i == 0:\n",
    "        factors.append(i)\n",
    "\n",
    "# Print the factors\n",
    "print(f\"The factors of {n} are:\", factors)"
   ]
  },
  {
   "cell_type": "code",
   "execution_count": null,
   "id": "036eb829",
   "metadata": {},
   "outputs": [],
   "source": []
  },
  {
   "cell_type": "code",
   "execution_count": null,
   "id": "d27ffcec",
   "metadata": {},
   "outputs": [],
   "source": []
  },
  {
   "cell_type": "code",
   "execution_count": null,
   "id": "3c497191",
   "metadata": {},
   "outputs": [],
   "source": []
  },
  {
   "cell_type": "code",
   "execution_count": null,
   "id": "9fff8953",
   "metadata": {},
   "outputs": [],
   "source": []
  },
  {
   "cell_type": "code",
   "execution_count": null,
   "id": "0de5b6df",
   "metadata": {},
   "outputs": [],
   "source": []
  },
  {
   "cell_type": "code",
   "execution_count": null,
   "id": "f7fd31ea",
   "metadata": {},
   "outputs": [],
   "source": []
  },
  {
   "cell_type": "code",
   "execution_count": null,
   "id": "4792e171",
   "metadata": {},
   "outputs": [],
   "source": []
  },
  {
   "cell_type": "code",
   "execution_count": null,
   "id": "8c306e82",
   "metadata": {},
   "outputs": [],
   "source": []
  }
 ],
 "metadata": {
  "kernelspec": {
   "display_name": "Python 3 (ipykernel)",
   "language": "python",
   "name": "python3"
  },
  "language_info": {
   "codemirror_mode": {
    "name": "ipython",
    "version": 3
   },
   "file_extension": ".py",
   "mimetype": "text/x-python",
   "name": "python",
   "nbconvert_exporter": "python",
   "pygments_lexer": "ipython3",
   "version": "3.11.3"
  }
 },
 "nbformat": 4,
 "nbformat_minor": 5
}
