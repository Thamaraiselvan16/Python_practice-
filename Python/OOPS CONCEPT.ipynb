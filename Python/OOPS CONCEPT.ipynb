{
 "cells": [
  {
   "cell_type": "markdown",
   "id": "6583d9d0",
   "metadata": {},
   "source": [
    "# OOPS:\n",
    "    class, objects, constuctors,destructor, inheritance, encapsulation, Polymorphism \n",
    "    \n",
    "    1). class\n",
    "        a).attributes (or) variables(1.variablles in local and global .)\n",
    "        b).methods (or) function \n",
    "    2).parameters or arguments(default argument, position argument, keywoord argument, variable length argument, *args , **kwargs))\n",
    "     3). constructor (__init__)\n",
    "             (The task of constructors is to initialize (assign values) to the data members of the class When an object of class is created.)(types:  1. default constructor 2. Parameterized constructor)(type of parameterized constructor types of argument:a).positin b).keyword c).default d).variable length)\n",
    "     4).Destructor (__del__)\n",
    "             this is opposit for constructor\n",
    "             \n",
    "     5).inheritance(reasubilyty of code)\n",
    "         a).single b)multiple c).multi level d).hybrid e).hierarchical.\n",
    "     6).Polymorphism (poly-many,morphism-forms =many forms)(a).method overloading(support only java and c++), b).method overriding, c).operator overloading)\n",
    "     7).Encapsulations(wrapping of data)(data + method =wrapping of data)(used to protect and hide the data )(access specifiers 1).public. 2).private(__). 3).protected ( _ ))\n",
    "     7).data abstractions (its hides the data)(real time application tv remote, because we use only \"channel change button and sound button\" but inside tthe remote it use lot of thigs)\n",
    "     before data abstraction we must know\n",
    "     1).what is modules \n",
    "     2).importing modules\n",
    "     3).what is abstraction classes on abstract method\n",
    "     4).what is concrete method\n",
    "\n",
    "     "
   ]
  },
  {
   "cell_type": "code",
   "execution_count": null,
   "id": "bbd81e64",
   "metadata": {},
   "outputs": [],
   "source": []
  },
  {
   "cell_type": "markdown",
   "id": "1ef1fa07",
   "metadata": {},
   "source": [
    "# class and object creation"
   ]
  },
  {
   "cell_type": "code",
   "execution_count": 17,
   "id": "6b8f1a6a",
   "metadata": {
    "scrolled": true
   },
   "outputs": [
    {
     "name": "stdout",
     "output_type": "stream",
     "text": [
      "hai\n",
      "10\n"
     ]
    }
   ],
   "source": [
    "class person():  #class \n",
    "    print(\"hai\")\n",
    "    a=10\n",
    "obj=person() #object\n",
    "print(obj.a)"
   ]
  },
  {
   "cell_type": "code",
   "execution_count": 20,
   "id": "f0b85797",
   "metadata": {},
   "outputs": [
    {
     "name": "stdout",
     "output_type": "stream",
     "text": [
      "hai\n",
      "10\n",
      "10\n"
     ]
    }
   ],
   "source": [
    "class person():  #class\n",
    "    print(\"hai\")\n",
    "    a=10\n",
    "obj=person()  #object\n",
    "obj2=person()  #object\n",
    "print(obj.a)\n",
    "print(obj2.a)"
   ]
  },
  {
   "cell_type": "markdown",
   "id": "176381c4",
   "metadata": {},
   "source": [
    "# class, object and method(function) creation:"
   ]
  },
  {
   "cell_type": "code",
   "execution_count": 21,
   "id": "1d142c0c",
   "metadata": {
    "scrolled": true
   },
   "outputs": [
    {
     "name": "stdout",
     "output_type": "stream",
     "text": [
      "hello\n"
     ]
    }
   ],
   "source": [
    "def msg():  #function creation\n",
    "    print(\"hello\")\n",
    "msg()"
   ]
  },
  {
   "cell_type": "code",
   "execution_count": 42,
   "id": "01358e95",
   "metadata": {},
   "outputs": [
    {
     "ename": "TypeError",
     "evalue": "text.msg() takes 0 positional arguments but 1 was given",
     "output_type": "error",
     "traceback": [
      "\u001b[1;31m---------------------------------------------------------------------------\u001b[0m",
      "\u001b[1;31mTypeError\u001b[0m                                 Traceback (most recent call last)",
      "Cell \u001b[1;32mIn[42], line 5\u001b[0m\n\u001b[0;32m      3\u001b[0m         \u001b[38;5;28mprint\u001b[39m(\u001b[38;5;124m\"\u001b[39m\u001b[38;5;124mhello\u001b[39m\u001b[38;5;124m\"\u001b[39m)\n\u001b[0;32m      4\u001b[0m a\u001b[38;5;241m=\u001b[39mtext()\n\u001b[1;32m----> 5\u001b[0m a\u001b[38;5;241m.\u001b[39mmsg()\n",
      "\u001b[1;31mTypeError\u001b[0m: text.msg() takes 0 positional arguments but 1 was given"
     ]
    }
   ],
   "source": [
    "class text(): #class\n",
    "    def msg():  #function creation without \"self\"\n",
    "        print(\"hello\")\n",
    "a=text()  #object (instance class)\n",
    "a.msg() "
   ]
  },
  {
   "cell_type": "code",
   "execution_count": 43,
   "id": "0ed71904",
   "metadata": {},
   "outputs": [
    {
     "name": "stdout",
     "output_type": "stream",
     "text": [
      "hello\n"
     ]
    }
   ],
   "source": [
    "class text():  #class\n",
    "    def msg(self):  #function creation with \"self\" (self is the parameter)\n",
    "        print(\"hello\")\n",
    "a=text() #object\n",
    "a.msg()"
   ]
  },
  {
   "cell_type": "code",
   "execution_count": 44,
   "id": "ed660126",
   "metadata": {},
   "outputs": [
    {
     "name": "stdout",
     "output_type": "stream",
     "text": [
      "hello\n"
     ]
    }
   ],
   "source": [
    "class text():  #class\n",
    "    def msg(tts):  #function creation with \"self\" (self is the parameter)\n",
    "        print(\"hello\")\n",
    "a=text() #object\n",
    "a.msg()"
   ]
  },
  {
   "cell_type": "code",
   "execution_count": 46,
   "id": "02d78990",
   "metadata": {},
   "outputs": [
    {
     "name": "stdout",
     "output_type": "stream",
     "text": [
      "hi\n"
     ]
    }
   ],
   "source": [
    "#anoter method of class call    but is not current day using\n",
    "class text():\n",
    "    def msg(self):\n",
    "        print(\"hi\")\n",
    "a=text()\n",
    "text.msg(a)  # but is not current day using"
   ]
  },
  {
   "cell_type": "markdown",
   "id": "3683709b",
   "metadata": {},
   "source": [
    "# self parameter"
   ]
  },
  {
   "cell_type": "markdown",
   "id": "9f86f107",
   "metadata": {},
   "source": [
    "1). Self refers to the current instance of class.\n",
    "\n",
    " 2). used to access variables that belongs to the class"
   ]
  },
  {
   "cell_type": "code",
   "execution_count": 47,
   "id": "3f25ace7",
   "metadata": {},
   "outputs": [
    {
     "ename": "TypeError",
     "evalue": "text.add() takes 2 positional arguments but 3 were given",
     "output_type": "error",
     "traceback": [
      "\u001b[1;31m---------------------------------------------------------------------------\u001b[0m",
      "\u001b[1;31mTypeError\u001b[0m                                 Traceback (most recent call last)",
      "Cell \u001b[1;32mIn[47], line 6\u001b[0m\n\u001b[0;32m      4\u001b[0m         \u001b[38;5;28mprint\u001b[39m(\u001b[38;5;124mf\u001b[39m\u001b[38;5;124m\"\u001b[39m\u001b[38;5;132;01m{\u001b[39;00ma\u001b[38;5;132;01m}\u001b[39;00m\u001b[38;5;124m and \u001b[39m\u001b[38;5;132;01m{\u001b[39;00mb\u001b[38;5;132;01m}\u001b[39;00m\u001b[38;5;124m is = to \u001b[39m\u001b[38;5;132;01m{\u001b[39;00mc\u001b[38;5;132;01m}\u001b[39;00m\u001b[38;5;124m\"\u001b[39m)\n\u001b[0;32m      5\u001b[0m obj\u001b[38;5;241m=\u001b[39mtext()\n\u001b[1;32m----> 6\u001b[0m obj\u001b[38;5;241m.\u001b[39madd(\u001b[38;5;241m10\u001b[39m,\u001b[38;5;241m20\u001b[39m)\n",
      "\u001b[1;31mTypeError\u001b[0m: text.add() takes 2 positional arguments but 3 were given"
     ]
    }
   ],
   "source": [
    "class text():\n",
    "    def add(a,b):  #without self\n",
    "        c=a+b\n",
    "        print(f\"{a} and {b} is = to {c}\")\n",
    "obj=text()\n",
    "obj.add(10,20)"
   ]
  },
  {
   "cell_type": "code",
   "execution_count": 48,
   "id": "fcd032cd",
   "metadata": {},
   "outputs": [
    {
     "name": "stdout",
     "output_type": "stream",
     "text": [
      "10 and 20 is = to 30\n"
     ]
    }
   ],
   "source": [
    "class text():\n",
    "    def add(self,a,b): #with self\n",
    "        c=a+b\n",
    "        print(f\"{a} and {b} is = to {c}\")\n",
    "obj=text()\n",
    "obj.add(10,20)"
   ]
  },
  {
   "cell_type": "code",
   "execution_count": 49,
   "id": "1b5cd602",
   "metadata": {},
   "outputs": [
    {
     "ename": "NameError",
     "evalue": "name 'd' is not defined",
     "output_type": "error",
     "traceback": [
      "\u001b[1;31m---------------------------------------------------------------------------\u001b[0m",
      "\u001b[1;31mNameError\u001b[0m                                 Traceback (most recent call last)",
      "Cell \u001b[1;32mIn[49], line 7\u001b[0m\n\u001b[0;32m      5\u001b[0m         \u001b[38;5;28mprint\u001b[39m(\u001b[38;5;124mf\u001b[39m\u001b[38;5;124m\"\u001b[39m\u001b[38;5;132;01m{\u001b[39;00ma\u001b[38;5;132;01m}\u001b[39;00m\u001b[38;5;124m , \u001b[39m\u001b[38;5;132;01m{\u001b[39;00mb\u001b[38;5;132;01m}\u001b[39;00m\u001b[38;5;124m and \u001b[39m\u001b[38;5;132;01m{\u001b[39;00md\u001b[38;5;132;01m}\u001b[39;00m\u001b[38;5;124m = to \u001b[39m\u001b[38;5;132;01m{\u001b[39;00mc\u001b[38;5;132;01m}\u001b[39;00m\u001b[38;5;124m\"\u001b[39m)\n\u001b[0;32m      6\u001b[0m obj\u001b[38;5;241m=\u001b[39mtext()\n\u001b[1;32m----> 7\u001b[0m obj\u001b[38;5;241m.\u001b[39madd(\u001b[38;5;241m10\u001b[39m,\u001b[38;5;241m20\u001b[39m)\n",
      "Cell \u001b[1;32mIn[49], line 4\u001b[0m, in \u001b[0;36mtext.add\u001b[1;34m(self, a, b)\u001b[0m\n\u001b[0;32m      3\u001b[0m \u001b[38;5;28;01mdef\u001b[39;00m \u001b[38;5;21madd\u001b[39m(\u001b[38;5;28mself\u001b[39m,a,b):\n\u001b[1;32m----> 4\u001b[0m     c\u001b[38;5;241m=\u001b[39ma\u001b[38;5;241m+\u001b[39mb\u001b[38;5;241m+\u001b[39md\n\u001b[0;32m      5\u001b[0m     \u001b[38;5;28mprint\u001b[39m(\u001b[38;5;124mf\u001b[39m\u001b[38;5;124m\"\u001b[39m\u001b[38;5;132;01m{\u001b[39;00ma\u001b[38;5;132;01m}\u001b[39;00m\u001b[38;5;124m , \u001b[39m\u001b[38;5;132;01m{\u001b[39;00mb\u001b[38;5;132;01m}\u001b[39;00m\u001b[38;5;124m and \u001b[39m\u001b[38;5;132;01m{\u001b[39;00md\u001b[38;5;132;01m}\u001b[39;00m\u001b[38;5;124m = to \u001b[39m\u001b[38;5;132;01m{\u001b[39;00mc\u001b[38;5;132;01m}\u001b[39;00m\u001b[38;5;124m\"\u001b[39m)\n",
      "\u001b[1;31mNameError\u001b[0m: name 'd' is not defined"
     ]
    }
   ],
   "source": [
    "class text():\n",
    "    d=50\n",
    "    def add(self,a,b):\n",
    "        c=a+b+d   # without use self in \"d\"\n",
    "        print(f\"{a} , {b} and {d} = to {c}\")\n",
    "obj=text()\n",
    "obj.add(10,20)"
   ]
  },
  {
   "cell_type": "code",
   "execution_count": 55,
   "id": "556e32bc",
   "metadata": {},
   "outputs": [
    {
     "name": "stdout",
     "output_type": "stream",
     "text": [
      "10 , 20 and 50 = to 80\n",
      "20 , 30 and 50 = to 100\n"
     ]
    }
   ],
   "source": [
    "class text():\n",
    "    d=50\n",
    "    def add(self,a,b):\n",
    "        c=a+b+self.d   # without use self in \"d\"\n",
    "        print(f\"{a} , {b} and {self.d} = to {c}\")\n",
    "obj=text()\n",
    "obj1=text()\n",
    "obj.add(10,20)\n",
    "obj1.add(20,30)"
   ]
  },
  {
   "cell_type": "markdown",
   "id": "173703ed",
   "metadata": {},
   "source": [
    "# function with task"
   ]
  },
  {
   "cell_type": "code",
   "execution_count": 59,
   "id": "89f88351",
   "metadata": {},
   "outputs": [
    {
     "name": "stdout",
     "output_type": "stream",
     "text": [
      "My name is : Dhill\n",
      "Age is : 21\n",
      "Gender is : Male\n"
     ]
    }
   ],
   "source": [
    "class  person():\n",
    "    def get_details(self):\n",
    "        name=\"Dhill\"\n",
    "        age=21\n",
    "        gender=\"Male\"\n",
    "        print(f\"My name is : {name}\")\n",
    "        print(f\"Age is : {age}\")\n",
    "        print(f\"Gender is : {gender}\")\n",
    "obj=person()\n",
    "obj.get_details()"
   ]
  },
  {
   "cell_type": "code",
   "execution_count": 1,
   "id": "361ff0a6",
   "metadata": {},
   "outputs": [
    {
     "name": "stdout",
     "output_type": "stream",
     "text": [
      "Dhill\n"
     ]
    },
    {
     "ename": "NameError",
     "evalue": "name 'name' is not defined",
     "output_type": "error",
     "traceback": [
      "\u001b[1;31m---------------------------------------------------------------------------\u001b[0m",
      "\u001b[1;31mNameError\u001b[0m                                 Traceback (most recent call last)",
      "Cell \u001b[1;32mIn[1], line 14\u001b[0m\n\u001b[0;32m     12\u001b[0m obj\u001b[38;5;241m=\u001b[39mperson()\n\u001b[0;32m     13\u001b[0m obj\u001b[38;5;241m.\u001b[39mget_details()\n\u001b[1;32m---> 14\u001b[0m obj\u001b[38;5;241m.\u001b[39mprint_details()\n",
      "Cell \u001b[1;32mIn[1], line 8\u001b[0m, in \u001b[0;36mperson.print_details\u001b[1;34m(self)\u001b[0m\n\u001b[0;32m      7\u001b[0m \u001b[38;5;28;01mdef\u001b[39;00m \u001b[38;5;21mprint_details\u001b[39m(\u001b[38;5;28mself\u001b[39m):\n\u001b[1;32m----> 8\u001b[0m     \u001b[38;5;28mprint\u001b[39m(\u001b[38;5;124mf\u001b[39m\u001b[38;5;124m\"\u001b[39m\u001b[38;5;124mMy name is : \u001b[39m\u001b[38;5;132;01m{\u001b[39;00mname\u001b[38;5;132;01m}\u001b[39;00m\u001b[38;5;124m\"\u001b[39m)\n\u001b[0;32m      9\u001b[0m     \u001b[38;5;28mprint\u001b[39m(\u001b[38;5;124mf\u001b[39m\u001b[38;5;124m\"\u001b[39m\u001b[38;5;124mAge is : \u001b[39m\u001b[38;5;132;01m{\u001b[39;00mage\u001b[38;5;132;01m}\u001b[39;00m\u001b[38;5;124m\"\u001b[39m)\n\u001b[0;32m     10\u001b[0m     \u001b[38;5;28mprint\u001b[39m(\u001b[38;5;124mf\u001b[39m\u001b[38;5;124m\"\u001b[39m\u001b[38;5;124mgender is : \u001b[39m\u001b[38;5;132;01m{\u001b[39;00mgender\u001b[38;5;132;01m}\u001b[39;00m\u001b[38;5;124m\"\u001b[39m)\n",
      "\u001b[1;31mNameError\u001b[0m: name 'name' is not defined"
     ]
    }
   ],
   "source": [
    "class person():\n",
    "    def get_details(self):\n",
    "        name=\"Dhill\"\n",
    "        age=21\n",
    "        gender=\"Male\"\n",
    "#         print(name)\n",
    "    def print_details(self):\n",
    "        print(f\"My name is : {name}\")\n",
    "        print(f\"Age is : {age}\")\n",
    "        print(f\"gender is : {gender}\")\n",
    "        \n",
    "obj=person()\n",
    "obj.get_details()\n",
    "obj.print_details()"
   ]
  },
  {
   "cell_type": "code",
   "execution_count": 65,
   "id": "279bd836",
   "metadata": {},
   "outputs": [
    {
     "name": "stdout",
     "output_type": "stream",
     "text": [
      "My name is : Dhill\n",
      "Age is : 21\n",
      "gender is : Male\n"
     ]
    }
   ],
   "source": [
    "class person():\n",
    "    def get_details(self):\n",
    "        self.name=\"Dhill\"\n",
    "        self.age=21\n",
    "        self.gender=\"Male\"\n",
    "    def print_details(self):\n",
    "        print(f\"My name is : {self.name}\")\n",
    "        print(f\"Age is : {self.age}\")\n",
    "        print(f\"gender is : {self.gender}\")\n",
    "        \n",
    "obj=person()\n",
    "obj.get_details()\n",
    "obj.print_details()"
   ]
  },
  {
   "cell_type": "code",
   "execution_count": 66,
   "id": "1c87d0d8",
   "metadata": {},
   "outputs": [
    {
     "name": "stdout",
     "output_type": "stream",
     "text": [
      "name: tts\n",
      "Age: 23\n",
      "Gender: male\n",
      "My name is : tts\n",
      "Age is : 23\n",
      "gender is : male\n"
     ]
    }
   ],
   "source": [
    "class person():\n",
    "    def get_details(self):\n",
    "        self.name=input(\"name: \")\n",
    "        self.age=int(input(\"Age: \"))\n",
    "        self.gender=input(\"Gender: \")\n",
    "    def print_details(self):\n",
    "        print(f\"My name is : {self.name}\")\n",
    "        print(f\"Age is : {self.age}\")\n",
    "        print(f\"gender is : {self.gender}\")\n",
    "        \n",
    "obj=person()\n",
    "obj.get_details()\n",
    "obj.print_details()"
   ]
  },
  {
   "cell_type": "code",
   "execution_count": 72,
   "id": "92ce4740",
   "metadata": {},
   "outputs": [
    {
     "name": "stdout",
     "output_type": "stream",
     "text": [
      "name: tts\n",
      "age: 21\n",
      "gender: male\n",
      "My name is : Dhill\n",
      "Age is : 21\n",
      "gender is : Male\n",
      "My name is : tts\n",
      "Age is : 21\n",
      "gender is : male\n"
     ]
    }
   ],
   "source": [
    "class Person():\n",
    "    def get_details(self,name,age,gender):\n",
    "        self.name=name\n",
    "        self.age=age\n",
    "        self.gender=gender\n",
    "    def print_details(self):\n",
    "        print(f\"My name is : {self.name}\")\n",
    "        print(f\"Age is : {self.age}\")\n",
    "        print(f\"gender is : {self.gender}\")\n",
    "obj=Person()\n",
    "obj1=Person()\n",
    "obj.get_details(\"Dhill\",21,\"Male\")\n",
    "obj1.get_details(input(\"name: \"),int(input(\"age: \")),input(\"gender: \"))\n",
    "obj.print_details()\n",
    "obj1.print_details()\n",
    "        "
   ]
  },
  {
   "cell_type": "markdown",
   "id": "0e279bc4",
   "metadata": {},
   "source": [
    "# method without self parameter"
   ]
  },
  {
   "cell_type": "code",
   "execution_count": 73,
   "id": "8f4bf0a0",
   "metadata": {},
   "outputs": [
    {
     "name": "stdout",
     "output_type": "stream",
     "text": [
      "dhill is 21 years old -- male\n",
      "appu is 24 years old -- male\n"
     ]
    }
   ],
   "source": [
    "class person():\n",
    "    name=\"\"  #global variable\n",
    "    age=0\n",
    "    gender=\"\"\n",
    "\n",
    "per1=person()\n",
    "per1.name=\"dhill\"\n",
    "per1.age=21\n",
    "per1.gender=\"male\"\n",
    "\n",
    "per2=person()\n",
    "per2.name=\"appu\"\n",
    "per2.age=24\n",
    "per2.gender=\"male\"\n",
    "\n",
    "print(f\"{per1.name} is {per1.age} years old -- {per1.gender}\")\n",
    "print(f\"{per2.name} is {per2.age} years old -- {per2.gender}\")"
   ]
  },
  {
   "cell_type": "code",
   "execution_count": 4,
   "id": "5d7c226f",
   "metadata": {},
   "outputs": [
    {
     "name": "stdout",
     "output_type": "stream",
     "text": [
      "my name is dhill\n",
      "age is 21\n",
      "gender is Male\n"
     ]
    }
   ],
   "source": [
    "class person():\n",
    "    name=\"\"   #gobal\n",
    "    age=0   \n",
    "    gender=\"\"\n",
    "    def print_details(self):\n",
    "        print(f\"my name is {c.name}\")\n",
    "        print(f\"age is {c.age}\")\n",
    "        print(f\"gender is {c.gender}\")\n",
    "c=person()\n",
    "c.name=\"dhill\"\n",
    "c.age=21\n",
    "c.gender=\"Male\"\n",
    "c.print_details()"
   ]
  },
  {
   "cell_type": "code",
   "execution_count": 77,
   "id": "08890a2d",
   "metadata": {},
   "outputs": [
    {
     "name": "stdout",
     "output_type": "stream",
     "text": [
      "Area of room is '2401.2000000000003'\n"
     ]
    }
   ],
   "source": [
    "class room():\n",
    "    length=0.0 #global\n",
    "    breadth=0.0\n",
    "    def calculate_area(self):\n",
    "        print(f\"Area of room is '{r.length * r.breadth}'\")\n",
    "\n",
    "r=room()\n",
    "r.length=55.2\n",
    "r.breadth=43.5\n",
    "\n",
    "r.calculate_area()"
   ]
  },
  {
   "cell_type": "markdown",
   "id": "ea7d0e41",
   "metadata": {},
   "source": [
    "# constructor ( --init-- )"
   ]
  },
  {
   "cell_type": "markdown",
   "id": "1ac88528",
   "metadata": {},
   "source": [
    "(The task of constructors is to initialize (assign values) to the data members of the class When an object of class is created.)\n",
    "         (types:  1. default constructor \n",
    "                  2. Parameterized constructor)"
   ]
  },
  {
   "cell_type": "markdown",
   "id": "1bae3bc4",
   "metadata": {},
   "source": [
    "# 1). default constructor "
   ]
  },
  {
   "cell_type": "code",
   "execution_count": 7,
   "id": "2bca4d51",
   "metadata": {},
   "outputs": [
    {
     "name": "stdout",
     "output_type": "stream",
     "text": [
      "hi\n"
     ]
    }
   ],
   "source": [
    "class stu():\n",
    "    def __init__(self):\n",
    "        print(\"hi\")\n",
    "obj=stu()"
   ]
  },
  {
   "cell_type": "code",
   "execution_count": 10,
   "id": "b423bc29",
   "metadata": {},
   "outputs": [
    {
     "name": "stdout",
     "output_type": "stream",
     "text": [
      "dhill is 21 years old\n",
      "dhill is 21 years old\n"
     ]
    }
   ],
   "source": [
    "class stu():\n",
    "    def __init__(self):\n",
    "        name=\"dhill\"\n",
    "        age=21\n",
    "        print(f\"{name} is {age} years old\")\n",
    "obj=stu()\n",
    "obj2=stu()\n"
   ]
  },
  {
   "cell_type": "code",
   "execution_count": 84,
   "id": "f2d92fa9",
   "metadata": {},
   "outputs": [
    {
     "name": "stdout",
     "output_type": "stream",
     "text": [
      "appu is 23 years old\n"
     ]
    }
   ],
   "source": [
    "class stu():\n",
    "    def __init__(self):\n",
    "        name=\"dhill\"\n",
    "        age=21\n",
    "        print(f\"{name} is {age} years old\")\n",
    "    def __init__(self):\n",
    "        name=\"appu\"\n",
    "        age=23\n",
    "        print(f\"{name} is {age} years old\")\n",
    "obj=stu()"
   ]
  },
  {
   "cell_type": "markdown",
   "id": "76f0bada",
   "metadata": {},
   "source": [
    "# 2). parameterised constructor"
   ]
  },
  {
   "cell_type": "code",
   "execution_count": 2,
   "id": "ecdb2192",
   "metadata": {},
   "outputs": [
    {
     "name": "stdout",
     "output_type": "stream",
     "text": [
      "my age is tts and age is 21\n"
     ]
    }
   ],
   "source": [
    "class stu():\n",
    "    def __init__(self,name,age):\n",
    "        print(f\"my age is {name} and age is {age}\")\n",
    "obj=stu(\"tts\",21)"
   ]
  },
  {
   "cell_type": "code",
   "execution_count": 17,
   "id": "99876625",
   "metadata": {},
   "outputs": [
    {
     "name": "stdout",
     "output_type": "stream",
     "text": [
      "my age is tts and age is 21\n"
     ]
    }
   ],
   "source": [
    "class stu():\n",
    "    def __init__(self,name):\n",
    "        age=21\n",
    "        print(f\"my age is {name} and age is {age}\")\n",
    "obj=stu(\"tts\")"
   ]
  },
  {
   "cell_type": "code",
   "execution_count": 21,
   "id": "61005a15",
   "metadata": {},
   "outputs": [
    {
     "name": "stdout",
     "output_type": "stream",
     "text": [
      "my age is tts and age is 18\n"
     ]
    }
   ],
   "source": [
    "class stu():\n",
    "    def __init__(self,name,age=18):\n",
    "    \n",
    "        print(f\"my age is {name} and age is {age}\")\n",
    "obj=stu(\"tts\")"
   ]
  },
  {
   "cell_type": "code",
   "execution_count": 22,
   "id": "185c4147",
   "metadata": {},
   "outputs": [
    {
     "name": "stdout",
     "output_type": "stream",
     "text": [
      "my age is tts and age is 21\n"
     ]
    }
   ],
   "source": [
    "class stu():\n",
    "    def __init__(self,name,age=18):\n",
    "    \n",
    "        print(f\"my age is {name} and age is {age}\")\n",
    "obj=stu(\"tts\",21)"
   ]
  },
  {
   "cell_type": "markdown",
   "id": "6dea7645",
   "metadata": {},
   "source": [
    "# type of parameterized constructor\n",
    "types of argument:\n",
    "1).positin\n",
    "2).keyword\n",
    "3).default\n",
    "4).variable length"
   ]
  },
  {
   "cell_type": "code",
   "execution_count": 1,
   "id": "67c46dfb",
   "metadata": {},
   "outputs": [
    {
     "name": "stdout",
     "output_type": "stream",
     "text": [
      "my age is tts and age is 18\n"
     ]
    }
   ],
   "source": [
    "# dafault\n",
    "\n",
    "class stu():\n",
    "    def __init__(self,name,age=18):\n",
    "    \n",
    "        print(f\"my age is {name} and age is {age}\")\n",
    "obj=stu(\"tts\")"
   ]
  },
  {
   "cell_type": "code",
   "execution_count": 7,
   "id": "ec7b993a",
   "metadata": {},
   "outputs": [
    {
     "name": "stdout",
     "output_type": "stream",
     "text": [
      "my age is tts and age is 21\n"
     ]
    }
   ],
   "source": [
    "# dafault and position\n",
    "\n",
    "class stu():\n",
    "    def __init__(self,name,age=18):\n",
    "        self.name=name\n",
    "        self.age=age\n",
    "    def print1(self):\n",
    "        print(f\"my age is {self.name} and age is {self.age}\")\n",
    "obj=stu(\"tts\",21)\n",
    "obj.print1()"
   ]
  },
  {
   "cell_type": "code",
   "execution_count": 10,
   "id": "03bcc7cd",
   "metadata": {},
   "outputs": [
    {
     "name": "stdout",
     "output_type": "stream",
     "text": [
      "sum:  100\n"
     ]
    }
   ],
   "source": [
    "class text():\n",
    "    z=0\n",
    "    def __init__(self,x,*y):\n",
    "        z=x\n",
    "        for i in y:\n",
    "            z=z+i\n",
    "        print(\"sum: \",z)\n",
    "obj=text(10,20,30,40)"
   ]
  },
  {
   "cell_type": "code",
   "execution_count": 8,
   "id": "4ac15140",
   "metadata": {},
   "outputs": [
    {
     "name": "stdout",
     "output_type": "stream",
     "text": [
      "the list is:  ['dhill', 'appu', 'appa', 'amma']\n"
     ]
    }
   ],
   "source": [
    "# variabe length argument or parameter\n",
    "class content():\n",
    "#     li=[]\n",
    "    def __init__(self,x,*y):\n",
    "        z=[x]\n",
    "        for i in y:\n",
    "            z.append(i)\n",
    "#             z+=(i)\n",
    "        print(\"the list is: \", z)\n",
    "obj=content(\"dhill\",\"appu\",\"appa\",\"amma\")"
   ]
  },
  {
   "cell_type": "code",
   "execution_count": 10,
   "id": "677deb3d",
   "metadata": {},
   "outputs": [
    {
     "name": "stdout",
     "output_type": "stream",
     "text": [
      "namw: dhill\n",
      "age:  21\n",
      "city:  ban\n",
      "ph:  12345\n"
     ]
    }
   ],
   "source": [
    "# **kwargs\n",
    "\n",
    "class text():\n",
    "    def __init__(self,name,**val):\n",
    "        print(\"namw:\" ,name)\n",
    "        print(\"age: \" ,val['age'])\n",
    "        print(\"city: \" ,val['city'])\n",
    "        print(\"ph: \",val['ph'])\n",
    "obj=text(\"dhill\",age=21,city='ban',ph=12345)"
   ]
  },
  {
   "cell_type": "markdown",
   "id": "1748de30",
   "metadata": {},
   "source": [
    "# use constrctor to find area of triangle\n",
    "\n",
    "1/5 * hehigt * base"
   ]
  },
  {
   "cell_type": "code",
   "execution_count": 15,
   "id": "0d4f32c5",
   "metadata": {},
   "outputs": [
    {
     "name": "stdout",
     "output_type": "stream",
     "text": [
      "the triangel area is : 35.0\n"
     ]
    }
   ],
   "source": [
    "class triangle():\n",
    "    def __init__(self,b,h):\n",
    "        self.base=b\n",
    "        self.hight=h\n",
    "#         print(b,h)\n",
    "    def val(self):\n",
    "        self.area=self.base *self.hight *0.5\n",
    "        print(\"the triangel area is :\" ,self.area)\n",
    "obj=triangle(7,10)\n",
    "obj.val()"
   ]
  },
  {
   "cell_type": "markdown",
   "id": "b9941ca8",
   "metadata": {},
   "source": [
    "# Destructor (--del--)"
   ]
  },
  {
   "cell_type": "code",
   "execution_count": 31,
   "id": "cb28aa4d",
   "metadata": {},
   "outputs": [
    {
     "name": "stdout",
     "output_type": "stream",
     "text": [
      "this is constructor\n",
      "this is destructor\n"
     ]
    }
   ],
   "source": [
    "class stu():\n",
    "    def __init__(self):\n",
    "        print(\"this is constructor\")\n",
    "    def __del__(self):\n",
    "        print(\"this is destructor\")\n",
    "w=stu()\n",
    "del w"
   ]
  },
  {
   "cell_type": "code",
   "execution_count": 36,
   "id": "c954c8a5",
   "metadata": {},
   "outputs": [
    {
     "name": "stdout",
     "output_type": "stream",
     "text": [
      "my name is dhill and age is 21\n",
      "the destrctor is called\n",
      "the destrctor is called\n"
     ]
    }
   ],
   "source": [
    "class person():\n",
    "    def __init__(self,name,age):\n",
    "        self.name=name\n",
    "        self.age=age\n",
    "        print(f\"my name is {self.name} and age is {self.age}\")\n",
    "    def __del__(self):\n",
    "        print(\"the destrctor is called\")\n",
    "obj=person(\"dhill\",21)\n",
    "del obj"
   ]
  },
  {
   "cell_type": "code",
   "execution_count": 2,
   "id": "735db89e",
   "metadata": {},
   "outputs": [
    {
     "name": "stdout",
     "output_type": "stream",
     "text": [
      "my name is dhill and age is 21\n",
      "the destrctor is called\n",
      "the destrctor is called\n"
     ]
    }
   ],
   "source": [
    "class person():\n",
    "    def __del__(self):\n",
    "        print(\"the destrctor is called\")\n",
    "    def __init__(self,name,age):\n",
    "        self.name=name\n",
    "        self.age=age\n",
    "        print(f\"my name is {self.name} and age is {self.age}\")\n",
    "    \n",
    "obj=person(\"dhill\",21)\n",
    "del obj\n"
   ]
  },
  {
   "cell_type": "markdown",
   "id": "5c3cadba",
   "metadata": {},
   "source": [
    "\n",
    "# constructor return type\n",
    "\n",
    "\n",
    "return is not workig in constructor"
   ]
  },
  {
   "cell_type": "code",
   "execution_count": 42,
   "id": "1b53d287",
   "metadata": {},
   "outputs": [
    {
     "name": "stdout",
     "output_type": "stream",
     "text": [
      "25\n"
     ]
    }
   ],
   "source": [
    "#basic one\n",
    "class stu():\n",
    "    def a(self,a,b):\n",
    "        c=a+b\n",
    "        return c\n",
    "add=stu()\n",
    "val=add.a(10,15)\n",
    "print(val)"
   ]
  },
  {
   "cell_type": "code",
   "execution_count": 48,
   "id": "07d67d3c",
   "metadata": {},
   "outputs": [
    {
     "name": "stdout",
     "output_type": "stream",
     "text": [
      "hai\n"
     ]
    },
    {
     "ename": "TypeError",
     "evalue": "__init__() should return None, not 'bool'",
     "output_type": "error",
     "traceback": [
      "\u001b[1;31m---------------------------------------------------------------------------\u001b[0m",
      "\u001b[1;31mTypeError\u001b[0m                                 Traceback (most recent call last)",
      "Cell \u001b[1;32mIn[48], line 7\u001b[0m\n\u001b[0;32m      5\u001b[0m         \u001b[38;5;28mprint\u001b[39m(\u001b[38;5;124m\"\u001b[39m\u001b[38;5;124mhai\u001b[39m\u001b[38;5;124m\"\u001b[39m)\n\u001b[0;32m      6\u001b[0m         \u001b[38;5;28;01mreturn\u001b[39;00m \u001b[38;5;28;01mTrue\u001b[39;00m\n\u001b[1;32m----> 7\u001b[0m a\u001b[38;5;241m=\u001b[39mtext()\n\u001b[0;32m      8\u001b[0m \u001b[38;5;28mprint\u001b[39m(a)\n",
      "\u001b[1;31mTypeError\u001b[0m: __init__() should return None, not 'bool'"
     ]
    }
   ],
   "source": [
    "#constrctor included\n",
    "\n",
    "class text():\n",
    "    def __init__(self):\n",
    "        print(\"hai\")\n",
    "        return True #bool\n",
    "a=text()\n",
    "# print(a)"
   ]
  },
  {
   "cell_type": "code",
   "execution_count": 49,
   "id": "2c24fc0c",
   "metadata": {},
   "outputs": [
    {
     "name": "stdout",
     "output_type": "stream",
     "text": [
      "hai\n"
     ]
    },
    {
     "ename": "TypeError",
     "evalue": "__init__() should return None, not 'str'",
     "output_type": "error",
     "traceback": [
      "\u001b[1;31m---------------------------------------------------------------------------\u001b[0m",
      "\u001b[1;31mTypeError\u001b[0m                                 Traceback (most recent call last)",
      "Cell \u001b[1;32mIn[49], line 8\u001b[0m\n\u001b[0;32m      6\u001b[0m         a\u001b[38;5;241m=\u001b[39m\u001b[38;5;124m\"\u001b[39m\u001b[38;5;124mdone\u001b[39m\u001b[38;5;124m\"\u001b[39m\n\u001b[0;32m      7\u001b[0m         \u001b[38;5;28;01mreturn\u001b[39;00m a\n\u001b[1;32m----> 8\u001b[0m a\u001b[38;5;241m=\u001b[39mtext()\n",
      "\u001b[1;31mTypeError\u001b[0m: __init__() should return None, not 'str'"
     ]
    }
   ],
   "source": [
    "#constrctor included\n",
    "\n",
    "class text():\n",
    "    def __init__(self):\n",
    "        print(\"hai\")\n",
    "        a=\"done\"  #string\n",
    "        return a\n",
    "a=text()\n",
    "# print(a)"
   ]
  },
  {
   "cell_type": "code",
   "execution_count": 51,
   "id": "f90a2071",
   "metadata": {},
   "outputs": [
    {
     "name": "stdout",
     "output_type": "stream",
     "text": [
      "hai\n"
     ]
    },
    {
     "ename": "TypeError",
     "evalue": "__init__() should return None, not 'int'",
     "output_type": "error",
     "traceback": [
      "\u001b[1;31m---------------------------------------------------------------------------\u001b[0m",
      "\u001b[1;31mTypeError\u001b[0m                                 Traceback (most recent call last)",
      "Cell \u001b[1;32mIn[51], line 8\u001b[0m\n\u001b[0;32m      6\u001b[0m         a\u001b[38;5;241m=\u001b[39m\u001b[38;5;241m21\u001b[39m  \u001b[38;5;66;03m#string\u001b[39;00m\n\u001b[0;32m      7\u001b[0m         \u001b[38;5;28;01mreturn\u001b[39;00m a\n\u001b[1;32m----> 8\u001b[0m a\u001b[38;5;241m=\u001b[39mtext()\n",
      "\u001b[1;31mTypeError\u001b[0m: __init__() should return None, not 'int'"
     ]
    }
   ],
   "source": [
    "#constrctor included\n",
    "\n",
    "class text():\n",
    "    def __init__(self):\n",
    "        print(\"hai\")\n",
    "        a=21  #string\n",
    "        return a\n",
    "a=text()\n",
    "# print(a)"
   ]
  },
  {
   "cell_type": "markdown",
   "id": "172a0a48",
   "metadata": {},
   "source": [
    "# 5).inheritance(Reusability of code)"
   ]
  },
  {
   "cell_type": "markdown",
   "id": "2fb5e7ec",
   "metadata": {},
   "source": [
    "# a).single level inherited\n",
    "\n",
    "\n",
    "take A and B class name\n",
    "A => is a base or super or parent class\n",
    "B => is derived or sub or child class"
   ]
  },
  {
   "cell_type": "code",
   "execution_count": 61,
   "id": "2d528a64",
   "metadata": {},
   "outputs": [
    {
     "name": "stdout",
     "output_type": "stream",
     "text": [
      "this is fun1 class 1 parent class\n"
     ]
    }
   ],
   "source": [
    "class parent():\n",
    "    def fun1(self):\n",
    "        print(\"this is fun1 class 1 parent class\")\n",
    "class child(parent): #pareent class inherited\n",
    "    def fun2(self):\n",
    "        print(\"tis is fun3 class 2 child class\")\n",
    "        \n",
    "obj=child()\n",
    "obj.fun1()\n"
   ]
  },
  {
   "cell_type": "code",
   "execution_count": 60,
   "id": "3e287ba6",
   "metadata": {},
   "outputs": [
    {
     "name": "stdout",
     "output_type": "stream",
     "text": [
      "this is fun1 class 1 parent class\n",
      "tis is fun3 class 2 child class\n"
     ]
    }
   ],
   "source": [
    "class parent(child): #child clann inherited\n",
    "    def fun1(self):\n",
    "        print(\"this is fun1 class 1 parent class\")\n",
    "class child(parent): # parent class inherited\n",
    "    def fun2(self):\n",
    "        print(\"tis is fun3 class 2 child class\")\n",
    "        \n",
    "obj=child()\n",
    "obj.fun1()\n",
    "\n",
    "obj2=parent()\n",
    "obj2.fun2()"
   ]
  },
  {
   "cell_type": "code",
   "execution_count": 77,
   "id": "d1186ee6",
   "metadata": {},
   "outputs": [
    {
     "name": "stdout",
     "output_type": "stream",
     "text": [
      "my name is tts and my age is 21 gender is male\n",
      "from tamilnadu\n"
     ]
    }
   ],
   "source": [
    "class person():\n",
    "    def details(self):\n",
    "        name=\"tts\"\n",
    "        age=21\n",
    "        gender=\"male\"\n",
    "        print(f\"my name is {name} and my age is {age} gender is {gender}\")\n",
    "class update(person):\n",
    "    def detail_update(self):\n",
    "        city=\"tamilnadu\"\n",
    "        print(f\"from {city}\")\n",
    "        \n",
    "obj1=person()\n",
    "obj1.details()\n",
    "\n",
    "obj2=update()\n",
    "obj2.detail_update()"
   ]
  },
  {
   "cell_type": "markdown",
   "id": "764fd0ac",
   "metadata": {},
   "source": [
    "# 2). mult level inheritance\n",
    "\n",
    "A,B and C"
   ]
  },
  {
   "cell_type": "code",
   "execution_count": 83,
   "id": "1efb4eac",
   "metadata": {},
   "outputs": [
    {
     "name": "stdout",
     "output_type": "stream",
     "text": [
      "this is class a\n",
      "this is class b\n",
      "this is class c\n"
     ]
    }
   ],
   "source": [
    "class a():\n",
    "    def fun1(self):\n",
    "        print(\"this is class a\")\n",
    "class b(a):\n",
    "    def fun2(self):\n",
    "        print(\"this is class b\")\n",
    "class c(b):\n",
    "    def fun3(self):\n",
    "        print(\"this is class c\")\n",
    "obj=c()\n",
    "obj.fun1()\n",
    "obj.fun2()\n",
    "obj.fun3()"
   ]
  },
  {
   "cell_type": "markdown",
   "id": "a77a9b90",
   "metadata": {},
   "source": [
    "# exerciec of multi level:\n",
    "    personal==>name, age, gender\n",
    "    company=company name,location\n",
    "    others=salary,designation\n",
    "    "
   ]
  },
  {
   "cell_type": "code",
   "execution_count": 86,
   "id": "d59001a5",
   "metadata": {},
   "outputs": [
    {
     "name": "stdout",
     "output_type": "stream",
     "text": [
      "Name: thamaraiselvan --- Age: 21 --- Gender: Male\n",
      "Company name: ibm --- location: chennai\n",
      "Salary: 10000 --- designation: HR\n"
     ]
    }
   ],
   "source": [
    "class person():\n",
    "    def person_detail(self):\n",
    "        name=\"thamaraiselvan\"\n",
    "        age=21\n",
    "        gender=\"Male\"\n",
    "        print(f\"Name: {name} --- Age: {age} --- Gender: {gender}\")\n",
    "class company(person):\n",
    "    def company_details(self):\n",
    "        c_name=\"ibm\"\n",
    "        location=\"chennai\"\n",
    "        print(f\"Company name: {c_name} --- location: {location}\")\n",
    "class others(company):\n",
    "    def other_details(self):\n",
    "        salary=10000\n",
    "        designation=\"HR\"\n",
    "        print(f\"Salary: {salary} --- designation: {designation}\")\n",
    "        \n",
    "obj=others()\n",
    "obj.person_detail()\n",
    "obj.company_details()\n",
    "obj.other_details()\n",
    "        "
   ]
  },
  {
   "cell_type": "code",
   "execution_count": 91,
   "id": "af7077aa",
   "metadata": {},
   "outputs": [
    {
     "name": "stdout",
     "output_type": "stream",
     "text": [
      "Name: dhill --- Age: 21 --- Gender: Male\n",
      "Company name: IBM --- location: Bangalore\n",
      "Salary: 100000 --- designation: Python developer\n"
     ]
    }
   ],
   "source": [
    "class person():\n",
    "    def personal(self,name,age,gender):\n",
    "        print(f\"Name: {name} --- Age: {age} --- Gender: {gender}\")\n",
    "        \n",
    "class company(person):\n",
    "    def company_detail(self,name,location):\n",
    "        print(f\"Company name: {name} --- location: {location}\")\n",
    "\n",
    "class others(company):\n",
    "    def others_details(self,salary,designation):\n",
    "        print(f\"Salary: {salary} --- designation: {designation}\")\n",
    "\n",
    "obj=others()\n",
    "obj.personal(\"dhill\",21,\"Male\")\n",
    "obj.company_detail(\"IBM\",\"Bangalore\")\n",
    "obj.others_details(100000,\"Python developer\")"
   ]
  },
  {
   "cell_type": "markdown",
   "id": "4d784707",
   "metadata": {},
   "source": [
    "# 3) Multiple inheritance\n",
    "\n",
    "\n",
    "two(2) parent class and one(1) child class"
   ]
  },
  {
   "cell_type": "code",
   "execution_count": 9,
   "id": "ccbcee50",
   "metadata": {},
   "outputs": [
    {
     "name": "stdout",
     "output_type": "stream",
     "text": [
      "Printing tha employee details: \n",
      "\n",
      "Person details: dhill, 21, Male\n",
      "Comoany Details: ibm , bangalore\n",
      "Others details: 20000, hr\n"
     ]
    }
   ],
   "source": [
    "class person():\n",
    "    def person_detailss(self, name, age,gender):\n",
    "        print(f\"Person details: {name}, {age}, {gender}\")\n",
    "class company():\n",
    "    def company_details(self,c_name,location):\n",
    "        print(f\"Comoany Details: {c_name} , {location}\")\n",
    "class others():\n",
    "    def others_details(self, salary,designation):\n",
    "        print(f\"Others details: {salary}, {designation}\")\n",
    "        \n",
    "class all_details(person,company,others):\n",
    "    print(\"Printing tha employee details: \",end=\"\\n\\n\")\n",
    "    \n",
    "obj=all_details()  #see this\n",
    "obj.person_detailss(\"dhill\",21,\"Male\")\n",
    "obj.company_details(\"ibm\",\"bangalore\")\n",
    "obj.others_details(20000,\"hr\") "
   ]
  },
  {
   "cell_type": "code",
   "execution_count": 12,
   "id": "149229c0",
   "metadata": {},
   "outputs": [
    {
     "name": "stdout",
     "output_type": "stream",
     "text": [
      "Printing tha employee details: \n",
      "\n",
      "Person details: dhill, 21, Male\n",
      "Comoany Details: ibm , bangalore\n",
      "Others details: 20000, hr\n"
     ]
    }
   ],
   "source": [
    "class person():\n",
    "    def person_detailss(self, name, age,gender):\n",
    "        print(f\"Person details: {name}, {age}, {gender}\")\n",
    "class company():\n",
    "    def company_details(self,c_name,location):\n",
    "        print(f\"Comoany Details: {c_name} , {location}\")\n",
    "class others():\n",
    "    def others_details(self, salary,designation):\n",
    "        print(f\"Others details: {salary}, {designation}\")\n",
    "        \n",
    "class all_details(person,company,others):\n",
    "    def print_all_details(self):\n",
    "        print(\"Printing tha employee details: \",end=\"\\n\\n\")\n",
    "        self.person_detailss(\"dhill\",21,\"Male\")\n",
    "        self.company_details(\"ibm\",\"bangalore\")\n",
    "        self.others_details(20000,\"hr\") \n",
    "    \n",
    "obj=all_details()  #see this\n",
    "obj.print_all_details()"
   ]
  },
  {
   "cell_type": "markdown",
   "id": "91ff8e04",
   "metadata": {},
   "source": [
    "# 4).Hierarchical\n",
    "\n",
    "opposite of multiple inheritance\n",
    "\n",
    "one father and mother and multiple child\n",
    "\n",
    "\n",
    "one base class and multiple derived class"
   ]
  },
  {
   "cell_type": "code",
   "execution_count": 3,
   "id": "cff1371c",
   "metadata": {},
   "outputs": [
    {
     "name": "stdout",
     "output_type": "stream",
     "text": [
      "father : thisru and mother: saraswathi\n",
      "child 1 : dhill\n",
      "father : thisru and mother: saraswathi\n",
      "child 2 : appu\n"
     ]
    }
   ],
   "source": [
    "class parent():\n",
    "    def parent_details(self):\n",
    "        print(\"father : thisru and mother: saraswathi\")\n",
    "class child1(parent):\n",
    "    def child_name1(self):\n",
    "        print(\"child 1 : dhill\")\n",
    "class child2(parent):\n",
    "    def child_name2(self):\n",
    "        print(\"child 2 : appu\")\n",
    "        \n",
    "obj1=child1()\n",
    "obj2=child2()\n",
    "\n",
    "obj1.parent_details()\n",
    "obj1.child_name1() \n",
    "\n",
    "obj2.parent_details()\n",
    "obj2.child_name2()"
   ]
  },
  {
   "cell_type": "code",
   "execution_count": 40,
   "id": "c1181f21",
   "metadata": {},
   "outputs": [
    {
     "name": "stdout",
     "output_type": "stream",
     "text": [
      "addition is:  30\n",
      "sub is:  -10\n"
     ]
    }
   ],
   "source": [
    "class add_sub():\n",
    "    def val(self):\n",
    "        self.a=10\n",
    "        self.b=20\n",
    "class add(add_sub):\n",
    "    def addition(self):\n",
    "        print(\"addition is: \", self.a +self.b)\n",
    "class sub(add_sub):\n",
    "    def subtract(self):\n",
    "        print(\"sub is: \",self.a -self.b)\n",
    "        \n",
    "a=add()\n",
    "s=sub()\n",
    "a.val()\n",
    "a.addition()\n",
    "s.val()\n",
    "s.subtract()"
   ]
  },
  {
   "cell_type": "markdown",
   "id": "115e4f22",
   "metadata": {},
   "source": [
    "# 5). hybrid inheritance\n",
    "\n",
    "\n",
    "comibnation of others inheritance methos (i.e,)single,multiple,multi level,hieracical\n",
    "\n",
    "combination of one or more type  "
   ]
  },
  {
   "cell_type": "code",
   "execution_count": 26,
   "id": "ad866088",
   "metadata": {},
   "outputs": [
    {
     "name": "stdout",
     "output_type": "stream",
     "text": [
      "this is dog\n",
      "this is cat\n",
      "this is elephant\n",
      "this is horse\n",
      "\n",
      "this is cat\n"
     ]
    }
   ],
   "source": [
    "# using all types of inheritance type \n",
    "# like singe level, multi level, multiple, hierarical, hybrid\n",
    "\n",
    "class dog():\n",
    "    def fun1(self):\n",
    "        print(\"this is dog\")\n",
    "class cat(dog): # single inheritance\n",
    "    def fun2(self):\n",
    "        print(\"this is cat\")\n",
    "class rat(cat):  # multi level inheritance\n",
    "    def fun3(self):\n",
    "        print(\"this is rat\")\n",
    "class elephant(dog): #hierarical inheritance\n",
    "    def fun4(self):\n",
    "        print(\"this is elephant\")\n",
    "class horse(cat,elephant): # multiple inhertance\n",
    "    def fun5(self):\n",
    "        print(\"this is horse\")\n",
    "        \n",
    "h=horse()\n",
    "horse.__mro__\n",
    "h.fun1()\n",
    "h.fun2()\n",
    "# h.fun3()\n",
    "h.fun4()\n",
    "h.fun5()\n",
    "\n",
    "print()\n",
    "\n",
    "r=rat()\n",
    "r.fun2()\n"
   ]
  },
  {
   "cell_type": "markdown",
   "id": "03f36277",
   "metadata": {},
   "source": [
    "# inheriantnce with same method\n",
    "\n",
    "# class_name.--mro-- (checking same type of method or same name of methods)\n",
    "\n",
    "{mro - method resoltion order}"
   ]
  },
  {
   "cell_type": "code",
   "execution_count": 34,
   "id": "423f8b5b",
   "metadata": {},
   "outputs": [
    {
     "name": "stdout",
     "output_type": "stream",
     "text": [
      "this is second\n"
     ]
    },
    {
     "data": {
      "text/plain": [
       "(__main__.b, __main__.a, object)"
      ]
     },
     "execution_count": 34,
     "metadata": {},
     "output_type": "execute_result"
    }
   ],
   "source": [
    "class a():\n",
    "    def a_fun(self):\n",
    "        print(\"this is first\")\n",
    "class b(a):\n",
    "    def a_fun(self):\n",
    "        print(\"this is second\")\n",
    "obj=b()\n",
    "obj.a_fun()\n",
    "b.__mro__  # check the method order"
   ]
  },
  {
   "cell_type": "code",
   "execution_count": 35,
   "id": "048252d7",
   "metadata": {},
   "outputs": [
    {
     "name": "stdout",
     "output_type": "stream",
     "text": [
      "this is first\n"
     ]
    },
    {
     "data": {
      "text/plain": [
       "(__main__.b, __main__.a, object)"
      ]
     },
     "execution_count": 35,
     "metadata": {},
     "output_type": "execute_result"
    }
   ],
   "source": [
    "class a():\n",
    "    def a_fun(self):\n",
    "        print(\"this is first\")\n",
    "class b(a):\n",
    "    pass\n",
    "obj=b()\n",
    "obj.a_fun()\n",
    "b.__mro__  # check the method order"
   ]
  },
  {
   "cell_type": "code",
   "execution_count": 38,
   "id": "b3435acb",
   "metadata": {},
   "outputs": [
    {
     "name": "stdout",
     "output_type": "stream",
     "text": [
      "this is third\n"
     ]
    },
    {
     "data": {
      "text/plain": [
       "(__main__.c, __main__.b, __main__.a, object)"
      ]
     },
     "execution_count": 38,
     "metadata": {},
     "output_type": "execute_result"
    }
   ],
   "source": [
    "class a():\n",
    "    def a_fun(self):\n",
    "        print(\"this is first\")\n",
    "class b():\n",
    "    def a_fun(self):\n",
    "        print(\"this is second\")\n",
    "class c(b,a):\n",
    "    def a_fun(self):\n",
    "        print(\"this is third\")\n",
    "        \n",
    "obj=c()\n",
    "obj.a_fun()\n",
    "\n",
    "c.__mro__"
   ]
  },
  {
   "cell_type": "code",
   "execution_count": 55,
   "id": "5f92c2fd",
   "metadata": {},
   "outputs": [
    {
     "name": "stdout",
     "output_type": "stream",
     "text": [
      "this is first\n"
     ]
    },
    {
     "data": {
      "text/plain": [
       "(__main__.c, __main__.a, __main__.b, object)"
      ]
     },
     "execution_count": 55,
     "metadata": {},
     "output_type": "execute_result"
    }
   ],
   "source": [
    "class a():\n",
    "    def a_fun(self):\n",
    "        print(\"this is first\")\n",
    "class b():\n",
    "    def a_fun(self):\n",
    "        print(\"this is second\")\n",
    "class c(a,b):\n",
    "    pass  # used to blank\n",
    "        \n",
    "obj=c()\n",
    "obj.a_fun()\n",
    "\n",
    "c.__mro__"
   ]
  },
  {
   "cell_type": "markdown",
   "id": "6dfc608a",
   "metadata": {},
   "source": [
    "# connsttructor in inheritance"
   ]
  },
  {
   "cell_type": "code",
   "execution_count": 45,
   "id": "6094c0a3",
   "metadata": {},
   "outputs": [
    {
     "name": "stdout",
     "output_type": "stream",
     "text": [
      "this is __init__\n",
      "this is apple\n",
      "this is __init__\n"
     ]
    }
   ],
   "source": [
    "class a():\n",
    "    def __init__(delf):\n",
    "        print(\"this is __init__\")\n",
    "    def apple(self):\n",
    "        print(\"this is apple\")\n",
    "class b(a):\n",
    "    def orange(self):\n",
    "        print(\"this is orange\")\n",
    "obj=a()\n",
    "obj.apple()\n"
   ]
  },
  {
   "cell_type": "code",
   "execution_count": 46,
   "id": "ef7f8bd6",
   "metadata": {},
   "outputs": [
    {
     "name": "stdout",
     "output_type": "stream",
     "text": [
      "this is __init__\n"
     ]
    }
   ],
   "source": [
    "class a():\n",
    "    def __init__(delf):\n",
    "        print(\"this is __init__\")\n",
    "    def apple(self):\n",
    "        print(\"this is apple\")\n",
    "class b(a):\n",
    "    def orange(self):\n",
    "        print(\"this is orange\")\n",
    "# obj=a()\n",
    "# obj.apple()\n",
    "\n",
    "obj2=b()"
   ]
  },
  {
   "cell_type": "code",
   "execution_count": 49,
   "id": "dc6e1641",
   "metadata": {},
   "outputs": [
    {
     "name": "stdout",
     "output_type": "stream",
     "text": [
      "this is __init__ in b\n"
     ]
    }
   ],
   "source": [
    "class a():\n",
    "    def __init__(delf):\n",
    "        print(\"this is __init__ in a\")\n",
    "    def apple(self):\n",
    "        print(\"this is apple\")\n",
    "class b(a):\n",
    "    def __init__(delf):\n",
    "        print(\"this is __init__ in b\")\n",
    "    def orange(self):\n",
    "        print(\"this is orange\")\n",
    "# obj=a()\n",
    "# obj.apple()\n",
    "\n",
    "obj2=b()"
   ]
  },
  {
   "cell_type": "markdown",
   "id": "36b906ab",
   "metadata": {},
   "source": [
    "# super() methhod\n",
    "\n",
    "retrive method data in base oor parent class"
   ]
  },
  {
   "cell_type": "code",
   "execution_count": 53,
   "id": "2bfa918c",
   "metadata": {},
   "outputs": [
    {
     "name": "stdout",
     "output_type": "stream",
     "text": [
      "this is __init__ in a\n",
      "this is apple\n",
      "this is __init__ in b\n"
     ]
    }
   ],
   "source": [
    "class a():\n",
    "    def __init__(delf):\n",
    "        print(\"this is __init__ in a\")\n",
    "    def apple(self):\n",
    "        print(\"this is apple\")\n",
    "class b(a):\n",
    "    def __init__(delf):\n",
    "        super().__init__()\n",
    "        super().apple()\n",
    "        print(\"this is __init__ in b\")\n",
    "    def orange(self):\n",
    "        print(\"this is orange\")\n",
    "# obj=a()\n",
    "# obj.apple()\n",
    "\n",
    "obj2=b()"
   ]
  },
  {
   "cell_type": "code",
   "execution_count": 60,
   "id": "560a0417",
   "metadata": {},
   "outputs": [
    {
     "name": "stdout",
     "output_type": "stream",
     "text": [
      "this is class a\n",
      "this is class c\n",
      "\n",
      "this is class b\n",
      "this class a in method 1\n",
      "this is class d\n"
     ]
    }
   ],
   "source": [
    "class a():\n",
    "    def __init__(self):\n",
    "        print(\"this is class a\")\n",
    "    def fun1(self):\n",
    "        print(\"this class a in method 1\")\n",
    "        \n",
    "class b():\n",
    "    def __init__(self):\n",
    "        print(\"this is class b\")\n",
    "    def fun1(self):\n",
    "            print(\"this class a in method 1\")\n",
    "class c(a,b):\n",
    "    def __init__(self):\n",
    "        super().__init__()\n",
    "        print(\"this is class c\")\n",
    "class d(b,a):\n",
    "    def __init__(self):\n",
    "        super().__init__()\n",
    "        super().fun1()\n",
    "        print(\"this is class d\")\n",
    "        \n",
    "ob1=c()\n",
    "print()\n",
    "ob2=d()"
   ]
  },
  {
   "cell_type": "markdown",
   "id": "ad950d77",
   "metadata": {},
   "source": [
    "# super() in single inheritance"
   ]
  },
  {
   "cell_type": "code",
   "execution_count": 74,
   "id": "087c4bb7",
   "metadata": {},
   "outputs": [
    {
     "name": "stdout",
     "output_type": "stream",
     "text": [
      "7\n",
      "-3\n"
     ]
    }
   ],
   "source": [
    "#normal method\n",
    "class a():\n",
    "    def addition(self):\n",
    "        print(2+5)\n",
    "class b(a):\n",
    "    def sub(self):\n",
    "        a.addition(self)\n",
    "        print(2-5)\n",
    "        \n",
    "obj=b()\n",
    "obj.sub()"
   ]
  },
  {
   "cell_type": "code",
   "execution_count": 75,
   "id": "3c1a24a5",
   "metadata": {},
   "outputs": [
    {
     "name": "stdout",
     "output_type": "stream",
     "text": [
      "20\n",
      "-3\n"
     ]
    }
   ],
   "source": [
    "#normal method with passing  arguments\n",
    "class a():\n",
    "    def addition(self,a,b):\n",
    "        print(a+b)\n",
    "class b(a):\n",
    "    def sub(self):\n",
    "        a.addition(self,10,10)\n",
    "        print(2-5)\n",
    "        \n",
    "obj=b()\n",
    "obj.sub()"
   ]
  },
  {
   "cell_type": "code",
   "execution_count": 70,
   "id": "ac72dfd3",
   "metadata": {},
   "outputs": [
    {
     "name": "stdout",
     "output_type": "stream",
     "text": [
      "7\n",
      "-3\n",
      "7\n"
     ]
    }
   ],
   "source": [
    "#using super() method\n",
    "class a():\n",
    "    def addition(self):\n",
    "        print(2+5)\n",
    "class b(a):\n",
    "    def sub(self):\n",
    "        super().addition()\n",
    "        print(2-5)\n",
    "        super().addition()\n",
    "\n",
    "        \n",
    "obj=b()\n",
    "obj.sub()"
   ]
  },
  {
   "cell_type": "code",
   "execution_count": 72,
   "id": "b2e549a9",
   "metadata": {},
   "outputs": [
    {
     "name": "stdout",
     "output_type": "stream",
     "text": [
      "6\n",
      "-3\n",
      "9\n"
     ]
    }
   ],
   "source": [
    "#with passing argument or parameters\n",
    "class a():\n",
    "    def addition(self,a,b):\n",
    "        print(a+b)\n",
    "class b(a):\n",
    "    def sub(self):\n",
    "        super().addition(2,4)  #passing\n",
    "        print(2-5)\n",
    "        super().addition(5,4)  #passing\n",
    "\n",
    "        \n",
    "obj=b()\n",
    "obj.sub()"
   ]
  },
  {
   "cell_type": "markdown",
   "id": "29df76b5",
   "metadata": {},
   "source": [
    "# super() methiod in multi level inheritance"
   ]
  },
  {
   "cell_type": "code",
   "execution_count": 84,
   "id": "c45c9bcf",
   "metadata": {},
   "outputs": [
    {
     "name": "stdout",
     "output_type": "stream",
     "text": [
      "this is oter details\n",
      "my salary is 20000 and my designation is HR\n",
      "this is company details\n",
      "comany name isd ibm and location is bangalore\n",
      "this is personal details\n",
      "my name iis dhill and my age iis 21 gender is  male\n"
     ]
    }
   ],
   "source": [
    "class person():\n",
    "    def person_details(self,name,age,gender):\n",
    "        print(\"this is personal details\")\n",
    "        print(f\"my name iis {name} and my age iis {age} gender is  {gender}\")\n",
    "class company(person):\n",
    "    def commpany_details(self,c_name,location):\n",
    "        print(\"this is company details\")\n",
    "        print(f\"comany name isd {c_name} and location is {location}\")\n",
    "        super().person_details(\"dhill\",21,\"male\")\n",
    "\n",
    "class others(company):\n",
    "    def other_details(self,salary,designation):\n",
    "        print(\"this is oter details\")\n",
    "        print(f\"my salary is {salary} and my designation is {designation}\")\n",
    "        super().commpany_details(\"ibm\",\"bangalore\")\n",
    "#         super().other_details(20000,\"HR\")\n",
    "obj=others()\n",
    "obj.other_details(20000,\"HR\")"
   ]
  },
  {
   "cell_type": "markdown",
   "id": "8c632996",
   "metadata": {},
   "source": [
    "# super() methiod in multiple inheritance"
   ]
  },
  {
   "cell_type": "code",
   "execution_count": 79,
   "id": "c76778cb",
   "metadata": {},
   "outputs": [
    {
     "name": "stdout",
     "output_type": "stream",
     "text": [
      "all details about the person\n",
      "this is personal details\n",
      "my name iis dhill and my age iis 21 gender is  male\n",
      "this is company details\n",
      "comany name isd ibm and location is bangalore\n",
      "this is oter details\n",
      "my salary is 20000 and my designation is HR\n"
     ]
    }
   ],
   "source": [
    "class person():\n",
    "    def person_details(self,name,age,gender):\n",
    "        print(\"this is personal details\")\n",
    "        print(f\"my name iis {name} and my age iis {age} gender is  {gender}\")\n",
    "class company():\n",
    "    def commpany_details(self,c_name,location):\n",
    "        print(\"this is company details\")\n",
    "        print(f\"comany name isd {c_name} and location is {location}\")\n",
    "class others():\n",
    "    def other_details(self,salary,designation):\n",
    "        print(\"this is oter details\")\n",
    "        print(f\"my salary is {salary} and my designation is {designation}\")\n",
    "class all_details(person,company,others):\n",
    "    def show(self):\n",
    "        print(\"all details about the person\")\n",
    "        super().person_details(\"dhill\",21,\"male\")\n",
    "        super().commpany_details(\"ibm\",\"bangalore\")\n",
    "        super().other_details(20000,\"HR\")\n",
    "obj=all_details()\n",
    "obj.show()"
   ]
  },
  {
   "cell_type": "code",
   "execution_count": 89,
   "id": "97ea1420",
   "metadata": {},
   "outputs": [
    {
     "name": "stdout",
     "output_type": "stream",
     "text": [
      "squre:  9\n",
      "Rectangle:  6\n",
      "Cube:  12\n"
     ]
    }
   ],
   "source": [
    "#best use of super\n",
    "#using hierrical\n",
    "class shape():\n",
    "    def __init__(self,length,breadth):\n",
    "        self.len=length\n",
    "        self.bre=breadth\n",
    "        self.res=self.len * self.bre\n",
    "class square(shape):\n",
    "    def __init__(self,length):\n",
    "        super().__init__(length ,length)\n",
    "        print(\"squre: \",self.res)\n",
    "class rect(shape):\n",
    "    def __init__(self,length,breadth):\n",
    "        super().__init__(length,breadth)\n",
    "        print(\"Rectangle: \",self.res)\n",
    "class cube(shape):\n",
    "    def __init__(self,length, breadth, height):\n",
    "        super().__init__(length, breadth)\n",
    "        self.height=height\n",
    "        print(\"Cube: \", self.res * self.height)\n",
    "        \n",
    "s=square(3)\n",
    "r=rect(2,3)  \n",
    "c=cube(2,3,2)"
   ]
  },
  {
   "cell_type": "markdown",
   "id": "635bbdd7",
   "metadata": {},
   "source": [
    "# Polymorphism "
   ]
  },
  {
   "cell_type": "markdown",
   "id": "83943a83",
   "metadata": {},
   "source": [
    "# 1).opertor overloading\n",
    "\n",
    "type __ (two underscore) and click \"tab\" button"
   ]
  },
  {
   "cell_type": "code",
   "execution_count": 91,
   "id": "16e22a95",
   "metadata": {},
   "outputs": [
    {
     "data": {
      "text/plain": [
       "30"
      ]
     },
     "execution_count": 91,
     "metadata": {},
     "output_type": "execute_result"
    }
   ],
   "source": [
    "a=10\n",
    "b=20\n",
    "int.__add__(a,b)"
   ]
  },
  {
   "cell_type": "code",
   "execution_count": 92,
   "id": "6a12719c",
   "metadata": {},
   "outputs": [
    {
     "data": {
      "text/plain": [
       "'ttsstt'"
      ]
     },
     "execution_count": 92,
     "metadata": {},
     "output_type": "execute_result"
    }
   ],
   "source": [
    "a=\"tts\"\n",
    "b=\"stt\"\n",
    "str.__add__(a,b)"
   ]
  },
  {
   "cell_type": "code",
   "execution_count": 94,
   "id": "da4d052c",
   "metadata": {},
   "outputs": [
    {
     "ename": "TypeError",
     "evalue": "unsupported operand type(s) for +: 'stu' and 'stu'",
     "output_type": "error",
     "traceback": [
      "\u001b[1;31m---------------------------------------------------------------------------\u001b[0m",
      "\u001b[1;31mTypeError\u001b[0m                                 Traceback (most recent call last)",
      "Cell \u001b[1;32mIn[94], line 7\u001b[0m\n\u001b[0;32m      5\u001b[0m s1\u001b[38;5;241m=\u001b[39mstu(\u001b[38;5;241m2\u001b[39m,\u001b[38;5;241m10\u001b[39m)\n\u001b[0;32m      6\u001b[0m s2\u001b[38;5;241m=\u001b[39mstu(\u001b[38;5;241m2\u001b[39m,\u001b[38;5;241m3\u001b[39m)\n\u001b[1;32m----> 7\u001b[0m s3\u001b[38;5;241m=\u001b[39ms1\u001b[38;5;241m+\u001b[39ms2\n\u001b[0;32m      8\u001b[0m \u001b[38;5;28mprint\u001b[39m(s3\u001b[38;5;241m.\u001b[39mm1)\n",
      "\u001b[1;31mTypeError\u001b[0m: unsupported operand type(s) for +: 'stu' and 'stu'"
     ]
    }
   ],
   "source": [
    "class stu():\n",
    "    def __init__(self,m1,m2):\n",
    "        self.m1=m1\n",
    "        self.m2=m2\n",
    "s1=stu(2,10)\n",
    "s2=stu(2,3)\n",
    "s3=s1+s2\n"
   ]
  },
  {
   "cell_type": "code",
   "execution_count": 106,
   "id": "b1db717a",
   "metadata": {},
   "outputs": [
    {
     "name": "stdout",
     "output_type": "stream",
     "text": [
      "30\n",
      "22\n"
     ]
    }
   ],
   "source": [
    "class stu():\n",
    "    def __init__(self,m1,m2):\n",
    "        self.m1=m1\n",
    "        self.m2=m2\n",
    "    def __add__(self,temp):\n",
    "        f_s=self.m1 +self.m2\n",
    "        s_s=temp.m1+temp.m2\n",
    "        total=stu(f_s,s_s)\n",
    "        return total\n",
    "s1=stu(10,20)\n",
    "s2=stu(10,12)\n",
    "total=s1+s2\n",
    "print(total.m1)\n",
    "print(total.m2)\n",
    "# print(total)\n",
    "\n"
   ]
  },
  {
   "cell_type": "markdown",
   "id": "3721b2ff",
   "metadata": {},
   "source": [
    "# ARITHMATION IN OPERATOR OVERLOADING"
   ]
  },
  {
   "cell_type": "code",
   "execution_count": 113,
   "id": "9db53e22",
   "metadata": {},
   "outputs": [
    {
     "name": "stdout",
     "output_type": "stream",
     "text": [
      "add: 30 22\n",
      "sub: -10 -2\n",
      "mul: 200 120\n",
      "div: 20.0 16.0\n"
     ]
    }
   ],
   "source": [
    "# __add__\n",
    "# __sub__\n",
    "# __mul__\n",
    "# __trurdiv__\n",
    "\n",
    "class stu():\n",
    "    def __init__(self,m1,m2):\n",
    "        self.m1=m1\n",
    "        self.m2=m2\n",
    "    def __add__(self,temp):\n",
    "        f_s=self.m1 +self.m2\n",
    "        s_s=temp.m1+temp.m2\n",
    "        total=stu(f_s,s_s)\n",
    "        return total\n",
    "    def __sub__(self,temp):\n",
    "        f_s=self.m1 -self.m2\n",
    "        s_s=temp.m1-temp.m2\n",
    "        total=stu(f_s,s_s)\n",
    "        return total\n",
    "    def __mul__(self,temp):\n",
    "        f_s=self.m1 *self.m2\n",
    "        s_s=temp.m1*temp.m2\n",
    "        total=stu(f_s,s_s)\n",
    "        return total\n",
    "    def __truediv__(self,temp):\n",
    "        f_s=self.m1 +self.m2/2\n",
    "        s_s=temp.m1+temp.m2/2\n",
    "        total=stu(f_s,s_s)\n",
    "        return total\n",
    "    \n",
    "s1=stu(10,20)\n",
    "s2=stu(10,12)\n",
    "\n",
    "add=s1+s2\n",
    "sub=s1-s2\n",
    "mul=s1*s2\n",
    "div=s1/s2\n",
    "\n",
    "print(\"add:\", add.m1, add.m2)\n",
    "print(\"sub:\", sub.m1, sub.m2)\n",
    "print(\"mul:\", mul.m1, mul.m2)\n",
    "print(\"div:\", div.m1, div.m2)"
   ]
  },
  {
   "cell_type": "markdown",
   "id": "c9ccd209",
   "metadata": {},
   "source": [
    "# COMPARISON OPERATION IN OPERATIONG OVERLOADING"
   ]
  },
  {
   "cell_type": "code",
   "execution_count": 2,
   "id": "b7b15a52",
   "metadata": {},
   "outputs": [
    {
     "name": "stdout",
     "output_type": "stream",
     "text": [
      "ob2 is greater\n"
     ]
    }
   ],
   "source": [
    "class a():\n",
    "    def __init__(self,value):\n",
    "        self.value=value\n",
    "    def __gt__(self,other):\n",
    "        if (self.value > other.value):\n",
    "            return True\n",
    "        else:\n",
    "            return False\n",
    "ob1=a(10)\n",
    "ob2=a(20)\n",
    "if (ob1 > ob2):\n",
    "    print(\"ob1 is greater\")\n",
    "else:\n",
    "    print(\"ob2 is greater\")"
   ]
  },
  {
   "cell_type": "code",
   "execution_count": 4,
   "id": "3c088d53",
   "metadata": {},
   "outputs": [
    {
     "name": "stdout",
     "output_type": "stream",
     "text": [
      "ob1 is lesser\n"
     ]
    }
   ],
   "source": [
    "class a():\n",
    "    def __init__(self,value):\n",
    "        self.value=value\n",
    "    def __gt__(self,other):\n",
    "        if (self.value > other.value):\n",
    "            return True\n",
    "        else:\n",
    "            return False\n",
    "ob1=a(10)\n",
    "ob2=a(20)\n",
    "if (ob1 < ob2):\n",
    "    print(\"ob1 is lesser\")\n",
    "else:\n",
    "    print(\"ob2 is lesser\")"
   ]
  },
  {
   "cell_type": "code",
   "execution_count": 16,
   "id": "02b11a47",
   "metadata": {},
   "outputs": [
    {
     "name": "stdout",
     "output_type": "stream",
     "text": [
      "both are equal\n"
     ]
    }
   ],
   "source": [
    "class a():\n",
    "    def __init__(self,value):\n",
    "        self.value=value\n",
    "    def __gt__(self,other):\n",
    "        if (self.value > other.value):\n",
    "            return True\n",
    "        else:\n",
    "            return False\n",
    "    def __lt__(self,other):\n",
    "        if (self.value < other.value):\n",
    "            return True\n",
    "        else:\n",
    "            return False\n",
    "    def __eq__(self,other):\n",
    "        if (self.value == other.value):\n",
    "            return True\n",
    "        else:\n",
    "            return False\n",
    "ob1=a(20)\n",
    "ob2=a(20)\n",
    "if (ob1 < ob2): #__lt__\n",
    "    print(\"ob1 is lesser\")\n",
    "elif (ob1 > ob2): #__gt__\n",
    "    print(\"ob2 is lesser\")\n",
    "elif(ob1 == ob2): #__eq__\n",
    "    print(\"both are equal\")\n",
    "else:\n",
    "    print(\"both are not equal\")"
   ]
  },
  {
   "cell_type": "markdown",
   "id": "026bad19",
   "metadata": {},
   "source": [
    "Arithmatic operator:\n",
    "    \n",
    " Operator           Magic Function\n",
    "\n",
    "    +             __add__(self, other)\n",
    "    -             __sub__(self, other)\n",
    "    *             __mul__(self, other)\n",
    "    /             __truediv__(self, other)\n",
    "    //            __floordiv__(self, other)\n",
    "    %             __mod__(self, other)\n",
    "    **            __pow__(self, other)\n",
    "    >>            __rshift__(self, other)\n",
    "    <<            __lshift__(self, other)\n",
    "    &             __and__(self, other)\n",
    "    |             __or__(self, other)\n",
    "    ^             __xor__(self, other)\n",
    "\n",
    "Comparison Operators:\n",
    "\n",
    "  Operator         Magic Function\n",
    "\n",
    "    <             __LT__(SELF, OTHER)\n",
    "    >             __GT__(SELF, OTHER)\n",
    "    <=            __LE__(SELF, OTHER)\n",
    "    >=            __GE__(SELF, OTHER)\n",
    "    ==            __EQ__(SELF, OTHER)\n",
    "    !=            __NE__(SELF, OTHER)\n",
    "\n",
    "Assignment Operators:\n",
    "  Operator         Magic Function\n",
    "\n",
    "    -=             __ISUB__(SELF, OTHER)\n",
    "    +=             __IADD__(SELF, OTHER)\n",
    "    *=             __IMUL__(SELF, OTHER)\n",
    "    /=             __IDIV__(SELF, OTHER)\n",
    "    //=            __IFLOORDIV__(SELF, OTHER)\n",
    "    %=             __IMOD__(SELF, OTHER)\n",
    "    >>=            __IRSHIFT__(SELF, OTHER)\n",
    "    <<=            __ILSHIFT__(SELF, OTHER)\n",
    "    &=             __IAND__(SELF, OTHER)\n",
    "    |=             __IOR__(SELF, OTHER)\n",
    "    ^=             __IXOR__(SELF, OTHER)\n",
    "    **=            __IPOW__(SELF, OTHER)\n"
   ]
  },
  {
   "cell_type": "markdown",
   "id": "982a5292",
   "metadata": {},
   "source": [
    "# 2).method overloding\n",
    "\n",
    "method overloading not posible for **python**.\n",
    "it support on java and c++"
   ]
  },
  {
   "cell_type": "code",
   "execution_count": 20,
   "id": "fab4a0ed",
   "metadata": {},
   "outputs": [
    {
     "name": "stdout",
     "output_type": "stream",
     "text": [
      "9\n"
     ]
    }
   ],
   "source": [
    "class a():\n",
    "    def fun(self,a):\n",
    "        print(a)\n",
    "    def fun(self,a,b):\n",
    "        print(a+b)\n",
    "    def fun(self,a,b,c): #only active in this line only\n",
    "        print(a+b+c)\n",
    "c=a()\n",
    "c.fun(2,3,4)\n"
   ]
  },
  {
   "cell_type": "markdown",
   "id": "da2e4d4d",
   "metadata": {},
   "source": [
    "# use this alternative method for meethod overloding"
   ]
  },
  {
   "cell_type": "code",
   "execution_count": 32,
   "id": "701d9e68",
   "metadata": {},
   "outputs": [
    {
     "name": "stdout",
     "output_type": "stream",
     "text": [
      "30\n",
      "20\n",
      "10\n"
     ]
    }
   ],
   "source": [
    "#use this alternative method\n",
    "class a():\n",
    "    def fun(self, a=None,b=None,c=None):\n",
    "        if (a!=None and b!=None and c!=None):\n",
    "            print(a+b+c)\n",
    "        elif(a!=None and b!=None):\n",
    "            print(a+b)\n",
    "        else:\n",
    "            print(a)\n",
    "ob=a()\n",
    "ob.fun(10,10,10)\n",
    "ob.fun(10,10)\n",
    "ob.fun(10)"
   ]
  },
  {
   "cell_type": "code",
   "execution_count": 39,
   "id": "a8110bee",
   "metadata": {},
   "outputs": [
    {
     "name": "stdout",
     "output_type": "stream",
     "text": [
      "Added Value:  1\n",
      "Added Value:  11\n",
      "Added Value:  67\n",
      "Added Value:  300\n"
     ]
    }
   ],
   "source": [
    "#using *args method\n",
    "class a():\n",
    "    def fun(self,*v):\n",
    "        val=0\n",
    "        for i in v:\n",
    "            val+=i\n",
    "        print(\"Added Value: \",val)\n",
    "ob=a()\n",
    "ob.fun(1)\n",
    "ob.fun(1,10)\n",
    "ob.fun(1,11,22,33)\n",
    "ob.fun(1,11,22,33,21,23,43,5,32,12,32,65)"
   ]
  },
  {
   "cell_type": "code",
   "execution_count": 3,
   "id": "94789f61",
   "metadata": {},
   "outputs": [
    {
     "name": "stdout",
     "output_type": "stream",
     "text": [
      "Rectangle area : 12\n",
      "square area:  25\n"
     ]
    }
   ],
   "source": [
    "class a():\n",
    "    def fun(self,a=None,b=None):\n",
    "        if (a!=None and b!=None and a!=b):\n",
    "            print(\"Rectangle area :\",a*b)\n",
    "        else:\n",
    "            print(\"square area: \",a*a)\n",
    "ob=a()\n",
    "ob.fun(3,4)\n",
    "ob.fun(5,5)"
   ]
  },
  {
   "cell_type": "markdown",
   "id": "151cddf5",
   "metadata": {},
   "source": [
    "# method overloading in dispatch method"
   ]
  },
  {
   "cell_type": "code",
   "execution_count": 7,
   "id": "6e8df8a0",
   "metadata": {},
   "outputs": [
    {
     "name": "stdout",
     "output_type": "stream",
     "text": [
      "Requirement already satisfied: multipledispatch in c:\\users\\91753\\anaconda3\\lib\\site-packages (0.6.0)\n",
      "Requirement already satisfied: six in c:\\users\\91753\\anaconda3\\lib\\site-packages (from multipledispatch) (1.16.0)\n"
     ]
    }
   ],
   "source": [
    "!pip install multipledispatch"
   ]
  },
  {
   "cell_type": "code",
   "execution_count": 2,
   "id": "8adf8620",
   "metadata": {},
   "outputs": [
    {
     "name": "stdout",
     "output_type": "stream",
     "text": [
      "7\n",
      "6\n"
     ]
    }
   ],
   "source": [
    "from multipledispatch import dispatch\n",
    "\n",
    "@dispatch(int,int)\n",
    "def add(a,b):\n",
    "    return a+b\n",
    "\n",
    "@dispatch(int,int,int)\n",
    "def add(a,b,c):\n",
    "    return a+b+c\n",
    "\n",
    "print(add(3,4))\n",
    "print(add(1,2,3))"
   ]
  },
  {
   "cell_type": "code",
   "execution_count": 14,
   "id": "80d5d39b",
   "metadata": {},
   "outputs": [
    {
     "name": "stdout",
     "output_type": "stream",
     "text": [
      "5\n",
      "9\n",
      "10.5\n",
      "thamaraiselvan\n",
      "6.5\n"
     ]
    }
   ],
   "source": [
    "# from multipledispatch import dispatch\n",
    "class a():\n",
    "    @dispatch(int,int)\n",
    "    def add(a,b):\n",
    "        print(a+b)\n",
    "\n",
    "    @dispatch(int,int,int)\n",
    "    def add(a,b,c):\n",
    "        print(a+b+c)\n",
    "    \n",
    "    @dispatch(float,float)\n",
    "    def add(a,b):\n",
    "        print(a+b)\n",
    "        \n",
    "    @dispatch(str,str)\n",
    "    def add(a,b):\n",
    "        print(a+b)\n",
    "        \n",
    "    @dispatch(int,float)\n",
    "    def add(a,b):\n",
    "        print(a+b)\n",
    "ob=a()\n",
    "ob.add(2,3)\n",
    "ob.add(3,2,4)\n",
    "ob.add(5.3,5.2)\n",
    "ob.add(\"thamarai\",\"selvan\")\n",
    "ob.add(3,3.5)"
   ]
  },
  {
   "cell_type": "markdown",
   "id": "ad6b09d5",
   "metadata": {},
   "source": [
    "# 3).method overriding\n",
    "\n",
    "using same method names in different classes"
   ]
  },
  {
   "cell_type": "code",
   "execution_count": 18,
   "id": "43296f03",
   "metadata": {},
   "outputs": [
    {
     "name": "stdout",
     "output_type": "stream",
     "text": [
      "c\n"
     ]
    }
   ],
   "source": [
    "class a():\n",
    "    def detail(self):\n",
    "        print(\"a\")\n",
    "class b(a):\n",
    "    def detail(self):\n",
    "        print(\"b\")\n",
    "class c(b):\n",
    "    def detail(self):\n",
    "        print(\"c\")\n",
    "ob=c()\n",
    "ob.detail()"
   ]
  },
  {
   "cell_type": "code",
   "execution_count": 19,
   "id": "f5ddd07a",
   "metadata": {},
   "outputs": [
    {
     "name": "stdout",
     "output_type": "stream",
     "text": [
      "b\n",
      "c\n"
     ]
    }
   ],
   "source": [
    "class a():\n",
    "    def detail(self):\n",
    "        print(\"a\")\n",
    "class b(a):\n",
    "    def detail(self):\n",
    "        print(\"b\")\n",
    "class c(b):\n",
    "    def detail(self):\n",
    "        super().detail()\n",
    "        print(\"c\")\n",
    "ob=c()\n",
    "ob.detail()"
   ]
  },
  {
   "cell_type": "markdown",
   "id": "69e6bc80",
   "metadata": {},
   "source": [
    "# polymorphism with inheritance and method overriding"
   ]
  },
  {
   "cell_type": "code",
   "execution_count": 22,
   "id": "1c739143",
   "metadata": {},
   "outputs": [
    {
     "name": "stdout",
     "output_type": "stream",
     "text": [
      "i am sheela\n",
      "i am sakthi\n",
      "i am shive\n"
     ]
    }
   ],
   "source": [
    "class sheela():\n",
    "    def speak(self):\n",
    "        return \"i am sheela\"\n",
    "class sakthi(sheela):\n",
    "    def speak(self):\n",
    "        return \"i am sakthi\"\n",
    "class shiva(sakthi):\n",
    "    def speak(self):\n",
    "        return \"i am shive\"\n",
    "ob1=sheela()\n",
    "ob2=sakthi()\n",
    "ob3=shiva()\n",
    "\n",
    "for i in (ob1,ob2,ob3):\n",
    "    print(i.speak())"
   ]
  },
  {
   "cell_type": "code",
   "execution_count": 27,
   "id": "5de474cd",
   "metadata": {},
   "outputs": [
    {
     "name": "stdout",
     "output_type": "stream",
     "text": [
      "name: honda, color: red ,price: 200000\n",
      "bike has no gear\n",
      "bike speed is 100\n",
      "\n",
      "name: susiki, color: white ,price: 300000\n",
      "yes car has gear\n",
      "car maximum speed is 250\n"
     ]
    }
   ],
   "source": [
    "class bike():\n",
    "    def __init__(self,name,color,price):\n",
    "        self.name=name\n",
    "        self.color=color\n",
    "        self.price=price\n",
    "    def detail(self):\n",
    "        print(f\"name: {self.name}, color: {self.color} ,price: {self.price}\")\n",
    "    def gear(self):\n",
    "        print(\"bike has no gear\")\n",
    "    def speed(self):\n",
    "        print(\"bike speed is 100\")\n",
    "class car(bike):\n",
    "    def gear(self):\n",
    "        print(\"yes car has gear\")\n",
    "    def speed(self):\n",
    "        print(\"car maximum speed is 250\")\n",
    "        \n",
    "b=bike(\"honda\",\"red\",200000)\n",
    "b.detail()\n",
    "b.gear()\n",
    "b.speed()\n",
    "\n",
    "print()\n",
    "\n",
    "c=car(\"susiki\",\"white\",300000)\n",
    "c.detail()\n",
    "c.gear()\n",
    "c.speed()"
   ]
  },
  {
   "cell_type": "markdown",
   "id": "2e90bf0a",
   "metadata": {},
   "source": [
    "# polymorphism with class methoods and functions"
   ]
  },
  {
   "cell_type": "code",
   "execution_count": 30,
   "id": "c61883f0",
   "metadata": {},
   "outputs": [
    {
     "name": "stdout",
     "output_type": "stream",
     "text": [
      "my name is dhill\n",
      "my age is 21\n",
      "male\n",
      "\n",
      "my name is appu\n",
      "my age is 24\n",
      "male\n",
      "\n"
     ]
    }
   ],
   "source": [
    "class one():\n",
    "    def name(self):\n",
    "        print(\"my name is dhill\")\n",
    "    def age(self):\n",
    "        print(\"my age is 21\")\n",
    "    def gender(self):\n",
    "        print(\"male\")\n",
    "class two():\n",
    "    def name(self):\n",
    "        print(\"my name is appu\")\n",
    "    def age(self):\n",
    "        print(\"my age is 24\")\n",
    "    def gender(self):\n",
    "        print(\"male\")\n",
    "o=one()\n",
    "t=two()\n",
    "for i in (o,t):  #itration using\n",
    "    i.name()\n",
    "    i.age()\n",
    "    i.gender()\n",
    "    print()"
   ]
  },
  {
   "cell_type": "code",
   "execution_count": 33,
   "id": "8b576884",
   "metadata": {},
   "outputs": [
    {
     "name": "stdout",
     "output_type": "stream",
     "text": [
      "my name is dhill\n",
      "my age is 21\n",
      "male\n",
      "my name is appu\n",
      "my age is 24\n",
      "male\n"
     ]
    }
   ],
   "source": [
    "class one():\n",
    "    def name(self):\n",
    "        print(\"my name is dhill\")\n",
    "    def age(self):\n",
    "        print(\"my age is 21\")\n",
    "    def gender(self):\n",
    "        print(\"male\")\n",
    "class two():\n",
    "    def name(self):\n",
    "        print(\"my name is appu\")\n",
    "    def age(self):\n",
    "        print(\"my age is 24\")\n",
    "    def gender(self):\n",
    "        print(\"male\")\n",
    "def fun_call(obj):  # method using\n",
    "    obj.name()\n",
    "    obj.age()\n",
    "    obj.gender()\n",
    "o=one()\n",
    "t=two()\n",
    "fun_call(o)\n",
    "fun_call(t)"
   ]
  },
  {
   "cell_type": "markdown",
   "id": "b4b17e0f",
   "metadata": {},
   "source": [
    "# 7).Encapsulations(wrapping of data)(data + method =wrapping of data)(used to protect and hide the data )(access specifiers 1).public. 2).private(__). 3).protected)"
   ]
  },
  {
   "cell_type": "markdown",
   "id": "14a801fe",
   "metadata": {},
   "source": [
    "# private"
   ]
  },
  {
   "cell_type": "code",
   "execution_count": 42,
   "id": "a8f0cb47",
   "metadata": {
    "scrolled": true
   },
   "outputs": [
    {
     "name": "stdout",
     "output_type": "stream",
     "text": [
      "name:  dhill\n",
      "age:  21\n"
     ]
    }
   ],
   "source": [
    "class text():\n",
    "    def detail(self,name,age):\n",
    "        self.__name=name\n",
    "        self.__age=age\n",
    "        print(\"name: \",ob.__name)\n",
    "        print(\"age: \",ob.__age)\n",
    "ob=text()\n",
    "ob.detail(\"dhill\",21)"
   ]
  },
  {
   "cell_type": "code",
   "execution_count": 11,
   "id": "6d458576",
   "metadata": {},
   "outputs": [
    {
     "name": "stdout",
     "output_type": "stream",
     "text": [
      "name:  dhill\n",
      "age:  22\n"
     ]
    }
   ],
   "source": [
    "class text():\n",
    "    def detail4(self,name,age):\n",
    "        self.__name=name\n",
    "        self.__age=age\n",
    "    print(\"name: \",ob2.__name)\n",
    "    print(\"age: \",ob2.__age)\n",
    "ob2=text()\n",
    "ob2.detail4(\"dhill\",22)"
   ]
  },
  {
   "cell_type": "code",
   "execution_count": 10,
   "id": "eb72dbae",
   "metadata": {},
   "outputs": [
    {
     "ename": "AttributeError",
     "evalue": "'text' object has no attribute '__name'",
     "output_type": "error",
     "traceback": [
      "\u001b[1;31m---------------------------------------------------------------------------\u001b[0m",
      "\u001b[1;31mAttributeError\u001b[0m                            Traceback (most recent call last)",
      "Cell \u001b[1;32mIn[10], line 8\u001b[0m\n\u001b[0;32m      6\u001b[0m ob1\u001b[38;5;241m=\u001b[39mtext()\n\u001b[0;32m      7\u001b[0m ob1\u001b[38;5;241m.\u001b[39mdetail3(\u001b[38;5;124m\"\u001b[39m\u001b[38;5;124mdhill\u001b[39m\u001b[38;5;124m\"\u001b[39m,\u001b[38;5;241m21\u001b[39m)\n\u001b[1;32m----> 8\u001b[0m \u001b[38;5;28mprint\u001b[39m(\u001b[38;5;124m\"\u001b[39m\u001b[38;5;124mname: \u001b[39m\u001b[38;5;124m\"\u001b[39m,ob1\u001b[38;5;241m.\u001b[39m__name)\n\u001b[0;32m      9\u001b[0m \u001b[38;5;28mprint\u001b[39m(\u001b[38;5;124m\"\u001b[39m\u001b[38;5;124mage: \u001b[39m\u001b[38;5;124m\"\u001b[39m,ob1\u001b[38;5;241m.\u001b[39m__age)\n",
      "\u001b[1;31mAttributeError\u001b[0m: 'text' object has no attribute '__name'"
     ]
    }
   ],
   "source": [
    "class text():\n",
    "    def detail3(self,name,age):\n",
    "        self.__name=name\n",
    "        self.__age=age\n",
    "        \n",
    "ob1=text()\n",
    "ob1.detail3(\"dhill\",21)\n",
    "print(\"name: \",ob1.__name)\n",
    "print(\"age: \",ob1.__age)"
   ]
  },
  {
   "cell_type": "code",
   "execution_count": 14,
   "id": "3474cbd6",
   "metadata": {},
   "outputs": [
    {
     "name": "stdout",
     "output_type": "stream",
     "text": [
      "name:  dhill\n"
     ]
    }
   ],
   "source": [
    "# one private attribute call fromm public method\n",
    "\n",
    "class school():\n",
    "    def detail(self,name):\n",
    "        self.__name=name\n",
    "    def show(self):\n",
    "        print(\"name: \",self.__name)\n",
    "a=school()\n",
    "a.detail(\"dhill\")\n",
    "a.show()"
   ]
  },
  {
   "cell_type": "code",
   "execution_count": 22,
   "id": "dbd27138",
   "metadata": {},
   "outputs": [
    {
     "name": "stdout",
     "output_type": "stream",
     "text": [
      "name : sk\n",
      "age: 21\n",
      "name: bk\n",
      "age: 24\n"
     ]
    },
    {
     "ename": "AttributeError",
     "evalue": "'school' object has no attribute 'stu1'",
     "output_type": "error",
     "traceback": [
      "\u001b[1;31m---------------------------------------------------------------------------\u001b[0m",
      "\u001b[1;31mAttributeError\u001b[0m                            Traceback (most recent call last)",
      "Cell \u001b[1;32mIn[22], line 16\u001b[0m\n\u001b[0;32m     14\u001b[0m s\u001b[38;5;241m=\u001b[39mschool()\n\u001b[0;32m     15\u001b[0m s\u001b[38;5;241m.\u001b[39mstu2()\n\u001b[1;32m---> 16\u001b[0m s\u001b[38;5;241m.\u001b[39mstu1()\n",
      "\u001b[1;31mAttributeError\u001b[0m: 'school' object has no attribute 'stu1'"
     ]
    }
   ],
   "source": [
    "#one private method call from public method\n",
    "\n",
    "class school():\n",
    "    def detail(self):\n",
    "        self.name=\"abc school\"\n",
    "        print(\"school name: \",self.name)\n",
    "    def __stu1(self):\n",
    "        print(\"name : sk\")\n",
    "        print(\"age: 21\")\n",
    "    def stu2(self):\n",
    "        self.__stu1()\n",
    "        print(\"name: bk\")\n",
    "        print(\"age: 24\")\n",
    "s=school()\n",
    "s.stu2()\n",
    "s.stu1()  #it will not work becaus this is the private method"
   ]
  },
  {
   "cell_type": "code",
   "execution_count": 24,
   "id": "c23d8fe0",
   "metadata": {},
   "outputs": [
    {
     "name": "stdout",
     "output_type": "stream",
     "text": [
      "name: bk\n",
      "age: 24\n",
      "name : sk\n",
      "age: 21\n"
     ]
    },
    {
     "ename": "AttributeError",
     "evalue": "'school' object has no attribute 'stu1'",
     "output_type": "error",
     "traceback": [
      "\u001b[1;31m---------------------------------------------------------------------------\u001b[0m",
      "\u001b[1;31mAttributeError\u001b[0m                            Traceback (most recent call last)",
      "Cell \u001b[1;32mIn[24], line 19\u001b[0m\n\u001b[0;32m     16\u001b[0m s\u001b[38;5;241m.\u001b[39mstu2()\n\u001b[0;32m     17\u001b[0m s\u001b[38;5;241m.\u001b[39m_school__stu1() \u001b[38;5;66;03m#it will accesson the private method on objects\u001b[39;00m\n\u001b[1;32m---> 19\u001b[0m s\u001b[38;5;241m.\u001b[39mstu1()\n",
      "\u001b[1;31mAttributeError\u001b[0m: 'school' object has no attribute 'stu1'"
     ]
    }
   ],
   "source": [
    "#private method call from objects\n",
    "\n",
    "#one private method call from public method\n",
    "\n",
    "class school():\n",
    "    def detail(self):\n",
    "        self.name=\"abc school\"\n",
    "        print(\"school name: \",self.name)\n",
    "    def __stu1(self):\n",
    "        print(\"name : sk\")\n",
    "        print(\"age: 21\")\n",
    "    def stu2(self):\n",
    "        print(\"name: bk\")\n",
    "        print(\"age: 24\")\n",
    "s=school()\n",
    "s.stu2()\n",
    "s._school__stu1() #it will accesson the private method on objects\n",
    "\n",
    "s.stu1()  #it will not work becaus this is the private method"
   ]
  },
  {
   "cell_type": "code",
   "execution_count": 27,
   "id": "97064e1b",
   "metadata": {},
   "outputs": [
    {
     "name": "stdout",
     "output_type": "stream",
     "text": [
      "school name:  ABC school\n"
     ]
    }
   ],
   "source": [
    "#private attribute access on public method\n",
    "class sc():\n",
    "    __name=\"ABC school\"\n",
    "    \n",
    "    def stu1(self):\n",
    "        print(\"school name: \",ob.__name)\n",
    "ob=sc()\n",
    "ob.stu1()"
   ]
  },
  {
   "cell_type": "code",
   "execution_count": 42,
   "id": "16ca8022",
   "metadata": {},
   "outputs": [
    {
     "name": "stdout",
     "output_type": "stream",
     "text": [
      "  1  school name:  ABC school\n",
      "  2  school name:  ABC school\n"
     ]
    }
   ],
   "source": [
    "#private attribute access on public method\n",
    "class sc():\n",
    "    __name=\"ABC school\"\n",
    "    \n",
    "    def __stu1(self):\n",
    "        print(\"  1  school name: \",ob.__name)\n",
    "    def stu2(self):\n",
    "        self.__stu1()\n",
    "        print(\"  2  school name: \",ob.__name)\n",
    "        \n",
    "ob=sc()\n",
    "ob.stu2()\n",
    "# ob.stu1()\n"
   ]
  },
  {
   "cell_type": "markdown",
   "id": "86fdbbb1",
   "metadata": {},
   "source": [
    "# protected member ( _ )"
   ]
  },
  {
   "cell_type": "code",
   "execution_count": 45,
   "id": "f74b95bc",
   "metadata": {},
   "outputs": [
    {
     "name": "stdout",
     "output_type": "stream",
     "text": [
      "name:  dhill\n",
      "roll:  12343\n"
     ]
    }
   ],
   "source": [
    "class detail():\n",
    "    _name=\"dhill\"\n",
    "    _roll=12343\n",
    "\n",
    "    def display(self):\n",
    "        print(\"name: \",self._name)\n",
    "        print(\"roll: \",self._roll)\n",
    "ob=detail()\n",
    "ob.display()"
   ]
  },
  {
   "cell_type": "raw",
   "id": "ccc08b9e",
   "metadata": {},
   "source": [
    "# difference in public private and protected\n",
    "#accessing the variable\n",
    "    name    class      derived class    objects\n",
    "\n",
    "1).public     yes            yes            yes\n",
    "2).private    yes            no             no\n",
    "3).protected  yes            yes            no"
   ]
  },
  {
   "cell_type": "markdown",
   "id": "913da2f0",
   "metadata": {},
   "source": [
    "# setter and getter works\n",
    "\n",
    "\n",
    "its normaly assign an value in variable inside the method(function) and retrive or ricive the value in another method (function)\n",
    "\n",
    "\n",
    "@property  ==> for get method\n",
    "\n",
    "@method_name.setter   ==>for setting the values in setter"
   ]
  },
  {
   "cell_type": "code",
   "execution_count": 34,
   "id": "be01e298",
   "metadata": {
    "scrolled": true
   },
   "outputs": [
    {
     "name": "stdout",
     "output_type": "stream",
     "text": [
      "you are below 18\n",
      "setter method is called\n",
      "get method is called\n",
      "16\n"
     ]
    }
   ],
   "source": [
    "class demo():\n",
    "    def __init__(self):\n",
    "        self._age=0\n",
    "    @property  #get method calling\n",
    "    def age(self):\n",
    "        print(\"get method is called\")\n",
    "        return self._age\n",
    "    \n",
    "    @age.setter  #method_name.setter\n",
    "    def age(self,a):\n",
    "        if (a<18):\n",
    "            print(\"you are below 18\")\n",
    "        print(\"setter method is called\")\n",
    "        self._age=a\n",
    "ob=demo()\n",
    "ob.age=16\n",
    "print(ob.age)\n",
    "\n"
   ]
  },
  {
   "cell_type": "code",
   "execution_count": 33,
   "id": "4cd911fc",
   "metadata": {},
   "outputs": [
    {
     "name": "stdout",
     "output_type": "stream",
     "text": [
      "setter method is called\n",
      "get method is called\n",
      "20\n"
     ]
    }
   ],
   "source": [
    "class demo():\n",
    "    def __init__(self):\n",
    "        self._age=0\n",
    "    @property  #get method calling\n",
    "    def age(self):\n",
    "        print(\"get method is called\")\n",
    "        return self._age\n",
    "    \n",
    "    @age.setter  #method_name.setter\n",
    "    def age(self,a):\n",
    "        if (a<18):\n",
    "            print(\"you are below 18\")\n",
    "        print(\"setter method is called\")\n",
    "        self._age=a\n",
    "ob=demo()\n",
    "ob.age=20\n",
    "print(ob.age)\n",
    "\n"
   ]
  },
  {
   "cell_type": "markdown",
   "id": "a02fb890",
   "metadata": {},
   "source": [
    "# @ (decorater) ==> change the behaviors of the methods or functions"
   ]
  },
  {
   "cell_type": "markdown",
   "id": "558c5843",
   "metadata": {},
   "source": [
    "# function types\n",
    "# 1). nested function\n",
    "# 2). return function from another function\n",
    "# 3). function as a reference "
   ]
  },
  {
   "cell_type": "markdown",
   "id": "1c5a4b58",
   "metadata": {},
   "source": [
    "# 1).nested function"
   ]
  },
  {
   "cell_type": "code",
   "execution_count": 37,
   "id": "da38a26b",
   "metadata": {},
   "outputs": [
    {
     "name": "stdout",
     "output_type": "stream",
     "text": [
      "hi this is thamarai\n"
     ]
    }
   ],
   "source": [
    "#nested function\n",
    "\n",
    "def a():\n",
    "    msg=\"hi this is \"\n",
    "    def b():\n",
    "        msg2=\"thamarai\"\n",
    "        m=msg + msg2\n",
    "        return m\n",
    "    return b\n",
    "\n",
    "ob=a()\n",
    "print(ob())"
   ]
  },
  {
   "cell_type": "code",
   "execution_count": 54,
   "id": "2bf4ecef",
   "metadata": {},
   "outputs": [
    {
     "name": "stdout",
     "output_type": "stream",
     "text": [
      "hi this is thamarai\n"
     ]
    }
   ],
   "source": [
    "# see carefuly\n",
    "#nested function\n",
    "\n",
    "def outer():\n",
    "    msg=\"hi this is \"\n",
    "    def inner():\n",
    "        msg2=\"thamarai\"\n",
    "        m=msg + msg2\n",
    "        return m\n",
    "    return inner\n",
    "\n",
    "ob=outer()\n",
    "print(ob())"
   ]
  },
  {
   "cell_type": "code",
   "execution_count": 55,
   "id": "4c0ebfb2",
   "metadata": {},
   "outputs": [
    {
     "name": "stdout",
     "output_type": "stream",
     "text": [
      " outer_variable is 3\n",
      "inner_variable is  5\n",
      "8\n"
     ]
    }
   ],
   "source": [
    "def outer_variable(x):\n",
    "    print(\" outer_variable is\", x)\n",
    "    def inner_variable(y):\n",
    "        print(\"inner_variable is \", y)\n",
    "        return x+y\n",
    "    return inner_variable\n",
    "a=outer_variable(3)\n",
    "inner=a(5)   #this directly put on nested function\n",
    "            #\"inner_variable\"\n",
    "print(inner)"
   ]
  },
  {
   "cell_type": "markdown",
   "id": "e1859ad1",
   "metadata": {},
   "source": [
    "# 2). return function from another function ( passing function  a parameter )"
   ]
  },
  {
   "cell_type": "code",
   "execution_count": 69,
   "id": "158bf501",
   "metadata": {},
   "outputs": [
    {
     "name": "stdout",
     "output_type": "stream",
     "text": [
      "<function fun1 at 0x0000023DA18D6020>\n",
      "this is function 01\n",
      "this is function 02\n"
     ]
    }
   ],
   "source": [
    "def fun1():\n",
    "    print(\"this is function 01\")\n",
    "def fun2(ref):  # use differnt word also \"ref\"\n",
    "    ref()\n",
    "    print(\"this is function 02\")\n",
    "print(fun1) #this is the memory address\n",
    "fun2(fun1)"
   ]
  },
  {
   "cell_type": "code",
   "execution_count": 73,
   "id": "0976a7b3",
   "metadata": {},
   "outputs": [
    {
     "name": "stdout",
     "output_type": "stream",
     "text": [
      "33\n",
      "<function add at 0x0000023DA199E340>\n"
     ]
    }
   ],
   "source": [
    "def add(a,b):\n",
    "    return a+b\n",
    "def display(fun_name,a,b):\n",
    "    return fun_name(a,b)\n",
    "re=display(fun1,10,23)\n",
    "print(re)\n",
    "print(add)"
   ]
  },
  {
   "cell_type": "code",
   "execution_count": 76,
   "id": "83f27875",
   "metadata": {},
   "outputs": [
    {
     "name": "stdout",
     "output_type": "stream",
     "text": [
      "HAPPY BIRTHDAYS\n",
      "happy birthdays\n"
     ]
    }
   ],
   "source": [
    "def up(text):\n",
    "    return text.upper()\n",
    "def lo(text):\n",
    "    return text.lower()\n",
    "def text(func):\n",
    "    msg=func(\"happy birthdays\")\n",
    "    print(msg)\n",
    "\n",
    "text(up)\n",
    "text(lo)"
   ]
  },
  {
   "cell_type": "markdown",
   "id": "f4ab1a44",
   "metadata": {},
   "source": [
    "# 3). function as a reference (return function as a value )"
   ]
  },
  {
   "cell_type": "code",
   "execution_count": 83,
   "id": "1f660280",
   "metadata": {},
   "outputs": [
    {
     "name": "stdout",
     "output_type": "stream",
     "text": [
      "hello thamarai\n"
     ]
    }
   ],
   "source": [
    "def greetig(name):\n",
    "    def hello():\n",
    "        return \"hello \"+name\n",
    "    return hello\n",
    "call=greetig(\"thamarai\")\n",
    "print(call())"
   ]
  },
  {
   "cell_type": "code",
   "execution_count": 1,
   "id": "c49e3987",
   "metadata": {
    "scrolled": true
   },
   "outputs": [
    {
     "name": "stdout",
     "output_type": "stream",
     "text": [
      "original str   hAppY bIrthDaY\n",
      "Ths is upper   HAPPY BIRTHDAY\n",
      "This is lower   happy birthday\n"
     ]
    }
   ],
   "source": [
    "def upperstr(ref):\n",
    "    def process():\n",
    "        data=ref()\n",
    "        return data.upper()\n",
    "    return process\n",
    "def lowerstr(ref):\n",
    "    def process():\n",
    "        data=ref()\n",
    "        return data.lower()\n",
    "    return process\n",
    "\n",
    "def myfun():\n",
    "    return \"hAppY bIrthDaY\"\n",
    "fun=myfun()\n",
    "print(\"original str  \",fun)\n",
    "\n",
    "up=upperstr(myfun)\n",
    "print(\"Ths is upper  \",up())\n",
    "\n",
    "lo=lowerstr(myfun)\n",
    "print(\"This is lower  \",lo())"
   ]
  },
  {
   "cell_type": "markdown",
   "id": "3df3fb7a",
   "metadata": {},
   "source": [
    "# Closure \n",
    "\n",
    "Python closure is a nested function that allows us to access variables of the outer function even after the outer function is closed."
   ]
  },
  {
   "cell_type": "code",
   "execution_count": 2,
   "id": "56a2e4c1",
   "metadata": {},
   "outputs": [
    {
     "name": "stdout",
     "output_type": "stream",
     "text": [
      "10\n"
     ]
    }
   ],
   "source": [
    "def outer(x):\n",
    "    def inner(y):\n",
    "        return x+y\n",
    "    return inner\n",
    "re=outer(5)\n",
    "inn=re(5)\n",
    "print(inn)"
   ]
  },
  {
   "cell_type": "markdown",
   "id": "65d2d6ec",
   "metadata": {},
   "source": [
    "# how to implement decorator and types of decorators "
   ]
  },
  {
   "cell_type": "markdown",
   "id": "32ab0c5a",
   "metadata": {},
   "source": [
    "# types of decorators\n",
    "(1. single Decorator 2).multiple Decorator)\n",
    "\n",
    "1).function Decorator.\n",
    "2).class Decorator.\n",
    "3).method Decorator."
   ]
  },
  {
   "cell_type": "markdown",
   "id": "f3c45cc2",
   "metadata": {},
   "source": [
    "# 1).FUNCTION decorators\n",
    "# 1. single Decorator \n",
    "\n",
    "\n",
    "@function_name"
   ]
  },
  {
   "cell_type": "code",
   "execution_count": 3,
   "id": "8a53a1cc",
   "metadata": {},
   "outputs": [
    {
     "name": "stdout",
     "output_type": "stream",
     "text": [
      "HAPPY BIRTHDAY\n"
     ]
    }
   ],
   "source": [
    "def upperstr(ref):\n",
    "#     print(\"sdcjg\",ref())\n",
    "    def process():\n",
    "        data=ref()\n",
    "        return data.upper()\n",
    "    return process\n",
    "@upperstr #it passess the output of th myfun ans parameter into upperstr(ref)\n",
    "def myfun():\n",
    "    return \"hAppY bIrthDaY\"\n",
    "print(myfun())\n",
    "# up=upperstr(myfun)\n",
    "# print(\"Ths is upper  \",up())"
   ]
  },
  {
   "cell_type": "markdown",
   "id": "f6927c75",
   "metadata": {},
   "source": [
    "# 2).multiple Decorator"
   ]
  },
  {
   "cell_type": "code",
   "execution_count": 4,
   "id": "896aaf83",
   "metadata": {},
   "outputs": [
    {
     "name": "stdout",
     "output_type": "stream",
     "text": [
      "['HI', 'THAMARAI']\n"
     ]
    }
   ],
   "source": [
    "#without decorator\n",
    "def de1(ref):\n",
    "    def process1():\n",
    "        data=ref()\n",
    "        return data.upper()\n",
    "    return process1\n",
    "\n",
    "def de2(ref):\n",
    "    def process2():\n",
    "        data=ref()\n",
    "        return data.split()\n",
    "    return process2\n",
    "\n",
    "def myfunction():\n",
    "    return \"hi thamarai\"\n",
    "\n",
    "re=de2(de1(myfunction))\n",
    "print(re())"
   ]
  },
  {
   "cell_type": "code",
   "execution_count": 5,
   "id": "1424def9",
   "metadata": {},
   "outputs": [
    {
     "name": "stdout",
     "output_type": "stream",
     "text": [
      "['HI', 'THAMARAI']\n"
     ]
    }
   ],
   "source": [
    "#with decorator\n",
    "def de1(ref):\n",
    "    def process1():\n",
    "        data=ref()\n",
    "        return data.upper()\n",
    "    return process1\n",
    "\n",
    "def de2(ref):\n",
    "    def process2():\n",
    "        data=ref()\n",
    "        return data.split()\n",
    "    return process2\n",
    "\n",
    "@de2  #second access\n",
    "@de1  #first access\n",
    "\n",
    "def myfunction():\n",
    "    return \"hi thamarai\"\n",
    "print(myfunction())\n",
    "# re=de2(de1(myfunction))\n",
    "# print(re())"
   ]
  },
  {
   "cell_type": "markdown",
   "id": "40b3e635",
   "metadata": {},
   "source": [
    "# decorator with parameter\n",
    "\n",
    "@function_name(parameter)"
   ]
  },
  {
   "cell_type": "code",
   "execution_count": 6,
   "id": "673513ab",
   "metadata": {},
   "outputs": [
    {
     "name": "stdout",
     "output_type": "stream",
     "text": [
      "HAPPY LEARNING CONTENT🔴\n"
     ]
    }
   ],
   "source": [
    "def content(val):\n",
    "    def de1(ref):\n",
    "        def process1():\n",
    "            data=ref()+ val  #note this\n",
    "            return data.upper() \n",
    "        return process1\n",
    "    return de1\n",
    "\n",
    "@content(\" content🔴\")  #decorator with parameter passing\n",
    "def myfun():\n",
    "    return \"Happy Learning\"\n",
    "print(myfun())"
   ]
  },
  {
   "cell_type": "code",
   "execution_count": null,
   "id": "b090c21e",
   "metadata": {},
   "outputs": [],
   "source": [
    "def content(val):\n",
    "    def de1(ref):\n",
    "        def process1():\n",
    "            data=ref() + val  #note this\n",
    "            return data.upper() \n",
    "        return process1\n",
    "    return de1\n",
    "a=input(\"enter a name: \")\n",
    "@content(a)  #decorator with parameter passing\n",
    "def myfun():\n",
    "    return \"Happy Learning\"\n",
    "print(myfun())"
   ]
  },
  {
   "cell_type": "markdown",
   "id": "d3cf1931",
   "metadata": {},
   "source": [
    "# Arithmatic in decorator"
   ]
  },
  {
   "cell_type": "code",
   "execution_count": 1,
   "id": "839fb1a8",
   "metadata": {},
   "outputs": [
    {
     "name": "stdout",
     "output_type": "stream",
     "text": [
      "0.6666666666666666\n"
     ]
    }
   ],
   "source": [
    "def fun(a,b):\n",
    "    print(a/b)\n",
    "fun(2,3)"
   ]
  },
  {
   "cell_type": "code",
   "execution_count": 4,
   "id": "a807a43f",
   "metadata": {},
   "outputs": [
    {
     "ename": "ZeroDivisionError",
     "evalue": "division by zero",
     "output_type": "error",
     "traceback": [
      "\u001b[1;31m---------------------------------------------------------------------------\u001b[0m",
      "\u001b[1;31mZeroDivisionError\u001b[0m                         Traceback (most recent call last)",
      "Cell \u001b[1;32mIn[4], line 3\u001b[0m\n\u001b[0;32m      1\u001b[0m \u001b[38;5;28;01mdef\u001b[39;00m \u001b[38;5;21mfun\u001b[39m(a,b):\n\u001b[0;32m      2\u001b[0m     \u001b[38;5;28mprint\u001b[39m(a\u001b[38;5;241m/\u001b[39mb)\n\u001b[1;32m----> 3\u001b[0m fun(\u001b[38;5;241m2\u001b[39m,\u001b[38;5;241m0\u001b[39m)\n",
      "Cell \u001b[1;32mIn[4], line 2\u001b[0m, in \u001b[0;36mfun\u001b[1;34m(a, b)\u001b[0m\n\u001b[0;32m      1\u001b[0m \u001b[38;5;28;01mdef\u001b[39;00m \u001b[38;5;21mfun\u001b[39m(a,b):\n\u001b[1;32m----> 2\u001b[0m     \u001b[38;5;28mprint\u001b[39m(a\u001b[38;5;241m/\u001b[39mb)\n",
      "\u001b[1;31mZeroDivisionError\u001b[0m: division by zero"
     ]
    }
   ],
   "source": [
    "def fun(a,b):\n",
    "    print(a/b)\n",
    "fun(2,0)"
   ]
  },
  {
   "cell_type": "code",
   "execution_count": 12,
   "id": "579e3392",
   "metadata": {},
   "outputs": [
    {
     "name": "stdout",
     "output_type": "stream",
     "text": [
      "14.0\n"
     ]
    }
   ],
   "source": [
    "def divide_dec(func):\n",
    "    def process(a,b):\n",
    "        if b==0:\n",
    "            return \"plese enter number other than zero\"\n",
    "        return func(a,b)\n",
    "    return process\n",
    "\n",
    "@divide_dec\n",
    "def divide(a,b):\n",
    "    return a/b\n",
    "\n",
    "print(divide(56,4))"
   ]
  },
  {
   "cell_type": "markdown",
   "id": "9999cfa2",
   "metadata": {},
   "source": [
    "# implement single decorator for a multiple function"
   ]
  },
  {
   "cell_type": "code",
   "execution_count": 28,
   "id": "22073f44",
   "metadata": {},
   "outputs": [
    {
     "name": "stdout",
     "output_type": "stream",
     "text": [
      "5.0\n",
      "2.5\n",
      "0.625\n",
      "plese enter number other than zero\n",
      "0.0\n"
     ]
    }
   ],
   "source": [
    "def devide_deco(func):\n",
    "    def process(*args):\n",
    "        if 0 in args[1:]:\n",
    "            return \"plese enter number other than zero\"\n",
    "        return func(*args)\n",
    "    return process\n",
    "\n",
    "@devide_deco\n",
    "def divide(a,b):\n",
    "    return a/b\n",
    "print(divide(10,2))\n",
    "\n",
    "@devide_deco\n",
    "def divide(a,b,c):\n",
    "    return a/b/c\n",
    "print(divide(10,2,2))\n",
    "\n",
    "@devide_deco\n",
    "def divide(a,b,c,d):\n",
    "    return a/b/c/d\n",
    "print(divide(10,2,2,4))\n",
    "\n",
    "@devide_deco\n",
    "def divide(a,b,c,d,e):\n",
    "    return a/b/c/d/e\n",
    "print(divide(10,2,2,4,0))\n",
    "\n",
    "@devide_deco\n",
    "def divide(a,b,c,d,e):\n",
    "    return a/b/c/d/e\n",
    "print(divide(0,2,2,4,10))"
   ]
  },
  {
   "cell_type": "markdown",
   "id": "8f78aaf6",
   "metadata": {},
   "source": [
    "# implement class decorator"
   ]
  },
  {
   "cell_type": "code",
   "execution_count": 32,
   "id": "f1ef859e",
   "metadata": {},
   "outputs": [
    {
     "name": "stdout",
     "output_type": "stream",
     "text": [
      "this is init\n",
      "this is call\n"
     ]
    }
   ],
   "source": [
    "class example():\n",
    "    def __init__(self):\n",
    "        print(\"this is init\")\n",
    "    def __call__(self):\n",
    "        print(\"this is call\")\n",
    "        \n",
    "ob=example() # it will print  __init__\n",
    "ob()  #it will print __call__"
   ]
  },
  {
   "cell_type": "code",
   "execution_count": 34,
   "id": "a67577a0",
   "metadata": {},
   "outputs": [
    {
     "name": "stdout",
     "output_type": "stream",
     "text": [
      "this is init\n",
      "this is call 12\n",
      "12\n"
     ]
    }
   ],
   "source": [
    "class example():\n",
    "    def __init__(self):\n",
    "        print(\"this is init\")\n",
    "    def __call__(self,a,b):\n",
    "        print(\"this is call\", a+b)\n",
    "        print(a+b)\n",
    "        \n",
    "ob=example() # it will print  __init__\n",
    "ob(10,2)  #it will print __call__"
   ]
  },
  {
   "cell_type": "code",
   "execution_count": 41,
   "id": "4c83b5b4",
   "metadata": {},
   "outputs": [
    {
     "name": "stdout",
     "output_type": "stream",
     "text": [
      "this is init\n",
      "this is call 14\n",
      "14\n",
      "this is display method\n",
      "this is call 53\n",
      "53\n"
     ]
    }
   ],
   "source": [
    "class example():\n",
    "    def __init__(self):\n",
    "        print(\"this is init\")\n",
    "    def __call__(self,a,b):\n",
    "        print(\"this is call\", a+b)\n",
    "        print(a+b)\n",
    "        \n",
    "    def displey(self):\n",
    "        print(\"this is display method\")\n",
    "        \n",
    "ob=example() # it will print  __init__\n",
    "ob(12,2)  #it will print __call__\n",
    "ob.displey()\n",
    "ob.__call__(12,41)  #it will also work"
   ]
  },
  {
   "cell_type": "code",
   "execution_count": 43,
   "id": "8fc33ac0",
   "metadata": {},
   "outputs": [
    {
     "name": "stdout",
     "output_type": "stream",
     "text": [
      "Happy Learming\n"
     ]
    }
   ],
   "source": [
    " class MYdec():\n",
    "        def __init__(self,fun):\n",
    "            self.fun=fun\n",
    "        def __call__(self):\n",
    "            self.fun()\n",
    "def fun():\n",
    "    print(\"Happy Learming\")\n",
    "    \n",
    "obj=MYdec(fun)\n",
    "obj()"
   ]
  },
  {
   "cell_type": "code",
   "execution_count": 44,
   "id": "68122bfb",
   "metadata": {},
   "outputs": [
    {
     "name": "stdout",
     "output_type": "stream",
     "text": [
      "Happy Learming\n"
     ]
    }
   ],
   "source": [
    " class MYdec():\n",
    "        def __init__(self,fun):\n",
    "            self.fun=fun\n",
    "        def __call__(self):\n",
    "            self.fun()\n",
    "@MYdec\n",
    "def fun():\n",
    "    print(\"Happy Learming\")\n",
    "    \n",
    "fun()"
   ]
  },
  {
   "cell_type": "markdown",
   "id": "33b2a992",
   "metadata": {},
   "source": [
    "# implement class decorator with return value"
   ]
  },
  {
   "cell_type": "code",
   "execution_count": 5,
   "id": "59592390",
   "metadata": {},
   "outputs": [
    {
     "name": "stdout",
     "output_type": "stream",
     "text": [
      "20\n"
     ]
    }
   ],
   "source": [
    "class demo():\n",
    "    def __init__(self, fun):\n",
    "        self.fun=fun\n",
    "    def __call__(self,a,b):\n",
    "        val=self.fun(a,b)\n",
    "        return val\n",
    "@demo\n",
    "def multi(a,b):\n",
    "    return a*b\n",
    "\n",
    "print(multi(10,2))"
   ]
  },
  {
   "cell_type": "code",
   "execution_count": 2,
   "id": "319f7fc0",
   "metadata": {},
   "outputs": [
    {
     "name": "stdout",
     "output_type": "stream",
     "text": [
      "HELLO, dhill\n",
      "hi, appu\n",
      "hi, thiru\n"
     ]
    }
   ],
   "source": [
    "class demo():\n",
    "    def __init__(self, fun):\n",
    "        self.fun=fun\n",
    "        \n",
    "    def __call__(self,*args, **kwargs):\n",
    "        val=self.fun(*args,**kwargs)\n",
    "@demo       \n",
    "def fun(name,message=\"HELLO\"):\n",
    "    print(\"{}, {}\".format(message, name))\n",
    "fun(\"dhill\")\n",
    "fun(\"appu\",message=\"hi\")\n",
    "fun(\"thiru\",\"hi\")"
   ]
  },
  {
   "cell_type": "markdown",
   "id": "21d3e99b",
   "metadata": {},
   "source": [
    "# implement user defined module\n",
    "(use vs code for better understanding)\n",
    "\n",
    "\n",
    "1). import file_name from function_name\n",
    "\n",
    "(it will access single function)\n",
    "\n",
    "or\n",
    "\n",
    "2). inport file_name\n",
    "\n",
    "or \n",
    "\n",
    "3). import file_name import *\n",
    "\n",
    "(it will access all function)"
   ]
  },
  {
   "cell_type": "markdown",
   "id": "03f10292",
   "metadata": {},
   "source": [
    "# SPECIAL VARIABLES \n",
    "# what is --name-- and --main--"
   ]
  },
  {
   "cell_type": "code",
   "execution_count": 4,
   "id": "7a50234f",
   "metadata": {},
   "outputs": [
    {
     "name": "stdout",
     "output_type": "stream",
     "text": [
      "__main__\n"
     ]
    }
   ],
   "source": [
    "print(__name__)\n",
    "# print(__main__)"
   ]
  },
  {
   "cell_type": "code",
   "execution_count": 6,
   "id": "7f1d92e4",
   "metadata": {},
   "outputs": [
    {
     "name": "stdout",
     "output_type": "stream",
     "text": [
      "Good Morning\n",
      "have a nice day\n",
      "__main__\n"
     ]
    }
   ],
   "source": [
    "def greet():\n",
    "    print(\"Good Morning\")\n",
    "def message():\n",
    "    print(\"have a nice day\")\n",
    "    \n",
    "def main():\n",
    "    greet()\n",
    "    message()\n",
    "\n",
    "if __name__==\"__main__\":\n",
    "    main()\n",
    "    \n",
    "print(__name__)"
   ]
  },
  {
   "cell_type": "markdown",
   "id": "488300a5",
   "metadata": {},
   "source": [
    "# data abstractions \n",
    "\n",
    "before data abstraction we must know\n",
    "\n",
    "1).what is modules \n",
    "2).importing modules\n",
    "3).what is abstraction classes on abstract method\n",
    "4).what is concrete method\n"
   ]
  },
  {
   "cell_type": "markdown",
   "id": "3a250f97",
   "metadata": {},
   "source": [
    "# example of data abstraction"
   ]
  },
  {
   "cell_type": "code",
   "execution_count": 7,
   "id": "0be92342",
   "metadata": {},
   "outputs": [
    {
     "name": "stdout",
     "output_type": "stream",
     "text": [
      "hi this is normal class style\n"
     ]
    }
   ],
   "source": [
    "#normal class\n",
    "class a():\n",
    "    def method1(self):\n",
    "        print(\"hi this is normal class style\")\n",
    "obj=a()\n",
    "obj.method1()"
   ]
  },
  {
   "cell_type": "code",
   "execution_count": 16,
   "id": "18eb6e6a",
   "metadata": {},
   "outputs": [
    {
     "ename": "TypeError",
     "evalue": "Can't instantiate abstract class a with abstract method method",
     "output_type": "error",
     "traceback": [
      "\u001b[1;31m---------------------------------------------------------------------------\u001b[0m",
      "\u001b[1;31mTypeError\u001b[0m                                 Traceback (most recent call last)",
      "Cell \u001b[1;32mIn[16], line 10\u001b[0m\n\u001b[0;32m      7\u001b[0m     \u001b[38;5;129m@abstractmethod\u001b[39m\n\u001b[0;32m      8\u001b[0m     \u001b[38;5;28;01mdef\u001b[39;00m \u001b[38;5;21mmethod\u001b[39m(\u001b[38;5;28mself\u001b[39m):\n\u001b[0;32m      9\u001b[0m         \u001b[38;5;28mprint\u001b[39m(\u001b[38;5;124m\"\u001b[39m\u001b[38;5;124mthis is abstrct method\u001b[39m\u001b[38;5;124m\"\u001b[39m)\n\u001b[1;32m---> 10\u001b[0m ob1\u001b[38;5;241m=\u001b[39ma()\n\u001b[0;32m     11\u001b[0m ob1\u001b[38;5;241m.\u001b[39mmethod()\n",
      "\u001b[1;31mTypeError\u001b[0m: Can't instantiate abstract class a with abstract method method"
     ]
    }
   ],
   "source": [
    "#abstact method\n",
    "#abc ==> abstrct base class\n",
    "#we use abstract method no chance for crete objects\n",
    "from abc import ABC,abstractmethod\n",
    "\n",
    "class a(ABC):\n",
    "    @abstractmethod\n",
    "    def method(self):\n",
    "        print(\"this is abstrct method\")\n",
    "ob1=a()\n",
    "ob1.method()"
   ]
  },
  {
   "cell_type": "code",
   "execution_count": 21,
   "id": "747aba43",
   "metadata": {},
   "outputs": [],
   "source": [
    "from abc import ABC,abstractmethod\n",
    "\n",
    "class a(ABC):\n",
    "    @abstractmethod\n",
    "    def method(self):\n",
    "        pass\n",
    "\n",
    "    \n",
    "#mose of time we dont use the method inside comnntent\n",
    "    "
   ]
  },
  {
   "cell_type": "code",
   "execution_count": 25,
   "id": "bf9131a4",
   "metadata": {},
   "outputs": [
    {
     "name": "stdout",
     "output_type": "stream",
     "text": [
      "this is b class\n"
     ]
    }
   ],
   "source": [
    "from abc import ABC,abstractmethod\n",
    "\n",
    "class a(ABC):\n",
    "    @abstractmethod\n",
    "    def method1(self):\n",
    "        pass\n",
    "    \n",
    "class b(a):\n",
    "    def method1(self):\n",
    "        print(\"this is b class\")\n",
    "        \n",
    "ob=b()\n",
    "ob.method1()"
   ]
  },
  {
   "cell_type": "code",
   "execution_count": 27,
   "id": "8fc86b47",
   "metadata": {},
   "outputs": [
    {
     "name": "stdout",
     "output_type": "stream",
     "text": [
      "this is b class\n"
     ]
    }
   ],
   "source": [
    "from abc import ABC,abstractmethod\n",
    "\n",
    "class a(ABC):\n",
    "    @abstractmethod\n",
    "    def method1(self):\n",
    "        print(\"this is a class\")\n",
    "    \n",
    "class b(a):\n",
    "    def method1(self):\n",
    "        print(\"this is b class\")\n",
    "        \n",
    "ob=b()\n",
    "ob.method1()\n",
    "\n",
    "#becaus this is overriddingg"
   ]
  },
  {
   "cell_type": "code",
   "execution_count": 37,
   "id": "b07c09ed",
   "metadata": {},
   "outputs": [
    {
     "name": "stdout",
     "output_type": "stream",
     "text": [
      "this is method3\n",
      "this is method2\n"
     ]
    }
   ],
   "source": [
    "#inheritance method this time we will access\n",
    "from abc import ABC,abstractmethod\n",
    "\n",
    "class a(ABC):\n",
    "    @abstractmethod\n",
    "    def method1(self):\n",
    "        print(\"this is method1\") #same method\n",
    "    def method2(self):\n",
    "        print(\"this is method2\")\n",
    "class b(a):\n",
    "    def method1(self):\n",
    "        print(\"this is method3\")  #same method\n",
    "ob=b()\n",
    "ob.method1()\n",
    "ob.method2()\n"
   ]
  },
  {
   "cell_type": "code",
   "execution_count": 43,
   "id": "f7863312",
   "metadata": {},
   "outputs": [
    {
     "ename": "TypeError",
     "evalue": "Can't instantiate abstract class b with abstract method method2",
     "output_type": "error",
     "traceback": [
      "\u001b[1;31m---------------------------------------------------------------------------\u001b[0m",
      "\u001b[1;31mTypeError\u001b[0m                                 Traceback (most recent call last)",
      "Cell \u001b[1;32mIn[43], line 15\u001b[0m\n\u001b[0;32m     12\u001b[0m     \u001b[38;5;28;01mdef\u001b[39;00m \u001b[38;5;21mmethod1\u001b[39m(\u001b[38;5;28mself\u001b[39m):\n\u001b[0;32m     13\u001b[0m         \u001b[38;5;28mprint\u001b[39m(\u001b[38;5;124m\"\u001b[39m\u001b[38;5;124mthis is method3\u001b[39m\u001b[38;5;124m\"\u001b[39m)  \u001b[38;5;66;03m#same method\u001b[39;00m\n\u001b[1;32m---> 15\u001b[0m ob\u001b[38;5;241m=\u001b[39mb()\n\u001b[0;32m     16\u001b[0m ob\u001b[38;5;241m.\u001b[39mmethod1()\n\u001b[0;32m     17\u001b[0m ob\u001b[38;5;241m.\u001b[39mmethod2()\n",
      "\u001b[1;31mTypeError\u001b[0m: Can't instantiate abstract class b with abstract method method2"
     ]
    }
   ],
   "source": [
    "#inheritance method this time we will access\n",
    "from abc import ABC,abstractmethod\n",
    "\n",
    "class a(ABC):\n",
    "    @abstractmethod\n",
    "    def method1(self):\n",
    "        print(\"this is method1\") #same method\n",
    "    @abstractmethod\n",
    "    def method2(self):\n",
    "        print(\"this is method2\")\n",
    "class b(a):\n",
    "    def method1(self):\n",
    "        print(\"this is method3\")  #same method\n",
    "    \n",
    "ob=b()\n",
    "ob.method1()\n",
    "ob.method2()\n",
    "\n",
    "# without method2"
   ]
  },
  {
   "cell_type": "code",
   "execution_count": 45,
   "id": "ce89de30",
   "metadata": {},
   "outputs": [
    {
     "name": "stdout",
     "output_type": "stream",
     "text": [
      "this is method3\n",
      "this is method4\n"
     ]
    }
   ],
   "source": [
    "#inheritance method this time we will access\n",
    "from abc import ABC,abstractmethod\n",
    "\n",
    "class a(ABC):\n",
    "    @abstractmethod\n",
    "    def method1(self):\n",
    "        print(\"this is method1\") #same method\n",
    "    @abstractmethod\n",
    "    def method2(self):\n",
    "        print(\"this is method2\")\n",
    "        \n",
    "# normalized classes clalled \"congrete class\"\n",
    "class b(a):\n",
    "    def method1(self):\n",
    "        print(\"this is method3\")  #same method\n",
    "    def method2(self):\n",
    "        print(\"this is method4\")  #same method\n",
    "ob=b()\n",
    "ob.method1()\n",
    "ob.method2()\n",
    "\n",
    "# with method2"
   ]
  },
  {
   "cell_type": "markdown",
   "id": "84e573bd",
   "metadata": {},
   "source": [
    "# variable types\n",
    "\n",
    "1).instance variable\n",
    "\n",
    "2).class or staatic variables"
   ]
  },
  {
   "cell_type": "markdown",
   "id": "7a37a725",
   "metadata": {},
   "source": [
    "# 1).instance variable"
   ]
  },
  {
   "cell_type": "code",
   "execution_count": 3,
   "id": "eea05e9f",
   "metadata": {},
   "outputs": [
    {
     "name": "stdout",
     "output_type": "stream",
     "text": [
      "Name:  dhill\n",
      "Roll No:  21\n"
     ]
    }
   ],
   "source": [
    "class c():\n",
    "    \n",
    "    def a(self,a,b):\n",
    "        self.a=a  #instance variable\n",
    "        self.b=b   #instance variable\n",
    "        print(\"Name: \",self.a)\n",
    "        print(\"Roll No: \",self.b)\n",
    "ob=c()\n",
    "ob.a(\"dhill\",21)"
   ]
  },
  {
   "cell_type": "markdown",
   "id": "f007cd84",
   "metadata": {},
   "source": [
    "# 2).class or static variables"
   ]
  },
  {
   "cell_type": "code",
   "execution_count": 5,
   "id": "84ce1e2c",
   "metadata": {},
   "outputs": [
    {
     "name": "stdout",
     "output_type": "stream",
     "text": [
      "hari 21 itvedant\n"
     ]
    }
   ],
   "source": [
    "class detail():\n",
    "    school_name=\"itvedant\"  #class variable or static variable\n",
    "    def __init__(self,name,no):\n",
    "        self.name=name\n",
    "        self.no=no\n",
    "s1=detail(\"hari\",21)\n",
    "print(s1.name,s1.no,detail.school_name)"
   ]
  },
  {
   "cell_type": "code",
   "execution_count": 7,
   "id": "3dd27a1d",
   "metadata": {},
   "outputs": [
    {
     "name": "stdout",
     "output_type": "stream",
     "text": [
      "itvedant\n",
      "hari 21 itvedant\n"
     ]
    }
   ],
   "source": [
    "class detail():\n",
    "    school_name=\"itvedant\"  #class variable or static variable\n",
    "    def __init__(self,name,no):\n",
    "        self.name=name\n",
    "        self.no=no\n",
    "        print(detail.school_name)  #access in class variable inside function\n",
    "s1=detail(\"hari\",21)\n",
    "print(s1.name,s1.no,detail.school_name)"
   ]
  },
  {
   "cell_type": "code",
   "execution_count": 10,
   "id": "fadbf10a",
   "metadata": {},
   "outputs": [
    {
     "name": "stdout",
     "output_type": "stream",
     "text": [
      "DSHSS\n",
      "hari 21 DSHSS\n"
     ]
    }
   ],
   "source": [
    "class detail():\n",
    "    school_name=\"itvedant\"  #class variable or static variable\n",
    "    def __init__(self,name,no):\n",
    "        self.name=name\n",
    "        self.no=no\n",
    "        print(detail.school_name)  #access in class variable inside function\n",
    "detail.school_name=\"DSHSS\" #change class variable value\n",
    "s1=detail(\"hari\",21)\n",
    "print(s1.name,s1.no,detail.school_name)"
   ]
  },
  {
   "cell_type": "markdown",
   "id": "8d9350dc",
   "metadata": {},
   "source": [
    "# Class variables are defined within the class but outside of any class methods. Instance variables are defined within class methods, typically the constructor. Changes made to the class variable affect all instances. Changes made to the instance variable does not affect all instances"
   ]
  },
  {
   "cell_type": "markdown",
   "id": "16385214",
   "metadata": {},
   "source": [
    "# types of methods\n",
    "\n",
    "1).instance method\n",
    "\n",
    "2).class ethod\n",
    "\n",
    "3).static method"
   ]
  },
  {
   "cell_type": "markdown",
   "id": "48d6bbe8",
   "metadata": {},
   "source": [
    "# example of 1).instance method"
   ]
  },
  {
   "cell_type": "code",
   "execution_count": 13,
   "id": "54d550bb",
   "metadata": {},
   "outputs": [
    {
     "name": "stdout",
     "output_type": "stream",
     "text": [
      "this is instance method\n"
     ]
    }
   ],
   "source": [
    "class demo():\n",
    "    def method1(self):  #instaance\n",
    "        print(\"this is instance method\")\n",
    "ob=demo()\n",
    "ob.method1()"
   ]
  },
  {
   "cell_type": "code",
   "execution_count": 15,
   "id": "321d7317",
   "metadata": {},
   "outputs": [
    {
     "name": "stdout",
     "output_type": "stream",
     "text": [
      "this is instance method\n"
     ]
    }
   ],
   "source": [
    "class demo():\n",
    "    def method1(self):   #instaance\n",
    "        print(\"this is instance method\")\n",
    "ob=demo()\n",
    "demo.method1(ob)"
   ]
  },
  {
   "cell_type": "code",
   "execution_count": 16,
   "id": "5bf4db06",
   "metadata": {},
   "outputs": [
    {
     "name": "stdout",
     "output_type": "stream",
     "text": [
      "this is instance method\n",
      "20\n",
      "12\n"
     ]
    }
   ],
   "source": [
    "class demo():\n",
    "    def method1(self,a,b):   #instaance\n",
    "        print(\"this is instance method\")\n",
    "        print(a*b)\n",
    "        print(a+b)\n",
    "ob=demo()\n",
    "ob.method1(10,2)"
   ]
  },
  {
   "cell_type": "markdown",
   "id": "5dbfeef6",
   "metadata": {},
   "source": [
    "# example of 2).class method"
   ]
  },
  {
   "cell_type": "code",
   "execution_count": 24,
   "id": "8743a15e",
   "metadata": {},
   "outputs": [
    {
     "name": "stdout",
     "output_type": "stream",
     "text": [
      "this is stu1\n",
      "this is stu2\n",
      "this is stu2\n"
     ]
    }
   ],
   "source": [
    "class demo():\n",
    "    def stu1(self):\n",
    "        print(\"this is stu1\")\n",
    "    @classmethod   #class method\n",
    "    def stu2(cls):  #we must use cls in instance\n",
    "        print(\"this is stu2\")\n",
    "ob=demo()\n",
    "ob.stu1()\n",
    "ob.stu2()\n",
    "demo.stu2()\n",
    "# demo.stu1()  #it will not work"
   ]
  },
  {
   "cell_type": "code",
   "execution_count": 26,
   "id": "72519761",
   "metadata": {},
   "outputs": [
    {
     "name": "stdout",
     "output_type": "stream",
     "text": [
      "this is stu1\n",
      "this is stu2\n",
      "itvedannt\n",
      "this is stu2\n",
      "itvedannt\n"
     ]
    }
   ],
   "source": [
    "class demo():\n",
    "    var=\"itvedannt\"  #see this \n",
    "    def stu1(self):\n",
    "        print(\"this is stu1\")\n",
    "    @classmethod   #class method\n",
    "    def stu2(cls):  #we must use cls in instance\n",
    "        print(\"this is stu2\")\n",
    "        print(cls.var) # See this\n",
    "ob=demo()\n",
    "ob.stu1()\n",
    "ob.stu2()\n",
    "demo.stu2()\n",
    "# demo.stu1()  #it will not work"
   ]
  },
  {
   "cell_type": "markdown",
   "id": "1f1e6d3d",
   "metadata": {},
   "source": [
    "# example of 3).static method"
   ]
  },
  {
   "cell_type": "code",
   "execution_count": 29,
   "id": "42190565",
   "metadata": {},
   "outputs": [
    {
     "name": "stdout",
     "output_type": "stream",
     "text": [
      "this is static method\n",
      "this is static method\n"
     ]
    }
   ],
   "source": [
    "class demo():\n",
    "    @staticmethod\n",
    "    def sample(): #without instance\n",
    "        print(\"this is static method\")\n",
    "on=demo()\n",
    "on.sample()\n",
    "\n",
    "demo.sample()\n"
   ]
  },
  {
   "cell_type": "markdown",
   "id": "646c820e",
   "metadata": {},
   "source": [
    "# combination of static and class method"
   ]
  },
  {
   "cell_type": "code",
   "execution_count": 38,
   "id": "a25e6ccc",
   "metadata": {},
   "outputs": [
    {
     "name": "stdout",
     "output_type": "stream",
     "text": [
      "this isnmethod 01\n",
      "this is metjod 02 in classmethod\n",
      "this is method 03 and static\n",
      "this is metjod 02 in classmethod\n",
      "this is method 03 and static\n"
     ]
    }
   ],
   "source": [
    "class Myclass():\n",
    "    \n",
    "    def method1(self):\n",
    "        print(\"this isnmethod 01\")\n",
    "        \n",
    "    @classmethod\n",
    "    def method2(cls):\n",
    "        print(\"this is metjod 02 in classmethod\")\n",
    "    \n",
    "    @staticmethod\n",
    "    def method3():\n",
    "        print(\"this is method 03 and static\")\n",
    "        \n",
    "ob=Myclass()\n",
    "ob.method1()\n",
    "ob.method2()\n",
    "ob.method3()\n",
    "# Myclass.method1()  #it will not work\n",
    "Myclass.method2() #this is class method so it will run\n",
    "Myclass.method3()  #it will work so this is static method"
   ]
  },
  {
   "cell_type": "markdown",
   "id": "0c79e500",
   "metadata": {},
   "source": [
    "# iterators"
   ]
  },
  {
   "cell_type": "code",
   "execution_count": 39,
   "id": "96df6260",
   "metadata": {},
   "outputs": [
    {
     "name": "stdout",
     "output_type": "stream",
     "text": [
      "[1, 2, 3, 4, 5]\n"
     ]
    }
   ],
   "source": [
    "l=[1,2,3,4,5]\n",
    "print(l)"
   ]
  },
  {
   "cell_type": "code",
   "execution_count": 45,
   "id": "d3f7aa49",
   "metadata": {},
   "outputs": [
    {
     "name": "stdout",
     "output_type": "stream",
     "text": [
      "1\n",
      "2\n",
      "3\n",
      "4\n",
      "5\n"
     ]
    }
   ],
   "source": [
    "l=[1,2,3,4,5]\n",
    "print(l[0])\n",
    "print(l[1])\n",
    "print(l[2])\n",
    "print(l[3])\n",
    "print(l[4])"
   ]
  },
  {
   "cell_type": "code",
   "execution_count": null,
   "id": "ed22eaae",
   "metadata": {},
   "outputs": [],
   "source": []
  },
  {
   "cell_type": "code",
   "execution_count": 40,
   "id": "17eb282d",
   "metadata": {},
   "outputs": [
    {
     "name": "stdout",
     "output_type": "stream",
     "text": [
      "1\n",
      "2\n",
      "3\n",
      "4\n",
      "5\n"
     ]
    }
   ],
   "source": [
    "l=[1,2,3,4,5]  #list\n",
    "for i in l:\n",
    "    print(i)"
   ]
  },
  {
   "cell_type": "code",
   "execution_count": 46,
   "id": "b154155c",
   "metadata": {},
   "outputs": [
    {
     "name": "stdout",
     "output_type": "stream",
     "text": [
      "1\n",
      "2\n",
      "3\n",
      "4\n",
      "5\n"
     ]
    }
   ],
   "source": [
    "l={1,2,3,4,5} #set\n",
    "for i in l:\n",
    "    print(i)"
   ]
  },
  {
   "cell_type": "code",
   "execution_count": 47,
   "id": "c5b6220c",
   "metadata": {},
   "outputs": [
    {
     "name": "stdout",
     "output_type": "stream",
     "text": [
      "tts\n",
      "lotus\n",
      "4\n",
      "3\n",
      "7\n",
      "45\n",
      "dhill\n"
     ]
    }
   ],
   "source": [
    "li=[\"tts\",\"lotus\",4,3,7,45,\"dhill\"]\n",
    "i=0\n",
    "while i<len(li):\n",
    "    print(li[i])\n",
    "    i+=1"
   ]
  },
  {
   "cell_type": "code",
   "execution_count": 48,
   "id": "ab25672c",
   "metadata": {},
   "outputs": [
    {
     "ename": "TypeError",
     "evalue": "'set' object is not subscriptable",
     "output_type": "error",
     "traceback": [
      "\u001b[1;31m---------------------------------------------------------------------------\u001b[0m",
      "\u001b[1;31mTypeError\u001b[0m                                 Traceback (most recent call last)",
      "Cell \u001b[1;32mIn[48], line 4\u001b[0m\n\u001b[0;32m      2\u001b[0m i\u001b[38;5;241m=\u001b[39m\u001b[38;5;241m0\u001b[39m\n\u001b[0;32m      3\u001b[0m \u001b[38;5;28;01mwhile\u001b[39;00m i\u001b[38;5;241m<\u001b[39m\u001b[38;5;28mlen\u001b[39m(li):\n\u001b[1;32m----> 4\u001b[0m     \u001b[38;5;28mprint\u001b[39m(li[i])\n\u001b[0;32m      5\u001b[0m     i\u001b[38;5;241m+\u001b[39m\u001b[38;5;241m=\u001b[39m\u001b[38;5;241m1\u001b[39m\n",
      "\u001b[1;31mTypeError\u001b[0m: 'set' object is not subscriptable"
     ]
    }
   ],
   "source": [
    "li={\"tts\",\"lotus\",4,3,7,45,\"dhill\"}\n",
    "i=0\n",
    "while i<len(li):\n",
    "    print(li[i])\n",
    "    i+=1"
   ]
  },
  {
   "cell_type": "markdown",
   "id": "f7d852d0",
   "metadata": {},
   "source": [
    "# iter    and    next 🔴🔴🔴🔴"
   ]
  },
  {
   "cell_type": "code",
   "execution_count": 58,
   "id": "67c8ceb4",
   "metadata": {},
   "outputs": [
    {
     "data": {
      "text/plain": [
       "<list_iterator at 0x2e73ae0ef20>"
      ]
     },
     "execution_count": 58,
     "metadata": {},
     "output_type": "execute_result"
    }
   ],
   "source": [
    "lli=[\"tts\",\"lotus\",4,3,7,45,\"dhill\"]\n",
    "iter(lli)"
   ]
  },
  {
   "cell_type": "code",
   "execution_count": 60,
   "id": "a8467c59",
   "metadata": {},
   "outputs": [
    {
     "name": "stdout",
     "output_type": "stream",
     "text": [
      "tts\n",
      "lotus\n",
      "4\n",
      "3\n",
      "7\n",
      "45\n",
      "dhill\n"
     ]
    }
   ],
   "source": [
    "lli=[\"tts\",\"lotus\",4,3,7,45,\"dhill\"]\n",
    "a=iter(lli)\n",
    "print(next(a))\n",
    "print(next(a))\n",
    "print(next(a))\n",
    "print(next(a))\n",
    "print(next(a))\n",
    "print(next(a))\n",
    "print(a.__next__())  #do same work"
   ]
  },
  {
   "cell_type": "markdown",
   "id": "f9f24866",
   "metadata": {},
   "source": [
    "# user define iterators"
   ]
  },
  {
   "cell_type": "code",
   "execution_count": 61,
   "id": "42fab2ac",
   "metadata": {},
   "outputs": [
    {
     "name": "stdout",
     "output_type": "stream",
     "text": [
      "12\n",
      "34\n",
      "57\n"
     ]
    }
   ],
   "source": [
    "def loop(val):\n",
    "    it=iter(val)\n",
    "    while True:\n",
    "        try:\n",
    "            item=next(it)\n",
    "        except StopIteration:\n",
    "            break\n",
    "        else:\n",
    "            print(item)\n",
    "loop([12,34,57])"
   ]
  },
  {
   "cell_type": "code",
   "execution_count": 65,
   "id": "269d2d74",
   "metadata": {},
   "outputs": [
    {
     "name": "stdout",
     "output_type": "stream",
     "text": [
      "1\n",
      "2\n",
      "3\n",
      "4\n",
      "5\n",
      "6\n",
      "7\n",
      "8\n",
      "9\n",
      "10\n"
     ]
    }
   ],
   "source": [
    "class ten():\n",
    "    def __init__(self):\n",
    "        self.num=1\n",
    "    def __iter__(self):\n",
    "        return self\n",
    "    def __next__(self):\n",
    "        if self.num<=10:\n",
    "            val=self.num\n",
    "            self.num+=1\n",
    "            return val\n",
    "        else:\n",
    "            raise StopIteration\n",
    "on=ten()\n",
    "\n",
    "for i in on:\n",
    "    print(i)"
   ]
  },
  {
   "cell_type": "markdown",
   "id": "5d67f862",
   "metadata": {},
   "source": [
    "# generator\n",
    "\n",
    "yield"
   ]
  },
  {
   "cell_type": "code",
   "execution_count": 1,
   "id": "005a5801",
   "metadata": {},
   "outputs": [
    {
     "data": {
      "text/plain": [
       "5"
      ]
     },
     "execution_count": 1,
     "metadata": {},
     "output_type": "execute_result"
    }
   ],
   "source": [
    "def num():\n",
    "    return 5\n",
    "num()"
   ]
  },
  {
   "cell_type": "code",
   "execution_count": 12,
   "id": "bbaf1555",
   "metadata": {},
   "outputs": [
    {
     "name": "stdout",
     "output_type": "stream",
     "text": [
      "5\n",
      "3\n",
      "4\n",
      "6\n",
      "7\n"
     ]
    }
   ],
   "source": [
    "def n():\n",
    "    yield 5\n",
    "    yield 3\n",
    "    yield 4\n",
    "    yield 6\n",
    "    yield 7\n",
    "b=n()\n",
    "# print(b.__next__())\n",
    "print(next(b))\n",
    "print(next(b))\n",
    "print(next(b))\n",
    "print(next(b))\n",
    "print(next(b))\n"
   ]
  },
  {
   "cell_type": "code",
   "execution_count": 13,
   "id": "1b959483",
   "metadata": {
    "scrolled": true
   },
   "outputs": [
    {
     "name": "stdout",
     "output_type": "stream",
     "text": [
      "5\n",
      "3\n",
      "4\n",
      "6\n",
      "7\n"
     ]
    }
   ],
   "source": [
    "def n():\n",
    "    yield 5\n",
    "    yield 3\n",
    "    yield 4\n",
    "    yield 6\n",
    "    yield 7\n",
    "b=n()\n",
    "# print(next(b))\n",
    "print(b.__next__())\n",
    "print(b.__next__())\n",
    "print(b.__next__())\n",
    "print(b.__next__())\n",
    "print(b.__next__())"
   ]
  },
  {
   "cell_type": "code",
   "execution_count": 14,
   "id": "299e1407",
   "metadata": {},
   "outputs": [
    {
     "name": "stdout",
     "output_type": "stream",
     "text": [
      "5\n",
      "3\n",
      "4\n",
      "6\n",
      "7\n"
     ]
    }
   ],
   "source": [
    "def n():\n",
    "    yield 5\n",
    "    yield 3\n",
    "    yield 4\n",
    "    yield 6\n",
    "    yield 7\n",
    "b=n()\n",
    "\n",
    "for i in b:\n",
    "    print(i)"
   ]
  },
  {
   "cell_type": "code",
   "execution_count": 15,
   "id": "4cf3033a",
   "metadata": {},
   "outputs": [
    {
     "name": "stdout",
     "output_type": "stream",
     "text": [
      "5\n",
      "3\n",
      "4\n",
      "6\n",
      "7\n"
     ]
    }
   ],
   "source": [
    "def n():\n",
    "    yield 5\n",
    "    yield 3\n",
    "    yield 4\n",
    "    yield 6\n",
    "    yield 7\n",
    "# b=n()\n",
    "\n",
    "for i in n():\n",
    "    print(i)"
   ]
  },
  {
   "cell_type": "code",
   "execution_count": 9,
   "id": "7a3e3505",
   "metadata": {},
   "outputs": [
    {
     "name": "stdout",
     "output_type": "stream",
     "text": [
      "First String\n",
      "Second string\n",
      "Third String\n"
     ]
    }
   ],
   "source": [
    "def multi_yield():\n",
    "    strl = \"First String\"\n",
    "    yield strl\n",
    "    \n",
    "    str2 = \"Second string\"\n",
    "    yield str2\n",
    "    \n",
    "    str3 = \"Third String\"\n",
    "    yield str3\n",
    "    \n",
    "obj =multi_yield()\n",
    "print(next(obj))\n",
    "print (next(obj))\n",
    "print (next (obj))"
   ]
  },
  {
   "cell_type": "markdown",
   "id": "cde40e7a",
   "metadata": {},
   "source": [
    "# immplement generator with an example"
   ]
  },
  {
   "cell_type": "code",
   "execution_count": 2,
   "id": "7a3688ca",
   "metadata": {},
   "outputs": [
    {
     "name": "stdout",
     "output_type": "stream",
     "text": [
      "0\n",
      "2\n",
      "4\n",
      "6\n",
      "8\n"
     ]
    }
   ],
   "source": [
    "def single():\n",
    "    for i in range(10):\n",
    "        if (i%2==0):\n",
    "            yield i\n",
    "for i in single():\n",
    "    print(i)"
   ]
  },
  {
   "cell_type": "code",
   "execution_count": 3,
   "id": "ee38250b",
   "metadata": {},
   "outputs": [
    {
     "name": "stdout",
     "output_type": "stream",
     "text": [
      "1\n",
      "2\n",
      "3\n",
      "4\n",
      "5\n",
      "6\n",
      "7\n",
      "8\n",
      "9\n",
      "10\n"
     ]
    }
   ],
   "source": [
    "def ten():\n",
    "    n=1\n",
    "    while n<=10:\n",
    "        sq=n\n",
    "        yield sq\n",
    "        n=n+1\n",
    "for i in ten():\n",
    "    print(i)"
   ]
  },
  {
   "cell_type": "code",
   "execution_count": 8,
   "id": "590273ba",
   "metadata": {},
   "outputs": [
    {
     "name": "stdout",
     "output_type": "stream",
     "text": [
      "1\n",
      "2\n",
      "3\n",
      "4\n",
      "5\n",
      "6\n",
      "7\n",
      "8\n",
      "9\n",
      "10\n"
     ]
    }
   ],
   "source": [
    "def ten():\n",
    "    n=1\n",
    "    while n<=10:\n",
    "        sq=n\n",
    "        yield sq\n",
    "        n=n+1\n",
    "        \n",
    "ob=ten()\n",
    "print(ob.__next__())\n",
    "print(ob.__next__())\n",
    "print(ob.__next__())\n",
    "print(ob.__next__())\n",
    "print(ob.__next__())\n",
    "print(ob.__next__())\n",
    "print(ob.__next__())\n",
    "print(ob.__next__())\n",
    "print(ob.__next__())\n",
    "print(ob.__next__())"
   ]
  },
  {
   "cell_type": "code",
   "execution_count": 9,
   "id": "b82c5538",
   "metadata": {},
   "outputs": [
    {
     "name": "stdout",
     "output_type": "stream",
     "text": [
      "1\n",
      "4\n",
      "9\n",
      "16\n",
      "25\n",
      "36\n",
      "49\n",
      "64\n",
      "81\n",
      "100\n"
     ]
    }
   ],
   "source": [
    "def ten():\n",
    "    n=1\n",
    "    while n<=10:\n",
    "        sq=n*n\n",
    "        yield sq\n",
    "        n=n+1\n",
    "on1=ten()\n",
    "\n",
    "for i in ten():\n",
    "    print(i)"
   ]
  },
  {
   "cell_type": "code",
   "execution_count": 1,
   "id": "0a94c1b7",
   "metadata": {},
   "outputs": [
    {
     "name": "stdout",
     "output_type": "stream",
     "text": [
      "1\n",
      "2\n",
      "3\n",
      "5\n",
      "8\n"
     ]
    }
   ],
   "source": [
    "# Fibbonic series \n",
    "\n",
    "def fibo(max):\n",
    "    a,b=0,1\n",
    "    while True:\n",
    "        c=a+b\n",
    "        if c<=max:\n",
    "            yield c\n",
    "            a=b\n",
    "            b=c\n",
    "        else:\n",
    "            break\n",
    "\n",
    "ob2=fibo(10)\n",
    "\n",
    "for i in ob2:\n",
    "    print(i)\n"
   ]
  },
  {
   "cell_type": "markdown",
   "id": "df204c6f",
   "metadata": {},
   "source": [
    "# lambda function"
   ]
  },
  {
   "cell_type": "code",
   "execution_count": 4,
   "id": "95989452",
   "metadata": {},
   "outputs": [
    {
     "name": "stdout",
     "output_type": "stream",
     "text": [
      "hello\n",
      "worls !\n"
     ]
    }
   ],
   "source": [
    "#normmal one\n",
    "def name():\n",
    "    print(\"hello\")\n",
    "name()\n",
    "\n",
    "def name1():\n",
    "    print(\"worls !\")\n",
    "name1()"
   ]
  },
  {
   "cell_type": "code",
   "execution_count": 18,
   "id": "be96e153",
   "metadata": {},
   "outputs": [
    {
     "name": "stdout",
     "output_type": "stream",
     "text": [
      "hello\n"
     ]
    }
   ],
   "source": [
    "#lambda function\n",
    "\n",
    "mess=lambda:print(\"hello\")\n",
    "mess()"
   ]
  },
  {
   "cell_type": "code",
   "execution_count": 8,
   "id": "e56b8d7d",
   "metadata": {},
   "outputs": [
    {
     "name": "stdout",
     "output_type": "stream",
     "text": [
      "21\n"
     ]
    }
   ],
   "source": [
    "mess1=lambda a:print(a)\n",
    "mess1(21)"
   ]
  },
  {
   "cell_type": "code",
   "execution_count": 17,
   "id": "691603cd",
   "metadata": {},
   "outputs": [
    {
     "data": {
      "text/plain": [
       "32"
      ]
     },
     "execution_count": 17,
     "metadata": {},
     "output_type": "execute_result"
    }
   ],
   "source": [
    "mess1=lambda a,b,c: (a if a>b else c)\n",
    "mess1(21,34,32)"
   ]
  },
  {
   "cell_type": "code",
   "execution_count": 22,
   "id": "dd30d613",
   "metadata": {},
   "outputs": [
    {
     "name": "stdout",
     "output_type": "stream",
     "text": [
      "25\n",
      "20\n",
      "13\n"
     ]
    }
   ],
   "source": [
    "mess2=lambda a:print(a+10)\n",
    "mess=lambda a:a+10\n",
    "print(mess(15))\n",
    "mess2(10)\n",
    "ans=mess(3)\n",
    "print(ans)"
   ]
  },
  {
   "cell_type": "code",
   "execution_count": 27,
   "id": "fd7a9b09",
   "metadata": {},
   "outputs": [
    {
     "name": "stdout",
     "output_type": "stream",
     "text": [
      "THAMARAISELVAN\n",
      "thamaraiselvan\n",
      "14\n"
     ]
    }
   ],
   "source": [
    "str1=\"ThAmArAiSeLvAn\"\n",
    "upp=lambda string: string.upper()\n",
    "low=lambda string: string.lower()\n",
    "length=lambda string: len(string)\n",
    "print(upp(str1))\n",
    "print(low(str1))\n",
    "print(length(str1))"
   ]
  },
  {
   "cell_type": "code",
   "execution_count": 29,
   "id": "ef3a7a55",
   "metadata": {},
   "outputs": [
    {
     "name": "stdout",
     "output_type": "stream",
     "text": [
      "Normal Function , Cube:  125\n",
      "Using Lambda Function , cube:  125\n"
     ]
    }
   ],
   "source": [
    "def cube(n):\n",
    "    return n**3\n",
    "print(\"Normal Function , Cube: \", cube(5))\n",
    "\n",
    "lam_cube=lambda n:n**3\n",
    "print(\"Using Lambda Function , cube: \", lam_cube(5))"
   ]
  },
  {
   "cell_type": "markdown",
   "id": "f2d01869",
   "metadata": {},
   "source": [
    "# use lambda function in user defined and high order functions"
   ]
  },
  {
   "cell_type": "code",
   "execution_count": 4,
   "id": "db096df2",
   "metadata": {},
   "outputs": [
    {
     "name": "stdout",
     "output_type": "stream",
     "text": [
      "50\n",
      "60\n"
     ]
    }
   ],
   "source": [
    "a=lambda a,b=10,c=30: a+b+c\n",
    "print(a(10))\n",
    "\n",
    "ba=lambda a,b=10,c=30: a+b+c\n",
    "print(ba(10,20))"
   ]
  },
  {
   "cell_type": "code",
   "execution_count": 21,
   "id": "36a7d28c",
   "metadata": {},
   "outputs": [
    {
     "name": "stdout",
     "output_type": "stream",
     "text": [
      "210\n",
      "80\n"
     ]
    }
   ],
   "source": [
    "# *args\n",
    "\n",
    "add =lambda *args1 : sum(args1)\n",
    "print(add(10,20,30,40,50,60))\n",
    "\n",
    "# **kwrags\n",
    "\n",
    "add1 = lambda *args,**kwargs: sum(args)+sum(kwargs.values())\n",
    "print(add1(50,a=10, b=20))"
   ]
  },
  {
   "cell_type": "code",
   "execution_count": 29,
   "id": "5052862b",
   "metadata": {},
   "outputs": [
    {
     "data": {
      "text/plain": [
       "30"
      ]
     },
     "execution_count": 29,
     "metadata": {},
     "output_type": "execute_result"
    }
   ],
   "source": [
    "# life immediately invoked function expression\n",
    "# defined and executed immediately\n",
    "\n",
    "(lambda a,b:a+b)(10,20)\n",
    "# (lambda c,d:c*d)(10,20)"
   ]
  },
  {
   "cell_type": "code",
   "execution_count": 31,
   "id": "cf913d74",
   "metadata": {},
   "outputs": [
    {
     "name": "stdout",
     "output_type": "stream",
     "text": [
      "[1, 4, 9, 16, 25, 36, 49, 64, 81]\n"
     ]
    }
   ],
   "source": [
    "l1=[1,2,3,4,5,6,7,8,9]\n",
    "l2=[]\n",
    "\n",
    "for l in l1:\n",
    "    temp=lambda l:l**2\n",
    "    l2.append(temp(l))\n",
    "    \n",
    "print(l2)\n"
   ]
  },
  {
   "cell_type": "code",
   "execution_count": 32,
   "id": "5667245c",
   "metadata": {},
   "outputs": [
    {
     "name": "stdout",
     "output_type": "stream",
     "text": [
      "24\n"
     ]
    }
   ],
   "source": [
    "# lambda with user defined funcion\n",
    "\n",
    "def a(x):\n",
    "    return lambda y:x+y\n",
    "t=a(4)\n",
    "print(t(20))"
   ]
  },
  {
   "cell_type": "code",
   "execution_count": 37,
   "id": "5551aff1",
   "metadata": {},
   "outputs": [
    {
     "name": "stdout",
     "output_type": "stream",
     "text": [
      "420\n"
     ]
    }
   ],
   "source": [
    "# lambda with higher oredr function\n",
    "# a function in python with another as an argument or returnsa functions as an output\n",
    "\n",
    "high_order=lambda x,fun:x+fun(x)\n",
    "\n",
    "result=high_order(20,lambda x:x*x)\n",
    "# x=20   and fun=lambda x:x*x(400)\n",
    "print(result)"
   ]
  },
  {
   "cell_type": "markdown",
   "id": "2e6f9802",
   "metadata": {},
   "source": [
    "# map function map()"
   ]
  },
  {
   "cell_type": "code",
   "execution_count": 38,
   "id": "f43a2fa2",
   "metadata": {},
   "outputs": [
    {
     "name": "stdout",
     "output_type": "stream",
     "text": [
      "[1, 4, 9, 16, 25, 36, 49, 64, 81, 100, 121, 144, 169]\n"
     ]
    }
   ],
   "source": [
    "# normal one without map function\n",
    "\n",
    "def add(n):\n",
    "    return n*n\n",
    "num=(1,2,3,4,5,6,7,8,9,10,11,12,13)\n",
    "result=[]\n",
    "\n",
    "for n in num:\n",
    "    result.append(add(n))\n",
    "print(result)"
   ]
  },
  {
   "cell_type": "code",
   "execution_count": 42,
   "id": "bca72a41",
   "metadata": {},
   "outputs": [
    {
     "name": "stdout",
     "output_type": "stream",
     "text": [
      "[1, 4, 9, 16, 25, 36, 49, 64, 81, 100, 121, 144, 169]\n"
     ]
    }
   ],
   "source": [
    "# with map function\n",
    "\n",
    "def add(n):\n",
    "    return n*n\n",
    "num=(1,2,3,4,5,6,7,8,9,10,11,12,13)\n",
    "result=map(add,num)\n",
    "print(list(result))"
   ]
  },
  {
   "cell_type": "code",
   "execution_count": 46,
   "id": "589749de",
   "metadata": {},
   "outputs": [
    {
     "name": "stdout",
     "output_type": "stream",
     "text": [
      "[1, 4, 9, 16, 25, 36, 49, 64, 81, 100]\n",
      "[1, 4, 9, 16, 25, 36, 49, 64, 81, 100]\n"
     ]
    }
   ],
   "source": [
    "# using lambda\n",
    "num=(1,2,3,4,5,6,7,8,9,10)\n",
    "result=map(lambda x:x*x,num)\n",
    "print(list(result))\n",
    "\n",
    "num2=[1,2,3,4,5,6,7,8,9,10]\n",
    "result2=list(map(lambda x:x*x,num2))\n",
    "print(result2)"
   ]
  },
  {
   "cell_type": "code",
   "execution_count": 48,
   "id": "000c18aa",
   "metadata": {},
   "outputs": [
    {
     "name": "stdout",
     "output_type": "stream",
     "text": [
      "[11, 11, 11, 11, 11, 11, 11, 11, 11, 11]\n"
     ]
    }
   ],
   "source": [
    "num1=(1,2,3,4,5,6,7,8,9,10)\n",
    "num2=(10,9,8,7,6,5,4,3,2,1)\n",
    "result=list(map(lambda x,y:x+y, num1,num2))\n",
    "print(result)"
   ]
  },
  {
   "cell_type": "code",
   "execution_count": 58,
   "id": "315ab55d",
   "metadata": {},
   "outputs": [
    {
     "name": "stdout",
     "output_type": "stream",
     "text": [
      "[10, 10, 10, 10, 10, 10, 10, 10, 10, 10]\n"
     ]
    }
   ],
   "source": [
    "num1=(1,2,3,4,5,6,7,8,9,10)\n",
    "num2=(10,9,8,7,6,5,4,3,2,1)\n",
    "num3=(1,1,1,1,1,1,1,1,1,1)\n",
    "\n",
    "result=list(map(lambda x,y,c:x+y-c, num1,num2,num3))\n",
    "print(result)"
   ]
  },
  {
   "cell_type": "code",
   "execution_count": 74,
   "id": "e23d9123",
   "metadata": {},
   "outputs": [
    {
     "name": "stdout",
     "output_type": "stream",
     "text": [
      "['odd', 'even', 'odd', 'even', 'odd', 'even', 'odd', 'even', 'odd']\n"
     ]
    }
   ],
   "source": [
    "def even(num):\n",
    "    if num%2==0:\n",
    "        return \"even\"\n",
    "    else:\n",
    "        return \"odd\"\n",
    "    \n",
    "number=[1,2,3,4,5,6,7,8,9]\n",
    "result=list(map(even,number))\n",
    "print(result)\n"
   ]
  },
  {
   "cell_type": "code",
   "execution_count": 79,
   "id": "246e36cb",
   "metadata": {},
   "outputs": [
    {
     "name": "stdout",
     "output_type": "stream",
     "text": [
      "[False, True, False, True, False, True, False, True, False]\n"
     ]
    }
   ],
   "source": [
    "number=[1,2,3,4,5,6,7,8,9]\n",
    "result=list(map(lambda x: x%2==0,number))\n",
    "print(result)"
   ]
  },
  {
   "cell_type": "code",
   "execution_count": 82,
   "id": "d8cdd0bf",
   "metadata": {},
   "outputs": [
    {
     "name": "stdout",
     "output_type": "stream",
     "text": [
      "['odd', 'Even', 'odd', 'Even', 'odd', 'Even', 'odd', 'Even', 'odd']\n"
     ]
    }
   ],
   "source": [
    "number=[1,2,3,4,5,6,7,8,9]\n",
    "result=list(map(lambda x: \"Even\" if x%2==0 else \"odd\" ,number))\n",
    "print(result)"
   ]
  },
  {
   "cell_type": "markdown",
   "id": "a8c33e1d",
   "metadata": {},
   "source": [
    "# Filter function filter()"
   ]
  },
  {
   "cell_type": "code",
   "execution_count": 8,
   "id": "55ce3d56",
   "metadata": {},
   "outputs": [
    {
     "name": "stdout",
     "output_type": "stream",
     "text": [
      "[2, 4, 6, 8]\n",
      "<filter object at 0x000001ABE61A4F40>\n"
     ]
    }
   ],
   "source": [
    "# normal function\n",
    "## it will work on bool (True and False)\n",
    "def even(num):\n",
    "    if num%2==0:\n",
    "        return True\n",
    "    else:\n",
    "        False\n",
    "        \n",
    "num=[1,2,3,4,5,6,7,8,9]\n",
    "fill=filter(even,num)\n",
    "print(list(fill))\n",
    "print((fill))"
   ]
  },
  {
   "cell_type": "code",
   "execution_count": 18,
   "id": "4633a810",
   "metadata": {},
   "outputs": [
    {
     "name": "stdout",
     "output_type": "stream",
     "text": [
      "34\n",
      "65\n",
      "65\n",
      "33\n",
      "24\n"
     ]
    }
   ],
   "source": [
    "age=[12,34,65,12,11,65,33,24,13]\n",
    "\n",
    "def fun(x):\n",
    "    if x>=18:\n",
    "        return True\n",
    "    else:\n",
    "        return False\n",
    "    \n",
    "adults=filter(fun,age)\n",
    "\n",
    "for x in adults:\n",
    "    print ((x))"
   ]
  },
  {
   "cell_type": "code",
   "execution_count": 19,
   "id": "fe279f4a",
   "metadata": {},
   "outputs": [
    {
     "name": "stdout",
     "output_type": "stream",
     "text": [
      "[1, 3, 5, 7, 9]\n",
      "[0, 2, 4, 6, 8, 10]\n"
     ]
    }
   ],
   "source": [
    "seq=[0,1,2,3,4,5,6,7,8,9,10]\n",
    "\n",
    "result=filter(lambda x: x%2!=0,seq)\n",
    "print(list(result))\n",
    "result=filter(lambda x: x%2==0,seq)\n",
    "print(list(result))"
   ]
  },
  {
   "cell_type": "code",
   "execution_count": 21,
   "id": "80d29531",
   "metadata": {},
   "outputs": [
    {
     "name": "stdout",
     "output_type": "stream",
     "text": [
      "[1, 3, 5, 7, 9]\n",
      "[2, 4, 6, 8, 10]\n"
     ]
    }
   ],
   "source": [
    "result=filter(lambda x: x%2!=0,range(1,11))\n",
    "print(list(result))\n",
    "result=filter(lambda x: x%2==0,range(1,11))\n",
    "print(list(result))"
   ]
  },
  {
   "cell_type": "code",
   "execution_count": 22,
   "id": "83759bd1",
   "metadata": {},
   "outputs": [
    {
     "name": "stdout",
     "output_type": "stream",
     "text": [
      "[3, 6, 9, 0]\n"
     ]
    }
   ],
   "source": [
    "def mul_of_3(num):\n",
    "    return num%3==0\n",
    "\n",
    "number=[1,2,3,4,5,6,7,7,8,9,0]\n",
    "\n",
    "result=list(filter(lambda  x:mul_of_3(x),number))\n",
    "print(result)"
   ]
  },
  {
   "cell_type": "markdown",
   "id": "934f6162",
   "metadata": {},
   "source": [
    "# reduce function reduce()\n",
    "\n",
    "IT IS NOT USED FOR DIRECTLY USE SOME IMPORT \n",
    "\n",
    "step to follow:\n",
    "\n",
    "import\n",
    "\n",
    "print()\n",
    "\n",
    "output should be single"
   ]
  },
  {
   "cell_type": "code",
   "execution_count": 4,
   "id": "a8542b09",
   "metadata": {},
   "outputs": [
    {
     "name": "stdout",
     "output_type": "stream",
     "text": [
      "15\n"
     ]
    }
   ],
   "source": [
    "import functools\n",
    "\n",
    "num=[1,2,3,4,5]\n",
    "def fun(a,b):\n",
    "    return a+b\n",
    "print(functools.reduce(fun,num))\n",
    "\n",
    "# 1+2+3+4+5"
   ]
  },
  {
   "cell_type": "code",
   "execution_count": 1,
   "id": "ed074612",
   "metadata": {},
   "outputs": [
    {
     "name": "stdout",
     "output_type": "stream",
     "text": [
      "15\n"
     ]
    }
   ],
   "source": [
    "# lambda\n",
    "\n",
    "import functools\n",
    "\n",
    "n=[1,2,3,4,5]\n",
    "\n",
    "print(functools.reduce(lambda a,b: a+b, n))"
   ]
  },
  {
   "cell_type": "code",
   "execution_count": 8,
   "id": "711ded10",
   "metadata": {},
   "outputs": [
    {
     "ename": "TypeError",
     "evalue": "can only concatenate list (not \"int\") to list",
     "output_type": "error",
     "traceback": [
      "\u001b[1;31m---------------------------------------------------------------------------\u001b[0m",
      "\u001b[1;31mTypeError\u001b[0m                                 Traceback (most recent call last)",
      "Cell \u001b[1;32mIn[8], line 6\u001b[0m\n\u001b[0;32m      3\u001b[0m num\u001b[38;5;241m=\u001b[39m[\u001b[38;5;241m1\u001b[39m,\u001b[38;5;241m2\u001b[39m,\u001b[38;5;241m3\u001b[39m,\u001b[38;5;241m4\u001b[39m,\u001b[38;5;241m5\u001b[39m]\n\u001b[0;32m      4\u001b[0m num1\u001b[38;5;241m=\u001b[39m[\u001b[38;5;241m1\u001b[39m,\u001b[38;5;241m2\u001b[39m,\u001b[38;5;241m3\u001b[39m,\u001b[38;5;241m4\u001b[39m,\u001b[38;5;241m5\u001b[39m]\n\u001b[1;32m----> 6\u001b[0m \u001b[38;5;28mprint\u001b[39m(functools\u001b[38;5;241m.\u001b[39mreduce(\u001b[38;5;28;01mlambda\u001b[39;00m a,b: a\u001b[38;5;241m+\u001b[39mb, num,num1))\n",
      "Cell \u001b[1;32mIn[8], line 6\u001b[0m, in \u001b[0;36m<lambda>\u001b[1;34m(a, b)\u001b[0m\n\u001b[0;32m      3\u001b[0m num\u001b[38;5;241m=\u001b[39m[\u001b[38;5;241m1\u001b[39m,\u001b[38;5;241m2\u001b[39m,\u001b[38;5;241m3\u001b[39m,\u001b[38;5;241m4\u001b[39m,\u001b[38;5;241m5\u001b[39m]\n\u001b[0;32m      4\u001b[0m num1\u001b[38;5;241m=\u001b[39m[\u001b[38;5;241m1\u001b[39m,\u001b[38;5;241m2\u001b[39m,\u001b[38;5;241m3\u001b[39m,\u001b[38;5;241m4\u001b[39m,\u001b[38;5;241m5\u001b[39m]\n\u001b[1;32m----> 6\u001b[0m \u001b[38;5;28mprint\u001b[39m(functools\u001b[38;5;241m.\u001b[39mreduce(\u001b[38;5;28;01mlambda\u001b[39;00m a,b: a\u001b[38;5;241m+\u001b[39mb, num,num1))\n",
      "\u001b[1;31mTypeError\u001b[0m: can only concatenate list (not \"int\") to list"
     ]
    }
   ],
   "source": [
    "import functools\n",
    "\n",
    "num=[1,2,3,4,5]\n",
    "num1=[1,2,3,4,5]\n",
    "\n",
    "print(functools.reduce(lambda a,b: a+b, num,num1))\n",
    "\n",
    "#because we can use only single iterable"
   ]
  },
  {
   "cell_type": "code",
   "execution_count": 19,
   "id": "c53e7d8d",
   "metadata": {},
   "outputs": [
    {
     "name": "stdout",
     "output_type": "stream",
     "text": [
      "5\n"
     ]
    }
   ],
   "source": [
    "import functools\n",
    "\n",
    "num=[1,2,3,4,5]\n",
    "def maxi(a,b):\n",
    "    if a>b:\n",
    "        return a\n",
    "    else:\n",
    "        return b\n",
    "    \n",
    "print(functools.reduce(maxi,num))\n",
    "\n",
    "# print(dir(functools))"
   ]
  },
  {
   "cell_type": "markdown",
   "id": "fedb0200",
   "metadata": {},
   "source": [
    "# operator() and accumulate() function"
   ]
  },
  {
   "cell_type": "code",
   "execution_count": 35,
   "id": "11db4e75",
   "metadata": {},
   "outputs": [
    {
     "name": "stdout",
     "output_type": "stream",
     "text": [
      "the sum of the list is: 28\n",
      "the concat of the list is: happylearning\n",
      "the multiply of the list is: 5040\n",
      "the multiply of the list is: 120\n"
     ]
    }
   ],
   "source": [
    "# operator () like +,-,/,*\n",
    "\n",
    "import functools\n",
    "import operator\n",
    "\n",
    "lis=[1,2,3,5,4,6,7]\n",
    "print(\"the sum of the list is: \",end=\"\")\n",
    "print(functools.reduce(operator.add,lis))\n",
    "\n",
    "print(\"the concat of the list is: \",end=\"\")\n",
    "print(functools.reduce(operator.concat,['happy', 'learning']))\n",
    "\n",
    "print(\"the multiply of the list is: \",end=\"\")\n",
    "print(functools.reduce(operator.mul,lis))\n",
    "\n",
    "print(\"the multiply of the list is: \",end=\"\")\n",
    "print(functools.reduce(operator.mul,[1,2,3,4,5]))\n"
   ]
  },
  {
   "cell_type": "code",
   "execution_count": 43,
   "id": "3444463c",
   "metadata": {},
   "outputs": [
    {
     "name": "stdout",
     "output_type": "stream",
     "text": [
      "[1, 3, 6, 10, 16, 23, 28, 32]\n",
      "[1, -1, -4, -8, -14, -21, -26, -30]\n",
      "[1, 2, 6, 24, 144, 1008, 5040, 20160]\n",
      "[1, 0.5, 0.16666666666666666, 0.041666666666666664, 0.006944444444444444, 0.000992063492063492, 0.0001984126984126984, 4.96031746031746e-05]\n",
      "32\n"
     ]
    }
   ],
   "source": [
    "# accumulate()\n",
    "\n",
    "import itertools\n",
    "\n",
    "# reduce()\n",
    "import functools\n",
    "\n",
    "lis=[1,2,3,4,6,7,5,4]\n",
    "\n",
    "#accumulate method\n",
    "print(list(itertools.accumulate(lis,lambda x,y:x+y)))\n",
    "print(list(itertools.accumulate(lis,lambda x,y:x-y)))\n",
    "print(list(itertools.accumulate(lis,lambda x,y:x*y)))\n",
    "print(list(itertools.accumulate(lis,lambda x,y:x/y)))\n",
    "#reduce method\n",
    "print(functools.reduce(lambda x,y:x+y,lis))\n",
    "      "
   ]
  },
  {
   "cell_type": "markdown",
   "id": "9031e501",
   "metadata": {},
   "source": [
    "# list comprehansion"
   ]
  },
  {
   "cell_type": "code",
   "execution_count": 44,
   "id": "437c3bf0",
   "metadata": {},
   "outputs": [
    {
     "name": "stdout",
     "output_type": "stream",
     "text": [
      "[1, 'eee', 34]\n"
     ]
    }
   ],
   "source": [
    "#normal list\n",
    "\n",
    "l=[1,\"eee\",34]\n",
    "print(l)"
   ]
  },
  {
   "cell_type": "code",
   "execution_count": 45,
   "id": "17928152",
   "metadata": {},
   "outputs": [
    {
     "name": "stdout",
     "output_type": "stream",
     "text": [
      "['t', 'h', 'a', 'm', 'a', 'r', 'a', 'i']\n"
     ]
    }
   ],
   "source": [
    "le=[]\n",
    "for x in \"thamarai\":\n",
    "    le.append(x)\n",
    "    \n",
    "print(le)"
   ]
  },
  {
   "cell_type": "code",
   "execution_count": 47,
   "id": "df174f29",
   "metadata": {},
   "outputs": [
    {
     "name": "stdout",
     "output_type": "stream",
     "text": [
      "['t', 'h', 'a', 'm', 'a', 'r', 'a', 'i', 's', 'e', 'l', 'v', 'a', 'n']\n"
     ]
    }
   ],
   "source": [
    "# list comprehanssion\n",
    "l=[c for c in \"thamaraiselvan\"]\n",
    "print(l)"
   ]
  },
  {
   "cell_type": "code",
   "execution_count": 49,
   "id": "5dff4e4c",
   "metadata": {},
   "outputs": [
    {
     "name": "stdout",
     "output_type": "stream",
     "text": [
      "[0, 1, 2, 3, 4, 5, 6, 7, 8, 9]\n",
      "[1, 2, 3, 4, 5, 6, 7, 8, 9, 10, 11, 12, 13, 14, 15, 16, 17, 18, 19, 20, 21, 22, 23, 24, 25, 26, 27, 28, 29]\n"
     ]
    }
   ],
   "source": [
    "#range\n",
    "li=[i for i in range(10)]\n",
    "li1=[i for i in range(1,30)]\n",
    "print(li)\n",
    "print(li1)"
   ]
  },
  {
   "cell_type": "code",
   "execution_count": 2,
   "id": "10d1ff1c",
   "metadata": {},
   "outputs": [
    {
     "name": "stdout",
     "output_type": "stream",
     "text": [
      "[2, 4, 6, 8, 10, 12, 14, 16, 18, 20, 22, 24, 26, 28, 30, 32, 34, 36, 38, 40, 42, 44, 46, 48]\n",
      "[1, 3, 5, 7, 9, 11, 13, 15, 17, 19, 21, 23, 25, 27, 29, 31, 33, 35, 37, 39, 41, 43, 45, 47, 49]\n"
     ]
    }
   ],
   "source": [
    "li=[i for i in range(1,50) if i%2==0]\n",
    "li2=[i for i in range(1,50) if i%2!=0]\n",
    "print(li)\n",
    "print(li2)"
   ]
  },
  {
   "cell_type": "code",
   "execution_count": 3,
   "id": "74dafdee",
   "metadata": {},
   "outputs": [
    {
     "name": "stdout",
     "output_type": "stream",
     "text": [
      "[4, 8, 12, 16, 20, 24, 28, 32, 36, 40, 44, 48]\n",
      "[1, 3, 5, 7, 9, 11, 13, 15, 17, 19, 21, 23, 25, 27, 29, 31, 33, 35, 37, 39, 41, 43, 45, 47, 49]\n"
     ]
    }
   ],
   "source": [
    "li=[i for i in range(1,50) if i%2==0 if i%4==0]\n",
    "li2=[i for i in range(1,50) if i%2!=0 if i%4!=0]\n",
    "print(li)\n",
    "print(li2)"
   ]
  },
  {
   "cell_type": "code",
   "execution_count": 8,
   "id": "afb0d402",
   "metadata": {},
   "outputs": [
    {
     "name": "stdout",
     "output_type": "stream",
     "text": [
      "[2, 3, 4, 5, 5, 6, 7, 8, 9, 10]\n",
      "['odd', 'even', 'odd', 'even', 'odd', 'even', 'odd', 'even', 'odd', 'even', 'odd', 'even', 'odd', 'even', 'odd', 'even', 'odd', 'even', 'odd', 'even', 'odd', 'even', 'odd', 'even', 'odd', 'even', 'odd', 'even', 'odd']\n"
     ]
    },
    {
     "ename": "",
     "evalue": "",
     "output_type": "error",
     "traceback": [
      "\u001b[1;31mThe Kernel crashed while executing code in the current cell or a previous cell. \n",
      "\u001b[1;31mPlease review the code in the cell(s) to identify a possible cause of the failure. \n",
      "\u001b[1;31mClick <a href='https://aka.ms/vscodeJupyterKernelCrash'>here</a> for more info. \n",
      "\u001b[1;31mView Jupyter <a href='command:jupyter.viewOutput'>log</a> for further details."
     ]
    }
   ],
   "source": [
    "print([x if x>4 else x+1 for x in range(1,11)])\n",
    "print([\"even\" if x%2==0 else \"odd\" for x in range(1,30)])"
   ]
  },
  {
   "cell_type": "markdown",
   "id": "e0eaafc7",
   "metadata": {},
   "source": [
    "# use list comprehension using with function and nested list"
   ]
  },
  {
   "cell_type": "code",
   "execution_count": null,
   "id": "daf9235c",
   "metadata": {},
   "outputs": [],
   "source": []
  },
  {
   "cell_type": "code",
   "execution_count": null,
   "id": "bd4cb6da",
   "metadata": {},
   "outputs": [],
   "source": []
  },
  {
   "cell_type": "code",
   "execution_count": null,
   "id": "0807dcfd",
   "metadata": {},
   "outputs": [],
   "source": []
  },
  {
   "cell_type": "code",
   "execution_count": null,
   "id": "17e7736e",
   "metadata": {},
   "outputs": [],
   "source": []
  },
  {
   "cell_type": "code",
   "execution_count": null,
   "id": "d7628e86",
   "metadata": {},
   "outputs": [],
   "source": []
  },
  {
   "cell_type": "code",
   "execution_count": null,
   "id": "8f63b8da",
   "metadata": {},
   "outputs": [],
   "source": []
  },
  {
   "cell_type": "code",
   "execution_count": null,
   "id": "74484a41",
   "metadata": {},
   "outputs": [],
   "source": []
  },
  {
   "cell_type": "code",
   "execution_count": null,
   "id": "7f039091",
   "metadata": {},
   "outputs": [],
   "source": []
  },
  {
   "cell_type": "code",
   "execution_count": null,
   "id": "f5da5171",
   "metadata": {},
   "outputs": [],
   "source": []
  },
  {
   "cell_type": "code",
   "execution_count": null,
   "id": "2a4a74d1",
   "metadata": {},
   "outputs": [],
   "source": []
  },
  {
   "cell_type": "code",
   "execution_count": null,
   "id": "745ab559",
   "metadata": {},
   "outputs": [],
   "source": []
  },
  {
   "cell_type": "code",
   "execution_count": null,
   "id": "140f41ba",
   "metadata": {},
   "outputs": [],
   "source": []
  },
  {
   "cell_type": "code",
   "execution_count": null,
   "id": "b9187915",
   "metadata": {},
   "outputs": [],
   "source": []
  },
  {
   "cell_type": "code",
   "execution_count": null,
   "id": "4d0f59ac",
   "metadata": {},
   "outputs": [],
   "source": []
  },
  {
   "cell_type": "code",
   "execution_count": null,
   "id": "00b7742f",
   "metadata": {},
   "outputs": [],
   "source": []
  },
  {
   "cell_type": "code",
   "execution_count": null,
   "id": "993db29f",
   "metadata": {},
   "outputs": [],
   "source": []
  },
  {
   "cell_type": "code",
   "execution_count": null,
   "id": "1366a1da",
   "metadata": {},
   "outputs": [],
   "source": []
  },
  {
   "cell_type": "code",
   "execution_count": null,
   "id": "3016b2dd",
   "metadata": {},
   "outputs": [],
   "source": []
  },
  {
   "cell_type": "code",
   "execution_count": null,
   "id": "7ec5a1b2",
   "metadata": {},
   "outputs": [],
   "source": []
  },
  {
   "cell_type": "code",
   "execution_count": null,
   "id": "4a2cf030",
   "metadata": {},
   "outputs": [],
   "source": []
  },
  {
   "cell_type": "code",
   "execution_count": null,
   "id": "6449e48b",
   "metadata": {},
   "outputs": [],
   "source": []
  },
  {
   "cell_type": "code",
   "execution_count": null,
   "id": "14c27b95",
   "metadata": {},
   "outputs": [],
   "source": []
  },
  {
   "cell_type": "code",
   "execution_count": null,
   "id": "ee9024bf",
   "metadata": {},
   "outputs": [],
   "source": []
  },
  {
   "cell_type": "code",
   "execution_count": null,
   "id": "0507f8c4",
   "metadata": {},
   "outputs": [],
   "source": []
  },
  {
   "cell_type": "code",
   "execution_count": null,
   "id": "9d389c9c",
   "metadata": {},
   "outputs": [],
   "source": []
  },
  {
   "cell_type": "code",
   "execution_count": null,
   "id": "67391dc5",
   "metadata": {},
   "outputs": [],
   "source": []
  },
  {
   "cell_type": "code",
   "execution_count": null,
   "id": "60b996d9",
   "metadata": {},
   "outputs": [],
   "source": []
  },
  {
   "cell_type": "code",
   "execution_count": null,
   "id": "c92779c1",
   "metadata": {},
   "outputs": [],
   "source": []
  },
  {
   "cell_type": "code",
   "execution_count": null,
   "id": "12dce7cc",
   "metadata": {},
   "outputs": [],
   "source": []
  },
  {
   "cell_type": "code",
   "execution_count": null,
   "id": "91d1073b",
   "metadata": {},
   "outputs": [],
   "source": []
  },
  {
   "cell_type": "code",
   "execution_count": null,
   "id": "35c55acd",
   "metadata": {},
   "outputs": [],
   "source": []
  },
  {
   "cell_type": "code",
   "execution_count": null,
   "id": "6f244bfc",
   "metadata": {},
   "outputs": [],
   "source": []
  },
  {
   "cell_type": "code",
   "execution_count": null,
   "id": "803596b3",
   "metadata": {},
   "outputs": [],
   "source": []
  },
  {
   "cell_type": "code",
   "execution_count": null,
   "id": "8f10c313",
   "metadata": {},
   "outputs": [],
   "source": []
  },
  {
   "cell_type": "code",
   "execution_count": null,
   "id": "ff5b092c",
   "metadata": {},
   "outputs": [],
   "source": []
  },
  {
   "cell_type": "code",
   "execution_count": null,
   "id": "4319be5a",
   "metadata": {},
   "outputs": [],
   "source": []
  },
  {
   "cell_type": "code",
   "execution_count": null,
   "id": "4146607a",
   "metadata": {},
   "outputs": [],
   "source": []
  },
  {
   "cell_type": "code",
   "execution_count": null,
   "id": "734b0d7a",
   "metadata": {},
   "outputs": [],
   "source": []
  },
  {
   "cell_type": "code",
   "execution_count": null,
   "id": "0c58e220",
   "metadata": {},
   "outputs": [],
   "source": []
  },
  {
   "cell_type": "code",
   "execution_count": null,
   "id": "742de859",
   "metadata": {},
   "outputs": [],
   "source": []
  },
  {
   "cell_type": "code",
   "execution_count": null,
   "id": "bc41692f",
   "metadata": {},
   "outputs": [],
   "source": []
  },
  {
   "cell_type": "code",
   "execution_count": null,
   "id": "e469b715",
   "metadata": {},
   "outputs": [],
   "source": []
  },
  {
   "cell_type": "code",
   "execution_count": null,
   "id": "5bf7cc23",
   "metadata": {},
   "outputs": [],
   "source": []
  },
  {
   "cell_type": "code",
   "execution_count": null,
   "id": "5226e897",
   "metadata": {},
   "outputs": [],
   "source": []
  },
  {
   "cell_type": "code",
   "execution_count": null,
   "id": "7d8c8bda",
   "metadata": {},
   "outputs": [],
   "source": []
  },
  {
   "cell_type": "code",
   "execution_count": null,
   "id": "b505668f",
   "metadata": {},
   "outputs": [],
   "source": []
  },
  {
   "cell_type": "code",
   "execution_count": null,
   "id": "fe75a2ab",
   "metadata": {},
   "outputs": [],
   "source": []
  },
  {
   "cell_type": "code",
   "execution_count": null,
   "id": "c7fb8d85",
   "metadata": {},
   "outputs": [],
   "source": []
  },
  {
   "cell_type": "code",
   "execution_count": null,
   "id": "d3a35f7a",
   "metadata": {},
   "outputs": [],
   "source": []
  },
  {
   "cell_type": "code",
   "execution_count": null,
   "id": "410738e5",
   "metadata": {},
   "outputs": [],
   "source": []
  },
  {
   "cell_type": "code",
   "execution_count": null,
   "id": "886d4361",
   "metadata": {},
   "outputs": [],
   "source": []
  },
  {
   "cell_type": "code",
   "execution_count": null,
   "id": "f1f58271",
   "metadata": {},
   "outputs": [],
   "source": []
  },
  {
   "cell_type": "code",
   "execution_count": null,
   "id": "9d803b83",
   "metadata": {},
   "outputs": [],
   "source": []
  },
  {
   "cell_type": "code",
   "execution_count": null,
   "id": "76aa0318",
   "metadata": {},
   "outputs": [],
   "source": []
  },
  {
   "cell_type": "code",
   "execution_count": null,
   "id": "5ae62391",
   "metadata": {},
   "outputs": [],
   "source": []
  },
  {
   "cell_type": "code",
   "execution_count": null,
   "id": "59807ec1",
   "metadata": {},
   "outputs": [],
   "source": []
  },
  {
   "cell_type": "code",
   "execution_count": null,
   "id": "0f10c84d",
   "metadata": {},
   "outputs": [],
   "source": []
  },
  {
   "cell_type": "code",
   "execution_count": null,
   "id": "77629668",
   "metadata": {},
   "outputs": [],
   "source": []
  },
  {
   "cell_type": "code",
   "execution_count": null,
   "id": "fac5e662",
   "metadata": {},
   "outputs": [],
   "source": []
  },
  {
   "cell_type": "code",
   "execution_count": null,
   "id": "15598a30",
   "metadata": {},
   "outputs": [],
   "source": []
  },
  {
   "cell_type": "code",
   "execution_count": null,
   "id": "547fc0d6",
   "metadata": {},
   "outputs": [],
   "source": []
  },
  {
   "cell_type": "code",
   "execution_count": null,
   "id": "8545569b",
   "metadata": {},
   "outputs": [],
   "source": []
  },
  {
   "cell_type": "code",
   "execution_count": null,
   "id": "923ca9a4",
   "metadata": {},
   "outputs": [],
   "source": []
  },
  {
   "cell_type": "code",
   "execution_count": null,
   "id": "229dcb03",
   "metadata": {},
   "outputs": [],
   "source": []
  },
  {
   "cell_type": "code",
   "execution_count": null,
   "id": "6a89aba1",
   "metadata": {},
   "outputs": [],
   "source": []
  },
  {
   "cell_type": "code",
   "execution_count": null,
   "id": "91ad6118",
   "metadata": {},
   "outputs": [],
   "source": []
  },
  {
   "cell_type": "code",
   "execution_count": null,
   "id": "bac652b4",
   "metadata": {},
   "outputs": [],
   "source": []
  },
  {
   "cell_type": "code",
   "execution_count": null,
   "id": "99eef15a",
   "metadata": {},
   "outputs": [],
   "source": []
  },
  {
   "cell_type": "code",
   "execution_count": null,
   "id": "ed4b19e6",
   "metadata": {},
   "outputs": [],
   "source": []
  },
  {
   "cell_type": "code",
   "execution_count": null,
   "id": "59e6168d",
   "metadata": {},
   "outputs": [],
   "source": []
  },
  {
   "cell_type": "code",
   "execution_count": null,
   "id": "cfe4879b",
   "metadata": {},
   "outputs": [],
   "source": []
  },
  {
   "cell_type": "code",
   "execution_count": null,
   "id": "5b2b9927",
   "metadata": {},
   "outputs": [],
   "source": []
  },
  {
   "cell_type": "code",
   "execution_count": null,
   "id": "a58dcbdc",
   "metadata": {},
   "outputs": [],
   "source": []
  },
  {
   "cell_type": "code",
   "execution_count": null,
   "id": "682ebe77",
   "metadata": {},
   "outputs": [],
   "source": []
  },
  {
   "cell_type": "code",
   "execution_count": null,
   "id": "efad852b",
   "metadata": {},
   "outputs": [],
   "source": []
  },
  {
   "cell_type": "code",
   "execution_count": null,
   "id": "6ea6fb16",
   "metadata": {},
   "outputs": [],
   "source": []
  },
  {
   "cell_type": "code",
   "execution_count": null,
   "id": "12a7a8a8",
   "metadata": {},
   "outputs": [],
   "source": []
  },
  {
   "cell_type": "code",
   "execution_count": null,
   "id": "62fbd8d2",
   "metadata": {},
   "outputs": [],
   "source": []
  },
  {
   "cell_type": "code",
   "execution_count": null,
   "id": "0f4861b3",
   "metadata": {},
   "outputs": [],
   "source": []
  },
  {
   "cell_type": "code",
   "execution_count": null,
   "id": "3e99883e",
   "metadata": {},
   "outputs": [],
   "source": []
  },
  {
   "cell_type": "code",
   "execution_count": null,
   "id": "4e106b5a",
   "metadata": {},
   "outputs": [],
   "source": []
  },
  {
   "cell_type": "code",
   "execution_count": null,
   "id": "3b0e272f",
   "metadata": {},
   "outputs": [],
   "source": []
  },
  {
   "cell_type": "code",
   "execution_count": null,
   "id": "a20ae142",
   "metadata": {},
   "outputs": [],
   "source": []
  },
  {
   "cell_type": "code",
   "execution_count": null,
   "id": "6f285008",
   "metadata": {},
   "outputs": [],
   "source": []
  },
  {
   "cell_type": "code",
   "execution_count": null,
   "id": "cfcc45d3",
   "metadata": {},
   "outputs": [],
   "source": []
  },
  {
   "cell_type": "code",
   "execution_count": null,
   "id": "989057d1",
   "metadata": {},
   "outputs": [],
   "source": []
  },
  {
   "cell_type": "code",
   "execution_count": null,
   "id": "4ddbf46c",
   "metadata": {},
   "outputs": [],
   "source": []
  },
  {
   "cell_type": "code",
   "execution_count": null,
   "id": "9b05c3f3",
   "metadata": {},
   "outputs": [],
   "source": []
  },
  {
   "cell_type": "code",
   "execution_count": null,
   "id": "81f8ef0f",
   "metadata": {},
   "outputs": [],
   "source": []
  },
  {
   "cell_type": "code",
   "execution_count": null,
   "id": "b4d999ba",
   "metadata": {},
   "outputs": [],
   "source": []
  },
  {
   "cell_type": "code",
   "execution_count": null,
   "id": "551b9bb7",
   "metadata": {},
   "outputs": [],
   "source": []
  },
  {
   "cell_type": "code",
   "execution_count": null,
   "id": "4512864f",
   "metadata": {},
   "outputs": [],
   "source": []
  },
  {
   "cell_type": "code",
   "execution_count": null,
   "id": "8f975da6",
   "metadata": {},
   "outputs": [],
   "source": []
  },
  {
   "cell_type": "code",
   "execution_count": null,
   "id": "57d6281b",
   "metadata": {},
   "outputs": [],
   "source": []
  },
  {
   "cell_type": "code",
   "execution_count": null,
   "id": "38195fa8",
   "metadata": {},
   "outputs": [],
   "source": []
  },
  {
   "cell_type": "code",
   "execution_count": null,
   "id": "de2d3015",
   "metadata": {},
   "outputs": [],
   "source": []
  },
  {
   "cell_type": "code",
   "execution_count": null,
   "id": "435aaa04",
   "metadata": {},
   "outputs": [],
   "source": []
  },
  {
   "cell_type": "code",
   "execution_count": null,
   "id": "873dee50",
   "metadata": {},
   "outputs": [],
   "source": []
  },
  {
   "cell_type": "code",
   "execution_count": null,
   "id": "b10f8a14",
   "metadata": {},
   "outputs": [],
   "source": []
  },
  {
   "cell_type": "code",
   "execution_count": null,
   "id": "567685be",
   "metadata": {},
   "outputs": [],
   "source": []
  },
  {
   "cell_type": "code",
   "execution_count": null,
   "id": "d18dd7fa",
   "metadata": {},
   "outputs": [],
   "source": []
  },
  {
   "cell_type": "code",
   "execution_count": null,
   "id": "9adfd543",
   "metadata": {},
   "outputs": [],
   "source": []
  },
  {
   "cell_type": "code",
   "execution_count": null,
   "id": "7ebebc3d",
   "metadata": {},
   "outputs": [],
   "source": []
  },
  {
   "cell_type": "code",
   "execution_count": null,
   "id": "671559ba",
   "metadata": {},
   "outputs": [],
   "source": []
  },
  {
   "cell_type": "code",
   "execution_count": null,
   "id": "e6ba05d9",
   "metadata": {},
   "outputs": [],
   "source": []
  },
  {
   "cell_type": "code",
   "execution_count": null,
   "id": "793a966d",
   "metadata": {},
   "outputs": [],
   "source": []
  },
  {
   "cell_type": "code",
   "execution_count": null,
   "id": "ca155411",
   "metadata": {},
   "outputs": [],
   "source": []
  },
  {
   "cell_type": "code",
   "execution_count": null,
   "id": "a4d323ed",
   "metadata": {},
   "outputs": [],
   "source": []
  },
  {
   "cell_type": "code",
   "execution_count": null,
   "id": "bfbdd2e4",
   "metadata": {},
   "outputs": [],
   "source": []
  },
  {
   "cell_type": "code",
   "execution_count": null,
   "id": "a511abaa",
   "metadata": {},
   "outputs": [],
   "source": []
  },
  {
   "cell_type": "code",
   "execution_count": null,
   "id": "e3b00645",
   "metadata": {},
   "outputs": [],
   "source": []
  },
  {
   "cell_type": "code",
   "execution_count": null,
   "id": "97fa3198",
   "metadata": {},
   "outputs": [],
   "source": []
  },
  {
   "cell_type": "code",
   "execution_count": null,
   "id": "eed8347f",
   "metadata": {},
   "outputs": [],
   "source": []
  },
  {
   "cell_type": "code",
   "execution_count": null,
   "id": "63203917",
   "metadata": {},
   "outputs": [],
   "source": []
  },
  {
   "cell_type": "code",
   "execution_count": null,
   "id": "58c9c76d",
   "metadata": {},
   "outputs": [],
   "source": []
  },
  {
   "cell_type": "code",
   "execution_count": null,
   "id": "dfd7fda6",
   "metadata": {},
   "outputs": [],
   "source": []
  },
  {
   "cell_type": "code",
   "execution_count": null,
   "id": "1251150b",
   "metadata": {},
   "outputs": [],
   "source": []
  },
  {
   "cell_type": "code",
   "execution_count": null,
   "id": "24adb5d0",
   "metadata": {},
   "outputs": [],
   "source": []
  },
  {
   "cell_type": "code",
   "execution_count": null,
   "id": "00467950",
   "metadata": {},
   "outputs": [],
   "source": []
  },
  {
   "cell_type": "code",
   "execution_count": null,
   "id": "fd0f9f4f",
   "metadata": {},
   "outputs": [],
   "source": []
  },
  {
   "cell_type": "code",
   "execution_count": null,
   "id": "8bf1d9e6",
   "metadata": {},
   "outputs": [],
   "source": []
  },
  {
   "cell_type": "code",
   "execution_count": null,
   "id": "e19da7ba",
   "metadata": {},
   "outputs": [],
   "source": []
  },
  {
   "cell_type": "code",
   "execution_count": null,
   "id": "5edf97bd",
   "metadata": {},
   "outputs": [],
   "source": []
  },
  {
   "cell_type": "code",
   "execution_count": null,
   "id": "ca059e45",
   "metadata": {},
   "outputs": [],
   "source": []
  },
  {
   "cell_type": "code",
   "execution_count": null,
   "id": "a0eae898",
   "metadata": {},
   "outputs": [],
   "source": []
  },
  {
   "cell_type": "code",
   "execution_count": null,
   "id": "5f3aed6c",
   "metadata": {},
   "outputs": [],
   "source": []
  },
  {
   "cell_type": "code",
   "execution_count": null,
   "id": "ad44e707",
   "metadata": {},
   "outputs": [],
   "source": []
  },
  {
   "cell_type": "code",
   "execution_count": null,
   "id": "1488897f",
   "metadata": {},
   "outputs": [],
   "source": []
  },
  {
   "cell_type": "code",
   "execution_count": null,
   "id": "415242a3",
   "metadata": {},
   "outputs": [],
   "source": []
  },
  {
   "cell_type": "code",
   "execution_count": null,
   "id": "9037c396",
   "metadata": {},
   "outputs": [],
   "source": []
  },
  {
   "cell_type": "code",
   "execution_count": null,
   "id": "30aa2940",
   "metadata": {},
   "outputs": [],
   "source": []
  },
  {
   "cell_type": "code",
   "execution_count": null,
   "id": "1378710d",
   "metadata": {},
   "outputs": [],
   "source": []
  },
  {
   "cell_type": "code",
   "execution_count": null,
   "id": "5abd31a8",
   "metadata": {},
   "outputs": [],
   "source": []
  },
  {
   "cell_type": "code",
   "execution_count": null,
   "id": "16df8ece",
   "metadata": {},
   "outputs": [],
   "source": []
  },
  {
   "cell_type": "code",
   "execution_count": null,
   "id": "49dfa660",
   "metadata": {},
   "outputs": [],
   "source": []
  },
  {
   "cell_type": "code",
   "execution_count": null,
   "id": "372a012b",
   "metadata": {},
   "outputs": [],
   "source": []
  },
  {
   "cell_type": "code",
   "execution_count": null,
   "id": "aa054389",
   "metadata": {},
   "outputs": [],
   "source": []
  },
  {
   "cell_type": "code",
   "execution_count": null,
   "id": "a68f5527",
   "metadata": {},
   "outputs": [],
   "source": []
  },
  {
   "cell_type": "code",
   "execution_count": null,
   "id": "39b547b9",
   "metadata": {},
   "outputs": [],
   "source": []
  },
  {
   "cell_type": "code",
   "execution_count": null,
   "id": "81e24985",
   "metadata": {},
   "outputs": [],
   "source": []
  },
  {
   "cell_type": "code",
   "execution_count": null,
   "id": "87b8ead7",
   "metadata": {},
   "outputs": [],
   "source": []
  },
  {
   "cell_type": "code",
   "execution_count": null,
   "id": "aae54906",
   "metadata": {},
   "outputs": [],
   "source": []
  },
  {
   "cell_type": "code",
   "execution_count": null,
   "id": "b02c6f30",
   "metadata": {},
   "outputs": [],
   "source": []
  },
  {
   "cell_type": "code",
   "execution_count": null,
   "id": "f9fbff34",
   "metadata": {},
   "outputs": [],
   "source": []
  },
  {
   "cell_type": "code",
   "execution_count": null,
   "id": "0535dc50",
   "metadata": {},
   "outputs": [],
   "source": []
  },
  {
   "cell_type": "code",
   "execution_count": null,
   "id": "2eac55a7",
   "metadata": {},
   "outputs": [],
   "source": []
  },
  {
   "cell_type": "code",
   "execution_count": null,
   "id": "2b47065b",
   "metadata": {},
   "outputs": [],
   "source": []
  },
  {
   "cell_type": "code",
   "execution_count": null,
   "id": "1359890e",
   "metadata": {},
   "outputs": [],
   "source": []
  },
  {
   "cell_type": "code",
   "execution_count": null,
   "id": "67dddb7d",
   "metadata": {},
   "outputs": [],
   "source": []
  },
  {
   "cell_type": "code",
   "execution_count": null,
   "id": "2896917d",
   "metadata": {},
   "outputs": [],
   "source": []
  },
  {
   "cell_type": "code",
   "execution_count": null,
   "id": "f7d7079f",
   "metadata": {},
   "outputs": [],
   "source": []
  },
  {
   "cell_type": "code",
   "execution_count": null,
   "id": "f5201874",
   "metadata": {},
   "outputs": [],
   "source": []
  },
  {
   "cell_type": "code",
   "execution_count": null,
   "id": "bfc4850c",
   "metadata": {},
   "outputs": [],
   "source": []
  },
  {
   "cell_type": "code",
   "execution_count": null,
   "id": "46fafcf9",
   "metadata": {},
   "outputs": [],
   "source": []
  },
  {
   "cell_type": "code",
   "execution_count": null,
   "id": "5962a3dd",
   "metadata": {},
   "outputs": [],
   "source": []
  },
  {
   "cell_type": "code",
   "execution_count": null,
   "id": "77a061d0",
   "metadata": {},
   "outputs": [],
   "source": []
  },
  {
   "cell_type": "code",
   "execution_count": null,
   "id": "b27d92c6",
   "metadata": {},
   "outputs": [],
   "source": []
  },
  {
   "cell_type": "code",
   "execution_count": null,
   "id": "bc00827f",
   "metadata": {},
   "outputs": [],
   "source": []
  },
  {
   "cell_type": "code",
   "execution_count": null,
   "id": "cc42cfdb",
   "metadata": {},
   "outputs": [],
   "source": []
  },
  {
   "cell_type": "code",
   "execution_count": null,
   "id": "151cb562",
   "metadata": {},
   "outputs": [],
   "source": []
  },
  {
   "cell_type": "code",
   "execution_count": null,
   "id": "669b9e98",
   "metadata": {},
   "outputs": [],
   "source": []
  },
  {
   "cell_type": "code",
   "execution_count": null,
   "id": "e66b09ee",
   "metadata": {},
   "outputs": [],
   "source": []
  },
  {
   "cell_type": "code",
   "execution_count": null,
   "id": "09766712",
   "metadata": {},
   "outputs": [],
   "source": []
  },
  {
   "cell_type": "code",
   "execution_count": null,
   "id": "27273be9",
   "metadata": {},
   "outputs": [],
   "source": []
  },
  {
   "cell_type": "code",
   "execution_count": null,
   "id": "a59b7db6",
   "metadata": {},
   "outputs": [],
   "source": []
  },
  {
   "cell_type": "code",
   "execution_count": null,
   "id": "a387763c",
   "metadata": {},
   "outputs": [],
   "source": []
  },
  {
   "cell_type": "code",
   "execution_count": null,
   "id": "fc03ee55",
   "metadata": {},
   "outputs": [],
   "source": []
  },
  {
   "cell_type": "code",
   "execution_count": null,
   "id": "109d6585",
   "metadata": {},
   "outputs": [],
   "source": []
  },
  {
   "cell_type": "code",
   "execution_count": null,
   "id": "d73306b9",
   "metadata": {},
   "outputs": [],
   "source": []
  },
  {
   "cell_type": "code",
   "execution_count": null,
   "id": "d0340320",
   "metadata": {},
   "outputs": [],
   "source": []
  },
  {
   "cell_type": "code",
   "execution_count": null,
   "id": "aced950b",
   "metadata": {},
   "outputs": [],
   "source": []
  },
  {
   "cell_type": "code",
   "execution_count": null,
   "id": "f07c1416",
   "metadata": {},
   "outputs": [],
   "source": []
  },
  {
   "cell_type": "code",
   "execution_count": null,
   "id": "5271a595",
   "metadata": {},
   "outputs": [],
   "source": []
  },
  {
   "cell_type": "code",
   "execution_count": null,
   "id": "f3a522bd",
   "metadata": {},
   "outputs": [],
   "source": []
  },
  {
   "cell_type": "code",
   "execution_count": null,
   "id": "55137099",
   "metadata": {},
   "outputs": [],
   "source": []
  },
  {
   "cell_type": "code",
   "execution_count": null,
   "id": "760341e3",
   "metadata": {},
   "outputs": [],
   "source": []
  },
  {
   "cell_type": "code",
   "execution_count": null,
   "id": "44f93a60",
   "metadata": {},
   "outputs": [],
   "source": []
  },
  {
   "cell_type": "code",
   "execution_count": null,
   "id": "08728cee",
   "metadata": {},
   "outputs": [],
   "source": []
  },
  {
   "cell_type": "code",
   "execution_count": null,
   "id": "f8491ae5",
   "metadata": {},
   "outputs": [],
   "source": []
  },
  {
   "cell_type": "code",
   "execution_count": null,
   "id": "eb157ab7",
   "metadata": {},
   "outputs": [],
   "source": []
  },
  {
   "cell_type": "code",
   "execution_count": null,
   "id": "f1308b7b",
   "metadata": {},
   "outputs": [],
   "source": []
  },
  {
   "cell_type": "code",
   "execution_count": null,
   "id": "76361a4f",
   "metadata": {},
   "outputs": [],
   "source": []
  },
  {
   "cell_type": "code",
   "execution_count": null,
   "id": "76d75f89",
   "metadata": {},
   "outputs": [],
   "source": []
  },
  {
   "cell_type": "code",
   "execution_count": null,
   "id": "d0a00234",
   "metadata": {},
   "outputs": [],
   "source": []
  },
  {
   "cell_type": "code",
   "execution_count": null,
   "id": "503674f1",
   "metadata": {},
   "outputs": [],
   "source": []
  },
  {
   "cell_type": "code",
   "execution_count": null,
   "id": "371b0197",
   "metadata": {},
   "outputs": [],
   "source": []
  },
  {
   "cell_type": "code",
   "execution_count": null,
   "id": "c2beb5b1",
   "metadata": {},
   "outputs": [],
   "source": []
  },
  {
   "cell_type": "code",
   "execution_count": null,
   "id": "c9d11f4f",
   "metadata": {},
   "outputs": [],
   "source": []
  },
  {
   "cell_type": "code",
   "execution_count": null,
   "id": "d28aea46",
   "metadata": {},
   "outputs": [],
   "source": []
  },
  {
   "cell_type": "code",
   "execution_count": null,
   "id": "e621773d",
   "metadata": {},
   "outputs": [],
   "source": []
  },
  {
   "cell_type": "code",
   "execution_count": null,
   "id": "df72ad99",
   "metadata": {},
   "outputs": [],
   "source": []
  },
  {
   "cell_type": "code",
   "execution_count": null,
   "id": "7c2b0f12",
   "metadata": {},
   "outputs": [],
   "source": []
  },
  {
   "cell_type": "code",
   "execution_count": null,
   "id": "8019e36a",
   "metadata": {},
   "outputs": [],
   "source": []
  },
  {
   "cell_type": "code",
   "execution_count": null,
   "id": "4312fb47",
   "metadata": {},
   "outputs": [],
   "source": []
  },
  {
   "cell_type": "code",
   "execution_count": null,
   "id": "4e243246",
   "metadata": {},
   "outputs": [],
   "source": []
  },
  {
   "cell_type": "code",
   "execution_count": null,
   "id": "eeaefe47",
   "metadata": {},
   "outputs": [],
   "source": []
  },
  {
   "cell_type": "code",
   "execution_count": null,
   "id": "55cf9ee7",
   "metadata": {},
   "outputs": [],
   "source": []
  },
  {
   "cell_type": "code",
   "execution_count": null,
   "id": "9f83e248",
   "metadata": {},
   "outputs": [],
   "source": []
  },
  {
   "cell_type": "code",
   "execution_count": null,
   "id": "b55ca968",
   "metadata": {},
   "outputs": [],
   "source": []
  },
  {
   "cell_type": "code",
   "execution_count": null,
   "id": "73bf509b",
   "metadata": {},
   "outputs": [],
   "source": []
  },
  {
   "cell_type": "code",
   "execution_count": null,
   "id": "2988939d",
   "metadata": {},
   "outputs": [],
   "source": []
  },
  {
   "cell_type": "code",
   "execution_count": null,
   "id": "0c063690",
   "metadata": {},
   "outputs": [],
   "source": []
  },
  {
   "cell_type": "code",
   "execution_count": null,
   "id": "03fef205",
   "metadata": {},
   "outputs": [],
   "source": []
  },
  {
   "cell_type": "code",
   "execution_count": null,
   "id": "9cdeafd8",
   "metadata": {},
   "outputs": [],
   "source": []
  },
  {
   "cell_type": "code",
   "execution_count": null,
   "id": "de1b2c8d",
   "metadata": {},
   "outputs": [],
   "source": []
  },
  {
   "cell_type": "code",
   "execution_count": null,
   "id": "172a413b",
   "metadata": {},
   "outputs": [],
   "source": []
  },
  {
   "cell_type": "code",
   "execution_count": null,
   "id": "2b815457",
   "metadata": {},
   "outputs": [],
   "source": []
  },
  {
   "cell_type": "code",
   "execution_count": null,
   "id": "e9936bd5",
   "metadata": {},
   "outputs": [],
   "source": []
  },
  {
   "cell_type": "code",
   "execution_count": null,
   "id": "d80f5eeb",
   "metadata": {},
   "outputs": [],
   "source": []
  },
  {
   "cell_type": "code",
   "execution_count": null,
   "id": "e7074e12",
   "metadata": {},
   "outputs": [],
   "source": []
  },
  {
   "cell_type": "code",
   "execution_count": null,
   "id": "3eeb3605",
   "metadata": {},
   "outputs": [],
   "source": []
  },
  {
   "cell_type": "code",
   "execution_count": null,
   "id": "40ca634a",
   "metadata": {},
   "outputs": [],
   "source": []
  },
  {
   "cell_type": "code",
   "execution_count": null,
   "id": "81a142ec",
   "metadata": {},
   "outputs": [],
   "source": []
  },
  {
   "cell_type": "code",
   "execution_count": null,
   "id": "f359950f",
   "metadata": {},
   "outputs": [],
   "source": []
  },
  {
   "cell_type": "code",
   "execution_count": null,
   "id": "aaf3da83",
   "metadata": {},
   "outputs": [],
   "source": []
  },
  {
   "cell_type": "code",
   "execution_count": null,
   "id": "9dfe2631",
   "metadata": {},
   "outputs": [],
   "source": []
  },
  {
   "cell_type": "code",
   "execution_count": null,
   "id": "3b87ba1d",
   "metadata": {},
   "outputs": [],
   "source": []
  },
  {
   "cell_type": "code",
   "execution_count": null,
   "id": "24d5c9a8",
   "metadata": {},
   "outputs": [],
   "source": []
  },
  {
   "cell_type": "code",
   "execution_count": null,
   "id": "57027769",
   "metadata": {},
   "outputs": [],
   "source": []
  },
  {
   "cell_type": "code",
   "execution_count": null,
   "id": "dadc53d4",
   "metadata": {},
   "outputs": [],
   "source": []
  },
  {
   "cell_type": "code",
   "execution_count": null,
   "id": "35a5f62a",
   "metadata": {},
   "outputs": [],
   "source": []
  },
  {
   "cell_type": "code",
   "execution_count": null,
   "id": "7774dac6",
   "metadata": {},
   "outputs": [],
   "source": []
  },
  {
   "cell_type": "code",
   "execution_count": null,
   "id": "179018e2",
   "metadata": {},
   "outputs": [],
   "source": []
  },
  {
   "cell_type": "code",
   "execution_count": null,
   "id": "be6dcdbb",
   "metadata": {},
   "outputs": [],
   "source": []
  },
  {
   "cell_type": "code",
   "execution_count": null,
   "id": "e413f6a2",
   "metadata": {},
   "outputs": [],
   "source": []
  },
  {
   "cell_type": "code",
   "execution_count": null,
   "id": "a8156927",
   "metadata": {},
   "outputs": [],
   "source": []
  },
  {
   "cell_type": "code",
   "execution_count": null,
   "id": "61ba2491",
   "metadata": {},
   "outputs": [],
   "source": []
  },
  {
   "cell_type": "code",
   "execution_count": null,
   "id": "72e8c9ca",
   "metadata": {},
   "outputs": [],
   "source": []
  },
  {
   "cell_type": "code",
   "execution_count": null,
   "id": "e22acca3",
   "metadata": {},
   "outputs": [],
   "source": []
  },
  {
   "cell_type": "code",
   "execution_count": null,
   "id": "415dead7",
   "metadata": {},
   "outputs": [],
   "source": []
  },
  {
   "cell_type": "code",
   "execution_count": null,
   "id": "e99b592f",
   "metadata": {},
   "outputs": [],
   "source": []
  },
  {
   "cell_type": "code",
   "execution_count": null,
   "id": "a9e2e5f8",
   "metadata": {},
   "outputs": [],
   "source": []
  },
  {
   "cell_type": "code",
   "execution_count": null,
   "id": "f6500cb2",
   "metadata": {},
   "outputs": [],
   "source": []
  },
  {
   "cell_type": "code",
   "execution_count": null,
   "id": "eaa80a49",
   "metadata": {},
   "outputs": [],
   "source": []
  },
  {
   "cell_type": "code",
   "execution_count": null,
   "id": "0b251fef",
   "metadata": {},
   "outputs": [],
   "source": []
  },
  {
   "cell_type": "code",
   "execution_count": null,
   "id": "b521dd0f",
   "metadata": {},
   "outputs": [],
   "source": []
  },
  {
   "cell_type": "code",
   "execution_count": null,
   "id": "44552260",
   "metadata": {},
   "outputs": [],
   "source": []
  },
  {
   "cell_type": "code",
   "execution_count": null,
   "id": "d8de9126",
   "metadata": {},
   "outputs": [],
   "source": []
  },
  {
   "cell_type": "code",
   "execution_count": null,
   "id": "56f22dde",
   "metadata": {},
   "outputs": [],
   "source": []
  },
  {
   "cell_type": "code",
   "execution_count": null,
   "id": "77800175",
   "metadata": {},
   "outputs": [],
   "source": []
  },
  {
   "cell_type": "code",
   "execution_count": null,
   "id": "74b04fa7",
   "metadata": {},
   "outputs": [],
   "source": []
  },
  {
   "cell_type": "code",
   "execution_count": null,
   "id": "e9ffb53c",
   "metadata": {},
   "outputs": [],
   "source": []
  },
  {
   "cell_type": "code",
   "execution_count": null,
   "id": "be797077",
   "metadata": {},
   "outputs": [],
   "source": []
  },
  {
   "cell_type": "code",
   "execution_count": null,
   "id": "50df8eb9",
   "metadata": {},
   "outputs": [],
   "source": []
  },
  {
   "cell_type": "code",
   "execution_count": null,
   "id": "609daca6",
   "metadata": {},
   "outputs": [],
   "source": []
  },
  {
   "cell_type": "code",
   "execution_count": null,
   "id": "efa5e6d7",
   "metadata": {},
   "outputs": [],
   "source": []
  },
  {
   "cell_type": "code",
   "execution_count": null,
   "id": "a3df54a7",
   "metadata": {},
   "outputs": [],
   "source": []
  },
  {
   "cell_type": "code",
   "execution_count": null,
   "id": "4b6bdf75",
   "metadata": {},
   "outputs": [],
   "source": []
  },
  {
   "cell_type": "code",
   "execution_count": null,
   "id": "b1f5b3e6",
   "metadata": {},
   "outputs": [],
   "source": []
  },
  {
   "cell_type": "code",
   "execution_count": null,
   "id": "e764ea53",
   "metadata": {},
   "outputs": [],
   "source": []
  },
  {
   "cell_type": "code",
   "execution_count": null,
   "id": "5d1b4445",
   "metadata": {},
   "outputs": [],
   "source": []
  },
  {
   "cell_type": "code",
   "execution_count": null,
   "id": "98a83936",
   "metadata": {},
   "outputs": [],
   "source": []
  },
  {
   "cell_type": "code",
   "execution_count": null,
   "id": "c4a15294",
   "metadata": {},
   "outputs": [],
   "source": []
  },
  {
   "cell_type": "code",
   "execution_count": null,
   "id": "2dc0cdb0",
   "metadata": {},
   "outputs": [],
   "source": []
  },
  {
   "cell_type": "code",
   "execution_count": null,
   "id": "ca571674",
   "metadata": {},
   "outputs": [],
   "source": []
  },
  {
   "cell_type": "code",
   "execution_count": null,
   "id": "63e7bfa5",
   "metadata": {},
   "outputs": [],
   "source": []
  },
  {
   "cell_type": "code",
   "execution_count": null,
   "id": "ef321244",
   "metadata": {},
   "outputs": [],
   "source": []
  }
 ],
 "metadata": {
  "kernelspec": {
   "display_name": "Python 3 (ipykernel)",
   "language": "python",
   "name": "python3"
  },
  "language_info": {
   "codemirror_mode": {
    "name": "ipython",
    "version": 3
   },
   "file_extension": ".py",
   "mimetype": "text/x-python",
   "name": "python",
   "nbconvert_exporter": "python",
   "pygments_lexer": "ipython3",
   "version": "3.11.5"
  }
 },
 "nbformat": 4,
 "nbformat_minor": 5
}
