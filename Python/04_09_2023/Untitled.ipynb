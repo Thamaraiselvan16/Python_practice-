{
 "cells": [
  {
   "cell_type": "markdown",
   "id": "7795cd8b",
   "metadata": {},
   "source": [
    "# INDEXING AND  SLICING"
   ]
  },
  {
   "cell_type": "code",
   "execution_count": 6,
   "id": "f0dea546",
   "metadata": {},
   "outputs": [
    {
     "name": "stdout",
     "output_type": "stream",
     "text": [
      "7\n"
     ]
    }
   ],
   "source": [
    "# INDEX==POSITION\n",
    "#the index suppots both positive and negative index\n",
    "l=[1,2,3,4,5,6,7,8,9]\n",
    "print(l[6])\n"
   ]
  },
  {
   "cell_type": "code",
   "execution_count": 5,
   "id": "06cbebfe",
   "metadata": {},
   "outputs": [
    {
     "name": "stdout",
     "output_type": "stream",
     "text": [
      "thamarai\n",
      "thamar\n"
     ]
    }
   ],
   "source": [
    "l=[1,2,\"thamarai\",7,3]\n",
    "print(l[2])\n",
    "print(l[2][0:2])\n",
    "print(l[2][0:-2])"
   ]
  },
  {
   "cell_type": "code",
   "execution_count": 9,
   "id": "729e0345",
   "metadata": {},
   "outputs": [
    {
     "name": "stdout",
     "output_type": "stream",
     "text": [
      "thamarai\n",
      "th\n"
     ]
    }
   ],
   "source": [
    "l=[1,2,\"thamarai\"]\n",
    "print(l[-1])\n",
    "print(l[-1][0:2])"
   ]
  },
  {
   "cell_type": "code",
   "execution_count": 16,
   "id": "3a98139a",
   "metadata": {},
   "outputs": [
    {
     "name": "stdout",
     "output_type": "stream",
     "text": [
      "9\n"
     ]
    },
    {
     "ename": "TypeError",
     "evalue": "'set' object is not subscriptable",
     "output_type": "error",
     "traceback": [
      "\u001b[1;31m---------------------------------------------------------------------------\u001b[0m",
      "\u001b[1;31mTypeError\u001b[0m                                 Traceback (most recent call last)",
      "Cell \u001b[1;32mIn[16], line 3\u001b[0m\n\u001b[0;32m      1\u001b[0m l\u001b[38;5;241m=\u001b[39m[\u001b[38;5;241m1\u001b[39m,\u001b[38;5;241m2\u001b[39m,\u001b[38;5;241m3\u001b[39m,(\u001b[38;5;241m9\u001b[39m,\u001b[38;5;241m4\u001b[39m),{\u001b[38;5;241m3\u001b[39m,\u001b[38;5;241m2\u001b[39m,\u001b[38;5;241m4\u001b[39m},{\u001b[38;5;241m10\u001b[39m:\u001b[38;5;124m\"\u001b[39m\u001b[38;5;124ma\u001b[39m\u001b[38;5;124m\"\u001b[39m}]\n\u001b[0;32m      2\u001b[0m \u001b[38;5;28mprint\u001b[39m(l[\u001b[38;5;241m3\u001b[39m][\u001b[38;5;241m0\u001b[39m])\n\u001b[1;32m----> 3\u001b[0m \u001b[38;5;28mprint\u001b[39m(l[\u001b[38;5;241m4\u001b[39m][\u001b[38;5;241m3\u001b[39m])\n",
      "\u001b[1;31mTypeError\u001b[0m: 'set' object is not subscriptable"
     ]
    }
   ],
   "source": [
    "l=[1,2,3,(9,4),{3,2,4},{10:\"a\"}]\n",
    "print(l[3][0])\n",
    "print(l[4][3])"
   ]
  },
  {
   "cell_type": "code",
   "execution_count": null,
   "id": "2fefd8cb",
   "metadata": {},
   "outputs": [],
   "source": [
    "#slicing\n",
    "#start:stop:step\n",
    "#if you doesnot give value of step by defalut it is gioing to consider the value of"
   ]
  },
  {
   "cell_type": "code",
   "execution_count": 19,
   "id": "54634b4f",
   "metadata": {},
   "outputs": [
    {
     "name": "stdout",
     "output_type": "stream",
     "text": [
      "[3, 4, 5, 6, 8, 9]\n",
      "[3, 4]\n",
      "[1, 3, 5, 8]\n"
     ]
    }
   ],
   "source": [
    "l=[1,2,3,4,5,6,8,9]\n",
    "print(l[2:])    #start\n",
    "print(l[2:4])   #start and stop\n",
    "print(l[0:7:2]) #start, stop and step"
   ]
  },
  {
   "cell_type": "code",
   "execution_count": null,
   "id": "31c0d5c8",
   "metadata": {},
   "outputs": [],
   "source": [
    "l1=[50,40,50,20,10,30]\n",
    "l2=DDDDDDDD"
   ]
  },
  {
   "cell_type": "code",
   "execution_count": null,
   "id": "4ce8770e",
   "metadata": {},
   "outputs": [],
   "source": [
    "l2=[\"My institute name is ITvedant\" ,1]\n",
    "#get the even number of strings from given 12 rusing slicing method both with positive and negative\n",
    "#under 1.2 get only the spaces with next Letter\n",
    "#get the odd number of charcters in the given string using positive and negative"
   ]
  },
  {
   "cell_type": "code",
   "execution_count": 20,
   "id": "89d1c48b",
   "metadata": {},
   "outputs": [
    {
     "name": "stdout",
     "output_type": "stream",
     "text": [
      "M nttt aei Teat              taeT iea tttn M\n",
      " i  n  i  I\n",
      "yisiuenm sIvdn              ndvIs mneuisiy\n"
     ]
    }
   ],
   "source": [
    "l1= [50, 40, 50, 20, 10, 30]\n",
    "l2=[\"My institute name is ITvedant\", 1]\n",
    "# get the even no os string from l2 both positive and negative\n",
    "print(l2[0][::2],\"            \",l2[0][::-2])\n",
    "\n",
    "#under l2 get only the spaces with next letter\n",
    "print(l2[0][2:4],l2[0][12:14],l2[0][17:19],l2[0][20:22])\n",
    "\n",
    "#get the odd number of charters in the given string using positive and negative\n",
    "print(l2[0][1::2],\"            \",l2[0][-2::-2])"
   ]
  },
  {
   "cell_type": "code",
   "execution_count": 22,
   "id": "1bf3f2b5",
   "metadata": {},
   "outputs": [
    {
     "ename": "NameError",
     "evalue": "name 'fruits' is not defined",
     "output_type": "error",
     "traceback": [
      "\u001b[1;31m---------------------------------------------------------------------------\u001b[0m",
      "\u001b[1;31mNameError\u001b[0m                                 Traceback (most recent call last)",
      "Cell \u001b[1;32mIn[22], line 2\u001b[0m\n\u001b[0;32m      1\u001b[0m \u001b[38;5;66;03m#append-- appends an element to the end of the List\u001b[39;00m\n\u001b[1;32m----> 2\u001b[0m fruits[\u001b[38;5;124m'\u001b[39m\u001b[38;5;124m apple\u001b[39m\u001b[38;5;124m'\u001b[39m , \u001b[38;5;124m'\u001b[39m\u001b[38;5;124m banana\u001b[39m\u001b[38;5;124m'\u001b[39m ]\n\u001b[0;32m      3\u001b[0m fruites\u001b[38;5;241m.\u001b[39m append( \u001b[38;5;124m'\u001b[39m\u001b[38;5;124m orange \u001b[39m\u001b[38;5;124m'\u001b[39m )\n\u001b[0;32m      4\u001b[0m \u001b[38;5;28mprint\u001b[39m(fruites)\n",
      "\u001b[1;31mNameError\u001b[0m: name 'fruits' is not defined"
     ]
    }
   ],
   "source": [
    "#append-- appends an element to the end of the List\n",
    "fruits[' apple' , ' banana' ]\n",
    "fruites. append( ' orange ' )\n",
    "print(fruites)"
   ]
  },
  {
   "cell_type": "code",
   "execution_count": null,
   "id": "017e7702",
   "metadata": {},
   "outputs": [],
   "source": [
    "#copy--shaLLow copy\n",
    "' apple ,\n",
    "f2=fruites. COPY ( )\n",
    "print(fruites)\n",
    "print(f2)\n",
    ", 'manago"
   ]
  },
  {
   "cell_type": "code",
   "execution_count": null,
   "id": "df5ba420",
   "metadata": {},
   "outputs": [],
   "source": []
  }
 ],
 "metadata": {
  "kernelspec": {
   "display_name": "Python 3 (ipykernel)",
   "language": "python",
   "name": "python3"
  },
  "language_info": {
   "codemirror_mode": {
    "name": "ipython",
    "version": 3
   },
   "file_extension": ".py",
   "mimetype": "text/x-python",
   "name": "python",
   "nbconvert_exporter": "python",
   "pygments_lexer": "ipython3",
   "version": "3.11.3"
  }
 },
 "nbformat": 4,
 "nbformat_minor": 5
}
