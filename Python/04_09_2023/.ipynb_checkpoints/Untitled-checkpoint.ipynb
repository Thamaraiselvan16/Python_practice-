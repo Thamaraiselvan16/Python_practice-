{
 "cells": [
  {
   "cell_type": "markdown",
   "id": "9c6c7cb3",
   "metadata": {},
   "source": [
    "# INDEXING AND  SLICING"
   ]
  },
  {
   "cell_type": "code",
   "execution_count": 6,
   "id": "557a4c9f",
   "metadata": {},
   "outputs": [
    {
     "name": "stdout",
     "output_type": "stream",
     "text": [
      "7\n"
     ]
    }
   ],
   "source": [
    "# INDEX==POSITION\n",
    "#the index suppots both positive and negative index\n",
    "l=[1,2,3,4,5,6,7,8,9]\n",
    "print(l[6])\n"
   ]
  },
  {
   "cell_type": "code",
   "execution_count": 5,
   "id": "bdb0080f",
   "metadata": {},
   "outputs": [
    {
     "name": "stdout",
     "output_type": "stream",
     "text": [
      "thamarai\n",
      "thamar\n"
     ]
    }
   ],
   "source": [
    "l=[1,2,\"thamarai\",7,3]\n",
    "print(l[2])\n",
    "print(l[2][0:2])\n",
    "print(l[2][0:-2])"
   ]
  },
  {
   "cell_type": "code",
   "execution_count": 9,
   "id": "f65992a5",
   "metadata": {},
   "outputs": [
    {
     "name": "stdout",
     "output_type": "stream",
     "text": [
      "thamarai\n",
      "th\n"
     ]
    }
   ],
   "source": [
    "l=[1,2,\"thamarai\"]\n",
    "print(l[-1])\n",
    "print(l[-1][0:2])"
   ]
  },
  {
   "cell_type": "code",
   "execution_count": 16,
   "id": "747356fa",
   "metadata": {},
   "outputs": [
    {
     "name": "stdout",
     "output_type": "stream",
     "text": [
      "9\n"
     ]
    },
    {
     "ename": "TypeError",
     "evalue": "'set' object is not subscriptable",
     "output_type": "error",
     "traceback": [
      "\u001b[1;31m---------------------------------------------------------------------------\u001b[0m",
      "\u001b[1;31mTypeError\u001b[0m                                 Traceback (most recent call last)",
      "Cell \u001b[1;32mIn[16], line 3\u001b[0m\n\u001b[0;32m      1\u001b[0m l\u001b[38;5;241m=\u001b[39m[\u001b[38;5;241m1\u001b[39m,\u001b[38;5;241m2\u001b[39m,\u001b[38;5;241m3\u001b[39m,(\u001b[38;5;241m9\u001b[39m,\u001b[38;5;241m4\u001b[39m),{\u001b[38;5;241m3\u001b[39m,\u001b[38;5;241m2\u001b[39m,\u001b[38;5;241m4\u001b[39m},{\u001b[38;5;241m10\u001b[39m:\u001b[38;5;124m\"\u001b[39m\u001b[38;5;124ma\u001b[39m\u001b[38;5;124m\"\u001b[39m}]\n\u001b[0;32m      2\u001b[0m \u001b[38;5;28mprint\u001b[39m(l[\u001b[38;5;241m3\u001b[39m][\u001b[38;5;241m0\u001b[39m])\n\u001b[1;32m----> 3\u001b[0m \u001b[38;5;28mprint\u001b[39m(l[\u001b[38;5;241m4\u001b[39m][\u001b[38;5;241m3\u001b[39m])\n",
      "\u001b[1;31mTypeError\u001b[0m: 'set' object is not subscriptable"
     ]
    }
   ],
   "source": [
    "l=[1,2,3,(9,4),{3,2,4},{10:\"a\"}]\n",
    "print(l[3][0])\n",
    "print(l[4][3])"
   ]
  },
  {
   "cell_type": "code",
   "execution_count": null,
   "id": "591ef0e0",
   "metadata": {},
   "outputs": [],
   "source": [
    "#slicing\n",
    "#start:stop:step\n",
    "#if you doesnot give value of step by defalut it is gioing to consider the value of"
   ]
  },
  {
   "cell_type": "code",
   "execution_count": 19,
   "id": "6956671a",
   "metadata": {},
   "outputs": [
    {
     "name": "stdout",
     "output_type": "stream",
     "text": [
      "[3, 4, 5, 6, 8, 9]\n",
      "[3, 4]\n",
      "[1, 3, 5, 8]\n"
     ]
    }
   ],
   "source": [
    "l=[1,2,3,4,5,6,8,9]\n",
    "print(l[2:])    #start\n",
    "print(l[2:4])   #start and stop\n",
    "print(l[0:7:2]) #start, stop and step"
   ]
  }
 ],
 "metadata": {
  "kernelspec": {
   "display_name": "Python 3 (ipykernel)",
   "language": "python",
   "name": "python3"
  },
  "language_info": {
   "codemirror_mode": {
    "name": "ipython",
    "version": 3
   },
   "file_extension": ".py",
   "mimetype": "text/x-python",
   "name": "python",
   "nbconvert_exporter": "python",
   "pygments_lexer": "ipython3",
   "version": "3.11.3"
  }
 },
 "nbformat": 4,
 "nbformat_minor": 5
}
