{
 "cells": [
  {
   "cell_type": "code",
   "execution_count": 17,
   "id": "dba57bac",
   "metadata": {},
   "outputs": [
    {
     "name": "stdout",
     "output_type": "stream",
     "text": [
      "Match found: \"The quick brown fox\"\n",
      "Match found: \"The lazy dog\"\n"
     ]
    }
   ],
   "source": [
    "#regix\n",
    "\n",
    "import re\n",
    "\n",
    "# Define the regex pattern\n",
    "pattern = r'^The'\n",
    "\n",
    "# List of strings to check\n",
    "strings = ['The quick brown fox', 'The lazy dog', 'A quick brown fox']\n",
    "\n",
    "# Iterate through the strings and check for matches\n",
    "for string in strings:\n",
    "    if re.match(pattern, string):\n",
    "        print(f'Match found: \"{string}\"')\n"
   ]
  },
  {
   "cell_type": "code",
   "execution_count": 4,
   "id": "0d649f79",
   "metadata": {},
   "outputs": [
    {
     "name": "stdout",
     "output_type": "stream",
     "text": [
      "10\n",
      "10\n",
      "BMW\n",
      "BMW\n"
     ]
    }
   ],
   "source": [
    "#instance variable\n",
    "class car:\n",
    "    def __init__ (self):\n",
    "        self.mil=10\n",
    "        self.carname=\"BMW\"\n",
    "car1=car()\n",
    "car2=car()\n",
    "print(car1.mil)\n",
    "print(car2.mil)\n",
    "print(car1.carname)\n",
    "print(car2.carname)"
   ]
  },
  {
   "cell_type": "code",
   "execution_count": 7,
   "id": "41e8a06b",
   "metadata": {},
   "outputs": [
    {
     "name": "stdout",
     "output_type": "stream",
     "text": [
      "10\n",
      "10\n",
      "BMW\n",
      "4\n"
     ]
    }
   ],
   "source": [
    "#static /class variable\n",
    "class car:\n",
    "    wheels=4\n",
    "    def __init__ (self):\n",
    "        self.mil=10\n",
    "        self.carname=\"BMW\"\n",
    "car1=car()\n",
    "car2=car()\n",
    "print(car1.mil)\n",
    "print(car2.mil)\n",
    "print(car1.carname)\n",
    "print(car2.wheels)"
   ]
  },
  {
   "cell_type": "code",
   "execution_count": 10,
   "id": "a7960962",
   "metadata": {},
   "outputs": [
    {
     "name": "stdout",
     "output_type": "stream",
     "text": [
      "77 78 75\n",
      "99 87 65\n"
     ]
    }
   ],
   "source": [
    "#methods\n",
    "#1 instanc methon\n",
    "class student:\n",
    "    def __init__ (self,math,tamil,comp):\n",
    "        self.math=math\n",
    "        self.tamil=tamil\n",
    "        self.comp=comp\n",
    "        print(self.math,self.tamil,self.comp)\n",
    "thamarai=student(77,78,75)\n",
    "dhill=student(99,87,65)"
   ]
  },
  {
   "cell_type": "code",
   "execution_count": 14,
   "id": "d7fb7496",
   "metadata": {},
   "outputs": [
    {
     "data": {
      "text/plain": [
       "(99, 87, 65)"
      ]
     },
     "execution_count": 14,
     "metadata": {},
     "output_type": "execute_result"
    }
   ],
   "source": [
    "##instance methon\n",
    "#1.1)accessor method\n",
    "class student:\n",
    "    def __init__ (self,math,tamil,comp):\n",
    "        self.math=math\n",
    "        self.tamil=tamil\n",
    "        self.comp=comp\n",
    "    def get_math(self):\n",
    "        return self.math,self.tamil,self.comp\n",
    "dhill=student(99,87,65)\n",
    "dhill.get_math()"
   ]
  },
  {
   "cell_type": "code",
   "execution_count": null,
   "id": "6a028172",
   "metadata": {},
   "outputs": [],
   "source": [
    "##instance methon\n",
    "#1.2)mutator method\n"
   ]
  },
  {
   "cell_type": "code",
   "execution_count": null,
   "id": "9a344e66",
   "metadata": {},
   "outputs": [],
   "source": []
  },
  {
   "cell_type": "code",
   "execution_count": 2,
   "id": "b204dfe1",
   "metadata": {},
   "outputs": [
    {
     "name": "stdout",
     "output_type": "stream",
     "text": [
      "dhill 21\n",
      "hp 200000\n",
      "FSD\n",
      "95000\n"
     ]
    }
   ],
   "source": [
    "class student:\n",
    "    def __init__ (self,name,rollno):\n",
    "        self.name=name\n",
    "        self.rollno=rollno\n",
    "    def show(self):\n",
    "        print(self.name,self.rollno)\n",
    "    class laptop:\n",
    "        def __init__(self):\n",
    "            self.brand=\"hp\"\n",
    "            self.price=200000\n",
    "        def show(self):\n",
    "            print(self.brand,self.price)\n",
    "    class cource:\n",
    "        def __init__(self,cource_name):\n",
    "            self.cource_name=cource_name\n",
    "        def show(self):\n",
    "            print(self.cource_name)\n",
    "    class account:\n",
    "        def __init__ (self):\n",
    "            self.amount=95000\n",
    "        def show(self):\n",
    "            print(self.amount)\n",
    "   \n",
    "stu=student(\"dhill\",21)\n",
    "stu.show()\n",
    "\n",
    "lap1=student.laptop()\n",
    "lap1.show()\n",
    "\n",
    "cour=student.cource(\"FSD\")\n",
    "#print(cour.cource_name)\n",
    "cour.show()\n",
    "\n",
    "amm=student.account()\n",
    "#print(cour.cource_name)\n",
    "amm.show()"
   ]
  },
  {
   "cell_type": "markdown",
   "id": "9c6cbb72",
   "metadata": {},
   "source": [
    "# in the given Python code, a class MyClass is defined with a class variable class_var and a class method class_method. Two instances of the class, obj1 and obj2, are created and the class_method is called on both instances."
   ]
  },
  {
   "cell_type": "code",
   "execution_count": 5,
   "id": "08d7ad74",
   "metadata": {},
   "outputs": [
    {
     "name": "stdout",
     "output_type": "stream",
     "text": [
      "Class variable: I am a class variable\n",
      "This is a class method\n",
      "Class variable: I am a class variable\n",
      "This is a class method\n"
     ]
    }
   ],
   "source": [
    "class MyClass:\n",
    "    class_var = \"I am a class variable\"\n",
    "\n",
    "    @classmethod\n",
    "    def class_method(cls):\n",
    "        print(f\"Class variable: {cls.class_var}\")\n",
    "        print(\"This is a class method\")\n",
    "\n",
    "# Create instances of the class\n",
    "obj1 = MyClass()\n",
    "obj2 = MyClass()\n",
    "\n",
    "# Call the class method on both instances\n",
    "obj1.class_method()\n",
    "obj2.class_method()"
   ]
  },
  {
   "cell_type": "code",
   "execution_count": 6,
   "id": "04720841",
   "metadata": {
    "scrolled": true
   },
   "outputs": [
    {
     "name": "stdout",
     "output_type": "stream",
     "text": [
      "Name: Buddy\n",
      "Breed: Golden Retriever\n",
      "Name: Charlie\n",
      "Breed: Labrador\n",
      "Name: Daisy\n",
      "Breed: Dachshund\n",
      "Total number of dogs: 3\n"
     ]
    }
   ],
   "source": [
    "class Dog:\n",
    "    # Class variable to keep track of the number of dogs\n",
    "    num_dogs = 0\n",
    "\n",
    "    def __init__(self, name, breed):\n",
    "        self.name = name\n",
    "        self.breed = breed\n",
    "        # Increment the class variable when a new dog is created\n",
    "        Dog.num_dogs += 1\n",
    "\n",
    "    @classmethod\n",
    "    def display_total_dogs(cls):\n",
    "        print(f\"Total number of dogs: {cls.num_dogs}\")\n",
    "\n",
    "    def display_details(self):\n",
    "        print(f\"Name: {self.name}\")\n",
    "        print(f\"Breed: {self.breed}\")\n",
    "\n",
    "# Create instances of the Dog class\n",
    "dog1 = Dog(\"Buddy\", \"Golden Retriever\")\n",
    "dog2 = Dog(\"Charlie\", \"Labrador\")\n",
    "dog3 = Dog(\"Daisy\", \"Dachshund\")\n",
    "\n",
    "# Display details of each dog\n",
    "dog1.display_details()\n",
    "dog2.display_details()\n",
    "dog3.display_details()\n",
    "\n",
    "# Display the total number of dogs using the class method\n",
    "Dog.display_total_dogs()\n"
   ]
  },
  {
   "cell_type": "markdown",
   "id": "dcdaa220",
   "metadata": {},
   "source": [
    "# Define a class Rectangle with methods to calculate its area and perimeter. Create instances and test the methods."
   ]
  },
  {
   "cell_type": "code",
   "execution_count": 10,
   "id": "9d399064",
   "metadata": {},
   "outputs": [
    {
     "name": "stdout",
     "output_type": "stream",
     "text": [
      "Rectangle 1:\n",
      "Area: 20\n",
      "Perimeter: 18\n",
      "\n",
      "Rectangle 2:\n",
      "Area: 21\n",
      "Perimeter: 20\n"
     ]
    }
   ],
   "source": [
    "class Rectangle:\n",
    "    def __init__(self, length, width):\n",
    "        self.length = length\n",
    "        self.width = width\n",
    "\n",
    "    def calculate_area(self):\n",
    "        return self.length * self.width\n",
    "\n",
    "    def calculate_perimeter(self):\n",
    "        return 2 * (self.length + self.width)\n",
    "\n",
    "# Create instances of the Rectangle class\n",
    "rectangle1 = Rectangle(5, 4)\n",
    "rectangle2 = Rectangle(7, 3)\n",
    "\n",
    "# Test the methods\n",
    "area1 = rectangle1.calculate_area()\n",
    "perimeter1 = rectangle1.calculate_perimeter()\n",
    "\n",
    "area2 = rectangle2.calculate_area()\n",
    "perimeter2 = rectangle2.calculate_perimeter()\n",
    "\n",
    "# Display the results\n",
    "print(\"Rectangle 1:\")\n",
    "print(f\"Area: {area1}\")\n",
    "print(f\"Perimeter: {perimeter1}\")\n",
    "\n",
    "print(\"\\nRectangle 2:\")\n",
    "print(f\"Area: {area2}\")\n",
    "print(f\"Perimeter: {perimeter2}\")\n"
   ]
  },
  {
   "cell_type": "markdown",
   "id": "0ca7f355",
   "metadata": {},
   "source": [
    "# Class Variables:\n",
    "Create a class BankAccount with a class variable interest_rate representing the annual interest rate for all bank accounts. Implement a method to calculate the interest earned on a given balance over a period."
   ]
  },
  {
   "cell_type": "code",
   "execution_count": 11,
   "id": "e0c93b16",
   "metadata": {},
   "outputs": [
    {
     "name": "stdout",
     "output_type": "stream",
     "text": [
      "Account Number: 12345\n",
      "Starting Balance: $1000.00\n",
      "Interest Earned over 6 months: $15.00\n"
     ]
    }
   ],
   "source": [
    "class BankAccount:\n",
    "    # Class variable representing the annual interest rate for all bank accounts\n",
    "    interest_rate = 0.03  # 3% annual interest rate (you can change this as needed)\n",
    "\n",
    "    def __init__(self, account_number, balance):\n",
    "        self.account_number = account_number\n",
    "        self.balance = balance\n",
    "\n",
    "    def calculate_interest(self, months):\n",
    "        # Calculate the interest earned over a specified number of months\n",
    "        annual_interest = self.balance * BankAccount.interest_rate\n",
    "        monthly_interest = annual_interest / 12\n",
    "        return monthly_interest * months\n",
    "\n",
    "# Create an instance of the BankAccount class\n",
    "account1 = BankAccount(\"12345\", 1000.00)\n",
    "\n",
    "# Calculate the interest earned over 6 months\n",
    "months = 6\n",
    "interest_earned = account1.calculate_interest(months)\n",
    "\n",
    "# Display the results\n",
    "print(f\"Account Number: {account1.account_number}\")\n",
    "print(f\"Starting Balance: ${account1.balance:.2f}\")\n",
    "print(f\"Interest Earned over {months} months: ${interest_earned:.2f}\")\n"
   ]
  },
  {
   "cell_type": "markdown",
   "id": "090f9bf2",
   "metadata": {},
   "source": [
    "# Instance Methods:\n",
    "Define a class Circle with an instance method calculate_area that calculates and returns the area of the circle. Create instances of the class and use this method to find the area of circles with different radii.\n"
   ]
  },
  {
   "cell_type": "code",
   "execution_count": 12,
   "id": "f35eb82f",
   "metadata": {},
   "outputs": [
    {
     "name": "stdout",
     "output_type": "stream",
     "text": [
      "Circle 1 with radius 5.0 has an area of 78.54 square units.\n",
      "Circle 2 with radius 2.5 has an area of 19.63 square units.\n"
     ]
    }
   ],
   "source": [
    "import math\n",
    "\n",
    "class Circle:\n",
    "    def __init__(self, radius):\n",
    "        self.radius = radius\n",
    "\n",
    "    def calculate_area(self):\n",
    "        # Calculate the area of the circle using the formula: π * r^2\n",
    "        return math.pi * self.radius ** 2\n",
    "\n",
    "# Create instances of the Circle class with different radii\n",
    "circle1 = Circle(5.0)  # Circle with a radius of 5.0 units\n",
    "circle2 = Circle(2.5)  # Circle with a radius of 2.5 units\n",
    "\n",
    "# Calculate and display the areas of the circles\n",
    "area1 = circle1.calculate_area()\n",
    "area2 = circle2.calculate_area()\n",
    "\n",
    "print(f\"Circle 1 with radius {circle1.radius} has an area of {area1:.2f} square units.\")\n",
    "print(f\"Circle 2 with radius {circle2.radius} has an area of {area2:.2f} square units.\")\n"
   ]
  },
  {
   "cell_type": "markdown",
   "id": "8ce8c1dd",
   "metadata": {},
   "source": [
    "# Class Methods:\n",
    "Create a class Employee with a class method from_string that accepts a string in the format \"Name, Age, Salary\" and creates an Employee object. Use this method to create employee instances from strings.\n"
   ]
  },
  {
   "cell_type": "code",
   "execution_count": null,
   "id": "f0bf5868",
   "metadata": {},
   "outputs": [],
   "source": [
    "class Employee:\n",
    "    def __init__(self, name, age, salary):\n",
    "        self.name = name\n",
    "        self.age = age\n",
    "        self.salary = salary\n",
    "\n",
    "    @classmethod\n",
    "    def from_string(cls, employee_string):\n",
    "        # Split the input string into parts using a comma as the delimiter\n",
    "        name, age, salary = employee_string.split(', ')\n",
    "        # Convert age and salary to their respective data types\n",
    "        age = int(age)\n",
    "        salary = float(salary)\n",
    "        # Create and return an Employee object\n",
    "        return cls(name, age, salary)\n",
    "\n",
    "# Create employee instances from strings\n",
    "employee_string1 = \"John Doe, 30, 50000.00\"\n",
    "employee_string2 = \"Alice Smith, 28, 60000.50\"\n",
    "\n",
    "employee1 = Employee.from_string(employee_string1)\n",
    "employee2 = Employee.from_string(employee_string2)\n",
    "\n",
    "# Display the details of the employees\n",
    "print(\"Employee 1:\")\n",
    "print(f\"Name: {employee1.name}\")\n",
    "print(f\"Age: {employee1.age}\")\n",
    "print(f\"Salary: ${employee1.salary:.2f}\")\n",
    "\n",
    "print(\"\\nEmployee 2:\")\n",
    "print(f\"Name: {employee2.name}\")\n",
    "print(f\"Age: {employee2.age}\")\n",
    "print(f\"Salary: ${employee2.salary:.2f}\")\n"
   ]
  },
  {
   "cell_type": "markdown",
   "id": "8554f29e",
   "metadata": {},
   "source": [
    "# Static Methods:\n",
    "Implement a class MathUtils with a static method is_prime that checks if a given number is prime or not. Use this method to find prime numbers in a given range."
   ]
  },
  {
   "cell_type": "code",
   "execution_count": null,
   "id": "74ea55db",
   "metadata": {},
   "outputs": [],
   "source": [
    "class MathUtils:\n",
    "    @staticmethod\n",
    "    def is_prime(number):\n",
    "        if number <= 1:\n",
    "            return False\n",
    "        if number <= 3:\n",
    "            return True\n",
    "        if number % 2 == 0 or number % 3 == 0:\n",
    "            return False\n",
    "        i = 5\n",
    "        while i * i <= number:\n",
    "            if number % i == 0 or number % (i + 2) == 0:\n",
    "                return False\n",
    "            i += 6\n",
    "        return True\n",
    "\n",
    "# Define a function to find prime numbers in a given range\n",
    "def find_primes_in_range(start, end):\n",
    "    prime_numbers = []\n",
    "    for num in range(start, end + 1):\n",
    "        if MathUtils.is_prime(num):\n",
    "            prime_numbers.append(num)\n",
    "    return prime_numbers\n",
    "\n",
    "# Find prime numbers in the range from 1 to 50\n",
    "start_range = 1\n",
    "end_range = 50\n",
    "prime_numbers_in_range = find_primes_in_range(start_range, end_range)\n",
    "\n",
    "# Display the prime numbers found in the range\n",
    "print(f\"Prime numbers in the range from {start_range} to {end_range}:\")\n",
    "print(prime_numbers_in_range)\n"
   ]
  }
 ],
 "metadata": {
  "kernelspec": {
   "display_name": "Python 3 (ipykernel)",
   "language": "python",
   "name": "python3"
  },
  "language_info": {
   "codemirror_mode": {
    "name": "ipython",
    "version": 3
   },
   "file_extension": ".py",
   "mimetype": "text/x-python",
   "name": "python",
   "nbconvert_exporter": "python",
   "pygments_lexer": "ipython3",
   "version": "3.11.3"
  }
 },
 "nbformat": 4,
 "nbformat_minor": 5
}
