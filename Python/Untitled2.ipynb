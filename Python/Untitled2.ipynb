{
 "cells": [
  {
   "cell_type": "code",
   "execution_count": null,
   "id": "5843b729",
   "metadata": {},
   "outputs": [],
   "source": [
    "1)  retrive the 1st character in string using indexing in python \n",
    "2)  extract a substring that includes characters from the 3rd to 7th position\n",
    "3)  access the last character of string using negative indexing \n",
    "4)  extract every 2nd character from string using slicing\n",
    "5)  reverse string in python using slicing and indexing\n",
    "6)  remove 1st 3 characters string using slicing\n",
    "7)  find the length of the string without using len() function\n",
    "8)  check if specific substring exists within string using slicing snd indexing\n",
    "9)  replace the 5th character of the string with different character using \n",
    "     slicing and indexing\n",
    "10) extract the 2nd word from a sentence using slicing\n",
    "11) remove all the spaces using  slicing\n",
    "12) find all occurances of specific substring within a larger string using \n",
    "     slicing"
   ]
  },
  {
   "cell_type": "code",
   "execution_count": 2,
   "id": "9233ab0c",
   "metadata": {},
   "outputs": [
    {
     "name": "stdout",
     "output_type": "stream",
     "text": [
      "H\n"
     ]
    }
   ],
   "source": [
    "#1)  retrive the 1st character in string using indexing in python \n",
    "str=\"Hello world!\"\n",
    "print(str[0])"
   ]
  },
  {
   "cell_type": "code",
   "execution_count": 3,
   "id": "4050ef74",
   "metadata": {},
   "outputs": [
    {
     "name": "stdout",
     "output_type": "stream",
     "text": [
      "hon \n"
     ]
    }
   ],
   "source": [
    "#2)  extract a substring that includes characters from the 3rd to 7th position\n",
    "str=\"python is great\"\n",
    "print(str[3:7])"
   ]
  },
  {
   "cell_type": "code",
   "execution_count": 4,
   "id": "e5f47a2c",
   "metadata": {},
   "outputs": [
    {
     "name": "stdout",
     "output_type": "stream",
     "text": [
      "n\n"
     ]
    }
   ],
   "source": [
    "#3)  access the last character of string using negative indexing \n",
    "str=\"python\"\n",
    "print(str[-1])"
   ]
  },
  {
   "cell_type": "code",
   "execution_count": 17,
   "id": "3b1ce721",
   "metadata": {},
   "outputs": [
    {
     "name": "stdout",
     "output_type": "stream",
     "text": [
      "aceg\n",
      "aceg\n"
     ]
    }
   ],
   "source": [
    "#4)  extract every 2nd character from string using slicing\n",
    "str=\"abcdefgh\"\n",
    "print(str[0::2])\n",
    "str1=\"abcdefg\"[0::2]\n",
    "print(str1)"
   ]
  },
  {
   "cell_type": "code",
   "execution_count": 15,
   "id": "9b096dd6",
   "metadata": {},
   "outputs": [
    {
     "name": "stdout",
     "output_type": "stream",
     "text": [
      "nohtyp\n",
      "nohtyp\n"
     ]
    }
   ],
   "source": [
    "#5)  reverse string in python using slicing and indexing\n",
    "str=\"python\"\n",
    "print(str[::-1])\n",
    "str1=\"python\"[::-1]\n",
    "print(str1)"
   ]
  },
  {
   "cell_type": "code",
   "execution_count": 18,
   "id": "b9bbb5ff",
   "metadata": {},
   "outputs": [
    {
     "name": "stdout",
     "output_type": "stream",
     "text": [
      "lo, world\n"
     ]
    }
   ],
   "source": [
    "#6)  remove 1 st 3 characters string using slicing\n",
    "str=\"Hello, world\"\n",
    "print(str[3:])"
   ]
  },
  {
   "cell_type": "code",
   "execution_count": 21,
   "id": "9c767e2a",
   "metadata": {},
   "outputs": [
    {
     "name": "stdout",
     "output_type": "stream",
     "text": [
      "Length of the string: 13\n"
     ]
    }
   ],
   "source": [
    "#7)  find the length of the string without using len() function\n",
    "string = \"Hello, World!\"\n",
    "count = 0\n",
    "\n",
    "for char in string:\n",
    "    count += 1\n",
    "\n",
    "print(\"Length of the string:\", count)"
   ]
  },
  {
   "cell_type": "code",
   "execution_count": 26,
   "id": "cb3bbe67",
   "metadata": {},
   "outputs": [
    {
     "name": "stdout",
     "output_type": "stream",
     "text": [
      "enter a string: Hello\n",
      "'Hello' exists in the input string.\n"
     ]
    }
   ],
   "source": [
    "#8)  check if specific substring exists within string using slicing snd indexing\n",
    "\n",
    "string = \"Hello,world!\"\n",
    "i =input(\"enter a string: \")\n",
    "if i in string:\n",
    "    print(f\"'{i}' exists in the input string.\")\n",
    "else:\n",
    "    print(f\"'{i}' does not exist in the input string.\")"
   ]
  },
  {
   "cell_type": "code",
   "execution_count": 25,
   "id": "b3231df0",
   "metadata": {},
   "outputs": [
    {
     "name": "stdout",
     "output_type": "stream",
     "text": [
      "HellT, World!\n"
     ]
    }
   ],
   "source": [
    "#9)  replace the 5th character of the string with different character using slicing and indexing\n",
    "\n",
    "original_string = \"Hello, World!\"\n",
    "before_5th = original_string[:4] \n",
    "after_5th = original_string[5:]\n",
    "new_character = 'T'\n",
    "modified_string = before_5th + new_character + after_5th\n",
    "print(modified_string)"
   ]
  },
  {
   "cell_type": "code",
   "execution_count": 28,
   "id": "3c7af10e",
   "metadata": {},
   "outputs": [
    {
     "name": "stdout",
     "output_type": "stream",
     "text": [
      " is\n"
     ]
    }
   ],
   "source": [
    "#10) extract the 2nd word from a sentence using slicing\n",
    "\n",
    "str=\"This is a python class\"\n",
    "print(str[4:7])"
   ]
  },
  {
   "cell_type": "code",
   "execution_count": 32,
   "id": "acbd60a9",
   "metadata": {},
   "outputs": [
    {
     "name": "stdout",
     "output_type": "stream",
     "text": [
      "['Hello,world']\n"
     ]
    }
   ],
   "source": [
    "#11) remove all the spaces using  slicing\n",
    "str=\"Hello,world\"\n",
    "print(str.split())\n",
    "\n",
    "str=\"thamarai selvan\"\n",
    "n="
   ]
  },
  {
   "cell_type": "code",
   "execution_count": null,
   "id": "f7ae8392",
   "metadata": {},
   "outputs": [],
   "source": []
  }
 ],
 "metadata": {
  "kernelspec": {
   "display_name": "Python 3 (ipykernel)",
   "language": "python",
   "name": "python3"
  },
  "language_info": {
   "codemirror_mode": {
    "name": "ipython",
    "version": 3
   },
   "file_extension": ".py",
   "mimetype": "text/x-python",
   "name": "python",
   "nbconvert_exporter": "python",
   "pygments_lexer": "ipython3",
   "version": "3.11.3"
  }
 },
 "nbformat": 4,
 "nbformat_minor": 5
}
