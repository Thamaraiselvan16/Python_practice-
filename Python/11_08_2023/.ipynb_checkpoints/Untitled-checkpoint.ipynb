{
 "cells": [
  {
   "cell_type": "markdown",
   "id": "c96ce8a1",
   "metadata": {},
   "source": [
    "# CONDITIONS"
   ]
  },
  {
   "cell_type": "markdown",
   "id": "94a4d938",
   "metadata": {},
   "source": [
    "#IF CONDITION\n",
    "#syntax\n",
    "if condition:\n",
    "    print(\"statement\")"
   ]
  },
  {
   "cell_type": "code",
   "execution_count": 6,
   "id": "094720ed",
   "metadata": {},
   "outputs": [
    {
     "name": "stdout",
     "output_type": "stream",
     "text": [
      "enter a number9\n",
      "yes the number is below 10\n"
     ]
    }
   ],
   "source": [
    "#check whether the given number is below 10\n",
    "a=int (input(\"enter a number\"))\n",
    "if a<=10:\n",
    "    print(\"yes the number is below 10\")"
   ]
  },
  {
   "cell_type": "code",
   "execution_count": 8,
   "id": "fef5c3d3",
   "metadata": {},
   "outputs": [
    {
     "name": "stdout",
     "output_type": "stream",
     "text": [
      "enter a number20\n",
      "yes the number is b/w 10 and 20\n"
     ]
    }
   ],
   "source": [
    "#write a program to check if a number is b/w 10 and 20?\n",
    "a=int (input(\"enter a number\"))\n",
    "if a>10 and a<=20:\n",
    "    print(\"yes the number is b/w 10 and 20\")"
   ]
  },
  {
   "cell_type": "code",
   "execution_count": 10,
   "id": "00e5f263",
   "metadata": {},
   "outputs": [
    {
     "name": "stdout",
     "output_type": "stream",
     "text": [
      "enter a number11\n",
      "bye\n"
     ]
    }
   ],
   "source": [
    "#if else\n",
    "#write a program to display \"hello\" if a number entered by user is a multiple of five(*5) otherwise print \"bye\"\n",
    "a=int (input(\"enter a number\"))\n",
    "if a%5==0:\n",
    "    print(\"hello\")\n",
    "else:\n",
    "    print(\"bye\")"
   ]
  },
  {
   "cell_type": "code",
   "execution_count": 12,
   "id": "bd6f87c9",
   "metadata": {},
   "outputs": [
    {
     "name": "stdout",
     "output_type": "stream",
     "text": [
      "enter tha number77\n",
      "the last number is 7\n"
     ]
    }
   ],
   "source": [
    "#write a programm to display the last digit of a number\n",
    "a=int(input(\"enter tha number\"))\n",
    "print(\"the last number is\",a%10)"
   ]
  },
  {
   "cell_type": "code",
   "execution_count": 14,
   "id": "ac06d849",
   "metadata": {},
   "outputs": [
    {
     "name": "stdout",
     "output_type": "stream",
     "text": [
      "enter tha number10\n",
      "it is a even\n"
     ]
    }
   ],
   "source": [
    "#check whether the number is even or odd\n",
    "a=int(input(\"enter tha number\"))\n",
    "if a%2==0:\n",
    "    print(\"it is a even\")\n",
    "else:\n",
    "    print(\"it is a odd\")"
   ]
  },
  {
   "cell_type": "code",
   "execution_count": 15,
   "id": "802aa213",
   "metadata": {},
   "outputs": [
    {
     "name": "stdout",
     "output_type": "stream",
     "text": [
      "its odd\n",
      "its even\n",
      "its even\n",
      "its even\n",
      "its odd\n",
      "its odd\n",
      "its even\n"
     ]
    }
   ],
   "source": [
    "#same as using \"list\" and \"in\"\n",
    "a=[2,3,5,7,24,64,23]\n",
    "for i in a:\n",
    "    if i%2:\n",
    "        print(\"its even\")\n",
    "    else:\n",
    "        print(\"its odd\")"
   ]
  },
  {
   "cell_type": "code",
   "execution_count": null,
   "id": "b4042445",
   "metadata": {},
   "outputs": [],
   "source": [
    "#write a program check whether the entered number is vowels or not\n",
    "ch=input(\"enter a charcter:\")\n",
    "ch=ch.lower()\n",
    "if ch==\"a\" or ch==\"e\" or ch==\"i\" or ch==\"o\" or ch==\"u\":\n",
    "    print(\"this is vowel\")\n",
    "else:\n",
    "    print(\"this is consonant\")"
   ]
  },
  {
   "cell_type": "code",
   "execution_count": null,
   "id": "6187e800",
   "metadata": {},
   "outputs": [],
   "source": [
    "#write a program that takes 3 number as input and print in ascending order\n",
    "\n",
    "a=int (input(\"enter a numbers:\"))\n",
    "x=sorted.a\n",
    "print(x)"
   ]
  },
  {
   "cell_type": "code",
   "execution_count": null,
   "id": "9e3379e8",
   "metadata": {},
   "outputs": [],
   "source": [
    "#determine whether the users name is valid or invalid"
   ]
  },
  {
   "cell_type": "code",
   "execution_count": null,
   "id": "ce98951a",
   "metadata": {},
   "outputs": [],
   "source": [
    "#write a program that takes the total no of working daya and total number of days absent and then calculate and display the percentage of class attended."
   ]
  },
  {
   "cell_type": "code",
   "execution_count": null,
   "id": "9c0b0e0b",
   "metadata": {},
   "outputs": [],
   "source": []
  }
 ],
 "metadata": {
  "kernelspec": {
   "display_name": "Python 3 (ipykernel)",
   "language": "python",
   "name": "python3"
  },
  "language_info": {
   "codemirror_mode": {
    "name": "ipython",
    "version": 3
   },
   "file_extension": ".py",
   "mimetype": "text/x-python",
   "name": "python",
   "nbconvert_exporter": "python",
   "pygments_lexer": "ipython3",
   "version": "3.11.3"
  }
 },
 "nbformat": 4,
 "nbformat_minor": 5
}
