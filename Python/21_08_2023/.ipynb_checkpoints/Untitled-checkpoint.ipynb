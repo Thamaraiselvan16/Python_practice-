{
 "cells": [
  {
   "cell_type": "markdown",
   "id": "59ab3752",
   "metadata": {},
   "source": [
    "# loops"
   ]
  },
  {
   "cell_type": "code",
   "execution_count": null,
   "id": "0117fbea",
   "metadata": {},
   "outputs": [],
   "source": [
    "# range\n",
    "1)"
   ]
  },
  {
   "cell_type": "code",
   "execution_count": null,
   "id": "e320790e",
   "metadata": {},
   "outputs": [],
   "source": []
  },
  {
   "cell_type": "code",
   "execution_count": null,
   "id": "a062a710",
   "metadata": {},
   "outputs": [],
   "source": []
  },
  {
   "cell_type": "code",
   "execution_count": 2,
   "id": "d881345e",
   "metadata": {},
   "outputs": [
    {
     "name": "stdout",
     "output_type": "stream",
     "text": [
      "20\n",
      "22\n",
      "24\n",
      "26\n",
      "28\n",
      "30\n",
      "the sum of all the number is 150\n"
     ]
    }
   ],
   "source": [
    "sum=0\n",
    "for i in range(20,31,2):\n",
    "    sum=sum+i\n",
    "    print(i)\n",
    "print(f'the sum of all the number is',sum)\n"
   ]
  },
  {
   "cell_type": "code",
   "execution_count": 10,
   "id": "835cdcde",
   "metadata": {},
   "outputs": [
    {
     "ename": "SyntaxError",
     "evalue": "expected ':' (3194390551.py, line 4)",
     "output_type": "error",
     "traceback": [
      "\u001b[1;36m  Cell \u001b[1;32mIn[10], line 4\u001b[1;36m\u001b[0m\n\u001b[1;33m    if (i*i for i in range if i%2!=0)\u001b[0m\n\u001b[1;37m                                     ^\u001b[0m\n\u001b[1;31mSyntaxError\u001b[0m\u001b[1;31m:\u001b[0m expected ':'\n"
     ]
    }
   ],
   "source": [
    "#enter the squre of all number in the list\n",
    "sum=0\n",
    "for i in range(1,10):\n",
    "    if (i*i for i in range if i%2!=0)\n",
    "    \n"
   ]
  },
  {
   "cell_type": "code",
   "execution_count": 17,
   "id": "948c69e7",
   "metadata": {},
   "outputs": [
    {
     "name": "stdout",
     "output_type": "stream",
     "text": [
      "1\n",
      "23\n",
      "3\n",
      "5\n",
      "6\n"
     ]
    }
   ],
   "source": [
    "# using break\n",
    "l=[1,23,3,5,6,86,54]\n",
    "for i in l:\n",
    "    if i>30:\n",
    "        break\n",
    "    else:\n",
    "        print(i)"
   ]
  },
  {
   "cell_type": "code",
   "execution_count": 28,
   "id": "a081c0cd",
   "metadata": {},
   "outputs": [
    {
     "name": "stdout",
     "output_type": "stream",
     "text": [
      "1\n",
      "23\n",
      "3\n",
      "5\n",
      "6\n"
     ]
    }
   ],
   "source": [
    "# usin continue\n",
    "k=[1,23,3,5,6,86,54]\n",
    "for i in k:\n",
    "    if i>=30:\n",
    "        continue\n",
    "    else:\n",
    "        print(i)"
   ]
  },
  {
   "cell_type": "code",
   "execution_count": 35,
   "id": "ff7277ed",
   "metadata": {},
   "outputs": [],
   "source": [
    "# pass\n",
    "s=\"jhgcajc\",\"jhgjhcccn\"\n",
    "for i in s:\n",
    "    pass"
   ]
  },
  {
   "cell_type": "code",
   "execution_count": null,
   "id": "e7c5c8a4",
   "metadata": {},
   "outputs": [],
   "source": [
    "\n"
   ]
  },
  {
   "cell_type": "code",
   "execution_count": 37,
   "id": "7ca7c60d",
   "metadata": {},
   "outputs": [],
   "source": [
    "#write a program to print first 10 number in reverse order"
   ]
  },
  {
   "cell_type": "code",
   "execution_count": null,
   "id": "016fa7b4",
   "metadata": {},
   "outputs": [],
   "source": [
    "#wap to print a table of a number accepted from user"
   ]
  },
  {
   "cell_type": "code",
   "execution_count": null,
   "id": "d4e972c8",
   "metadata": {},
   "outputs": [],
   "source": [
    "#wap to display all the numbers which are divisible by 11 but not by 2 between 100 and 500"
   ]
  },
  {
   "cell_type": "code",
   "execution_count": null,
   "id": "f5741ef4",
   "metadata": {},
   "outputs": [],
   "source": [
    "# to display some of odd numbers and even number that fall between 12 and 37"
   ]
  },
  {
   "cell_type": "code",
   "execution_count": null,
   "id": "12431a47",
   "metadata": {},
   "outputs": [],
   "source": []
  }
 ],
 "metadata": {
  "kernelspec": {
   "display_name": "Python 3 (ipykernel)",
   "language": "python",
   "name": "python3"
  },
  "language_info": {
   "codemirror_mode": {
    "name": "ipython",
    "version": 3
   },
   "file_extension": ".py",
   "mimetype": "text/x-python",
   "name": "python",
   "nbconvert_exporter": "python",
   "pygments_lexer": "ipython3",
   "version": "3.11.3"
  }
 },
 "nbformat": 4,
 "nbformat_minor": 5
}
