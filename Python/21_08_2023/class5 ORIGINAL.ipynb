{
 "cells": [
  {
   "cell_type": "markdown",
   "id": "ee672ab9",
   "metadata": {},
   "source": [
    "# loops"
   ]
  },
  {
   "cell_type": "code",
   "execution_count": null,
   "id": "839d82e7",
   "metadata": {},
   "outputs": [],
   "source": [
    "1)For loop--->iterating the sequence or fixed number of times\n",
    "2)while loop-->An unknown number times"
   ]
  },
  {
   "cell_type": "code",
   "execution_count": null,
   "id": "605ad4af",
   "metadata": {},
   "outputs": [],
   "source": [
    "synatx:\n",
    "    for elsement in iteratable:\n",
    "        statements\n",
    "                        (or)\n",
    "            \n",
    "    for i in range/sequence:\n",
    "        statements1\n",
    "        statements2\n",
    "        "
   ]
  },
  {
   "cell_type": "code",
   "execution_count": 5,
   "id": "78a53223",
   "metadata": {},
   "outputs": [
    {
     "name": "stdout",
     "output_type": "stream",
     "text": [
      "0\n",
      "1\n",
      "2\n",
      "3\n",
      "4\n",
      "5\n",
      "6\n",
      "7\n",
      "8\n",
      "9\n",
      "10\n"
     ]
    }
   ],
   "source": []
  },
  {
   "cell_type": "code",
   "execution_count": 9,
   "id": "c27aec37",
   "metadata": {},
   "outputs": [
    {
     "name": "stdout",
     "output_type": "stream",
     "text": [
      "90\n",
      "92\n",
      "94\n",
      "96\n",
      "98\n"
     ]
    }
   ],
   "source": []
  },
  {
   "cell_type": "code",
   "execution_count": null,
   "id": "d80b0da5",
   "metadata": {},
   "outputs": [],
   "source": []
  },
  {
   "cell_type": "code",
   "execution_count": null,
   "id": "35670540",
   "metadata": {},
   "outputs": [],
   "source": [
    "#range\n",
    "it is going to generate the list of numbers within a given number\n",
    "1)range(stop)\n",
    "2)range(start,stop)\n",
    "3)range(start,stop,step)"
   ]
  },
  {
   "cell_type": "code",
   "execution_count": 3,
   "id": "c1a185ea",
   "metadata": {},
   "outputs": [
    {
     "name": "stdout",
     "output_type": "stream",
     "text": [
      "range(0, 100)\n"
     ]
    }
   ],
   "source": [
    "#range(stop)\n",
    "range(100)"
   ]
  },
  {
   "cell_type": "code",
   "execution_count": 4,
   "id": "dc85eb54",
   "metadata": {},
   "outputs": [
    {
     "data": {
      "text/plain": [
       "range(8, 100, 2)"
      ]
     },
     "execution_count": 4,
     "metadata": {},
     "output_type": "execute_result"
    }
   ],
   "source": [
    "range(8,100,2)"
   ]
  },
  {
   "cell_type": "code",
   "execution_count": 2,
   "id": "b4dcba0f",
   "metadata": {},
   "outputs": [
    {
     "data": {
      "text/plain": [
       "range(8, 100)"
      ]
     },
     "execution_count": 2,
     "metadata": {},
     "output_type": "execute_result"
    }
   ],
   "source": [
    "range(8,100)"
   ]
  },
  {
   "cell_type": "code",
   "execution_count": null,
   "id": "db71240b",
   "metadata": {},
   "outputs": [],
   "source": [
    "#Print first 10 numbers using a for loop\n",
    "l=[0,1,2,3,4,5,6,7,8,9,10]\n",
    "for i in l:\n",
    "    print(i)\n",
    "    "
   ]
  },
  {
   "cell_type": "code",
   "execution_count": null,
   "id": "2aa369b0",
   "metadata": {},
   "outputs": [],
   "source": [
    "for num in range(90,100,2):\n",
    "    print(num)"
   ]
  },
  {
   "cell_type": "code",
   "execution_count": 10,
   "id": "5b4f254b",
   "metadata": {},
   "outputs": [
    {
     "name": "stdout",
     "output_type": "stream",
     "text": [
      "a\n",
      "k\n",
      "s\n",
      "h\n",
      "a\n",
      "t\n",
      "h\n",
      "a\n"
     ]
    }
   ],
   "source": [
    "s=\"akshatha\"\n",
    "for i in s:\n",
    "    print(i)"
   ]
  },
  {
   "cell_type": "code",
   "execution_count": 12,
   "id": "82bc7f41",
   "metadata": {},
   "outputs": [
    {
     "name": "stdout",
     "output_type": "stream",
     "text": [
      "['apple', 'manago', 'graphes']\n",
      "a\n",
      "p\n",
      "p\n",
      "l\n",
      "e\n",
      "['apple', 'manago', 'graphes']\n",
      "m\n",
      "a\n",
      "n\n",
      "a\n",
      "g\n",
      "o\n",
      "['apple', 'manago', 'graphes']\n",
      "g\n",
      "r\n",
      "a\n",
      "p\n",
      "h\n",
      "e\n",
      "s\n"
     ]
    }
   ],
   "source": [
    "s=[\"apple\",\"manago\",\"graphes\"]\n",
    "for i in s:\n",
    "    print(s)\n",
    "    for j in i:\n",
    "        print(j)"
   ]
  },
  {
   "cell_type": "code",
   "execution_count": 18,
   "id": "f012d73d",
   "metadata": {},
   "outputs": [
    {
     "name": "stdout",
     "output_type": "stream",
     "text": [
      "10\n",
      "12\n",
      "14\n",
      "16\n",
      "18\n",
      "20\n",
      "the sum of all the number is 90\n"
     ]
    }
   ],
   "source": [
    "#print sum of all even numbers from 10 to 20\n",
    "sum=0\n",
    "l=[10,11,12,13,14,15,16,17,18,19,20]\n",
    "for i in l:\n",
    "    if i%2==0:\n",
    "        print(i)\n",
    "    else:\n",
    "        continue\n",
    "    sum=sum+i\n",
    "print(f\"the sum of all the number is\",sum)\n",
    "    "
   ]
  },
  {
   "cell_type": "code",
   "execution_count": null,
   "id": "e8c83ad7",
   "metadata": {},
   "outputs": [],
   "source": []
  },
  {
   "cell_type": "code",
   "execution_count": 17,
   "id": "37c17f13",
   "metadata": {},
   "outputs": [
    {
     "name": "stdout",
     "output_type": "stream",
     "text": [
      "10\n",
      "12\n",
      "14\n",
      "16\n",
      "18\n",
      "20\n",
      "the sum of all the number is 90\n"
     ]
    }
   ],
   "source": [
    "sum=0\n",
    "for i in range(10,21,2):\n",
    "    sum=sum+i\n",
    "    print(i)\n",
    "print(f\"the sum of all the number is\",sum)"
   ]
  },
  {
   "cell_type": "code",
   "execution_count": 24,
   "id": "0b8b9d82",
   "metadata": {},
   "outputs": [
    {
     "name": "stdout",
     "output_type": "stream",
     "text": [
      "square of: 1 is: 1\n",
      "square of: 2 is: 4\n",
      "square of: 3 is: 9\n",
      "square of: 4 is: 16\n",
      "square of: 5 is: 25\n"
     ]
    }
   ],
   "source": [
    "#perform the square of all numbers in the list\n",
    "numbers=[1,2,3,4,5]\n",
    "for i in numbers:\n",
    "    square=i*i\n",
    "    print(\"square of:\",i,\"is:\",square)\n"
   ]
  },
  {
   "cell_type": "code",
   "execution_count": null,
   "id": "d21c67de",
   "metadata": {},
   "outputs": [],
   "source": [
    "#what use of for loop?\n",
    "-->definate iteration\n",
    "-->reduce the code complexity\n",
    "-->loop through sequence"
   ]
  },
  {
   "cell_type": "code",
   "execution_count": 25,
   "id": "055f254b",
   "metadata": {},
   "outputs": [
    {
     "name": "stdout",
     "output_type": "stream",
     "text": [
      "150\n",
      "30.0\n"
     ]
    }
   ],
   "source": [
    "#calculate the average of the list\n",
    "num=[10,20,30,40,50]\n",
    "sum=0\n",
    "for i in num:\n",
    "    sum=sum+i\n",
    "print(sum)\n",
    "list_size=len(num)\n",
    "average=sum/list_size\n",
    "print(average)"
   ]
  },
  {
   "cell_type": "code",
   "execution_count": 26,
   "id": "e750c405",
   "metadata": {},
   "outputs": [
    {
     "name": "stdout",
     "output_type": "stream",
     "text": [
      "1\n",
      "2\n",
      "3\n",
      "4\n",
      "5\n",
      "the squence has ended\n"
     ]
    }
   ],
   "source": [
    "#else part in for loop\n",
    "l=[1,2,3,4,5]\n",
    "for i in l:\n",
    "    print(i)\n",
    "else:\n",
    "    print(\"the squence has ended\")"
   ]
  },
  {
   "cell_type": "code",
   "execution_count": null,
   "id": "df73e629",
   "metadata": {},
   "outputs": [],
   "source": [
    "loop control statements\n",
    "1)break\n",
    "2)continue\n",
    "3)pass\n"
   ]
  },
  {
   "cell_type": "code",
   "execution_count": 28,
   "id": "c5c35e52",
   "metadata": {},
   "outputs": [
    {
     "name": "stdout",
     "output_type": "stream",
     "text": [
      "1\n",
      "4\n",
      "7\n",
      "9\n"
     ]
    }
   ],
   "source": [
    "#break the loop if number a number is greater than 15\n",
    "l=[1,4,7,9,15,20,8]\n",
    "for i in l:\n",
    "    if i>=15:\n",
    "        break\n",
    "    else:\n",
    "        print(i)"
   ]
  },
  {
   "cell_type": "code",
   "execution_count": 29,
   "id": "89f446ed",
   "metadata": {},
   "outputs": [
    {
     "name": "stdout",
     "output_type": "stream",
     "text": [
      "1\n",
      "4\n",
      "7\n",
      "9\n",
      "6\n",
      "8\n"
     ]
    }
   ],
   "source": [
    "l=[1,4,7,9,15,20,6,8]\n",
    "for i in l:\n",
    "    if i>=15:\n",
    "        continue\n",
    "    else:\n",
    "        print(i)"
   ]
  },
  {
   "cell_type": "code",
   "execution_count": 33,
   "id": "fcc4a45c",
   "metadata": {},
   "outputs": [],
   "source": [
    "s=\"sfxcgvhbjnkm,xfcgvh\"\n",
    "for i in j:\n",
    "    pass"
   ]
  },
  {
   "cell_type": "code",
   "execution_count": null,
   "id": "4295a6ba",
   "metadata": {},
   "outputs": [],
   "source": [
    "#Reversed for loop\n",
    "-- reverse for loop using range\n",
    "--reverse for loop using the revered function"
   ]
  },
  {
   "cell_type": "code",
   "execution_count": 34,
   "id": "4a566af6",
   "metadata": {},
   "outputs": [
    {
     "name": "stdout",
     "output_type": "stream",
     "text": [
      "40\n",
      "30\n",
      "20\n",
      "10\n"
     ]
    }
   ],
   "source": [
    "#reversed\n",
    "l1=[10,20,30,40]\n",
    "for num in reversed(l1):\n",
    "    print(num)"
   ]
  },
  {
   "cell_type": "code",
   "execution_count": 35,
   "id": "49cee780",
   "metadata": {},
   "outputs": [
    {
     "name": "stdout",
     "output_type": "stream",
     "text": [
      "5\n",
      "4\n",
      "3\n",
      "2\n",
      "1\n",
      "0\n"
     ]
    }
   ],
   "source": [
    "#range\n",
    "num=5\n",
    "for num in (range(num,-1,-1)):\n",
    "    print(num)"
   ]
  },
  {
   "cell_type": "code",
   "execution_count": 36,
   "id": "57f9346f",
   "metadata": {},
   "outputs": [
    {
     "name": "stdout",
     "output_type": "stream",
     "text": [
      "4\n",
      "3\n",
      "2\n",
      "1\n"
     ]
    }
   ],
   "source": [
    "#reverse a list using a loop\n",
    "num=[1,2,3,4]\n",
    "for i in num[::-1]:\n",
    "    print(i)"
   ]
  },
  {
   "cell_type": "code",
   "execution_count": 37,
   "id": "00e30649",
   "metadata": {},
   "outputs": [
    {
     "name": "stdout",
     "output_type": "stream",
     "text": [
      "[2, 6, 8, 10]\n"
     ]
    }
   ],
   "source": [
    "#print the even numbers by adding 1 to the odd numbers in the list\n",
    "odd=[1,5,7,9]\n",
    "even=[i+1 for i in odd if i%2==1]\n",
    "print(even)"
   ]
  },
  {
   "cell_type": "code",
   "execution_count": null,
   "id": "32cb29f6",
   "metadata": {},
   "outputs": [],
   "source": [
    "#Accessing the index in for loop\n",
    "enumerate()-->its a function is usefull when we wanted to access both value and its index\n"
   ]
  },
  {
   "cell_type": "code",
   "execution_count": 39,
   "id": "877f9c0b",
   "metadata": {},
   "outputs": [
    {
     "name": "stdout",
     "output_type": "stream",
     "text": [
      "Numbers[ 0 ]= 4\n",
      "Numbers[ 1 ]= 2\n",
      "Numbers[ 2 ]= 5\n",
      "Numbers[ 3 ]= 7\n",
      "Numbers[ 4 ]= 8\n"
     ]
    }
   ],
   "source": [
    "#print elements of the list with its index number using the enumerate()\n",
    "num=[4,2,5,7,8]\n",
    "for i,v in enumerate(num):\n",
    "    print('Numbers[',i,']=',v)"
   ]
  },
  {
   "cell_type": "code",
   "execution_count": 40,
   "id": "0393508c",
   "metadata": {},
   "outputs": [
    {
     "name": "stdout",
     "output_type": "stream",
     "text": [
      "index: 0   value: 4\n",
      "index: 1   value: 2\n",
      "index: 2   value: 5\n",
      "index: 3   value: 7\n",
      "index: 4   value: 8\n"
     ]
    }
   ],
   "source": [
    "#printing the elements of the list with its index number using the range() function\n",
    "num=[4,2,5,7,8]\n",
    "size=len(num)\n",
    "for i in range(size):\n",
    "    print('index:',i,\" \",'value:',num[i])"
   ]
  },
  {
   "cell_type": "code",
   "execution_count": 41,
   "id": "5a74b4f5",
   "metadata": {},
   "outputs": [
    {
     "name": "stdout",
     "output_type": "stream",
     "text": [
      "a k s h a t h a "
     ]
    }
   ],
   "source": [
    "#iterate string using for loop\n",
    "#access all the characters of a string\n",
    "name=\"akshatha\"\n",
    "for i in name:\n",
    "    print(i,end=' ')"
   ]
  },
  {
   "cell_type": "code",
   "execution_count": 42,
   "id": "03c84f8c",
   "metadata": {},
   "outputs": [
    {
     "name": "stdout",
     "output_type": "stream",
     "text": [
      "a\n",
      "k\n",
      "s\n",
      "h\n",
      "a\n",
      "t\n",
      "h\n",
      "a\n"
     ]
    }
   ],
   "source": [
    "name=\"akshatha\"\n",
    "for i in name:\n",
    "    print(i)"
   ]
  },
  {
   "cell_type": "code",
   "execution_count": 45,
   "id": "6de95370",
   "metadata": {},
   "outputs": [
    {
     "name": "stdout",
     "output_type": "stream",
     "text": [
      "t n a d e v t i "
     ]
    }
   ],
   "source": [
    "#iterate string in reverse order\n",
    "name=\"itvedant\"\n",
    "for i in name[::-1]:\n",
    "    print(i,end=\" \")"
   ]
  },
  {
   "cell_type": "code",
   "execution_count": 47,
   "id": "6e3e1a6e",
   "metadata": {},
   "outputs": [
    {
     "name": "stdout",
     "output_type": "stream",
     "text": [
      "v\n",
      "d\n",
      "n\n"
     ]
    }
   ],
   "source": [
    "#iterate over a particular set of characters in string\n",
    "name=\"itvedant education\"\n",
    "for char in name[2:7:2]:\n",
    "    print(char)"
   ]
  },
  {
   "cell_type": "code",
   "execution_count": 48,
   "id": "1916b16e",
   "metadata": {},
   "outputs": [
    {
     "name": "stdout",
     "output_type": "stream",
     "text": [
      "remeber,red,hope\n",
      "is\n",
      "good\n",
      "thing,maybe\n",
      "the\n",
      "best\n",
      "of\n",
      "things,and\n",
      "no\n",
      "good\n",
      "things\n"
     ]
    }
   ],
   "source": [
    "#iterate over words in a sentence using split() function\n",
    "s=\"remeber red,hope is good thing,maybe the best of things,and no good things\"\n",
    "for word in s.split():\n",
    "    print(word)"
   ]
  },
  {
   "cell_type": "code",
   "execution_count": 54,
   "id": "5a247fc8",
   "metadata": {},
   "outputs": [
    {
     "name": "stdout",
     "output_type": "stream",
     "text": [
      "brand -> BMW\n",
      "color -> white\n"
     ]
    }
   ],
   "source": [
    "#iterate dictionary using for loop\n",
    "#acess only the keys of the dictionary\n",
    "d={'brand':'BMW','color':'white'}\n",
    "for key in d:\n",
    "    print(key,'->',d[key])"
   ]
  },
  {
   "cell_type": "code",
   "execution_count": 57,
   "id": "e9246ff4",
   "metadata": {},
   "outputs": [
    {
     "name": "stdout",
     "output_type": "stream",
     "text": [
      "brand\n",
      "color\n"
     ]
    }
   ],
   "source": [
    "d={'brand':'BMW','color':'white'}\n",
    "for key in d:\n",
    "    print(key)"
   ]
  },
  {
   "cell_type": "code",
   "execution_count": 56,
   "id": "ec97e692",
   "metadata": {},
   "outputs": [
    {
     "name": "stdout",
     "output_type": "stream",
     "text": [
      "BMW\n",
      "white\n"
     ]
    }
   ],
   "source": [
    "d={'brand':'BMW','color':'white'}\n",
    "for value in d.values():\n",
    "    print(value)"
   ]
  }
 ],
 "metadata": {
  "kernelspec": {
   "display_name": "Python 3 (ipykernel)",
   "language": "python",
   "name": "python3"
  },
  "language_info": {
   "codemirror_mode": {
    "name": "ipython",
    "version": 3
   },
   "file_extension": ".py",
   "mimetype": "text/x-python",
   "name": "python",
   "nbconvert_exporter": "python",
   "pygments_lexer": "ipython3",
   "version": "3.10.9"
  }
 },
 "nbformat": 4,
 "nbformat_minor": 5
}
