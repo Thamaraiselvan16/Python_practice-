{
 "cells": [
  {
   "cell_type": "markdown",
   "id": "aba465f8",
   "metadata": {},
   "source": [
    "# loops"
   ]
  },
  {
   "cell_type": "code",
   "execution_count": null,
   "id": "bbae18b7",
   "metadata": {},
   "outputs": [],
   "source": [
    "# range\n",
    "1)"
   ]
  },
  {
   "cell_type": "code",
   "execution_count": null,
   "id": "e3035f46",
   "metadata": {},
   "outputs": [],
   "source": []
  },
  {
   "cell_type": "code",
   "execution_count": null,
   "id": "7855a3d9",
   "metadata": {},
   "outputs": [],
   "source": []
  },
  {
   "cell_type": "code",
   "execution_count": 2,
   "id": "8c2047ed",
   "metadata": {},
   "outputs": [
    {
     "name": "stdout",
     "output_type": "stream",
     "text": [
      "20\n",
      "22\n",
      "24\n",
      "26\n",
      "28\n",
      "30\n",
      "the sum of all the number is 150\n"
     ]
    }
   ],
   "source": [
    "sum=0\n",
    "for i in range(20,31,2):\n",
    "    sum=sum+i\n",
    "    print(i)\n",
    "print(f'the sum of all the number is',sum)\n"
   ]
  },
  {
   "cell_type": "code",
   "execution_count": 10,
   "id": "e9a39dfb",
   "metadata": {},
   "outputs": [
    {
     "ename": "SyntaxError",
     "evalue": "expected ':' (3194390551.py, line 4)",
     "output_type": "error",
     "traceback": [
      "\u001b[1;36m  Cell \u001b[1;32mIn[10], line 4\u001b[1;36m\u001b[0m\n\u001b[1;33m    if (i*i for i in range if i%2!=0)\u001b[0m\n\u001b[1;37m                                     ^\u001b[0m\n\u001b[1;31mSyntaxError\u001b[0m\u001b[1;31m:\u001b[0m expected ':'\n"
     ]
    }
   ],
   "source": [
    "#enter the squre of all number in the list\n",
    "sum=0\n",
    "for i in range(1,10):\n",
    "    if (i*i for i in range if i%2!=0)\n",
    "    \n"
   ]
  },
  {
   "cell_type": "code",
   "execution_count": 17,
   "id": "d2737556",
   "metadata": {},
   "outputs": [
    {
     "name": "stdout",
     "output_type": "stream",
     "text": [
      "1\n",
      "23\n",
      "3\n",
      "5\n",
      "6\n"
     ]
    }
   ],
   "source": [
    "# using break\n",
    "l=[1,23,3,5,6,86,54]\n",
    "for i in l:\n",
    "    if i>30:\n",
    "        break\n",
    "    else:\n",
    "        print(i)"
   ]
  },
  {
   "cell_type": "code",
   "execution_count": 28,
   "id": "a4b59be8",
   "metadata": {},
   "outputs": [
    {
     "name": "stdout",
     "output_type": "stream",
     "text": [
      "1\n",
      "23\n",
      "3\n",
      "5\n",
      "6\n"
     ]
    }
   ],
   "source": [
    "# usin continue\n",
    "k=[1,23,3,5,6,86,54]\n",
    "for i in k:\n",
    "    if i>=30:\n",
    "        continue\n",
    "    else:\n",
    "        print(i)"
   ]
  },
  {
   "cell_type": "code",
   "execution_count": 35,
   "id": "1881c30d",
   "metadata": {},
   "outputs": [],
   "source": [
    "# pass\n",
    "s=\"jhgcajc\",\"jhgjhcccn\"\n",
    "for i in s:\n",
    "    pass"
   ]
  },
  {
   "cell_type": "code",
   "execution_count": null,
   "id": "317fcb15",
   "metadata": {},
   "outputs": [],
   "source": [
    "\n"
   ]
  },
  {
   "cell_type": "code",
   "execution_count": 38,
   "id": "b8343208",
   "metadata": {},
   "outputs": [
    {
     "name": "stdout",
     "output_type": "stream",
     "text": [
      "10\n",
      "9\n",
      "8\n",
      "7\n",
      "6\n",
      "5\n",
      "4\n",
      "3\n",
      "2\n",
      "1\n"
     ]
    }
   ],
   "source": [
    "#write a program to print first 10 number in reverse order\n",
    "\n",
    "for num in range(10, 0, -1):\n",
    "    print(num)\n"
   ]
  },
  {
   "cell_type": "code",
   "execution_count": 39,
   "id": "b6335fa6",
   "metadata": {},
   "outputs": [
    {
     "name": "stdout",
     "output_type": "stream",
     "text": [
      "Enter a number: 6\n",
      "Multiplication table of 6:\n",
      "6 x 1 = 6\n",
      "6 x 2 = 12\n",
      "6 x 3 = 18\n",
      "6 x 4 = 24\n",
      "6 x 5 = 30\n",
      "6 x 6 = 36\n",
      "6 x 7 = 42\n",
      "6 x 8 = 48\n",
      "6 x 9 = 54\n",
      "6 x 10 = 60\n"
     ]
    }
   ],
   "source": [
    "#wap to print a table of a number accepted from user\n",
    "num = int(input(\"Enter a number: \"))\n",
    "\n",
    "print(f\"Multiplication table of {num}:\")\n",
    "for i in range(1, 11):\n",
    "    result = num * i\n",
    "    print(f\"{num} x {i} = {result}\")\n"
   ]
  },
  {
   "cell_type": "code",
   "execution_count": null,
   "id": "3db9c232",
   "metadata": {},
   "outputs": [],
   "source": [
    "#wap to display all the numbers which are divisible by 11 but not by 2 between 100 and 500\n",
    "for num in range(100, 501):\n",
    "    if num % 11 == 0 and num % 2 != 0:\n",
    "        print(num)\n"
   ]
  },
  {
   "cell_type": "code",
   "execution_count": null,
   "id": "86ac01ab",
   "metadata": {},
   "outputs": [],
   "source": [
    "# to display some of odd numbers and even number that fall between 12 and 37"
   ]
  },
  {
   "cell_type": "code",
   "execution_count": 41,
   "id": "781f4613",
   "metadata": {},
   "outputs": [
    {
     "name": "stdout",
     "output_type": "stream",
     "text": [
      "Numbers[ 0 ]= 4\n",
      "Numbers[ 1 ]= 2\n",
      "Numbers[ 2 ]= 5\n",
      "Numbers[ 3 ]= 7\n",
      "Numbers[ 4 ]= 8\n"
     ]
    }
   ],
   "source": [
    "#print elements of the list with its index\n",
    "num=[4,2,5,7,8]\n",
    "for i,v in enumerate(num): print('Numbers[',i,']=',v)"
   ]
  },
  {
   "cell_type": "code",
   "execution_count": 42,
   "id": "e08b11f5",
   "metadata": {},
   "outputs": [
    {
     "name": "stdout",
     "output_type": "stream",
     "text": [
      "index: 0   value: 4\n",
      "index: 1   value: 2\n",
      "index: 2   value: 5\n",
      "index: 3   value: 7\n",
      "index: 4   value: 8\n"
     ]
    }
   ],
   "source": [
    "#printing the elements of the list with its index \n",
    "num=[4,2,5,7,8] \n",
    "size=len (num) \n",
    "for i in range(size): \n",
    "    print('index:',i,\" \", 'value:', num[i])"
   ]
  },
  {
   "cell_type": "code",
   "execution_count": 46,
   "id": "9bf31890",
   "metadata": {},
   "outputs": [
    {
     "name": "stdout",
     "output_type": "stream",
     "text": [
      "t h a m a r a i "
     ]
    }
   ],
   "source": [
    "#iterate string using for Loop #access all the characters of a string \n",
    "name=\"thamarai\"\n",
    "for i in name:\n",
    "    print(i, end=' ')"
   ]
  },
  {
   "cell_type": "code",
   "execution_count": 45,
   "id": "fe278a75",
   "metadata": {},
   "outputs": [
    {
     "name": "stdout",
     "output_type": "stream",
     "text": [
      "t\n",
      "h\n",
      "a\n",
      "m\n",
      "s\n",
      "r\n",
      "a\n",
      "i\n"
     ]
    }
   ],
   "source": [
    "name=\"thamsrai\"\n",
    "for i in name:\n",
    "    print(i)"
   ]
  },
  {
   "cell_type": "code",
   "execution_count": 47,
   "id": "e88e845b",
   "metadata": {},
   "outputs": [
    {
     "name": "stdout",
     "output_type": "stream",
     "text": [
      "i a r a m a h t "
     ]
    }
   ],
   "source": [
    "#iterate string in rev order\n",
    "name=\"thamarai\"\n",
    "for i in name[::-1]:\n",
    "    print(i,end=\" \")"
   ]
  },
  {
   "cell_type": "code",
   "execution_count": 52,
   "id": "3865e87b",
   "metadata": {},
   "outputs": [
    {
     "name": "stdout",
     "output_type": "stream",
     "text": [
      "v\n",
      "d\n",
      "n\n"
     ]
    }
   ],
   "source": [
    "name=\"itvedant sducation\"\n",
    "for char in name[2:7:2]:\n",
    "    print(char)"
   ]
  },
  {
   "cell_type": "code",
   "execution_count": 54,
   "id": "648b65c4",
   "metadata": {},
   "outputs": [
    {
     "name": "stdout",
     "output_type": "stream",
     "text": [
      "hi\n",
      "i\n",
      "am\n",
      "thamarai\n"
     ]
    }
   ],
   "source": [
    "s=\" hi i am thamarai\"\n",
    "for word in s.split():\n",
    "    print(word)"
   ]
  },
  {
   "cell_type": "code",
   "execution_count": 55,
   "id": "cb87724c",
   "metadata": {},
   "outputs": [
    {
     "name": "stdout",
     "output_type": "stream",
     "text": [
      "brand -> hjh\n",
      "hhhhh -> hhjhbc\n"
     ]
    }
   ],
   "source": [
    "d={'brand':'hjh','hhhhh':'hhjhbc'}\n",
    "for key in d:\n",
    "    print(key,'->',d[key])"
   ]
  },
  {
   "cell_type": "code",
   "execution_count": 60,
   "id": "4096d001",
   "metadata": {},
   "outputs": [
    {
     "name": "stdout",
     "output_type": "stream",
     "text": [
      "hjh\n",
      "hhjhbc\n"
     ]
    }
   ],
   "source": [
    "d={'brand':'hjh','hhhhh':'hhjhbc'}\n",
    "for value in d.values():\n",
    "    print(value)"
   ]
  },
  {
   "cell_type": "code",
   "execution_count": null,
   "id": "45f89382",
   "metadata": {},
   "outputs": [],
   "source": []
  }
 ],
 "metadata": {
  "kernelspec": {
   "display_name": "Python 3 (ipykernel)",
   "language": "python",
   "name": "python3"
  },
  "language_info": {
   "codemirror_mode": {
    "name": "ipython",
    "version": 3
   },
   "file_extension": ".py",
   "mimetype": "text/x-python",
   "name": "python",
   "nbconvert_exporter": "python",
   "pygments_lexer": "ipython3",
   "version": "3.11.3"
  }
 },
 "nbformat": 4,
 "nbformat_minor": 5
}
