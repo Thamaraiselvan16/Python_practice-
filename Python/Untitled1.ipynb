{
 "cells": [
  {
   "cell_type": "markdown",
   "id": "f9e138df",
   "metadata": {},
   "source": [
    "# functons"
   ]
  },
  {
   "cell_type": "code",
   "execution_count": 8,
   "id": "c140a1c0",
   "metadata": {
    "scrolled": true
   },
   "outputs": [
    {
     "name": "stdout",
     "output_type": "stream",
     "text": [
      "enter a string: taffgasd\n",
      "enter a collapsed num: 1,2,4,6\n",
      "reverse:  dsagffat\n",
      "ordered_num:  {'4', ',', '2', '1', '6'}\n"
     ]
    }
   ],
   "source": [
    "#BUILD IN FUNCTION\n",
    "str=input(\"enter a string: \")\n",
    "num=input(\"enter a collapsed num: \")\n",
    "ordered_num=set(num)\n",
    "reversed_str=str[::-1]\n",
    "print (\"reverse: \",reversed_str)\n",
    "print(\"ordered_num: \",ordered_num)"
   ]
  },
  {
   "cell_type": "code",
   "execution_count": 1,
   "id": "a03b9da5",
   "metadata": {},
   "outputs": [
    {
     "name": "stdout",
     "output_type": "stream",
     "text": [
      "Enter a string: thamarai\n",
      "Enter a collapsed num: 1,3,2,4\n"
     ]
    },
    {
     "ename": "NameError",
     "evalue": "name 'sort' is not defined",
     "output_type": "error",
     "traceback": [
      "\u001b[1;31m---------------------------------------------------------------------------\u001b[0m",
      "\u001b[1;31mNameError\u001b[0m                                 Traceback (most recent call last)",
      "Cell \u001b[1;32mIn[1], line 3\u001b[0m\n\u001b[0;32m      1\u001b[0m input_str \u001b[38;5;241m=\u001b[39m \u001b[38;5;28minput\u001b[39m(\u001b[38;5;124m\"\u001b[39m\u001b[38;5;124mEnter a string: \u001b[39m\u001b[38;5;124m\"\u001b[39m)\n\u001b[0;32m      2\u001b[0m input_num \u001b[38;5;241m=\u001b[39m \u001b[38;5;28minput\u001b[39m(\u001b[38;5;124m\"\u001b[39m\u001b[38;5;124mEnter a collapsed num: \u001b[39m\u001b[38;5;124m\"\u001b[39m)\n\u001b[1;32m----> 3\u001b[0m collapsed_num_str \u001b[38;5;241m=\u001b[39m sort(input_num)\n\u001b[0;32m      4\u001b[0m reversed_str \u001b[38;5;241m=\u001b[39m input_str[::\u001b[38;5;241m-\u001b[39m\u001b[38;5;241m1\u001b[39m]\n\u001b[0;32m      5\u001b[0m ordered_num \u001b[38;5;241m=\u001b[39m \u001b[38;5;28mset\u001b[39m(collapsed_num_str)\n",
      "\u001b[1;31mNameError\u001b[0m: name 'sort' is not defined"
     ]
    }
   ],
   "source": [
    "input_str = input(\"Enter a string: \")\n",
    "input_num = input(\"Enter a collapsed num: \")\n",
    "collapsed_num_str = sort(input_num)\n",
    "reversed_str = input_str[::-1]\n",
    "ordered_num = set(collapsed_num_str)\n",
    "\n",
    "print(\"Reverse: \", reversed_str)\n",
    "print(\"Ordered_num: \", ordered_num)\n"
   ]
  },
  {
   "cell_type": "code",
   "execution_count": 11,
   "id": "b814abaf",
   "metadata": {},
   "outputs": [
    {
     "name": "stdout",
     "output_type": "stream",
     "text": [
      "binary 101010\n",
      "decimal 42\n"
     ]
    }
   ],
   "source": [
    "#binary to dicimal\n",
    "b='101010'\n",
    "d=0\n",
    "for i, digit in enumerate(reversed(b)):\n",
    "    if digit=='1':\n",
    "        d=d+2**i\n",
    "print (\"binary\",b)\n",
    "print(\"decimal\",d)"
   ]
  },
  {
   "cell_type": "code",
   "execution_count": 16,
   "id": "bd3f7adc",
   "metadata": {},
   "outputs": [
    {
     "name": "stdout",
     "output_type": "stream",
     "text": [
      "enter a binary number: 101010\n",
      "binary:  101010\n",
      "decimal:  42\n"
     ]
    }
   ],
   "source": [
    "#binary to dicimal\n",
    "b=input(\"enter a binary number: \")\n",
    "d=0\n",
    "for i, digit in enumerate(reversed(b)):\n",
    "    if digit=='1':\n",
    "        d=d+2**i\n",
    "print (\"binary: \",b)\n",
    "print(\"decimal: \",d)"
   ]
  },
  {
   "cell_type": "code",
   "execution_count": 3,
   "id": "8e7ae5f6",
   "metadata": {},
   "outputs": [
    {
     "name": "stdout",
     "output_type": "stream",
     "text": [
      "hello\n",
      "hello\n"
     ]
    }
   ],
   "source": [
    "#user difine function\n",
    "def akshatha():\n",
    "    print(\"hello\")\n",
    "akshatha()\n",
    "akshatha()"
   ]
  },
  {
   "cell_type": "code",
   "execution_count": 4,
   "id": "e36e434f",
   "metadata": {},
   "outputs": [
    {
     "name": "stdout",
     "output_type": "stream",
     "text": [
      "30\n"
     ]
    }
   ],
   "source": [
    "def add():\n",
    "    a=10\n",
    "    b=20\n",
    "    res=a+b\n",
    "    print(res)\n",
    "add()"
   ]
  },
  {
   "cell_type": "code",
   "execution_count": 6,
   "id": "bc97ab38",
   "metadata": {},
   "outputs": [
    {
     "name": "stdout",
     "output_type": "stream",
     "text": [
      "200\n"
     ]
    }
   ],
   "source": [
    "def mul():\n",
    "    a=10\n",
    "    b=20\n",
    "    res=a*b\n",
    "    print(res)\n",
    "mul()"
   ]
  },
  {
   "cell_type": "code",
   "execution_count": 7,
   "id": "b5e8aa27",
   "metadata": {},
   "outputs": [
    {
     "name": "stdout",
     "output_type": "stream",
     "text": [
      "0.5\n"
     ]
    }
   ],
   "source": [
    "def div():\n",
    "    a=10\n",
    "    b=20\n",
    "    res=a/b\n",
    "    print(res)\n",
    "div()"
   ]
  },
  {
   "cell_type": "code",
   "execution_count": 8,
   "id": "c7b12c70",
   "metadata": {},
   "outputs": [
    {
     "name": "stdout",
     "output_type": "stream",
     "text": [
      "10\n"
     ]
    }
   ],
   "source": [
    "def reminder():\n",
    "    a=10\n",
    "    b=20\n",
    "    res=a%b\n",
    "    print(res)\n",
    "reminder()"
   ]
  },
  {
   "cell_type": "code",
   "execution_count": 9,
   "id": "b3ee628b",
   "metadata": {},
   "outputs": [
    {
     "name": "stdout",
     "output_type": "stream",
     "text": [
      "-10\n"
     ]
    }
   ],
   "source": [
    "def sub():\n",
    "    a=10\n",
    "    b=20\n",
    "    res=a-b\n",
    "    print(res)\n",
    "sub()"
   ]
  },
  {
   "cell_type": "code",
   "execution_count": 29,
   "id": "561aaf03",
   "metadata": {},
   "outputs": [
    {
     "name": "stdout",
     "output_type": "stream",
     "text": [
      "50\n",
      "-10\n",
      "600\n",
      "0.6666666666666666\n",
      "20\n"
     ]
    }
   ],
   "source": [
    "a=20\n",
    "b=30\n",
    "def math():\n",
    "    add=a+b\n",
    "    sub=a-b\n",
    "    mul=a*b\n",
    "    div=a/b\n",
    "    reminder=a%b\n",
    "    print(add,sub,mul,div,reminder,sep=\"\\n\")\n",
    "math()"
   ]
  },
  {
   "cell_type": "markdown",
   "id": "c3bdba91",
   "metadata": {},
   "source": [
    "# 4 ways"
   ]
  },
  {
   "cell_type": "code",
   "execution_count": 37,
   "id": "9f017455",
   "metadata": {},
   "outputs": [
    {
     "name": "stdout",
     "output_type": "stream",
     "text": [
      "3\n"
     ]
    }
   ],
   "source": [
    "#1)without parameter and without return\n",
    "def add():\n",
    "    a,b=1,2\n",
    "    res=a+b\n",
    "    print(res)\n",
    "add()"
   ]
  },
  {
   "cell_type": "code",
   "execution_count": 32,
   "id": "8d50864e",
   "metadata": {},
   "outputs": [
    {
     "name": "stdout",
     "output_type": "stream",
     "text": [
      "3\n"
     ]
    }
   ],
   "source": [
    "#2 without parameter and with return\n",
    "def add():\n",
    "    a,b=1,2\n",
    "    res=a+b\n",
    "    return res\n",
    "res1=print(add())"
   ]
  },
  {
   "cell_type": "code",
   "execution_count": 34,
   "id": "d2850837",
   "metadata": {},
   "outputs": [
    {
     "name": "stdout",
     "output_type": "stream",
     "text": [
      "3\n"
     ]
    }
   ],
   "source": [
    "#2 witout parameter and with return\n",
    "def add():\n",
    "    a,b=1,2\n",
    "    return a+b\n",
    "print(add())"
   ]
  },
  {
   "cell_type": "code",
   "execution_count": 35,
   "id": "d3dcefbb",
   "metadata": {},
   "outputs": [
    {
     "name": "stdout",
     "output_type": "stream",
     "text": [
      "3\n"
     ]
    }
   ],
   "source": [
    "#3 parameter without return\n",
    "def add(a,b):\n",
    "    res=a+b\n",
    "    print(res)\n",
    "add(1,2)"
   ]
  },
  {
   "cell_type": "code",
   "execution_count": 36,
   "id": "14df312f",
   "metadata": {},
   "outputs": [
    {
     "name": "stdout",
     "output_type": "stream",
     "text": [
      "3\n"
     ]
    }
   ],
   "source": [
    "#4 parameter with return\n",
    "def add(a,b):\n",
    "    return a+b\n",
    "print(add(1,2))"
   ]
  }
 ],
 "metadata": {
  "kernelspec": {
   "display_name": "Python 3 (ipykernel)",
   "language": "python",
   "name": "python3"
  },
  "language_info": {
   "codemirror_mode": {
    "name": "ipython",
    "version": 3
   },
   "file_extension": ".py",
   "mimetype": "text/x-python",
   "name": "python",
   "nbconvert_exporter": "python",
   "pygments_lexer": "ipython3",
   "version": "3.11.3"
  }
 },
 "nbformat": 4,
 "nbformat_minor": 5
}
