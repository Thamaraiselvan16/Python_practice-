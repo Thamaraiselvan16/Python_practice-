{
 "cells": [
  {
   "cell_type": "code",
   "execution_count": 1,
   "id": "6224e5a5",
   "metadata": {},
   "outputs": [
    {
     "name": "stdout",
     "output_type": "stream",
     "text": [
      "0\n",
      "1\n",
      "2\n",
      "3\n",
      "4\n"
     ]
    }
   ],
   "source": [
    "#WHILE LOOP\n",
    "i=0\n",
    "while i<5:\n",
    "    print(i)\n",
    "    i=i+1"
   ]
  },
  {
   "cell_type": "code",
   "execution_count": 1,
   "id": "e14364e4",
   "metadata": {},
   "outputs": [
    {
     "name": "stdout",
     "output_type": "stream",
     "text": [
      "enter a number: 180\n",
      "3\n"
     ]
    }
   ],
   "source": [
    "#a given number how many time dived by 3 ,count this\n",
    "count=0\n",
    "num=int(input(\"enter a number: \"))\n",
    "while num>10:\n",
    "  num=num/3\n",
    "  count=count+1\n",
    "print(count)"
   ]
  },
  {
   "cell_type": "code",
   "execution_count": 5,
   "id": "b32a6de5",
   "metadata": {},
   "outputs": [
    {
     "name": "stdout",
     "output_type": "stream",
     "text": [
      "enter t number: 600\n",
      "incorrect number,please enter the correct number\n",
      "enter t number: 499\n",
      "given number is correct\n"
     ]
    }
   ],
   "source": [
    "num=int(input(\"enter t number: \"))\n",
    "while num<100 or num>500:\n",
    "    print(\"incorrect number,please enter the correct number\")\n",
    "    num=int(input(\"enter t number: \"))\n",
    "else:\n",
    "    print(\"given number is correct\")"
   ]
  },
  {
   "cell_type": "code",
   "execution_count": null,
   "id": "3c90b97f",
   "metadata": {},
   "outputs": [],
   "source": [
    "num=int(input(\"enter t number: \"))\n",
    "while num<100 or num>500:\n",
    "    print(\"incorrect number,please enter the correct number\")\n",
    "    num=int(input(\"enter t number: \"))\n",
    "else:\n",
    "    print(\"given number is correct\")"
   ]
  },
  {
   "cell_type": "code",
   "execution_count": 1,
   "id": "e4072847",
   "metadata": {},
   "outputs": [
    {
     "name": "stdout",
     "output_type": "stream",
     "text": [
      "enter t number: 499\n",
      "given number is correct\n"
     ]
    }
   ],
   "source": [
    "num=int(input(\"enter t number: \"))\n",
    "while num<100 or num>500:\n",
    "    print(\"incorrect number,please enter the correct number\")\n",
    "    num=int(input(\"enter t number: \"))\n",
    "else:\n",
    "    print(\"given number is correct\")"
   ]
  },
  {
   "cell_type": "code",
   "execution_count": 8,
   "id": "59efd507",
   "metadata": {},
   "outputs": [
    {
     "name": "stdout",
     "output_type": "stream",
     "text": [
      "enter a number700\n",
      "the given number is 700\n"
     ]
    }
   ],
   "source": [
    "num=int(input(\"enter a number\"))\n",
    "while num<100 or num<500:\n",
    "    num=int(\"incorect number,please enteer a number between 100 and 500: \")\n",
    "print(\"the given number is\",num)"
   ]
  },
  {
   "cell_type": "code",
   "execution_count": 1,
   "id": "cbb8dcc8",
   "metadata": {},
   "outputs": [
    {
     "name": "stdout",
     "output_type": "stream",
     "text": [
      "enter t number: 12\n",
      "12 is even\n",
      "11 is odd\n",
      "10 is even\n",
      "9 is odd\n",
      "8 is even\n",
      "7 is odd\n",
      "6 is even\n",
      "5 is odd\n",
      "4 is even\n",
      "3 is odd\n",
      "2 is even\n",
      "1 is odd\n"
     ]
    }
   ],
   "source": [
    "n=int(input(\"enter t number: \"))\n",
    "while n>0:\n",
    "    if n%2==0:\n",
    "        print(n,\"is even\")\n",
    "    else:\n",
    "        print(n,\"is odd\")\n",
    "    n=n-1\n",
    "        "
   ]
  },
  {
   "cell_type": "code",
   "execution_count": null,
   "id": "7ecc8bba",
   "metadata": {},
   "outputs": [
    {
     "name": "stdout",
     "output_type": "stream",
     "text": [
      "Enter a number: 700\n",
      "Incorrect number. Please enter a number between 100 and 500.\n",
      "Enter a number: 200\n",
      "The given number is correct.\n"
     ]
    }
   ],
   "source": [
    "while (num := int(input(\"Enter a number: \"))) > 0: print(\"The given number is correct.\" if 100 < num < 500 else \"Incorrect number. Please enter a number between 100 and 500.\")\n"
   ]
  },
  {
   "cell_type": "code",
   "execution_count": 2,
   "id": "5d884e25",
   "metadata": {},
   "outputs": [
    {
     "ename": "IndentationError",
     "evalue": "expected an indented block after 'elif' statement on line 7 (4046839482.py, line 8)",
     "output_type": "error",
     "traceback": [
      "\u001b[1;36m  Cell \u001b[1;32mIn[2], line 8\u001b[1;36m\u001b[0m\n\u001b[1;33m    print (name[i],end=\" \")\u001b[0m\n\u001b[1;37m                           ^\u001b[0m\n\u001b[1;31mIndentationError\u001b[0m\u001b[1;31m:\u001b[0m expected an indented block after 'elif' statement on line 7\n"
     ]
    }
   ],
   "source": [
    "name=\"thamarais99elvandhill\"\n",
    "size=len(name)\n",
    "i=0\n",
    "while i<size:\n",
    "    if name[i].isdecimal():\n",
    "        break\n",
    "    print (name[i],end=\" \")\n",
    "    i=i+1"
   ]
  },
  {
   "cell_type": "code",
   "execution_count": 3,
   "id": "b143f226",
   "metadata": {},
   "outputs": [
    {
     "name": "stdout",
     "output_type": "stream",
     "text": [
      "t h a m a r a i s e l v a n d h i l l "
     ]
    }
   ],
   "source": [
    "name = \"thamarais99elvandhill\"\n",
    "size = len(name)\n",
    "i = 0\n",
    "while i < size:\n",
    "    if name[i].isdecimal():\n",
    "        i = i + 1\n",
    "        continue\n",
    "    print(name[i], end=\" \")\n",
    "    i = i + 1\n"
   ]
  }
 ],
 "metadata": {
  "kernelspec": {
   "display_name": "Python 3 (ipykernel)",
   "language": "python",
   "name": "python3"
  },
  "language_info": {
   "codemirror_mode": {
    "name": "ipython",
    "version": 3
   },
   "file_extension": ".py",
   "mimetype": "text/x-python",
   "name": "python",
   "nbconvert_exporter": "python",
   "pygments_lexer": "ipython3",
   "version": "3.11.3"
  }
 },
 "nbformat": 4,
 "nbformat_minor": 5
}
