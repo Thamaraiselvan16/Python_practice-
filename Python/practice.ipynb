{
 "cells": [
  {
   "cell_type": "code",
   "execution_count": null,
   "id": "4cf72df5",
   "metadata": {},
   "outputs": [],
   "source": [
    "#factorial of a number\n",
    "\n",
    "def fact(x):\n",
    "    if x==1:\n",
    "        return 1\n",
    "    else:\n",
    "        return(x*fact(x-1))\n",
    "num=int(input(\"enter a number:\"))\n",
    "print(\"the factorial of \",num,\"is\",fact(num))"
   ]
  },
  {
   "cell_type": "code",
   "execution_count": 1,
   "id": "b96dd1b8",
   "metadata": {},
   "outputs": [
    {
     "name": "stdout",
     "output_type": "stream",
     "text": [
      "enter the number2\n",
      "squre of the number2\n",
      "4\n"
     ]
    }
   ],
   "source": [
    "#lambda function\n",
    "#squre the value\n",
    "dhill=lambda x:x**(int(input(\"squre of the number\")))\n",
    "print(dhill(int(input(\"enter the number\"))))"
   ]
  },
  {
   "cell_type": "code",
   "execution_count": null,
   "id": "4d67d1f3",
   "metadata": {},
   "outputs": [
    {
     "name": "stdout",
     "output_type": "stream",
     "text": [
      "Enter a number (or any non-numeric input to exit): 23\n",
      "Enter the power to raise the number to: 2\n",
      "Result: 529\n",
      "Enter a number (or any non-numeric input to exit): 2\n",
      "Enter the power to raise the number to: 2\n",
      "Result: 4\n",
      "Enter a number (or any non-numeric input to exit): 4\n",
      "Enter the power to raise the number to: 3\n",
      "Result: 64\n"
     ]
    }
   ],
   "source": [
    "## lambda function\n",
    "dhill = lambda x: x ** int(input(\"Enter the power to raise the number to: \"))\n",
    "while True:\n",
    "    num = int(input(\"Enter a number (or any non-numeric input to exit): \"))\n",
    "    if not isinstance(num, int):\n",
    "        break\n",
    "    result = dhill(num)\n",
    "    print(f\"Result: {result}\")\n"
   ]
  }
 ],
 "metadata": {
  "kernelspec": {
   "display_name": "Python 3 (ipykernel)",
   "language": "python",
   "name": "python3"
  },
  "language_info": {
   "codemirror_mode": {
    "name": "ipython",
    "version": 3
   },
   "file_extension": ".py",
   "mimetype": "text/x-python",
   "name": "python",
   "nbconvert_exporter": "python",
   "pygments_lexer": "ipython3",
   "version": "3.11.3"
  }
 },
 "nbformat": 4,
 "nbformat_minor": 5
}
