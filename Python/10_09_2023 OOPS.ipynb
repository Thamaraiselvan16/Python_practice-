{
 "cells": [
  {
   "cell_type": "code",
   "execution_count": 9,
   "id": "7aaa65f4",
   "metadata": {},
   "outputs": [
    {
     "name": "stdout",
     "output_type": "stream",
     "text": [
      "hi i am dhill\n",
      "<class '__main__.Dhill'>\n"
     ]
    }
   ],
   "source": [
    "class Dhill:\n",
    "    def name(self):\n",
    "        print(\"hi i am dhill\")\n",
    "obj=Dhill()\n",
    "obj.name()\n",
    "print(type(obj))"
   ]
  },
  {
   "cell_type": "code",
   "execution_count": 20,
   "id": "a6cb0075",
   "metadata": {},
   "outputs": [
    {
     "name": "stdout",
     "output_type": "stream",
     "text": [
      "version 2.0\n",
      "ASUS\n",
      "20000\n",
      "btm\n",
      "<class '__main__.Computer'>\n"
     ]
    }
   ],
   "source": [
    "class Computer:\n",
    "    def version(self):\n",
    "        print(\"version 2.0\")\n",
    "    def brand(self):\n",
    "        print(\"ASUS\")\n",
    "    def price(self):\n",
    "        print(\"20000\")\n",
    "    def place(self):\n",
    "        print(\"btm\")\n",
    "ver=Computer()\n",
    "ver.version()\n",
    "ver.brand()\n",
    "ver.price()\n",
    "ver.place()\n",
    "print(type(ver))"
   ]
  },
  {
   "cell_type": "code",
   "execution_count": 31,
   "id": "f8e1821b",
   "metadata": {},
   "outputs": [
    {
     "name": "stdout",
     "output_type": "stream",
     "text": [
      "abc\n",
      "cpu\n",
      "1tb,window,64gb\n"
     ]
    }
   ],
   "source": [
    "## __init__ method\n",
    "\n",
    "class computer:\n",
    "    def __init__ (self,cpu,ram):\n",
    "        self.cpu=cpu\n",
    "        self.ram=ram\n",
    "        print(self.cpu)\n",
    "        pass\n",
    "    def config(self):\n",
    "        print(\"1tb,window,64gb\")\n",
    "comp1=computer(\"abc\",\"34\")\n",
    "comp2=computer(\"cpu\",\"ram\")\n",
    "\n",
    "comp1.config()"
   ]
  },
  {
   "cell_type": "code",
   "execution_count": 38,
   "id": "a2e82532",
   "metadata": {},
   "outputs": [
    {
     "name": "stdout",
     "output_type": "stream",
     "text": [
      "cat\n",
      "black\n",
      "home\n",
      "tiger,yellow,forest\n"
     ]
    }
   ],
   "source": [
    "#animal\n",
    "\n",
    "class animals:\n",
    "    def __init__ (self,name,color,place):\n",
    "        self.name=name\n",
    "        self.color=color\n",
    "        self.place=place\n",
    "        print(self.name)\n",
    "        print(self.color)\n",
    "        print(self.place)\n",
    "    def forest(self):\n",
    "        print(\"tiger,yellow,forest\")\n",
    "        \n",
    "ani1=animals(\"cat\",\"black\",\"home\")\n",
    "\n",
    "\n",
    "ani1.forest()"
   ]
  },
  {
   "cell_type": "code",
   "execution_count": null,
   "id": "0375bb90",
   "metadata": {},
   "outputs": [],
   "source": [
    "# Match strings starting with \"The\"\n",
    "regex = r'^The'\n",
    "strings = ['The quick brown fox', 'The lazy dog', 'A quick brown fox']"
   ]
  },
  {
   "cell_type": "code",
   "execution_count": 46,
   "id": "48871cfc",
   "metadata": {},
   "outputs": [
    {
     "name": "stdout",
     "output_type": "stream",
     "text": [
      "['The quick brown fox', 'The lazy dog']\n"
     ]
    }
   ],
   "source": [
    "import re\n",
    "\n",
    "regex = r'^The'\n",
    "strings = ['The quick brown fox', 'The lazy dog', 'A quick brown fox']\n",
    "\n",
    "matches = [s for s in strings if re.search(regex, s)]\n",
    "print(matches)\n"
   ]
  }
 ],
 "metadata": {
  "kernelspec": {
   "display_name": "Python 3 (ipykernel)",
   "language": "python",
   "name": "python3"
  },
  "language_info": {
   "codemirror_mode": {
    "name": "ipython",
    "version": 3
   },
   "file_extension": ".py",
   "mimetype": "text/x-python",
   "name": "python",
   "nbconvert_exporter": "python",
   "pygments_lexer": "ipython3",
   "version": "3.11.3"
  }
 },
 "nbformat": 4,
 "nbformat_minor": 5
}
