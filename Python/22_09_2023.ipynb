{
 "cells": [
  {
   "cell_type": "markdown",
   "id": "a1b6bb92",
   "metadata": {},
   "source": [
    "# lambda functions"
   ]
  },
  {
   "cell_type": "code",
   "execution_count": 1,
   "id": "2d703900",
   "metadata": {},
   "outputs": [
    {
     "name": "stdout",
     "output_type": "stream",
     "text": [
      "hello\n"
     ]
    }
   ],
   "source": [
    "#without argument\n",
    "def ak():\n",
    "    print(\"hello\")\n",
    "ak()"
   ]
  },
  {
   "cell_type": "code",
   "execution_count": 4,
   "id": "6a4d892e",
   "metadata": {},
   "outputs": [
    {
     "name": "stdout",
     "output_type": "stream",
     "text": [
      "hello\n"
     ]
    }
   ],
   "source": [
    "#using lambda (witout argument)\n",
    "ak=lambda:print(\"hello\")\n",
    "ak()"
   ]
  },
  {
   "cell_type": "code",
   "execution_count": 3,
   "id": "ab45f4f1",
   "metadata": {},
   "outputs": [
    {
     "name": "stdout",
     "output_type": "stream",
     "text": [
      "hello tts\n"
     ]
    }
   ],
   "source": [
    "#with argument\n",
    "def ak(name):\n",
    "    print(\"hello\",name)\n",
    "ak(\"tts\")"
   ]
  },
  {
   "cell_type": "code",
   "execution_count": 5,
   "id": "f76cda64",
   "metadata": {},
   "outputs": [
    {
     "name": "stdout",
     "output_type": "stream",
     "text": [
      "hello thamarai\n"
     ]
    }
   ],
   "source": [
    "#using lambda(with argument)\n",
    "ak=lambda name:print(\"hello\",name)\n",
    "ak(\"thamarai\")"
   ]
  },
  {
   "cell_type": "code",
   "execution_count": 19,
   "id": "3ef64653",
   "metadata": {},
   "outputs": [
    {
     "name": "stdout",
     "output_type": "stream",
     "text": [
      "35\n"
     ]
    }
   ],
   "source": [
    "ak=lambda num:15+(num)\n",
    "print((ak(20)))"
   ]
  },
  {
   "cell_type": "code",
   "execution_count": 18,
   "id": "80bc27f9",
   "metadata": {},
   "outputs": [
    {
     "name": "stdout",
     "output_type": "stream",
     "text": [
      "enter a number:33\n"
     ]
    },
    {
     "data": {
      "text/plain": [
       "495"
      ]
     },
     "execution_count": 18,
     "metadata": {},
     "output_type": "execute_result"
    }
   ],
   "source": [
    "ak=lambda num:15*(num)\n",
    "ak(int(input(\"enter a number:\")))"
   ]
  },
  {
   "cell_type": "code",
   "execution_count": 21,
   "id": "c60b4923",
   "metadata": {},
   "outputs": [
    {
     "name": "stdout",
     "output_type": "stream",
     "text": [
      "20\n"
     ]
    }
   ],
   "source": [
    "ak=lambda x,y:x*y\n",
    "print(ak(5,4))"
   ]
  },
  {
   "cell_type": "code",
   "execution_count": 35,
   "id": "b780024f",
   "metadata": {},
   "outputs": [
    {
     "name": "stdout",
     "output_type": "stream",
     "text": [
      "20\n"
     ]
    }
   ],
   "source": [
    "def mul(x):\n",
    "    return lambda n:x*n\n",
    "res=mul(5)\n",
    "print(res(4))"
   ]
  },
  {
   "cell_type": "code",
   "execution_count": 47,
   "id": "3a19edc6",
   "metadata": {},
   "outputs": [
    {
     "name": "stdout",
     "output_type": "stream",
     "text": [
      "[43, 53]\n"
     ]
    }
   ],
   "source": [
    "l=[32,43,53,22,34,224,54,24]\n",
    "l1=list(filter(lambda num:(num%2!=0),l))\n",
    "print(l1)"
   ]
  },
  {
   "cell_type": "code",
   "execution_count": 60,
   "id": "ae687612",
   "metadata": {},
   "outputs": [
    {
     "name": "stdout",
     "output_type": "stream",
     "text": [
      "[1, 3, 5, 7, 9]\n"
     ]
    }
   ],
   "source": [
    "# l = [32, 43, 53, 22, 34, 224, 54, 24]\n",
    "#l1 = (lambda lst: [x for x in lst if x % 2 != 0])(l)\n",
    "#print(l1)\n",
    "\n",
    "# without filter \n",
    "l = [1, 2, 3, 4, 5, 66, 7, 8, 9]\n",
    "l1 = [(lambda num: num)(num) for num in l if num % 2 != 0]\n",
    "print(l1)\n"
   ]
  },
  {
   "cell_type": "code",
   "execution_count": 58,
   "id": "71356304",
   "metadata": {},
   "outputs": [
    {
     "name": "stdout",
     "output_type": "stream",
     "text": [
      "[43, 53]\n"
     ]
    }
   ],
   "source": [
    "l = [32, 43, 53, 22, 34, 224, 54, 24]\n",
    "l1 = (lambda lst: [x for x in lst if x % 2 != 0])(l)\n",
    "print(l1)"
   ]
  },
  {
   "cell_type": "code",
   "execution_count": 55,
   "id": "4b919030",
   "metadata": {},
   "outputs": [
    {
     "name": "stdout",
     "output_type": "stream",
     "text": [
      "['__annotations__', '__builtins__', '__call__', '__class__', '__closure__', '__code__', '__defaults__', '__delattr__', '__dict__', '__dir__', '__doc__', '__eq__', '__format__', '__ge__', '__get__', '__getattribute__', '__getstate__', '__globals__', '__gt__', '__hash__', '__init__', '__init_subclass__', '__kwdefaults__', '__le__', '__lt__', '__module__', '__name__', '__ne__', '__new__', '__qualname__', '__reduce__', '__reduce_ex__', '__repr__', '__setattr__', '__sizeof__', '__str__', '__subclasshook__']\n"
     ]
    }
   ],
   "source": [
    "my_lambda = lambda x: x * 2\n",
    "print(dir(my_lambda))"
   ]
  },
  {
   "cell_type": "code",
   "execution_count": 61,
   "id": "aa8903e5",
   "metadata": {},
   "outputs": [
    {
     "name": "stdout",
     "output_type": "stream",
     "text": [
      "[4, 16, 25, 1, 9, 49, 64, 81, 100]\n"
     ]
    }
   ],
   "source": [
    "l=[2, 4, 5, 1, 3, 7, 8, 9, 10]\n",
    "sqr=list(map(lambda num:num**2,l))\n",
    "print(sqr)"
   ]
  },
  {
   "cell_type": "code",
   "execution_count": 64,
   "id": "5f0b9572",
   "metadata": {},
   "outputs": [
    {
     "name": "stdout",
     "output_type": "stream",
     "text": [
      "[25, 1, 9, 49, 81]\n"
     ]
    }
   ],
   "source": [
    "#without filter\n",
    "l = [2, 4, 5, 1, 3, 7, 8, 9, 10]\n",
    "sqr = [(lambda num: num**2)(x) for x in l]\n",
    "print(sqr)"
   ]
  },
  {
   "cell_type": "code",
   "execution_count": 67,
   "id": "7411f8f1",
   "metadata": {},
   "outputs": [
    {
     "name": "stdout",
     "output_type": "stream",
     "text": [
      "[1, 4, 9, 16, 25, 36, 49, 64, 81]\n"
     ]
    }
   ],
   "source": [
    "#using range\n",
    "sq=[(lambda num:num)(num**2)for num in range(1,10)]\n",
    "print(sq)"
   ]
  },
  {
   "cell_type": "code",
   "execution_count": 66,
   "id": "c30bd0a6",
   "metadata": {},
   "outputs": [
    {
     "name": "stdout",
     "output_type": "stream",
     "text": [
      "21\n"
     ]
    }
   ],
   "source": [
    "m=lambda x,y:x if x>y else y\n",
    "print(m(11,21))"
   ]
  },
  {
   "cell_type": "code",
   "execution_count": 68,
   "id": "5df513ed",
   "metadata": {},
   "outputs": [
    {
     "name": "stdout",
     "output_type": "stream",
     "text": [
      "0.2\n"
     ]
    }
   ],
   "source": [
    "reciprocal = lambda num: 1 / num if num != 0 else \"Cannot calculate reciprocal of zero.\"\n",
    "\n",
    "# Example usage:\n",
    "num = 5\n",
    "result = reciprocal(num)\n",
    "print(result)\n"
   ]
  },
  {
   "cell_type": "code",
   "execution_count": 69,
   "id": "77d16c9b",
   "metadata": {},
   "outputs": [
    {
     "name": "stdout",
     "output_type": "stream",
     "text": [
      "0.2\n"
     ]
    }
   ],
   "source": [
    "def reciprocal_def(num):\n",
    "    if num != 0:\n",
    "        return 1 / num\n",
    "    else:\n",
    "        return \"Cannot calculate reciprocal of zero.\"\n",
    "\n",
    "# Example usage:\n",
    "num = 5\n",
    "result_def = reciprocal_def(num)\n",
    "print(result_def)\n"
   ]
  }
 ],
 "metadata": {
  "kernelspec": {
   "display_name": "Python 3 (ipykernel)",
   "language": "python",
   "name": "python3"
  },
  "language_info": {
   "codemirror_mode": {
    "name": "ipython",
    "version": 3
   },
   "file_extension": ".py",
   "mimetype": "text/x-python",
   "name": "python",
   "nbconvert_exporter": "python",
   "pygments_lexer": "ipython3",
   "version": "3.11.3"
  }
 },
 "nbformat": 4,
 "nbformat_minor": 5
}
