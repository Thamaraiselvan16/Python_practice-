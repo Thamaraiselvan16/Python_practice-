{
 "cells": [
  {
   "cell_type": "raw",
   "id": "11b24517",
   "metadata": {},
   "source": [
    "1)What is the output of following expression\\n\",\n",
    "    \"    5 + 4 * 9 % (3 + 1) / 6 - 1\""
   ]
  },
  {
   "cell_type": "code",
   "execution_count": 1,
   "id": "d959751e",
   "metadata": {},
   "outputs": [
    {
     "name": "stdout",
     "output_type": "stream",
     "text": [
      "4.0\n"
     ]
    }
   ],
   "source": [
    "print(5 + 4 * 9 % (3 + 1) / 6 - 1)"
   ]
  },
  {
   "cell_type": "raw",
   "id": "42cb5510",
   "metadata": {},
   "source": [
    "2)Write a program to check if a Number is Odd or Even. Take number as a input from user at runtime."
   ]
  },
  {
   "cell_type": "code",
   "execution_count": null,
   "id": "8d6bbc37",
   "metadata": {},
   "outputs": [],
   "source": [
    "#using user runtime input\n",
    "num=int(input(\"enter a number: \"))\n",
    "\n",
    "if num%2==0:\n",
    "    print(f\"{num} : this is 'evan' number\")\n",
    "else:\n",
    "    print(f\"{num} : this is 'odd' number\")"
   ]
  },
  {
   "cell_type": "code",
   "execution_count": null,
   "id": "3a3f3dfd",
   "metadata": {},
   "outputs": [],
   "source": [
    "#using list\n",
    "num = [1,2,3,4,5,6,7,8,9,10]\n",
    "evan_num=[]\n",
    "odd_num=[]\n",
    "for i in num:\n",
    "    if i%2==0:\n",
    "        evan_num.append(i)\n",
    "    else:\n",
    "        odd_num.append(i)\n",
    "print(f\"Evan number list is : {evan_num}\")\n",
    "print(f\"odd number list is : {odd_num}\")"
   ]
  },
  {
   "cell_type": "code",
   "execution_count": null,
   "id": "3d5950d1",
   "metadata": {},
   "outputs": [],
   "source": [
    "#user defin function\n",
    "def is_even(num):\n",
    "    return num % 2 == 0\n",
    "\n",
    "def is_odd(num):\n",
    "    return num % 2 != 0\n",
    "\n",
    "print(is_even(int(input (\"enter a numer i will ckeck is even: \"))))\n",
    "print(is_odd(int(input(\"enter a numer i will ckeck is odd: \"))))"
   ]
  },
  {
   "cell_type": "markdown",
   "id": "fc87d9fe",
   "metadata": {},
   "source": [
    "3).Write a program to display the multiplication table by taking a number as input. \\n\",\n",
    "    \"    [Hint : Use print statement inside of a loop]"
   ]
  },
  {
   "cell_type": "code",
   "execution_count": null,
   "id": "b030a82e",
   "metadata": {},
   "outputs": [],
   "source": [
    "#using runtime input\n",
    "num=int(input(\"enter a number: \"))\n",
    "\n",
    "for i in range(1,11):\n",
    "    result=num*i\n",
    "    print(f\"{i} X {num} = {result}\")"
   ]
  },
  {
   "cell_type": "code",
   "execution_count": null,
   "id": "f3ce803c",
   "metadata": {},
   "outputs": [],
   "source": [
    "#using runtime input (revers order)\n",
    "num=int(input(\"enter a number: \"))\n",
    "\n",
    "for i in range(10,0,-1):\n",
    "    result=num*i\n",
    "    print(f\"{i} X {num} = {result}\")"
   ]
  },
  {
   "cell_type": "code",
   "execution_count": null,
   "id": "408de356",
   "metadata": {},
   "outputs": [],
   "source": [
    "#using while loop\n",
    "num = int(input(\"Enter a number: \"))\n",
    "i = 1\n",
    "\n",
    "while True:\n",
    "    result = num * i\n",
    "    print(f\"{i} X {num} = {result}\")\n",
    "    i += 1\n",
    "    if i > 10:\n",
    "        break\n"
   ]
  },
  {
   "cell_type": "markdown",
   "id": "c5e036fd",
   "metadata": {},
   "source": [
    "4).Write a program which will find all numbers between 2000 and 3200 which are divisible by 7 \\n\",\n",
    "    \"    but are not a multiple of 5.\\n\",\n",
    "    \" \\n\",\n",
    "    \"Note: The numbers obtained should be printed in a comma-separated sequence on a single line.\""
   ]
  },
  {
   "cell_type": "code",
   "execution_count": null,
   "id": "265761f7",
   "metadata": {},
   "outputs": [],
   "source": [
    "for i in range(2000,3200):\n",
    "    if i%7==0 and i%5!=0:\n",
    "        print(f\"➡️divisible by '7' is: '{i}'\")\n",
    "    else:\n",
    "        print(f\"not multiply by '5' is: '{i}'\")\n"
   ]
  },
  {
   "cell_type": "code",
   "execution_count": null,
   "id": "639c4524",
   "metadata": {},
   "outputs": [],
   "source": [
    "for i in range(2000,3200):\n",
    "    if i%7==0 and i%5!=0:\n",
    "        print(i,end=\",\")\n",
    "    "
   ]
  },
  {
   "cell_type": "markdown",
   "id": "b967f0df",
   "metadata": {},
   "source": [
    "5).Count the elements of each datatype inside the list and display in output\\n\",\n",
    "    \"    [2, 3, 'Py', '10', 1, 'SQL', 5.5, True, 3, 'John', None, 7]   "
   ]
  },
  {
   "cell_type": "code",
   "execution_count": null,
   "id": "d3f71585",
   "metadata": {},
   "outputs": [],
   "source": [
    "#normal method\n",
    "l=[2, 3, 'Py', '10', 1, 'SQL', 5.5, True, 3, 'John', None, 7]\n",
    "\n",
    "int_count=0\n",
    "str_count=0\n",
    "float_count=0\n",
    "bool_count=0\n",
    "none_count=0\n",
    "other_count=0\n",
    "\n",
    "for i in l:\n",
    "    if isinstance(i,int):\n",
    "        int_count+=1\n",
    "    elif isinstance(i,str):\n",
    "        str_count+=1\n",
    "    elif isinstance(i,float):\n",
    "        float_count+=1\n",
    "    elif i is True:\n",
    "        bool_count+=1\n",
    "    elif i is False:\n",
    "        bool_count+=1\n",
    "    elif i is None:\n",
    "        none_count+=1\n",
    "    else:\n",
    "        other_count+=1\n",
    "        \n",
    "print(\"int\",int_count)\n",
    "print(\"str\",str_count)\n",
    "print(\"float\",float_count)\n",
    "print(\"bool\",bool_count)\n",
    "print(\"none\",none_count)\n",
    "print(\"other\",other_count)\n"
   ]
  },
  {
   "cell_type": "code",
   "execution_count": null,
   "id": "79f77bc7",
   "metadata": {},
   "outputs": [],
   "source": [
    "#advanced method in Counter\n",
    "from collections import Counter\n",
    "l=[2, 3, 'Py', '10', 1, 'SQL', 5.5, True, 3, 'John', None, 7]\n",
    "datatype_count=Counter(map(type,l))\n",
    "#print(datatype_count)\n",
    "for datatype,count in datatype_count.items():\n",
    "    print(f\"{datatype} = {count}\")"
   ]
  },
  {
   "cell_type": "markdown",
   "id": "e941fec7",
   "metadata": {},
   "source": [
    "6).Add all values from the list with numeric datatypes \\n\",\n",
    "    \"    [2, 3, 'Py', '10', 1, 'SQL', 5.5, True, 3, 'John', None, 7]"
   ]
  },
  {
   "cell_type": "code",
   "execution_count": null,
   "id": "aadf4c2e",
   "metadata": {},
   "outputs": [],
   "source": [
    "#normal for loop\n",
    "l=[2, 3, 'Py', '10', 1, 'SQL', 5.5, True, 3, 'John', None, 7]\n",
    "\n",
    "numeric_count=0\n",
    "for i in l:\n",
    "    if isinstance(i,(int,float)):\n",
    "        numeric_count+=i\n",
    "print(numeric_count)"
   ]
  },
  {
   "cell_type": "code",
   "execution_count": null,
   "id": "e4f0cb37",
   "metadata": {},
   "outputs": [],
   "source": [
    "#using list list comprehance\n",
    "l=[2, 3, 'Py', '10', 1, 'SQL', 5.5, True, 3, 'John', None, 7]\n",
    "numeric_sum=sum([i for i in l if isinstance(i,(int,float))])\n",
    "print(numeric_sum)"
   ]
  },
  {
   "cell_type": "markdown",
   "id": "e2f7eb58",
   "metadata": {},
   "source": [
    "7).Concat all str datatypes with hyphen as a delimiter\\n\",\n",
    "    \"    [2, 3, 'Py', '10', 1, 'SQL', 5.5, True, 3, 'John', None, 7]"
   ]
  },
  {
   "cell_type": "code",
   "execution_count": null,
   "id": "f156a332",
   "metadata": {},
   "outputs": [],
   "source": [
    "#normal one using for\n",
    "l = [2, 3, 'Py', '10', 1, 'SQL', 5.5, True, 3, 'John', None, 7]\n",
    "\n",
    "result = \"\"\n",
    "for i in l:\n",
    "    if isinstance(i, str):\n",
    "        result += i + \"-\"\n",
    "\n",
    "result = result.rstrip(\"-\")\n",
    "print(result)\n"
   ]
  },
  {
   "cell_type": "code",
   "execution_count": null,
   "id": "ace02c13",
   "metadata": {},
   "outputs": [],
   "source": [
    "#using list comprehensive \n",
    "l = [2, 3, 'Py', '10', 1, 'SQL', 5.5, True, 3, 'John', None, 7]\n",
    "result=\"-\".join([i for i in l if isinstance(i,str)])\n",
    "print(result)"
   ]
  },
  {
   "cell_type": "markdown",
   "id": "abf34255",
   "metadata": {},
   "source": [
    "8).Write a UDF that takes list as input and returns sum of all numbers \\n\",\n",
    "    \"    (exclude bool) and count of all str \\n\",\n",
    "    \"    [2, 3, 'Py', '10', 1, 'SQL', 5.5, True, 3, 'John', None, 7]"
   ]
  },
  {
   "cell_type": "code",
   "execution_count": null,
   "id": "bf7c00d2",
   "metadata": {},
   "outputs": [],
   "source": [
    "# normal udf\n",
    "def analyze(input_list):\n",
    "    sum_num=0\n",
    "    count_str=0\n",
    "    \n",
    "    for i in input_list:\n",
    "        if isinstance(i,(int,float)):\n",
    "            sum_num+=i\n",
    "        elif isinstance(i,str):\n",
    "            count_str+=1\n",
    "    return sum_num,count_str\n",
    "\n",
    "\n",
    "l=[2, 3, 'Py', '10', 1, 'SQL', 5.5, True, 3, 'John', None, 7]\n",
    "sum_of_num,count_of_str=analyze(l)\n",
    "print(\"sum_of_num: \",sum_of_num)\n",
    "print(\"count_of_str: \",count_of_str)"
   ]
  },
  {
   "cell_type": "code",
   "execution_count": null,
   "id": "9e36e63c",
   "metadata": {},
   "outputs": [],
   "source": [
    "#using single line also\n",
    "def analyze(input_list):\n",
    "    sum_num=sum(i for i in input_list if isinstance(i,(int,float)))\n",
    "    count_str=sum(1 for i in input_list if isinstance(i,str))\n",
    "    return sum_num,count_str\n",
    "l=[2, 3, 'Py', '10', 1, 'SQL', 5.5, True, 3, 'John', None, 7]\n",
    "sum_of_num,count_of_str=analyze(l)\n",
    "print(\"sum_of_num: \",sum_of_num)\n",
    "print(\"count_of_str: \",count_of_str)"
   ]
  },
  {
   "cell_type": "markdown",
   "id": "b92da881",
   "metadata": {},
   "source": [
    "Get only odd numbers from the following list and store the numbers in new list\\n\",\n",
    "    \"    li = [5, 7, 22, 97, 54, 62, 77, 23, 73, 61]\\n\",\n",
    "    \"\\n\",\n",
    "    \"    i. Use loops to get the answer\\n\",\n",
    "    \"   ii. Use list comprehensions\\n\",\n",
    "    \"  iii. Use lambda function with filter"
   ]
  },
  {
   "cell_type": "code",
   "execution_count": null,
   "id": "0062598f",
   "metadata": {},
   "outputs": [],
   "source": [
    " #for loop\n",
    "l = [5, 7, 22, 97, 54, 62, 77, 23, 73, 61]\n",
    "odd_list=[]\n",
    "evan_list=[]\n",
    "for i in l:\n",
    "    if i%2==0:\n",
    "        evan_list.append(i)\n",
    "        \n",
    "    elif i%2!=0:\n",
    "        odd_list.append(i)\n",
    "        \n",
    "print(\"odd :\",odd_list)\n",
    "print(\"evan :\",evan_list)"
   ]
  },
  {
   "cell_type": "code",
   "execution_count": null,
   "id": "0d3dc490",
   "metadata": {},
   "outputs": [],
   "source": [
    "#list comprehension \n",
    "l = [5, 7, 22, 97, 54, 62, 77, 23, 73, 61]\n",
    "odd_list=list(i for i in l if i%2==0)\n",
    "even_list=list(i for i in l if i%2!=0)\n",
    "print(\"odd: \",odd_list)\n",
    "print(\"even: \",even_list)"
   ]
  },
  {
   "cell_type": "code",
   "execution_count": null,
   "id": "d230ad4a",
   "metadata": {},
   "outputs": [],
   "source": [
    "#list comprehension \n",
    "l = [5, 7, 22, 97, 54, 62, 77, 23, 73, 61]\n",
    "odd_list=[i for i in l if i%2==0]\n",
    "even_list=[i for i in l if i%2!=0]\n",
    "print(\"odd: \",odd_list)\n",
    "print(\"even: \",even_list)"
   ]
  },
  {
   "cell_type": "code",
   "execution_count": null,
   "id": "9116f8fd",
   "metadata": {},
   "outputs": [],
   "source": [
    "#lambda function\n",
    "l = [5, 7, 22, 97, 54, 62, 77, 23, 73, 61]\n",
    "evan_num=list(filter(lambda i:i%2==0,l))\n",
    "odd_num=list(filter(lambda i:i%2!=0 ,l))\n",
    "print(\"evan_num: \",result)\n",
    "print(\"odd: \",odd_num)"
   ]
  },
  {
   "cell_type": "markdown",
   "id": "b0246c5a",
   "metadata": {},
   "source": [
    "10).Write a UDF to return the descriptives [sum, count, min, mean, max] for a list of n number of input \\n\",\n",
    "    \"    numbers"
   ]
  },
  {
   "cell_type": "code",
   "execution_count": null,
   "id": "29905b0e",
   "metadata": {},
   "outputs": [],
   "source": [
    "def des(num):\n",
    "    if not num:\n",
    "        return \"input list is empty\"\n",
    "    total_sum=sum(num)\n",
    "    count=len(num)\n",
    "    min_val=min(num)\n",
    "    max_val=max(num)\n",
    "    mean=total_sum/count\n",
    "    \n",
    "    key_values={\n",
    "        \"sum\":total_sum,\n",
    "        \"count\":count,\n",
    "        \"min_val\":min_val,\n",
    "        \"max_val\":max_val,\n",
    "        \"mean_val\":mean\n",
    "    }\n",
    "    return key_values\n",
    "\n",
    "\n",
    "l=[1,2,3,4,5,6,7,8,9,10]\n",
    "result=des(l)\n",
    "for key,value in result.items():\n",
    "    print(f\"{key} : {value}\")"
   ]
  },
  {
   "cell_type": "markdown",
   "id": "ae930a67",
   "metadata": {},
   "source": [
    "11). Write an udf to calculate the area of different shapes\\n\",\n",
    "    \"\\n\",\n",
    "    \"Take shape and dimensions as arguments to udf as follows : \\n\",\n",
    "    \"\\n\",\n",
    "    \"1. square which has side\\n\",\n",
    "    \"2. rectangle which has length and width\\n\",\n",
    "    \"3. circle which has radius\\n\",\n",
    "    \"\\n\",\n",
    "    \"The shape should be a positional argument and it's dimensions are taken as kwargs\\n\",\n",
    "    \"\\n\",\n",
    "    \"Perform proper validation for the user inputs and then calculate area.\\n\",\n",
    "    \"\\n\",\n",
    "    \"E.g. if shape is square, ensure kwargs has \\\"side\\\" and if so, then you may return the area, else display appropriate error message like \\\"Please enter 'side' for a square"
   ]
  },
  {
   "cell_type": "code",
   "execution_count": null,
   "id": "b0d352c8",
   "metadata": {},
   "outputs": [],
   "source": [
    "import math\n",
    "\n",
    "def calculate_area(shape, **kwargs):\n",
    "    if shape == 'square' and 'side' in kwargs:\n",
    "        side = kwargs['side']\n",
    "        if isinstance(side, (int, float)) and side > 0:\n",
    "            return side**2\n",
    "        else:\n",
    "            return \"Error: Side must be a positive numeric value.\"\n",
    "\n",
    "    elif shape == 'rectangle' and 'length' in kwargs and 'width' in kwargs:\n",
    "        length, width = kwargs['length'], kwargs['width']\n",
    "        if isinstance(length, (int, float)) and isinstance(width, (int, float)) and length > 0 and width > 0:\n",
    "            return length * width\n",
    "        else:\n",
    "            return \"Error: Length and width must be positive numeric values.\"\n",
    "\n",
    "    elif shape == 'circle' and 'radius' in kwargs:\n",
    "        radius = kwargs['radius']\n",
    "        if isinstance(radius, (int, float)) and radius > 0:\n",
    "            return math.pi * radius**2\n",
    "        else:\n",
    "            return \"Error: Radius must be a positive numeric value.\"\n",
    "\n",
    "    else:\n",
    "        return \"Error: Unsupported shape or missing dimensions.\"\n",
    "\n",
    "# Example usage:\n",
    "square_area = calculate_area('square', side=5)\n",
    "print(\"Square Area:\", square_area)\n",
    "\n",
    "rectangle_area = calculate_area('rectangle', length=4, width=6)\n",
    "print(\"Rectangle Area:\", rectangle_area)\n",
    "\n",
    "circle_area = calculate_area('circle', radius=3)\n",
    "print(\"Circle Area:\", circle_area)\n",
    "\n",
    "# Example with missing parameters\n",
    "error_message = calculate_area('square', length=5)  # Error: Side must be a positive numeric value.\n",
    "print(error_message)\n"
   ]
  },
  {
   "cell_type": "code",
   "execution_count": null,
   "id": "a6a81e55",
   "metadata": {},
   "outputs": [],
   "source": [
    "def calculate_area(shape,**kwargs):\n",
    "    if shape==\"squre\" and \"side\" in kwargs:\n",
    "        side=kwargs['side']\n",
    "        if isinstance(side,(int,float))and side>0:\n",
    "            return side**2\n",
    "        else:\n",
    "            return \"Error: side must be positive number\"\n",
    "    elif shape==\"rect\" and \"length\" in kwargs and \"width\" in kwargs:\n",
    "        length,width=kwargs[\"length\"],kwargs[\"width\"]\n",
    "        if isinstance(length,(int,float)) and isinstance(width,(int,float)) and length>0 and width >0:\n",
    "            return length*width\n",
    "        else:\n",
    "            return \"error: length and width must be positive number\"\n",
    "    elif shape==\"circle\" and \"radius\" in kwargs:\n",
    "        radius=kwargs[\"radius\"]\n",
    "        if isinstance(radius,(int,float)) and radius>0:\n",
    "            return math.pi*radius**2\n",
    "        else:\n",
    "            return \"Error: radius must be a posu=itive number\"\n",
    "    else:\n",
    "        return \"error: unsuportd shape or missing diminsion\"\n",
    "\n",
    "\n",
    "squre=calculate_area(\"squre\",side=5)\n",
    "print(squre)\n",
    "rectangle=calculate_area(\"rect\",length=5,width=6)\n",
    "print(rectangle)\n",
    "circle=calculate_area(\"circle\",radius=3)\n",
    "print(circle)\n",
    "error=calculate_area(\"squre\",length=5)\n",
    "print(error)"
   ]
  },
  {
   "cell_type": "markdown",
   "id": "756c12ac",
   "metadata": {},
   "source": [
    "12). Write a UDF to reconcile the values within two lists.\\n\",\n",
    "    \"    l1 = ['January', 'February', 'March', 'May', 'June', 'September', 'December']\\n\",\n",
    "    \"    l2 = ['January', 'February', 'April', 'June', 'October', 'December']\\n\",\n",
    "    \"\\n\",\n",
    "    \"Hint:\\n\",\n",
    "    \"-----\\n\",\n",
    "    \"def func(l1, l2):\\n\",\n",
    "    \"    your code here...\\n\",\n",
    "    \"    \\n\",\n",
    "    \"Output:\\n\",\n",
    "    \"{'Matched': ['January', 'February', 'June', 'December'],\\n\",\n",
    "    \"    'Only in l1': ['March', 'May', 'September'],\\n\",\n",
    "    \"        'Only in l2': ['April', 'October']}\""
   ]
  },
  {
   "cell_type": "code",
   "execution_count": null,
   "id": "243e912d",
   "metadata": {},
   "outputs": [],
   "source": [
    "def reconcile(l1,l2):\n",
    "    matched=list(set(l1) & set(l2))\n",
    "    Only_in_l1=list(set(l1) - set(l2))\n",
    "    Only_in_l2=list(set(l2) - set(l1))\n",
    "    \n",
    "    key_values={\n",
    "        \"matched\":matched,\n",
    "        \"Only_in_l1\":Only_in_l1,\n",
    "        \"Only_in_l2\":Only_in_l2\n",
    "    }\n",
    "    return key_values\n",
    "\n",
    "\n",
    "l1 = ['January', 'February', 'March', 'May', 'June', 'September', 'December']\n",
    "l2 = ['January', 'February', 'April', 'June', 'October', 'December']\n",
    "\n",
    "result=reconcile(l1,l2)\n",
    "for key,value in result.items():\n",
    "    print(f\"{key}: {value}\")"
   ]
  },
  {
   "cell_type": "markdown",
   "id": "78a1d644",
   "metadata": {},
   "source": [
    "13).write a UDF to check if a number is prime or not"
   ]
  },
  {
   "cell_type": "code",
   "execution_count": null,
   "id": "e6fb28da",
   "metadata": {},
   "outputs": [],
   "source": [
    "def prime_num(num):\n",
    "    if num <2:\n",
    "        return False\n",
    "    for i in range(2,int(num**0.5)+1):\n",
    "        if num%i==0:\n",
    "            return False\n",
    "    return True\n",
    "\n",
    "result=prime_num(int(input (\"enter a number: \")))\n",
    "print(result)"
   ]
  },
  {
   "cell_type": "code",
   "execution_count": null,
   "id": "e9b26035",
   "metadata": {},
   "outputs": [],
   "source": [
    "def prime_num(num):\n",
    "    if num <2:\n",
    "        return f\"{num}: this is not prime number\"\n",
    "    for i in range(2,int(num**0.5)+1):\n",
    "        if num%i==0:\n",
    "            return f\"{num}: this is not prime number\"\n",
    "    return f\"{num}: Yes this is prime number\"\n",
    "\n",
    "result=prime_num(int(input (\"enter a number: \")))\n",
    "print(result)"
   ]
  },
  {
   "cell_type": "markdown",
   "id": "0bfacb89",
   "metadata": {},
   "source": [
    "14).Write a program which can compute the factorial of a given numbers. \\n\",\n",
    "    \"#   The results should be printed in a comma-separated sequence on a single line. \\n\",\n",
    "    \"# input() function can be used for getting user(console) input\\n\",\n",
    "    \"\\n\",\n",
    "    \"\\n\",\n",
    "    \"#Suppose the input is supplied to the program:  8  \\n\",\n",
    "    \"#Then, the output should be:  40320 \\n\",\n",
    "    \"#Hints: In case of input data being supplied to the question, it should be assumed to be a console input. "
   ]
  },
  {
   "cell_type": "code",
   "execution_count": null,
   "id": "fae95064",
   "metadata": {},
   "outputs": [],
   "source": [
    "def factorial(num):\n",
    "    if num==0 or num==1:\n",
    "        return 1\n",
    "    else:\n",
    "        return (num*factorial(num-1))\n",
    "\n",
    "num=int(input(\"enter a number: \"))\n",
    "fact_ans=factorial(num)\n",
    "print(f\"given number is: {num}.\\nfactorial of number is {num}!: {fact_ans}.\")"
   ]
  },
  {
   "cell_type": "code",
   "execution_count": null,
   "id": "ee081b85",
   "metadata": {},
   "outputs": [],
   "source": [
    "#import builtin models to find factorial\n",
    "import math\n",
    "\n",
    "factorial_num=math.factorial(int(input(\"enter anumber: \")))\n",
    "print(factorial_num)"
   ]
  },
  {
   "cell_type": "code",
   "execution_count": null,
   "id": "43c79ca3",
   "metadata": {},
   "outputs": [],
   "source": [
    "#using while loop\n",
    "def factorial_while(num):\n",
    "    result = 1\n",
    "    i = 1\n",
    "    while i <= num:\n",
    "        result *= i\n",
    "        i += 1\n",
    "    return result\n",
    "\n",
    "num = int(input(\"Enter a number: \"))\n",
    "fact_while = factorial_while(num)\n",
    "print(f\"The factorial of {num} (while loop) is: {fact_while}\")\n"
   ]
  },
  {
   "cell_type": "markdown",
   "id": "a2741ccd",
   "metadata": {},
   "source": [
    "15).With a given integral number n, write a program to generate a dictionary that contains (i, i*i) such that is an integral number between 1 and n (both included). and then the program should print the dictionary.\\n\",\n",
    "    \"\\n\",\n",
    "    \"#Suppose the following input is supplied to the program: 8\\n\",\n",
    "    \"#Then, the output should be: {1: 1, 2: 4, 3: 9, 4: 16, 5: 25, 6: 36, 7: 49, 8: 64}\\n\",\n",
    "    \"#Hints: In case of input data being supplied to the question, it should be assumed to be a console input. Consider using dict()"
   ]
  },
  {
   "cell_type": "code",
   "execution_count": null,
   "id": "77c2de85",
   "metadata": {},
   "outputs": [],
   "source": [
    "#using loop\n",
    "num=int(input(\"enter a number: \"))\n",
    "result={i:i*i for i in range(1,num+1)}\n",
    "print(result)"
   ]
  },
  {
   "cell_type": "code",
   "execution_count": null,
   "id": "3401ee57",
   "metadata": {},
   "outputs": [],
   "source": [
    "#using udf\n",
    "def factorial(n):\n",
    "    if n == 0 or n == 1:\n",
    "        return 1\n",
    "    else:\n",
    "        return n * factorial(n - 1)\n",
    "\n",
    "num = int(input(\"Enter a number: \"))\n",
    "factorials = {i: factorial(i) for i in range(1, num + 1)}\n",
    "\n",
    "print(factorials)\n"
   ]
  },
  {
   "cell_type": "markdown",
   "id": "233792bc",
   "metadata": {},
   "source": [
    "16).Write a program which accepts a sequence of comma-separated numbers from console and generate a list and a tuple which contains every number.\\n\",\n",
    "    \"#Suppose the following input is supplied to the program: 34,67,55,33,12,98\\n\",\n",
    "    \"    #Then, the output should be: \n",
    "    ['34', '67', '55', '33', '12', '98'] \n",
    "    ('34', '67', '55', '33', '12', '98')\\n\",\n",
    "    \"\\n\",\n",
    "    \"#Hints: In case of input data being supplied to the question, it should be assumed to be a console input. you may use tuple() method to convert list to tuple"
   ]
  },
  {
   "cell_type": "code",
   "execution_count": null,
   "id": "f4b8bf61",
   "metadata": {},
   "outputs": [],
   "source": [
    "numbers = input(\"Enter numbers separated by commas: \")\n",
    "num_list = numbers.split(\",\")\n",
    "num_tuple = tuple(num_list)\n",
    "num_set = set(num_list)\n",
    "\n",
    "print(\"List:\", num_list)\n",
    "print(\"Tuple:\", num_tuple)\n",
    "print(\"Set:\", num_set)\n"
   ]
  },
  {
   "cell_type": "markdown",
   "id": "8df987a5",
   "metadata": {},
   "source": [
    "17).Write a program that accepts a comma separated sequence of words as input and \\n\",\n",
    "    \"# prints the words in a comma-separated sequence after sorting them alphabetically.\\n\",\n",
    "    \"\\n\",\n",
    "    \"# Suppose the following input is supplied to the program: without,hello,bag,world\\n\",\n",
    "    \"# Then, the output should be: bag,hello,without,world\\n\",\n",
    "    \"\\n\",\n",
    "    \"#Hints: In case of input data being supplied to the question, it should be assumed to be a console input."
   ]
  },
  {
   "cell_type": "code",
   "execution_count": null,
   "id": "d7bace63",
   "metadata": {},
   "outputs": [],
   "source": [
    "content=input(\"enter a string using (,): \")\n",
    "\n",
    "content_split=content.split(\",\")\n",
    "content_sort=sorted(content_split)\n",
    "result=\",\".join(content_sort)\n",
    "print(result)"
   ]
  },
  {
   "cell_type": "code",
   "execution_count": null,
   "id": "159bf51b",
   "metadata": {},
   "outputs": [],
   "source": [
    "content = input(\"Enter a string using commas: \")\n",
    "content_split = content.split(\",\")\n",
    "result = \",\".join(sorted(content_split, key=str))\n",
    "print(result)\n"
   ]
  },
  {
   "cell_type": "markdown",
   "id": "0ab29ad7",
   "metadata": {},
   "source": [
    "18).Write a program that accepts a sequence of whitespace separated words \\n\",\n",
    "    \"# as input and prints the words after removing all duplicate words and sorting them alphanumerically.\\n\",\n",
    "    \"# Suppose the following input is supplied to the program: hello world and practice makes perfect and hello world again\\n\",\n",
    "    \"# Then, the output should be: again and hello makes perfect practice world\\n\",\n",
    "    \"\\n\",\n",
    "    \"#Hints: In case of input data being supplied to the question, it should be assumed to be a console input.\\n\",\n",
    "    \"#We use set container to remove duplicated data automatically and then use sorted() to sort the data."
   ]
  },
  {
   "cell_type": "code",
   "execution_count": null,
   "id": "e888f973",
   "metadata": {},
   "outputs": [],
   "source": [
    "content=input(\"enter a string with spaces (\" \"): \")\n",
    "\n",
    "content_split=content.split( )\n",
    "content_sort_and_unic=sorted(set(content_split))\n",
    "result=\" \".join(content_sort_and_unic)\n",
    "print(result)"
   ]
  },
  {
   "cell_type": "code",
   "execution_count": null,
   "id": "638ef532",
   "metadata": {},
   "outputs": [],
   "source": [
    "content = input(\"Enter a string with spaces: \")\n",
    "result = \" \".join(sorted(set(content.split())))\n",
    "print(result)\n"
   ]
  },
  {
   "cell_type": "code",
   "execution_count": null,
   "id": "eb4d3b14",
   "metadata": {},
   "outputs": [],
   "source": [
    "#Using a list comprehension:\n",
    "content = input(\"Enter a string with spaces: \")\n",
    "result = \" \".join(sorted({word for word in content.split()}))\n",
    "print(result)"
   ]
  },
  {
   "cell_type": "markdown",
   "id": "f8d251bc",
   "metadata": {},
   "source": [
    "19).Write a program that accepts a sentence and calculate the number of upper case \\n\",\n",
    "    \"# letters and lower case letters.\\n\",\n",
    "    \"#Suppose the following input is supplied to the program: Hello world!\\n\",\n",
    "    \"#Then, the output should be: UPPER CASE 1 LOWER CASE 9\\n\",\n",
    "    \"\\n\",\n",
    "    \"#Hints: In case of input data being supplied to the question, it should be assumed to be a console input."
   ]
  },
  {
   "cell_type": "code",
   "execution_count": null,
   "id": "4d79c2a9",
   "metadata": {},
   "outputs": [],
   "source": [
    "content=input(\"enter a string: \")\n",
    "\n",
    "upper_count=0\n",
    "lower_count=0\n",
    "\n",
    "for i in content:\n",
    "    if i.isupper():\n",
    "        upper_count+=1\n",
    "    elif i.islower():\n",
    "        lower_count+=1\n",
    "print(upper_count)\n",
    "print(lower_count)"
   ]
  },
  {
   "cell_type": "code",
   "execution_count": null,
   "id": "61d561f9",
   "metadata": {},
   "outputs": [],
   "source": [
    "#using isalpha and isupper and islower\n",
    "content = input(\"Enter a string: \")\n",
    "\n",
    "upper_count = sum(1 for i in content if i.isalpha() and i.isupper())\n",
    "lower_count = sum(1 for i in content if i.isalpha() and i.islower())\n",
    "\n",
    "print(\"Uppercase count:\", upper_count)\n",
    "print(\"Lowercase count:\", lower_count)\n"
   ]
  },
  {
   "cell_type": "code",
   "execution_count": null,
   "id": "818868cb",
   "metadata": {},
   "outputs": [],
   "source": [
    "#module method\n",
    "from collections import Counter\n",
    "\n",
    "content = input(\"Enter a string: \")\n",
    "\n",
    "letter_counts = Counter(c.isupper() for c in content if c.isalpha())\n",
    "\n",
    "upper_count = letter_counts[True]\n",
    "lower_count = letter_counts[False]\n",
    "\n",
    "print(\"Uppercase count:\", upper_count)\n",
    "print(\"Lowercase count:\", lower_count)\n"
   ]
  },
  {
   "cell_type": "markdown",
   "id": "363c207e",
   "metadata": {},
   "source": [
    "20)Write a program that takes a string and returns reversed string. i.e. if input is \\\"abcd123\\\" output should be \\\"321dcba\\\"\"\n",
    "  \",\n",
    "     \"varRefresh"
   ]
  },
  {
   "cell_type": "code",
   "execution_count": null,
   "id": "4a29e9bd",
   "metadata": {},
   "outputs": [],
   "source": [
    "#using slising method\n",
    "content=input(\"enter a string: \")\n",
    "result=content[::-1]\n",
    "print(result)"
   ]
  },
  {
   "cell_type": "code",
   "execution_count": null,
   "id": "78a81fcb",
   "metadata": {},
   "outputs": [],
   "source": [
    "#using reversed method\n",
    "content=input(\"enter a string: \")\n",
    "result=''.join(reversed(content))\n",
    "print(result)"
   ]
  },
  {
   "cell_type": "code",
   "execution_count": null,
   "id": "3599dc8e",
   "metadata": {},
   "outputs": [],
   "source": [
    "#using loop\n",
    "original_string = input(\"Enter a string: \")\n",
    "reversed_string = ''\n",
    "for char in original_string:\n",
    "    #reversed_string = char + reversed_string\n",
    "    reversed_string =char+reversed_string\n",
    "print(\"Reversed string:\", reversed_string)\n"
   ]
  },
  {
   "cell_type": "markdown",
   "id": "0e0bf088",
   "metadata": {},
   "source": [
    "21).chack the string is palindrome or not"
   ]
  },
  {
   "cell_type": "code",
   "execution_count": null,
   "id": "0e01ac48",
   "metadata": {},
   "outputs": [],
   "source": [
    "#using normal if else\n",
    "content=input(\"enter a string: \")\n",
    "if content==content[::-1]:\n",
    "    print(f\"{content}: Yes this is palindrome,and reversed string is: '{content[::-1]}'\")\n",
    "else:\n",
    "    print(f\"{content}: No this is not palindrome\")"
   ]
  },
  {
   "cell_type": "code",
   "execution_count": null,
   "id": "62d3c3dd",
   "metadata": {},
   "outputs": [],
   "source": [
    "#using udf it will also check string and number\n",
    "def is_palindrome(s):\n",
    "    s = ''.join(e.lower() for e in s if e.isalnum())\n",
    "    return s == s[::-1]\n",
    "\n",
    "# Example usage:\n",
    "word = input(\"enter a string , i will check palindrome or not: \")\n",
    "result = is_palindrome(word)\n",
    "print(f\"{word} is a palindrome: {result}\")\n"
   ]
  },
  {
   "cell_type": "markdown",
   "id": "016628d4",
   "metadata": {},
   "source": [
    "22).prime number generator"
   ]
  },
  {
   "cell_type": "code",
   "execution_count": null,
   "id": "2f660e83",
   "metadata": {},
   "outputs": [],
   "source": [
    "import math\n",
    "\n",
    "def prime():\n",
    "    count = 2\n",
    "    n = int(input(\"Enter a number: \"))\n",
    "    generated_list = []\n",
    "\n",
    "    while n > 0:\n",
    "        is_prime = True\n",
    "        for x in range(2, int(math.sqrt(count)) + 1):\n",
    "            if count % x == 0:\n",
    "                is_prime = False\n",
    "                break\n",
    "\n",
    "        if is_prime:\n",
    "            generated_list.append(count)\n",
    "            n -= 1\n",
    "\n",
    "        count += 1\n",
    "\n",
    "    print(generated_list)\n",
    "\n",
    "prime()\n"
   ]
  },
  {
   "cell_type": "code",
   "execution_count": null,
   "id": "93a009b4",
   "metadata": {
    "scrolled": true
   },
   "outputs": [],
   "source": [
    "n = int(input(\"enter number\"))\n",
    "primeList= lambda M: [x for x in range(2,n) if all(x%k for k in range(2,x))]\n",
    "k = primeList(n)\n",
    "print(k)"
   ]
  },
  {
   "cell_type": "markdown",
   "id": "ceea4458",
   "metadata": {},
   "source": [
    "23).print the same word or do repeat"
   ]
  },
  {
   "cell_type": "code",
   "execution_count": null,
   "id": "db029841",
   "metadata": {},
   "outputs": [],
   "source": [
    "while True: \n",
    "    usr_command = input(\"Enter your command: \")\n",
    "    if usr_command == \"quit\":\n",
    "      break\n",
    "    else: \n",
    "      print(\"You typed \" + usr_command)"
   ]
  },
  {
   "cell_type": "code",
   "execution_count": null,
   "id": "75ede130",
   "metadata": {},
   "outputs": [],
   "source": [
    "quit = input('Type \"enter\" to quit:' )\n",
    "while quit != \"enter\":\n",
    "    quit = input('Type \"enter\" to quit:' )"
   ]
  },
  {
   "cell_type": "markdown",
   "id": "18a3fd72",
   "metadata": {},
   "source": [
    "24).Create a program that asks the user to enter their name and their age. Print out a message addressed to them that tells them the year that they will turn 100 years old."
   ]
  },
  {
   "cell_type": "code",
   "execution_count": null,
   "id": "6d1b4b32",
   "metadata": {},
   "outputs": [],
   "source": [
    "#noormal one\n",
    "name=input(\"enter your name: \")\n",
    "age=int(input(\"enter your age: \"))\n",
    "year=2023-age+100 \n",
    "print(year)"
   ]
  },
  {
   "cell_type": "code",
   "execution_count": null,
   "id": "046c2836",
   "metadata": {},
   "outputs": [],
   "source": [
    "#use udf\n",
    "def years_old(name,age):\n",
    "    if age==age:\n",
    "        years=2023-age+100\n",
    "        return f\"{name} you will be 100 years old in the year :  {str(year)}\"\n",
    "name=input(\"enter a name: \")\n",
    "age=int(input(\"enter a age: \"))\n",
    "print(years_old(name,age))\n"
   ]
  },
  {
   "cell_type": "code",
   "execution_count": null,
   "id": "11522c6e",
   "metadata": {},
   "outputs": [],
   "source": [
    "name = input(\"Enter a name: \")\n",
    "age = int(input(\"Enter an age: \"))\n",
    "years_old = [2023 - age + 100 for _ in range(age)]\n",
    "print(years_old)"
   ]
  },
  {
   "cell_type": "code",
   "execution_count": null,
   "id": "73033e57",
   "metadata": {},
   "outputs": [],
   "source": [
    "# Get the number of people\n",
    "num_people = int(input(\"Enter the number of people: \"))\n",
    "\n",
    "# Use list comprehension to calculate the years for each person\n",
    "years_list = [2023 - int(input(\"Enter the age for person {} : \".format(i + 1))) + 100 for i in range(num_people)]\n",
    "\n",
    "# Print the list of years\n",
    "print(\"Years when each person will turn 100:\")\n",
    "for year in years_list:\n",
    "    print(year)\n"
   ]
  },
  {
   "cell_type": "markdown",
   "id": "a4fff927",
   "metadata": {},
   "source": [
    "25).Create a program that asks the user for a number and then prints out a list of all the divisors of that number. (If you don’t know what a divisor is, it is a number that divides evenly into another number. For example, 13 is a divisor of 26 because 26 / 13 has no remainder.)"
   ]
  },
  {
   "cell_type": "code",
   "execution_count": null,
   "id": "65d01b47",
   "metadata": {},
   "outputs": [],
   "source": [
    "num=int(input(\"enter anumber: \"))\n",
    "num_list=list(range(1,num+1))\n",
    "created_list=[]\n",
    "\n",
    "for i in num_list:\n",
    "    if num%i==0:\n",
    "        created_list.append(i)\n",
    "print(created_list)"
   ]
  },
  {
   "cell_type": "code",
   "execution_count": null,
   "id": "ed15dd0b",
   "metadata": {},
   "outputs": [],
   "source": [
    "num=int(input(\"enter a number: \"))\n",
    "listed_num=[i for i in range(1,num+1) if num%i==0]\n",
    "print(listed_num)"
   ]
  },
  {
   "cell_type": "markdown",
   "id": "7f14a652",
   "metadata": {},
   "source": [
    "26).Take two lists, say for example these two:\n",
    "\n",
    "\ta = [1, 1, 2, 3, 5, 8, 13, 21, 34, 55, 89]\n",
    "\tb = [1, 2, 3, 4, 5, 6, 7, 8, 9, 10, 11, 12, 13]\n",
    "and write a program that returns a list that contains only the elements that are common between the lists (without duplicates). Make sure your program works on two lists of different sizes."
   ]
  },
  {
   "cell_type": "code",
   "execution_count": null,
   "id": "e1332486",
   "metadata": {},
   "outputs": [],
   "source": [
    "a = [1, 1, 2, 3, 5, 8, 13, 21, 34, 55, 89]\n",
    "b = [1, 2, 3, 4, 5, 6, 7, 8, 9, 10, 11, 12, 13]\n",
    "\n",
    "c=set(a)\n",
    "d=set(b)\n",
    "print(c.intersection(b))"
   ]
  },
  {
   "cell_type": "code",
   "execution_count": null,
   "id": "a3866d2f",
   "metadata": {},
   "outputs": [],
   "source": [
    "a = [1, 1, 2, 3, 5, 8, 13, 21, 34, 55, 89]\n",
    "b = [1, 2, 3, 4, 5, 6, 7, 8, 9, 10, 11, 12, 13]\n",
    "c = [ x for x in a and b if x in a and b]\n",
    "print (c)"
   ]
  },
  {
   "cell_type": "code",
   "execution_count": null,
   "id": "0b4b213b",
   "metadata": {},
   "outputs": [],
   "source": [
    "a = [1, 1, 2, 3, 5, 8, 13, 21, 34, 55, 89]\n",
    "b = [1, 2, 3, 4, 5, 6, 7, 8, 9, 10, 11, 12, 13]\n",
    "l = list(set([x for x in a if x in b ]))\n",
    "print(l)"
   ]
  },
  {
   "cell_type": "markdown",
   "id": "c6c84328",
   "metadata": {},
   "source": [
    "27).Ask the user for a string and print out whether this string is a palindrome or not. (A palindrome is a string that reads the same forwards and backwards.)"
   ]
  },
  {
   "cell_type": "code",
   "execution_count": null,
   "id": "b28be18a",
   "metadata": {
    "scrolled": true
   },
   "outputs": [],
   "source": [
    "content=input(\"enter a string: \")\n",
    "\n",
    "if content==content[::-1]:\n",
    "    print(f\"{content} : yes this is palindrome\")\n",
    "else :\n",
    "    print(f\"{content} : no this is not palindrome\")"
   ]
  },
  {
   "cell_type": "markdown",
   "id": "cf70c700",
   "metadata": {},
   "source": [
    "28).Let’s say I give you a list saved in a variable: a = [1, 4, 9, 16, 25, 36, 49, 64, 81, 100]. Write one line of Python that takes this list a and makes a new list that has only the even elements of this list in it."
   ]
  },
  {
   "cell_type": "code",
   "execution_count": null,
   "id": "f88f15fd",
   "metadata": {},
   "outputs": [],
   "source": [
    "a = [1, 4, 9, 16, 25, 36, 49, 64, 81, 100]\n",
    "even_list=[]\n",
    "odd_lost=[]\n",
    "for i in a:\n",
    "    if i%2==0:\n",
    "        even_list.append(i)\n",
    "    else:\n",
    "        odd_lost.append(i)\n",
    "print(even_list)\n",
    "print(odd_lost)"
   ]
  },
  {
   "cell_type": "code",
   "execution_count": null,
   "id": "218e216a",
   "metadata": {},
   "outputs": [],
   "source": [
    "a = [1, 4, 9, 16, 25, 36, 49, 64, 81, 100]\n",
    "evan_list=[i for i in a if i%2==0]\n",
    "odd_list=[i for i in a if i%2!=0]\n",
    "print(evan_list,odd_list)"
   ]
  },
  {
   "cell_type": "markdown",
   "id": "857c49b7",
   "metadata": {},
   "source": [
    "29).Make a two-player Rock-Paper-Scissors game. (Hint: Ask for player plays (using input), compare them, print out a message of congratulations to the winner, and ask if the players want to start a new game)\n",
    "\n",
    "Remember the rules:\n",
    "\n",
    "Rock beats scissors\n",
    "Scissors beats paper\n",
    "Paper beats rock"
   ]
  },
  {
   "cell_type": "code",
   "execution_count": null,
   "id": "780ddae0",
   "metadata": {},
   "outputs": [],
   "source": [
    "import sys\n",
    "\n",
    "user1 = input(\"What's your name?\")\n",
    "user2 = input(\"And your name?\")\n",
    "user1_answer = input(\"%s, do yo want to choose rock, paper or scissors? : \" % user1)\n",
    "user2_answer = input(\"%s, do you want to choose rock, paper or scissors? : \" % user2)\n",
    "\n",
    "def compare(u1, u2):\n",
    "    if u1 == u2:\n",
    "        return(\"It's a tie!\")\n",
    "    elif u1 == 'rock':\n",
    "        if u2 == 'scissors':\n",
    "            return(\"Rock wins!\")\n",
    "        else:\n",
    "            return(\"Paper wins!\")\n",
    "    elif u1 == 'scissors':\n",
    "        if u2 == 'paper':\n",
    "            return(\"Scissors win!\")\n",
    "        else:\n",
    "            return(\"Rock wins!\")\n",
    "    elif u1 == 'paper':\n",
    "        if u2 == 'rock':\n",
    "            return(\"Paper wins!\")\n",
    "        else:\n",
    "            return(\"Scissors win!\")\n",
    "    else:\n",
    "        return(\"Invalid input! You have not entered rock, paper or scissors, try again.\")\n",
    "        sys.exit()\n",
    "\n",
    "print(compare(user1_answer, user2_answer))"
   ]
  },
  {
   "cell_type": "code",
   "execution_count": null,
   "id": "9861e9e0",
   "metadata": {},
   "outputs": [],
   "source": [
    "def compare(u1,u2):\n",
    "    if u1==u2:\n",
    "        return (\"it is tie!\")\n",
    "    elif u1==\"rock\":\n",
    "        if u2==\"scissors\":\n",
    "            return (\"rock wins!\")\n",
    "        else:\n",
    "            return (\"paper wins!\")\n",
    "    elif u1==\"scissors\":\n",
    "        if u2==\"paper\":\n",
    "            return (\"scissors wins!\")\n",
    "        else:\n",
    "            return (\"rock wins!\")\n",
    "    elif u1==\"paper\":\n",
    "        if u2==\"rock\":\n",
    "            return (\"paper wins!\")\n",
    "        else:\n",
    "            return (\"scissors wins!\")\n",
    "    else:\n",
    "        return(\"Invalid input! You have not entered rock, paper or scissors, try again.\")\n",
    "\n",
    "user1=input(\"enter player name1: \")\n",
    "user2=input(\"enter player name2: \")\n",
    "user1_answer = input(\"%s, do yo want to choose rock, paper or scissors? : \" % user1)\n",
    "user2_answer = input(\"%s, do you want to choose rock, paper or scissors? : \" % user2)\n",
    "print(compare(user1_answer,user2_answer))\n"
   ]
  },
  {
   "cell_type": "code",
   "execution_count": null,
   "id": "6a523ace",
   "metadata": {},
   "outputs": [],
   "source": [
    "def compare(u1, u2):\n",
    "    if u1 == u2:\n",
    "        return \"It's a tie!\"\n",
    "    elif u1 == \"rock\":\n",
    "        if u2 == \"scissors\":\n",
    "            return \"Rock wins!\"\n",
    "        else:\n",
    "            return \"Paper wins!\"\n",
    "    elif u1 == \"scissors\":\n",
    "        if u2 == \"paper\":\n",
    "            return \"Scissors wins!\"\n",
    "        else:\n",
    "            return \"Rock wins!\"\n",
    "    elif u1 == \"paper\":\n",
    "        if u2 == \"rock\":\n",
    "            return \"Paper wins!\"\n",
    "        else:\n",
    "            return \"Scissors wins!\"\n",
    "    else:\n",
    "        return \"Invalid input! You have not entered rock, paper, or scissors. Try again.\"\n",
    "\n",
    "while True:\n",
    "    user1 = input(\"Enter player name 1: \")\n",
    "    user2 = input(\"Enter player name 2: \")\n",
    "\n",
    "    user1_answer = input(f\"{user1}, do you want to choose rock, paper, or scissors? (Type 'exit' to end): \")\n",
    "\n",
    "    # Check if the user wants to exit\n",
    "    if user1_answer.lower() == 'exit':\n",
    "        print(\"Game ended.\")\n",
    "        break\n",
    "    \n",
    "    user2_answer = input(f\"{user2}, do you want to choose rock, paper, or scissors? (Type 'exit' to end): \")\n",
    "\n",
    "    # Check if the user wants to exit\n",
    "    if user2_answer.lower() == 'exit':\n",
    "        print(\"Game ended.\")\n",
    "        break\n",
    "    \n",
    "    result = compare(user1_answer.lower(), user2_answer.lower())\n",
    "    print(result)\n"
   ]
  },
  {
   "cell_type": "code",
   "execution_count": null,
   "id": "fdd75fd7",
   "metadata": {},
   "outputs": [],
   "source": [
    "def compare(u1, u2):\n",
    "    if u1 == u2:\n",
    "        return \"It's a tie!\"\n",
    "    elif u1 == \"rock\":\n",
    "        if u2 == \"scissors\":\n",
    "            return \"Rock wins!\"\n",
    "        else:\n",
    "            return \"Paper wins!\"\n",
    "    elif u1 == \"scissors\":\n",
    "        if u2 == \"paper\":\n",
    "            return \"Scissors wins!\"\n",
    "        else:\n",
    "            return \"Rock wins!\"\n",
    "    elif u1 == \"paper\":\n",
    "        if u2 == \"rock\":\n",
    "            return \"Paper wins!\"\n",
    "        else:\n",
    "            return \"Scissors wins!\"\n",
    "    else:\n",
    "        return \"Invalid input! You have not entered rock, paper, or scissors. Try again.\"\n",
    "\n",
    "user1 = input(\"Enter player name 1: \")\n",
    "user2 = input(\"Enter player name 2: \")\n",
    "\n",
    "while True:\n",
    "    user1_answer = input(f\"{user1}, do you want to choose rock, paper, or scissors? (Type 'exit' to end): \")\n",
    "    \n",
    "    # Check if the user wants to exit\n",
    "    if user1_answer.lower() == 'exit':\n",
    "        print(\"Game ended.\")\n",
    "        break\n",
    "    \n",
    "    user2_answer = input(f\"{user2}, do you want to choose rock, paper, or scissors? (Type 'exit' to end): \")\n",
    "\n",
    "    # Check if the user wants to exit\n",
    "    if user2_answer.lower() == 'exit':\n",
    "        print(\"Game ended.\")\n",
    "        break\n",
    "    \n",
    "    result = compare(user1_answer.lower(), user2_answer.lower())\n",
    "    print(result)\n"
   ]
  },
  {
   "cell_type": "code",
   "execution_count": null,
   "id": "3455f93b",
   "metadata": {},
   "outputs": [],
   "source": [
    "print('''Please pick one:\n",
    "            rock\n",
    "            scissors\n",
    "            paper''')\n",
    "\n",
    "while True:\n",
    "    game_dict = {'rock': 1, 'scissors': 2, 'paper': 3}\n",
    "    player_a = str(input(\"Player a: \"))\n",
    "    player_b = str(input(\"Player b: \"))\n",
    "    a = game_dict.get(player_a)\n",
    "    b = game_dict.get(player_b)\n",
    "    dif = a - b\n",
    "\n",
    "    if dif in [-1, 2]:\n",
    "        print('player a wins.')\n",
    "        if str(input('Do you want to play another game, yes or no?\\n')) == 'yes':\n",
    "            continue\n",
    "        else:\n",
    "            print('game over.')\n",
    "            break\n",
    "    elif dif in [-2, 1]:\n",
    "        print('player b wins.')\n",
    "        if str(input('Do you want to play another game, yes or no?\\n')) == 'yes':\n",
    "            continue\n",
    "        else:\n",
    "            print('game over.')\n",
    "            break\n",
    "    else:\n",
    "        print('Draw.Please continue.')\n",
    "        print('')"
   ]
  },
  {
   "cell_type": "code",
   "execution_count": null,
   "id": "7ae9ab20",
   "metadata": {},
   "outputs": [],
   "source": [
    "def get_player_choice(player_name):\n",
    "    return input(f\"{player_name}, please choose (rock/scissors/paper): \").lower()\n",
    "\n",
    "def determine_winner(player_a, player_b):\n",
    "    game_dict = {'rock': 1, 'scissors': 2, 'paper': 3}\n",
    "    diff = game_dict[player_a] - game_dict[player_b]\n",
    "\n",
    "    if diff in [-1, 2]:\n",
    "        return 'Player A wins.'\n",
    "    elif diff in [-2, 1]:\n",
    "        return 'Player B wins.'\n",
    "    else:\n",
    "        return 'It\\'s a draw. Please continue.'\n",
    "\n",
    "def play_game():\n",
    "    while True:\n",
    "        player_a_choice = get_player_choice(\"Player A\")\n",
    "        player_b_choice = get_player_choice(\"Player B\")\n",
    "\n",
    "        print(determine_winner(player_a_choice, player_b_choice))\n",
    "\n",
    "        play_again = input('Do you want to play another game? (yes/no): ').lower()\n",
    "        if play_again != 'yes':\n",
    "            print('Game over.')\n",
    "            break\n",
    "\n",
    "if __name__ == \"__main__\":\n",
    "    print('''Please pick one:\n",
    "            rock\n",
    "            scissors\n",
    "            paper''')\n",
    "    \n",
    "    play_game()\n"
   ]
  },
  {
   "cell_type": "markdown",
   "id": "4e768371",
   "metadata": {},
   "source": [
    "30).wap to check that is  input given a traingle"
   ]
  },
  {
   "cell_type": "code",
   "execution_count": 10,
   "id": "7045bdf6",
   "metadata": {},
   "outputs": [
    {
     "name": "stdout",
     "output_type": "stream",
     "text": [
      "Enter the length of side 1: 67\n",
      "Enter the length of side 2: 2\n",
      "Enter the length of side 3: 2\n",
      "no this is not form a traingle\n"
     ]
    }
   ],
   "source": [
    "a= float(input(\"Enter the length of side 1: \"))\n",
    "b= float(input(\"Enter the length of side 2: \"))\n",
    "c= float(input(\"Enter the length of side 3: \"))\n",
    "if a+b>c and b+c>a and c+a>b:\n",
    "    print (\"yes this is form traingle\")\n",
    "else:\n",
    "    print (\"no this is not form a traingle\")"
   ]
  },
  {
   "cell_type": "code",
   "execution_count": 4,
   "id": "b55870aa",
   "metadata": {},
   "outputs": [
    {
     "name": "stdout",
     "output_type": "stream",
     "text": [
      "Enter the length of side 1: 45\n",
      "Enter the length of side 2: 2\n",
      "Enter the length of side 3: 67\n",
      "The given lengths cannot form a triangle.\n"
     ]
    }
   ],
   "source": [
    "def is_triangle(a, b, c):\n",
    "    if a + b > c and b + c > a and c + a > b:\n",
    "        return True\n",
    "    else:\n",
    "        return False\n",
    "\n",
    "# Get user input for the three sides of the triangle\n",
    "side1 = float(input(\"Enter the length of side 1: \"))\n",
    "side2 = float(input(\"Enter the length of side 2: \"))\n",
    "side3 = float(input(\"Enter the length of side 3: \"))\n",
    "\n",
    "# Check if the input forms a triangle\n",
    "if is_triangle(side1, side2, side3):\n",
    "    print(\"The given lengths can form a triangle.\")\n",
    "else:\n",
    "    print(\"The given lengths cannot form a triangle.\")"
   ]
  },
  {
   "cell_type": "markdown",
   "id": "95cbda8e",
   "metadata": {},
   "source": [
    "31).convert binary to decimal"
   ]
  },
  {
   "cell_type": "code",
   "execution_count": null,
   "id": "db6a19d4",
   "metadata": {},
   "outputs": [],
   "source": [
    "bi=(input(\"enter the binary code: \")) #1001\n",
    "de=int(bi,2)\n",
    "print(de)"
   ]
  },
  {
   "cell_type": "code",
   "execution_count": 1,
   "id": "f3f69697",
   "metadata": {},
   "outputs": [
    {
     "name": "stdout",
     "output_type": "stream",
     "text": [
      "4\n",
      "5\n",
      "9\n"
     ]
    }
   ],
   "source": [
    "def binaryToDecimal(n):\n",
    "    return int(n,2)\n",
    "print(binaryToDecimal('100'))\n",
    "print(binaryToDecimal('101'))\n",
    "print(binaryToDecimal('1001'))"
   ]
  },
  {
   "cell_type": "markdown",
   "id": "30027661",
   "metadata": {},
   "source": [
    "32)decimal to binary"
   ]
  },
  {
   "cell_type": "code",
   "execution_count": 7,
   "id": "f6b420d8",
   "metadata": {},
   "outputs": [
    {
     "name": "stdout",
     "output_type": "stream",
     "text": [
      "enter a integer val: 10\n",
      "1010\n"
     ]
    }
   ],
   "source": [
    "de=int(input(\"enter a integer val: \")) #10\n",
    "bi=bin(de)\n",
    "print(bi[2:])"
   ]
  },
  {
   "cell_type": "code",
   "execution_count": 18,
   "id": "7cc018ab",
   "metadata": {},
   "outputs": [
    {
     "name": "stdout",
     "output_type": "stream",
     "text": [
      "enter the int val : 10\n",
      "1010\n"
     ]
    }
   ],
   "source": [
    "def to_binary(n):\n",
    "    result=bin(n)\n",
    "    return result[2:]\n",
    "print(to_binary(int(input(\"enter the int val : \"))))"
   ]
  },
  {
   "cell_type": "markdown",
   "id": "240eaa27",
   "metadata": {},
   "source": [
    "33).decimal to octal"
   ]
  },
  {
   "cell_type": "code",
   "execution_count": 1,
   "id": "09d056c5",
   "metadata": {},
   "outputs": [
    {
     "name": "stdout",
     "output_type": "stream",
     "text": [
      "enter a integer val: 10\n",
      "12\n"
     ]
    }
   ],
   "source": [
    "de=int(input(\"enter a integer val: \")) #10\n",
    "oc=oct(de)\n",
    "print(oc[2:])"
   ]
  },
  {
   "cell_type": "code",
   "execution_count": 2,
   "id": "eec1c200",
   "metadata": {},
   "outputs": [
    {
     "name": "stdout",
     "output_type": "stream",
     "text": [
      "enter the int val : 10\n",
      "12\n"
     ]
    }
   ],
   "source": [
    "def to_oct(n):\n",
    "    result=oct(n)\n",
    "    return result[2:]\n",
    "print(to_oct(int(input(\"enter the int val : \"))))"
   ]
  },
  {
   "cell_type": "markdown",
   "id": "2167a13b",
   "metadata": {},
   "source": [
    "34).decimal to Hexadecimal"
   ]
  },
  {
   "cell_type": "code",
   "execution_count": 28,
   "id": "38f64419",
   "metadata": {},
   "outputs": [
    {
     "name": "stdout",
     "output_type": "stream",
     "text": [
      "enter the int: 12\n",
      "c\n"
     ]
    }
   ],
   "source": [
    "de=int(input(\"enter the int: \")) #12 \n",
    "he=hex(de)\n",
    "print(he[2:])"
   ]
  },
  {
   "cell_type": "markdown",
   "id": "7dbecb19",
   "metadata": {},
   "source": [
    "35).Hexadecimal to Decimal"
   ]
  },
  {
   "cell_type": "code",
   "execution_count": 32,
   "id": "fcefab07",
   "metadata": {},
   "outputs": [
    {
     "name": "stdout",
     "output_type": "stream",
     "text": [
      "enter the hex: c\n",
      "12\n"
     ]
    }
   ],
   "source": [
    "he=input(\"enter the hex: \") #8c  ,16a , c\n",
    "de=int(he,16)\n",
    "print(de)"
   ]
  },
  {
   "cell_type": "markdown",
   "id": "4218d52e",
   "metadata": {},
   "source": [
    "36).Octal to Decimal"
   ]
  },
  {
   "cell_type": "code",
   "execution_count": 39,
   "id": "54309b9e",
   "metadata": {},
   "outputs": [
    {
     "name": "stdout",
     "output_type": "stream",
     "text": [
      "enter the hex: 12\n",
      "10\n"
     ]
    }
   ],
   "source": [
    "oc=input(\"enter the oct: \") #12\n",
    "de=int(oc,8)\n",
    "print(de)"
   ]
  },
  {
   "cell_type": "markdown",
   "id": "d14d28c6",
   "metadata": {},
   "source": [
    "37).Hexadecimal to Binary"
   ]
  },
  {
   "cell_type": "code",
   "execution_count": 42,
   "id": "0a14ad00",
   "metadata": {},
   "outputs": [
    {
     "name": "stdout",
     "output_type": "stream",
     "text": [
      "enter the hex: c\n",
      "1100\n"
     ]
    }
   ],
   "source": [
    "he=input(\"enter the hex: \") #12c , c\n",
    "bi=bin(int(he,16))\n",
    "print(bi[2:])"
   ]
  },
  {
   "cell_type": "markdown",
   "id": "6a1159ea",
   "metadata": {},
   "source": [
    "38).Decimal to ASCII Character"
   ]
  },
  {
   "cell_type": "code",
   "execution_count": 6,
   "id": "67cf60ae",
   "metadata": {},
   "outputs": [
    {
     "name": "stdout",
     "output_type": "stream",
     "text": [
      "enter the int: 65\n",
      "A\n"
     ]
    }
   ],
   "source": [
    "de=int(input(\"enter the int: \"))\n",
    "asc=chr(de)\n",
    "print(asc)"
   ]
  },
  {
   "cell_type": "markdown",
   "id": "3903f7f8",
   "metadata": {},
   "source": [
    "39).ASCII Character to   Decimal "
   ]
  },
  {
   "cell_type": "code",
   "execution_count": 9,
   "id": "c1462ecf",
   "metadata": {},
   "outputs": [
    {
     "name": "stdout",
     "output_type": "stream",
     "text": [
      "enter the ascii val: A\n",
      "65\n"
     ]
    }
   ],
   "source": [
    "asc=input(\"enter the ascii val: \") #A\n",
    "de=ord(asc)\n",
    "print(de)"
   ]
  },
  {
   "cell_type": "markdown",
   "id": "2353b5bd",
   "metadata": {},
   "source": [
    "40).Convert Celsius to Fahrenheit"
   ]
  },
  {
   "cell_type": "code",
   "execution_count": 13,
   "id": "0b03738a",
   "metadata": {},
   "outputs": [
    {
     "name": "stdout",
     "output_type": "stream",
     "text": [
      "enter the Celsius: 25\n",
      "13.0\n"
     ]
    }
   ],
   "source": [
    "celsius=int(input(\"enter the Celsius: \"))\n",
    "fahrenheit=(celsius * 1.8)-32\n",
    "print(fahrenheit)"
   ]
  },
  {
   "cell_type": "code",
   "execution_count": 14,
   "id": "94d8ee6b",
   "metadata": {},
   "outputs": [
    {
     "name": "stdout",
     "output_type": "stream",
     "text": [
      "enter the Celsius: 25\n",
      "13.0\n"
     ]
    }
   ],
   "source": [
    "celsius=int(input(\"enter the Celsius: \"))\n",
    "fahrenheit=(celsius * 9/5)-32\n",
    "print(fahrenheit)"
   ]
  },
  {
   "cell_type": "markdown",
   "id": "21904f58",
   "metadata": {},
   "source": [
    "41).Convert Fahrenheit to Celsius:"
   ]
  },
  {
   "cell_type": "code",
   "execution_count": 2,
   "id": "83160323",
   "metadata": {},
   "outputs": [
    {
     "name": "stdout",
     "output_type": "stream",
     "text": [
      "enter the Celsius: 25\n",
      "-3.888888888888889\n"
     ]
    }
   ],
   "source": [
    "fahrenheit=int(input(\"enter the Celsius: \"))\n",
    "celsius=(fahrenheit-32)*5/9\n",
    "print(celsius)"
   ]
  },
  {
   "cell_type": "markdown",
   "id": "34a28dba",
   "metadata": {},
   "source": [
    "42).difference between *args and **kwargs"
   ]
  },
  {
   "cell_type": "markdown",
   "id": "78807cf1",
   "metadata": {},
   "source": [
    "In Python, *args and **kwargs are used to allow a function to accept a variable number of arguments.\n",
    "\n",
    "*args (Arbitrary Positional Arguments):\n",
    "\n",
    "It allows a function to accept any number of positional arguments.\n",
    "The *args syntax in a function definition collects any number of positional arguments into a tuple.\n",
    "The name args is a convention; you could use any other name preceded by the * operator."
   ]
  },
  {
   "cell_type": "code",
   "execution_count": 8,
   "id": "39cf44b3",
   "metadata": {},
   "outputs": [
    {
     "name": "stdout",
     "output_type": "stream",
     "text": [
      "10\n",
      "23\n",
      "tts\n"
     ]
    }
   ],
   "source": [
    "#example of *args\n",
    "def func(*args):\n",
    "    for i in args:\n",
    "        print (i)\n",
    "\n",
    "func(10,23,\"tts\")"
   ]
  },
  {
   "cell_type": "markdown",
   "id": "48f584dd",
   "metadata": {},
   "source": [
    "**kwargs (Arbitrary Keyword Arguments):\n",
    "\n",
    "It allows a function to accept any number of keyword arguments.\n",
    "The **kwargs syntax in a function definition collects any keyword arguments into a dictionary.\n",
    "The name kwargs is a convention, similar to args, but using **.\n",
    "Example:"
   ]
  },
  {
   "cell_type": "code",
   "execution_count": 9,
   "id": "56bc9b07",
   "metadata": {},
   "outputs": [
    {
     "name": "stdout",
     "output_type": "stream",
     "text": [
      "a:10\n",
      "b:20\n",
      "c:tts\n"
     ]
    }
   ],
   "source": [
    "# example of **kwargs\n",
    "def func(**kwargs):\n",
    "    for key,value in kwargs.items():\n",
    "        print(f\"{key}:{value}\")\n",
    "\n",
    "func(a=10,b=20,c=\"tts\")"
   ]
  },
  {
   "cell_type": "markdown",
   "id": "779912b3",
   "metadata": {},
   "source": [
    "It's also common to use both *args and **kwargs in the same function definition if you want to create a function that accepts any combination of positional and keyword arguments:"
   ]
  },
  {
   "cell_type": "code",
   "execution_count": 11,
   "id": "16ec16e3",
   "metadata": {},
   "outputs": [
    {
     "name": "stdout",
     "output_type": "stream",
     "text": [
      "1\n",
      "2\n",
      "tts\n",
      "a:1\n",
      "b:3\n",
      "c:tts\n"
     ]
    }
   ],
   "source": [
    "def func(*args,**kwargs):\n",
    "    for i in args:\n",
    "        print(i)\n",
    "    for key,value in kwargs.items():\n",
    "        print(f\"{key}:{value}\")\n",
    "func(1,2,\"tts\",a=1,b=3,c=\"tts\")"
   ]
  },
  {
   "cell_type": "markdown",
   "id": "3a0137d4",
   "metadata": {},
   "source": [
    "42).string=\"the quick bron fox jumps over the dog\"\n",
    "\ti).retrive & print using indexing \"fox\"\n",
    "\tii).split sentence into induvidual words & store in list\n",
    "\tiii).print the words in reverse order seperated by \"-\"\n"
   ]
  },
  {
   "cell_type": "code",
   "execution_count": 26,
   "id": "607fb860",
   "metadata": {},
   "outputs": [
    {
     "name": "stdout",
     "output_type": "stream",
     "text": [
      "fox\n"
     ]
    }
   ],
   "source": [
    "#i).retrive & print using indexing \"fox\"\n",
    "string=\"the quick bron fox jumps over the dog\"\n",
    "\n",
    "#print(string[15:18])\n",
    "fox_index = string.index(\"fox\")\n",
    "print(string[fox_index : fox_index+3 ])"
   ]
  },
  {
   "cell_type": "code",
   "execution_count": 35,
   "id": "e5ad0eaf",
   "metadata": {},
   "outputs": [
    {
     "name": "stdout",
     "output_type": "stream",
     "text": [
      "over\n"
     ]
    }
   ],
   "source": [
    "#i).retrive & print using indexing \"over\"\n",
    "string=\"the quick bron fox jumps over the dog\"\n",
    "\n",
    "#print(string[15:18])\n",
    "fox_index = string.index(\"over\")\n",
    "print(string[fox_index : fox_index+4 ])"
   ]
  },
  {
   "cell_type": "code",
   "execution_count": 38,
   "id": "72f46560",
   "metadata": {},
   "outputs": [
    {
     "name": "stdout",
     "output_type": "stream",
     "text": [
      "['the', 'quick', 'bron', 'fox', 'jumps', 'over', 'the', 'dog']\n"
     ]
    }
   ],
   "source": [
    "#ii).split sentence into induvidual words & store in list\n",
    "string=\"the quick bron fox jumps over the dog\"\n",
    "splliting=string.split(\" \")\n",
    "print(splliting)"
   ]
  },
  {
   "cell_type": "code",
   "execution_count": 30,
   "id": "a11465b9",
   "metadata": {},
   "outputs": [
    {
     "name": "stdout",
     "output_type": "stream",
     "text": [
      "dog-the-over-jumps-fox-bron-quick-the\n"
     ]
    }
   ],
   "source": [
    "#iii).print the words in reverse order seperated by \"-\"\n",
    "string=\"the quick bron fox jumps over the dog\"\n",
    "rev=\"-\".join(reversed(splliting))\n",
    "print(rev)"
   ]
  },
  {
   "cell_type": "markdown",
   "id": "ed3482be",
   "metadata": {},
   "source": [
    "43). counts the occurrences of a specific character in a given string"
   ]
  },
  {
   "cell_type": "code",
   "execution_count": 47,
   "id": "44ae384e",
   "metadata": {},
   "outputs": [
    {
     "name": "stdout",
     "output_type": "stream",
     "text": [
      "enter a char for occurenc: t\n",
      "t : occurenc is : 2 times\n"
     ]
    }
   ],
   "source": [
    "string=\"the quick bron fox jumps over the dog\"\n",
    "occ=input(\"enter a char for occurenc: \")\n",
    "count=0\n",
    "for i in string:\n",
    "    if i==occ:\n",
    "        count+=1\n",
    "   # else:\n",
    "     #   print(f\"{i}: no this is not\")\n",
    "print(f\"{occ} : occurenc is : {count} times\")"
   ]
  },
  {
   "cell_type": "code",
   "execution_count": 49,
   "id": "f2d5916d",
   "metadata": {},
   "outputs": [
    {
     "name": "stdout",
     "output_type": "stream",
     "text": [
      "The character 'o' occurs '4' times in the given string.\n"
     ]
    }
   ],
   "source": [
    "def count_occurrences(input_string, target_character):\n",
    "    count = 0\n",
    "    for char in input_string:\n",
    "        if char == target_character:\n",
    "            count += 1\n",
    "    return count\n",
    "\n",
    "# Example usage\n",
    "my_string = \"the quick brown fox jumps over the lazy dog\"\n",
    "target_char = 'o'\n",
    "\n",
    "occurrences = count_occurrences(my_string, target_char)\n",
    "print(f\"The character '{target_char}' occurs '{occurrences}' times in the given string.\")\n"
   ]
  },
  {
   "cell_type": "markdown",
   "id": "dabe03d1",
   "metadata": {},
   "source": [
    "44).Python to perform regular expression-based validation for an email address."
   ]
  },
  {
   "cell_type": "code",
   "execution_count": 1,
   "id": "303c626e",
   "metadata": {},
   "outputs": [
    {
     "name": "stdout",
     "output_type": "stream",
     "text": [
      "Enter an email address: tthamaraiselavan2002@gmail.com\n",
      "Valid email address.\n"
     ]
    }
   ],
   "source": [
    "import re\n",
    "\n",
    "def is_valid_email(email):\n",
    "    # Regular expression for a simple email validation\n",
    "    pattern = r'^\\b[A-Za-z0-9._%+-]+@[A-Za-z0-9.-]+\\.[A-Z|a-z]{2,}\\b'\n",
    "    #pattern = re.compile(r'([A-Za-z0-9]+[.-_])*[A-Za-z0-9]+@[A-Za-z0-9-]+(\\.[A-Z|a-z]{2,})+') \n",
    "    \n",
    "    \n",
    "    # Using re.match to find a match at the beginning of the string\n",
    "    match = re.match(pattern, email)\n",
    "    \n",
    "    # Check if the match is found\n",
    "    if match:\n",
    "        return True\n",
    "    else:\n",
    "        return False\n",
    "\n",
    "# Take email address as input\n",
    "email_input = input(\"Enter an email address: \")\n",
    "\n",
    "# Check if it is a valid email\n",
    "if is_valid_email(email_input):\n",
    "    print(\"Valid email address.\")\n",
    "else:\n",
    "    print(\"Invalid email address.\")\n"
   ]
  },
  {
   "cell_type": "code",
   "execution_count": 2,
   "id": "4bebeae1",
   "metadata": {},
   "outputs": [
    {
     "name": "stdout",
     "output_type": "stream",
     "text": [
      "The given mail is valid\n",
      "The given mail is valid\n",
      "The given mail is invalid\n",
      "The given mail is invalid\n"
     ]
    }
   ],
   "source": [
    "import re  \n",
    "  \n",
    "regex = re.compile(r'([A-Za-z0-9]+[.-_])*[A-Za-z0-9]+@[A-Za-z0-9-]+(\\.[A-Z|a-z]{2,})+')  \n",
    "  \n",
    "def emailValid(email):  \n",
    "    if re.fullmatch(regex, email):  \n",
    "      print(\"The given mail is valid\")  \n",
    "    else:  \n",
    "      print(\"The given mail is invalid\")  \n",
    "        \n",
    "        \n",
    "emailValid(\"sachin.sharma@gmail.com\")  \n",
    "emailValid(\"johnsnow123@yahoo.co.uk\")  \n",
    "emailValid(\"mathew123@...uk\")  \n",
    "emailValid(\"...@domain.us\")  "
   ]
  },
  {
   "cell_type": "code",
   "execution_count": 3,
   "id": "6138cb87",
   "metadata": {},
   "outputs": [
    {
     "name": "stdout",
     "output_type": "stream",
     "text": [
      "The given mail is valid\n",
      "The given mail is valid\n",
      "The given mail is invalid\n",
      "The given mail is invalid\n"
     ]
    }
   ],
   "source": [
    "import re  \n",
    "  \n",
    "regex = re.compile(r\"([-!#-'*+/-9=?A-Z^-~]+(\\.[-!#-'*+/-9=?A-Z^-~]+)*|\\\"([]!#-[^-~ \\t]|(\\\\[\\t -~]))+\\\")@([-!#-'*+/-9=?A-Z^-~]+(\\.[-!#-'*+/-9=?A-Z^-~]+)*|\\[[\\t -Z^-~]*])\")  \n",
    "  \n",
    "def emailValid(email):  \n",
    "    if re.fullmatch(regex, email):  \n",
    "      print(\"The given mail is valid\")  \n",
    "    else:  \n",
    "      print(\"The given mail is invalid\")  \n",
    "        \n",
    "        \n",
    "emailValid(\"sachin.sharma@gmail.com\")  \n",
    "emailValid(\"johnsnow123@yahoo.co.uk\")  \n",
    "emailValid(\"mathew@...uk\")  \n",
    "emailValid(\"...@domain.us\")  "
   ]
  },
  {
   "cell_type": "markdown",
   "id": "4c3220ec",
   "metadata": {},
   "source": [
    "45).using enumerate to find binary into decimal\n",
    "\n",
    "for ex:\n",
    "binary = \"1011\"\n",
    "\n",
    "Reversed binary: \"1101\"\n",
    "Enumerating: (0, 1), (1, 1), (2, 0), (3, 1)\n",
    "Calculating: 1 * 2^0 + 1 * 2^1 + 0 * 2^2 + 1 * 2^3 = 1 + 2 + 0 + 8 =  ans: 11\n"
   ]
  },
  {
   "cell_type": "code",
   "execution_count": 23,
   "id": "33fe6c88",
   "metadata": {},
   "outputs": [
    {
     "name": "stdout",
     "output_type": "stream",
     "text": [
      "enter the binary number: 1101\n",
      "13\n"
     ]
    }
   ],
   "source": [
    "bi=input(\"enter the binary number: \")\n",
    "de=0\n",
    "for index,digit in enumerate(reversed(bi)): #1101 into 1011\n",
    "    de+=int(digit) *(2**index)\n",
    "print(de)"
   ]
  },
  {
   "cell_type": "code",
   "execution_count": 7,
   "id": "0f8a13cc",
   "metadata": {},
   "outputs": [
    {
     "name": "stdout",
     "output_type": "stream",
     "text": [
      "Enter a binary number: 1001\n",
      "The decimal equivalent of 1001 is: 9\n"
     ]
    }
   ],
   "source": [
    "def binary_to_decimal(binary):\n",
    "    decimal = 0\n",
    "\n",
    "    # Iterate through each binary digit from right to left\n",
    "    for index, digit in enumerate(reversed(binary)):\n",
    "        # Convert the digit to an integer and add its contribution to the decimal value\n",
    "        decimal += int(digit) * (2 ** index)\n",
    "\n",
    "    return decimal\n",
    "\n",
    "# Take binary input as a string\n",
    "binary_input = input(\"Enter a binary number: \")\n",
    "\n",
    "# Check if the input contains only 0s and 1s\n",
    "if all(bit in '01' for bit in binary_input):\n",
    "    # Convert binary to decimal using the binary_to_decimal function\n",
    "    result = binary_to_decimal(binary_input)\n",
    "    print(f\"The decimal equivalent of {binary_input} is: {result}\")\n",
    "else:\n",
    "    print(\"Invalid binary input. Please enter a valid binary number.\")\n"
   ]
  },
  {
   "cell_type": "markdown",
   "id": "5e827560",
   "metadata": {},
   "source": [
    "46).Consider that vowels in the alphabet are a, e, i, o, u and y.\n",
    "\n",
    "Function score_words takes a list of lowercase words as an argument and returns a score as follows:\n",
    "\n",
    "The score of a single word is 2 if the word contains an even number of vowels. Otherwise, the score of this word is 1. The score for the whole list of words is the sum of scores of all words in the list.\n",
    "\n",
    "Debug the given function score_words such that it returns a correct score.\n",
    "\n",
    "Your function will be tested on several cases by the locked template code."
   ]
  },
  {
   "cell_type": "code",
   "execution_count": 5,
   "id": "e9c00927",
   "metadata": {
    "scrolled": true
   },
   "outputs": [
    {
     "name": "stdout",
     "output_type": "stream",
     "text": [
      "thamarai\n",
      "2\n"
     ]
    }
   ],
   "source": [
    "def score_words(words):\n",
    "    score = 0\n",
    "    vowels = 'aeiouy'\n",
    "\n",
    "    for word in words:\n",
    "        num_vowels = sum(1 for letter in word if letter in vowels)\n",
    "        if num_vowels % 2 == 0:\n",
    "            score += 2\n",
    "        else:\n",
    "            score += 1\n",
    "\n",
    "    return score \n",
    "\n",
    "words = input().split()\n",
    "print(score_words(words))"
   ]
  },
  {
   "cell_type": "markdown",
   "id": "c1165be9",
   "metadata": {},
   "source": [
    "47).count vovels "
   ]
  },
  {
   "cell_type": "code",
   "execution_count": 16,
   "id": "deaee4b9",
   "metadata": {},
   "outputs": [
    {
     "name": "stdout",
     "output_type": "stream",
     "text": [
      "enter any string: thamarai\n",
      "4\n"
     ]
    }
   ],
   "source": [
    "content=input(\"enter any string: \")\n",
    "constant=\"aeiouAEIOU\"\n",
    "count=0\n",
    "for i in content:\n",
    "    if i in constant:\n",
    "        count+=1\n",
    "    \n",
    "print(count)"
   ]
  },
  {
   "cell_type": "markdown",
   "id": "ef9a229f",
   "metadata": {},
   "source": [
    "48).find leap year"
   ]
  },
  {
   "cell_type": "code",
   "execution_count": 27,
   "id": "9fc37cd3",
   "metadata": {},
   "outputs": [
    {
     "name": "stdout",
     "output_type": "stream",
     "text": [
      "enter the year: 2008\n",
      "yes this is leap year\n"
     ]
    }
   ],
   "source": [
    "year=int(input(\"enter the year: \"))\n",
    "if year%4==0:\n",
    "    print(\"yes this is leap year\")\n",
    "else:\n",
    "    print(\"no this is not leap year\")"
   ]
  },
  {
   "cell_type": "code",
   "execution_count": 31,
   "id": "aaf50eac",
   "metadata": {},
   "outputs": [
    {
     "name": "stdout",
     "output_type": "stream",
     "text": [
      "enter the year: 2004\n",
      "True\n"
     ]
    }
   ],
   "source": [
    "year=int(input(\"enter the year: \"))\n",
    "if year%4==0:\n",
    "    if year%100==0:\n",
    "        if year%400==0:\n",
    "            print (True)\n",
    "        else:\n",
    "            print (False)\n",
    "    else:\n",
    "        print (True)\n",
    "else:\n",
    "    print (False)\n"
   ]
  },
  {
   "cell_type": "code",
   "execution_count": 33,
   "id": "4cf8f44f",
   "metadata": {},
   "outputs": [
    {
     "name": "stdout",
     "output_type": "stream",
     "text": [
      "enter the year: 2004\n",
      "True\n"
     ]
    }
   ],
   "source": [
    "def year_fun(year):\n",
    "    if year%4==0:\n",
    "        if year%100==0:\n",
    "            if year%400==0:\n",
    "                return (True)\n",
    "            else:\n",
    "                return (False)\n",
    "        else:\n",
    "            return (True)\n",
    "    else:\n",
    "        return (False)\n",
    "\n",
    "year=int(input(\"enter the year: \"))\n",
    "print(year_fun(year))"
   ]
  },
  {
   "cell_type": "markdown",
   "id": "715b9a1c",
   "metadata": {},
   "source": [
    "49).Let's learn about list comprehensions! You are given three integers x,y and z representing the dimensions of a cuboid along with an integer n. Print a list of all possible coordinates given by (i,j,k) on a 3D grid where the sum i+j+k of  is not equal to n . Here, 0<=i<=x;0<=j<=y;0<=k<=z. Please use list comprehensions rather than multiple loops, as a learning exercise."
   ]
  },
  {
   "cell_type": "code",
   "execution_count": 38,
   "id": "480fbeea",
   "metadata": {
    "scrolled": true
   },
   "outputs": [
    {
     "name": "stdout",
     "output_type": "stream",
     "text": [
      "5\n",
      "5\n",
      "5\n",
      "15\n",
      "[[0, 0, 0], [0, 0, 1], [0, 0, 2], [0, 0, 3], [0, 0, 4], [0, 0, 5], [0, 1, 0], [0, 1, 1], [0, 1, 2], [0, 1, 3], [0, 1, 4], [0, 1, 5], [0, 2, 0], [0, 2, 1], [0, 2, 2], [0, 2, 3], [0, 2, 4], [0, 2, 5], [0, 3, 0], [0, 3, 1], [0, 3, 2], [0, 3, 3], [0, 3, 4], [0, 3, 5], [0, 4, 0], [0, 4, 1], [0, 4, 2], [0, 4, 3], [0, 4, 4], [0, 4, 5], [0, 5, 0], [0, 5, 1], [0, 5, 2], [0, 5, 3], [0, 5, 4], [0, 5, 5], [1, 0, 0], [1, 0, 1], [1, 0, 2], [1, 0, 3], [1, 0, 4], [1, 0, 5], [1, 1, 0], [1, 1, 1], [1, 1, 2], [1, 1, 3], [1, 1, 4], [1, 1, 5], [1, 2, 0], [1, 2, 1], [1, 2, 2], [1, 2, 3], [1, 2, 4], [1, 2, 5], [1, 3, 0], [1, 3, 1], [1, 3, 2], [1, 3, 3], [1, 3, 4], [1, 3, 5], [1, 4, 0], [1, 4, 1], [1, 4, 2], [1, 4, 3], [1, 4, 4], [1, 4, 5], [1, 5, 0], [1, 5, 1], [1, 5, 2], [1, 5, 3], [1, 5, 4], [1, 5, 5], [2, 0, 0], [2, 0, 1], [2, 0, 2], [2, 0, 3], [2, 0, 4], [2, 0, 5], [2, 1, 0], [2, 1, 1], [2, 1, 2], [2, 1, 3], [2, 1, 4], [2, 1, 5], [2, 2, 0], [2, 2, 1], [2, 2, 2], [2, 2, 3], [2, 2, 4], [2, 2, 5], [2, 3, 0], [2, 3, 1], [2, 3, 2], [2, 3, 3], [2, 3, 4], [2, 3, 5], [2, 4, 0], [2, 4, 1], [2, 4, 2], [2, 4, 3], [2, 4, 4], [2, 4, 5], [2, 5, 0], [2, 5, 1], [2, 5, 2], [2, 5, 3], [2, 5, 4], [2, 5, 5], [3, 0, 0], [3, 0, 1], [3, 0, 2], [3, 0, 3], [3, 0, 4], [3, 0, 5], [3, 1, 0], [3, 1, 1], [3, 1, 2], [3, 1, 3], [3, 1, 4], [3, 1, 5], [3, 2, 0], [3, 2, 1], [3, 2, 2], [3, 2, 3], [3, 2, 4], [3, 2, 5], [3, 3, 0], [3, 3, 1], [3, 3, 2], [3, 3, 3], [3, 3, 4], [3, 3, 5], [3, 4, 0], [3, 4, 1], [3, 4, 2], [3, 4, 3], [3, 4, 4], [3, 4, 5], [3, 5, 0], [3, 5, 1], [3, 5, 2], [3, 5, 3], [3, 5, 4], [3, 5, 5], [4, 0, 0], [4, 0, 1], [4, 0, 2], [4, 0, 3], [4, 0, 4], [4, 0, 5], [4, 1, 0], [4, 1, 1], [4, 1, 2], [4, 1, 3], [4, 1, 4], [4, 1, 5], [4, 2, 0], [4, 2, 1], [4, 2, 2], [4, 2, 3], [4, 2, 4], [4, 2, 5], [4, 3, 0], [4, 3, 1], [4, 3, 2], [4, 3, 3], [4, 3, 4], [4, 3, 5], [4, 4, 0], [4, 4, 1], [4, 4, 2], [4, 4, 3], [4, 4, 4], [4, 4, 5], [4, 5, 0], [4, 5, 1], [4, 5, 2], [4, 5, 3], [4, 5, 4], [4, 5, 5], [5, 0, 0], [5, 0, 1], [5, 0, 2], [5, 0, 3], [5, 0, 4], [5, 0, 5], [5, 1, 0], [5, 1, 1], [5, 1, 2], [5, 1, 3], [5, 1, 4], [5, 1, 5], [5, 2, 0], [5, 2, 1], [5, 2, 2], [5, 2, 3], [5, 2, 4], [5, 2, 5], [5, 3, 0], [5, 3, 1], [5, 3, 2], [5, 3, 3], [5, 3, 4], [5, 3, 5], [5, 4, 0], [5, 4, 1], [5, 4, 2], [5, 4, 3], [5, 4, 4], [5, 4, 5], [5, 5, 0], [5, 5, 1], [5, 5, 2], [5, 5, 3], [5, 5, 4]]\n"
     ]
    }
   ],
   "source": [
    "# x, y, z, n = map(int, input().split())\n",
    "x=int(input())\n",
    "y=int(input())\n",
    "z=int(input())\n",
    "n=int(input())\n",
    "coordinates = [[i, j, k] for i in range(x + 1) for j in range(y + 1) for k in range(z + 1) if (i + j + k) != n]\n",
    "print(coordinates)\n"
   ]
  },
  {
   "cell_type": "markdown",
   "id": "d1d814d9",
   "metadata": {},
   "source": [
    "50).print second highest value"
   ]
  },
  {
   "cell_type": "code",
   "execution_count": 53,
   "id": "8ccf8596",
   "metadata": {},
   "outputs": [
    {
     "name": "stdout",
     "output_type": "stream",
     "text": [
      "2 3 4 6 2 5 \n",
      "5\n"
     ]
    }
   ],
   "source": [
    "#n = int(input())\n",
    "arr = map(int, input().split())\n",
    "score_sheet = set(arr)\n",
    "score_sheet = sorted(score_sheet, reverse=True)\n",
    "print(score_sheet[1])\n"
   ]
  },
  {
   "cell_type": "code",
   "execution_count": 60,
   "id": "ab540cfc",
   "metadata": {},
   "outputs": [
    {
     "name": "stdout",
     "output_type": "stream",
     "text": [
      "1 2 3 4 5 6\n",
      "5\n"
     ]
    }
   ],
   "source": [
    "arr =map(int,input().split())\n",
    "sheet=set(arr)\n",
    "sheet1=sorted(sheet, reverse=True)\n",
    "print(sheet1[1])"
   ]
  },
  {
   "cell_type": "code",
   "execution_count": 62,
   "id": "76b5834d",
   "metadata": {},
   "outputs": [
    {
     "name": "stdout",
     "output_type": "stream",
     "text": [
      "2\n",
      "2 2 2 3 44 3 44\n",
      "3\n"
     ]
    }
   ],
   "source": [
    "arr = map(int, input().split())\n",
    "print(sorted(set(arr))[-2])"
   ]
  },
  {
   "cell_type": "code",
   "execution_count": null,
   "id": "79fe5632",
   "metadata": {},
   "outputs": [],
   "source": [
    "# 1)HOW TO FIND AVG OF N NUMBERS IN PYTHON\n",
    "\n",
    "num=int (input(\"enter a numer: \"))\n",
    "total_sum=0\n",
    "\n",
    "for n in range(num):\n",
    "  numbers=float(input(\"enter a number: \"))\n",
    "  total_sum += numbers\n",
    "\n",
    "avg=total_sum/num\n",
    "\n",
    "print(\"avg is: \",avg)"
   ]
  },
  {
   "cell_type": "code",
   "execution_count": null,
   "id": "99ae1420",
   "metadata": {},
   "outputs": [],
   "source": [
    "num=int(input(\"enter a range:\"))\n",
    "total=0\n",
    "for i in range(num):\n",
    "  numbers=float(input(\"enter a n numbers: \"))\n",
    "  total+=numbers\n",
    "avg=total/num\n",
    "print(avg)"
   ]
  },
  {
   "cell_type": "code",
   "execution_count": null,
   "id": "d4b02937",
   "metadata": {},
   "outputs": [],
   "source": [
    "l=[1,2,3,\"asdf\",23,2333,123,\"sdfsfdfs\",5.4,23.32,True,False,None,None]\n",
    "\n",
    "for i in l:\n",
    "  if isinstance(i,str):\n",
    "    print(f\"{i} : this is String\")\n",
    "  elif isinstance(i,int):\n",
    "    print(f\"{i} : this is Integer\")\n",
    "  elif isinstance(i,float):\n",
    "    print(f\"{i} : this is float\")\n",
    "  elif isinstance(i,bool):\n",
    "    print(f\"{i} : this is boolean\")\n",
    "  elif i is None:\n",
    "    print(\"this is none\")"
   ]
  },
  {
   "cell_type": "code",
   "execution_count": null,
   "id": "907ce4ef",
   "metadata": {},
   "outputs": [],
   "source": [
    "l = [1, 2, 3, \"asdf\", 23, 2333, 123, \"sdfsfdfs\", 5.4, 23.32, True, False, None, None]\n",
    "\n",
    "for i in l:\n",
    "    print(f\"{i} : this is {type(i).__name__}\")"
   ]
  },
  {
   "cell_type": "code",
   "execution_count": null,
   "id": "4dc1ed6a",
   "metadata": {},
   "outputs": [],
   "source": [
    "num=5\n",
    "if num==1 and num==0:\n",
    "  print(num)\n",
    "else:\n",
    "  print(num*(num-1))"
   ]
  },
  {
   "cell_type": "code",
   "execution_count": null,
   "id": "a1638a41",
   "metadata": {},
   "outputs": [],
   "source": [
    "num = int(input(\"enter a number: \"))\n",
    "factorial = 1\n",
    "\n",
    "for i in range(1, num + 1):\n",
    "    factorial *= i\n",
    "\n",
    "print(f\"The factorial of {num} is: {factorial}\")"
   ]
  },
  {
   "cell_type": "code",
   "execution_count": null,
   "id": "dd89f7b6",
   "metadata": {},
   "outputs": [],
   "source": [
    "content=input(\"enter any thing: \")\n",
    "if content.isupper():\n",
    "  print(content.lower())\n",
    "else:\n",
    "  print(content.upper())"
   ]
  },
  {
   "cell_type": "code",
   "execution_count": null,
   "id": "02fe9c6a",
   "metadata": {},
   "outputs": [],
   "source": [
    "l=[\"thamatrai\",\"THAMARAISELVAN\",\"DHILL\",\"appu\"]\n",
    "for i in l:\n",
    "  if i.isupper():\n",
    "    print(i.lower())\n",
    "  else:\n",
    "    print(i.upper())"
   ]
  },
  {
   "cell_type": "code",
   "execution_count": null,
   "id": "bed21257",
   "metadata": {},
   "outputs": [],
   "source": [
    "class Person:\n",
    "    def __init__(self, name, age):\n",
    "        self._name = name  # protected attribute\n",
    "        self.__age = age   # private attribute\n",
    "\n",
    "    def display(self):\n",
    "        print(f\"Name: {self._name}, Age: {self.__age}\")\n",
    "\n",
    "    # Getter method for private attribute\n",
    "    def get_age(self):\n",
    "        return self.__age\n",
    "\n",
    "    # Setter method for private attribute\n",
    "    def set_age(self, new_age):\n",
    "        if new_age > 0:\n",
    "            self.__age = new_age\n",
    "        else:\n",
    "            print(\"Age must be a positive value.\")\n",
    "\n",
    "# Creating an instance of the Person class\n",
    "person1 = Person(\"John\", 30)\n",
    "\n",
    "# Accessing public method to display information\n",
    "person1.display()\n",
    "\n",
    "# Accessing protected attribute directly (not recommended)\n",
    "print(\"Protected Attribute (_name):\", person1._name)\n",
    "\n",
    "# Attempting to access private attribute directly (will result in an error)\n",
    "# Uncommenting the next line will raise an AttributeError\n",
    "# print(\"Private Attribute (__age):\", person1.__age)\n",
    "\n",
    "# Using getter method to access private attribute\n",
    "print(\"Private Attribute (__age):\", person1.get_age())\n",
    "\n",
    "# Using setter method to modify private attribute\n",
    "person1.set_age(35)\n",
    "person1.display()\n",
    "\n",
    "# Attempting to set a negative age (will print an error message)\n",
    "person1.set_age(-5)"
   ]
  },
  {
   "cell_type": "code",
   "execution_count": null,
   "id": "a006350e",
   "metadata": {},
   "outputs": [],
   "source": [
    "# 2)how to sum of the first n positive integers in python\n",
    "\n",
    "n= int(input(\"enter a number:\"))\n",
    "\n",
    "sum=(n*(n+1))/2\n",
    "print(sum)"
   ]
  },
  {
   "cell_type": "code",
   "execution_count": null,
   "id": "eb269712",
   "metadata": {},
   "outputs": [],
   "source": [
    "# how to get time of a python programs execution\n",
    "import time\n",
    "def MyFun():\n",
    "  start_time=time.time()\n",
    "  s=0\n",
    "  for i in range(1,n+1):\n",
    "    s=s+1\n",
    "  end_time=time.time()\n",
    "  return s,end_time-start_time\n",
    "n=10\n",
    "print(MyFun())"
   ]
  },
  {
   "cell_type": "code",
   "execution_count": null,
   "id": "e1b7e211",
   "metadata": {},
   "outputs": [],
   "source": [
    "import keyword\n",
    "\n",
    "# Display the list of keywords\n",
    "print(keyword.kwlist)\n",
    "\n",
    "# Count and print the number of keywords\n",
    "print(\"total keyword list: \",(len(keyword.kwlist)))"
   ]
  },
  {
   "cell_type": "code",
   "execution_count": null,
   "id": "b6ff3eb2",
   "metadata": {},
   "outputs": [],
   "source": [
    "# decimal form\n",
    "a=10\n",
    "print(a)\n",
    "# binaruy form\n",
    "b =b1= b2=0b1111\n",
    "print(b)\n",
    "print(b1)\n",
    "# octal\n",
    "o=0o123\n",
    "print(o)"
   ]
  },
  {
   "cell_type": "code",
   "execution_count": null,
   "id": "c8117598",
   "metadata": {},
   "outputs": [],
   "source": [
    "c=10+560J\n",
    "print(c.real)\n",
    "print(c.imag)"
   ]
  },
  {
   "cell_type": "code",
   "execution_count": null,
   "id": "3f56fae2",
   "metadata": {},
   "outputs": [],
   "source": [
    "bool(\"False\")"
   ]
  },
  {
   "cell_type": "code",
   "execution_count": null,
   "id": "d93a1103",
   "metadata": {},
   "outputs": [],
   "source": [
    "s={1,2,6,3,4,5}\n",
    "fs=frozenset(s)\n",
    "type(fs)\n",
    "print(fs)"
   ]
  },
  {
   "cell_type": "code",
   "execution_count": null,
   "id": "cc7bac31",
   "metadata": {},
   "outputs": [],
   "source": [
    "def m1(a):\n",
    "  a+=10\n",
    "  print(a)\n",
    "print(m1(5))\n"
   ]
  },
  {
   "cell_type": "code",
   "execution_count": null,
   "id": "c78427ee",
   "metadata": {},
   "outputs": [],
   "source": [
    "print(\"thamarai\\nselvan\")\n",
    "print(\"thamarai\\tselvan\")\n",
    "print(\"thamarai\\rselvan\")\n",
    "print(\"thamarai\\bselvan\")\n",
    "print(\"thamarai\\fselvan\")\n",
    "print(\"thamarai\\vselvan\")\n",
    "print(\"thamarai\\'selvan\")\n",
    "print(\"thamarai\\\"selvan\")\n",
    "print(\"thamarai\\\\selvan\")"
   ]
  },
  {
   "cell_type": "code",
   "execution_count": null,
   "id": "d6792e78",
   "metadata": {},
   "outputs": [],
   "source": [
    "a=int(input(\"enter a num1: \"))\n",
    "b=int(input(\"enter a num2: \"))\n",
    "\n",
    "x=30 if a<b else b\n",
    "print(x)"
   ]
  },
  {
   "cell_type": "code",
   "execution_count": null,
   "id": "86ae7859",
   "metadata": {},
   "outputs": [],
   "source": [
    "a=int(input(\"enter a num1: \"))\n",
    "b=int(input(\"enter a num2: \"))\n",
    "c=int(input(\"enter a num3: \"))\n",
    "\n",
    "maxi=a if a>b and a>c else (b if b>c and b>a else c)\n",
    "print(maxi)"
   ]
  },
  {
   "cell_type": "code",
   "execution_count": null,
   "id": "a33286c7",
   "metadata": {},
   "outputs": [],
   "source": [
    "a=int(input(\"enter a num1: \"))\n",
    "b=int(input(\"enter a num2: \"))\n",
    "c=int(input(\"enter a num3: \"))\n",
    "\n",
    "maxi=max(a,b,c)\n",
    "print(maxi)"
   ]
  },
  {
   "cell_type": "code",
   "execution_count": null,
   "id": "82a0cef5",
   "metadata": {},
   "outputs": [],
   "source": [
    "a=int(input(\"enter a num1: \"))\n",
    "b=int(input(\"enter a num2: \"))\n",
    "c=int(input(\"enter a num3: \"))\n",
    "\n",
    "min=a if a<b and a<c else b if b<c else c\n",
    "print(\"the minimum value is\",min)"
   ]
  },
  {
   "cell_type": "code",
   "execution_count": null,
   "id": "46eb9a48",
   "metadata": {},
   "outputs": [],
   "source": [
    "a=int(input(\"enter a num1: \"))\n",
    "b=int(input(\"enter a num2: \"))\n",
    "c=int(input(\"enter a num3: \"))\n",
    "\n",
    "min=a if a>b and a>c else b if b>c else c\n",
    "print(\"the maximum value is\",min)"
   ]
  },
  {
   "cell_type": "code",
   "execution_count": null,
   "id": "e25b3ba4",
   "metadata": {},
   "outputs": [],
   "source": [
    "b=int(input(\"enter a num1: \"))\n",
    "c=int(input(\"enter a num2: \"))\n",
    "d=int(input(\"enter a num3: \"))\n",
    "x=b if b>c and b>d else c if c>d else d\n",
    "print(x)"
   ]
  },
  {
   "cell_type": "code",
   "execution_count": null,
   "id": "68214fca",
   "metadata": {},
   "outputs": [],
   "source": [
    "a,b=[int(x) for x in input(\"enter a two numbers: \").split(\",\")]\n",
    "print(a+b)\n",
    "print(a*b)\n",
    "print(a/b)"
   ]
  },
  {
   "cell_type": "code",
   "execution_count": null,
   "id": "c68cd20a",
   "metadata": {},
   "outputs": [],
   "source": [
    "i=eval(input(\"enter list: \"))\n",
    "print(type(i))\n",
    "print(i)"
   ]
  },
  {
   "cell_type": "code",
   "execution_count": null,
   "id": "a6f4a357",
   "metadata": {},
   "outputs": [],
   "source": [
    "from sys import argv\n",
    "print(type(argv))"
   ]
  },
  {
   "cell_type": "code",
   "execution_count": 1,
   "id": "5eb82555",
   "metadata": {},
   "outputs": [
    {
     "name": "stdout",
     "output_type": "stream",
     "text": [
      "enter a no of row: 5\n",
      "* \n",
      "* * \n",
      "* * * \n",
      "* * * * \n",
      "* * * * * \n"
     ]
    }
   ],
   "source": [
    "n=int(input(\"enter a no of row: \"))\n",
    "for i in range(1,n+1):\n",
    "  for j in range(1,i+1):\n",
    "    print(\"*\",end=\" \")\n",
    "  print()\n"
   ]
  },
  {
   "cell_type": "code",
   "execution_count": 56,
   "id": "76c6889a",
   "metadata": {},
   "outputs": [
    {
     "name": "stdout",
     "output_type": "stream",
     "text": [
      "enter a no of row: 5\n",
      "* * * * * \n",
      "* * * * \n",
      "* * * \n",
      "* * \n",
      "* \n"
     ]
    }
   ],
   "source": [
    "n=int(input(\"enter a no of row: \"))\n",
    "for i in range(n,0,-1):\n",
    "  for j in range(1,i+1):\n",
    "    print(\"*\",end=\" \")\n",
    "  print()\n"
   ]
  },
  {
   "cell_type": "code",
   "execution_count": 2,
   "id": "5d06369d",
   "metadata": {
    "scrolled": false
   },
   "outputs": [
    {
     "name": "stdout",
     "output_type": "stream",
     "text": [
      "enter a no of row: 5\n",
      "* \n",
      "* * \n",
      "* * * \n",
      "* * * * \n",
      "* * * * * \n"
     ]
    }
   ],
   "source": [
    "n=int(input(\"enter a no of row: \"))\n",
    "for i in range(1,n+1):\n",
    "  print(\"* \"*i,end=\"\\n\")"
   ]
  },
  {
   "cell_type": "code",
   "execution_count": 58,
   "id": "5dc87d06",
   "metadata": {},
   "outputs": [
    {
     "name": "stdout",
     "output_type": "stream",
     "text": [
      "enter a no of row: 5\n",
      " * * * * *\n",
      " * * * *\n",
      " * * *\n",
      " * *\n",
      " *\n"
     ]
    }
   ],
   "source": [
    "n=int(input(\"enter a no of row: \"))\n",
    "for i in range(n,0,-1):\n",
    "  print(\" *\"*i,end=\"\\n\")"
   ]
  },
  {
   "cell_type": "code",
   "execution_count": 10,
   "id": "73d08406",
   "metadata": {
    "scrolled": true
   },
   "outputs": [
    {
     "name": "stdout",
     "output_type": "stream",
     "text": [
      "enter a num: 5\n",
      "* * \n",
      "* * * * \n",
      "* * * * * * \n",
      "* * * * * * * * \n",
      "* * * * * * * * * * \n"
     ]
    }
   ],
   "source": [
    "#print even in start\n",
    "n=int(input(\"enter a num: \"))\n",
    "k=2\n",
    "for i in range(1,n+1):\n",
    "    for j in range(1,k+1):\n",
    "        print(\"*\", end=\" \")\n",
    "    k=k+2\n",
    "    print()"
   ]
  },
  {
   "cell_type": "code",
   "execution_count": 11,
   "id": "77a79baa",
   "metadata": {},
   "outputs": [
    {
     "name": "stdout",
     "output_type": "stream",
     "text": [
      "enter a num: 5\n",
      "* \n",
      "* * * \n",
      "* * * * * \n",
      "* * * * * * * \n",
      "* * * * * * * * * \n"
     ]
    }
   ],
   "source": [
    "#print even in start\n",
    "n=int(input(\"enter a num: \"))\n",
    "k=1\n",
    "for i in range(1,n+1):\n",
    "    for j in range(1,k+1):\n",
    "        print(\"*\", end=\" \")\n",
    "    k=k+2\n",
    "    print()"
   ]
  },
  {
   "cell_type": "code",
   "execution_count": 9,
   "id": "3839e239",
   "metadata": {},
   "outputs": [
    {
     "name": "stdout",
     "output_type": "stream",
     "text": [
      "enter a no of row: 5\n",
      "     *\n",
      "    **\n",
      "   ***\n",
      "  ****\n",
      " *****\n"
     ]
    }
   ],
   "source": [
    "n=int(input(\"enter a no of row: \"))\n",
    "for i in range(1,n+1):\n",
    "  print(\" \"*(n-i),end=\" \")\n",
    "  print(\"*\"*i)"
   ]
  },
  {
   "cell_type": "code",
   "execution_count": 4,
   "id": "ee811c61",
   "metadata": {
    "scrolled": true
   },
   "outputs": [
    {
     "name": "stdout",
     "output_type": "stream",
     "text": [
      "enter a no of row: 5\n",
      "    o \n",
      "   o o \n",
      "  o o o \n",
      " o o o o \n",
      "o o o o o \n"
     ]
    }
   ],
   "source": [
    "n=int(input(\"enter a no of row: \"))\n",
    "for i in range(1,n+1):\n",
    "  print(\" \"*(n-i),end=\"\")\n",
    "  print(\"o \"*i)"
   ]
  },
  {
   "cell_type": "code",
   "execution_count": 37,
   "id": "bd272f1f",
   "metadata": {},
   "outputs": [
    {
     "name": "stdout",
     "output_type": "stream",
     "text": [
      "Enter a number of rows: 5\n",
      "0 0 0 0 0 \n",
      " 0 0 0 0 \n",
      "  0 0 0 \n",
      "   0 0 \n",
      "    0 \n"
     ]
    }
   ],
   "source": [
    "n = int(input(\"Enter a number of rows: \"))\n",
    "for i in range(n,0,-1):\n",
    "    print(\" \"*(n-i), end=\"\")\n",
    "    print(\"0 \"*i)\n"
   ]
  },
  {
   "cell_type": "code",
   "execution_count": 55,
   "id": "ef57ed18",
   "metadata": {},
   "outputs": [
    {
     "name": "stdout",
     "output_type": "stream",
     "text": [
      "Enter a number: 5\n",
      "    * \n",
      "   * * \n",
      "  * * * \n",
      " * * * * \n",
      "* * * * * \n",
      " * * * * \n",
      "  * * * \n",
      "   * * \n",
      "    * \n"
     ]
    }
   ],
   "source": [
    "def pyramid(rows):\n",
    "    for i in range(rows):\n",
    "        print(\" \" * (rows - i - 1) + \"* \" * (i + 1))\n",
    "    for j in range(rows - 1, 0, -1):\n",
    "        print(\" \" * (rows - j) + \"* \" * j)\n",
    "\n",
    "pyramid(int(input(\"Enter a number: \")))\n"
   ]
  },
  {
   "cell_type": "code",
   "execution_count": 47,
   "id": "ddbca894",
   "metadata": {},
   "outputs": [
    {
     "name": "stdout",
     "output_type": "stream",
     "text": [
      "Enter a number: 5\n",
      "    * \n",
      "   * * \n",
      "  * * * \n",
      " * * * * \n",
      "* * * * * \n",
      " * * * * \n",
      "  * * * \n",
      "   * * \n",
      "    * \n"
     ]
    }
   ],
   "source": []
  },
  {
   "cell_type": "code",
   "execution_count": 23,
   "id": "88f159c4",
   "metadata": {},
   "outputs": [
    {
     "name": "stdout",
     "output_type": "stream",
     "text": [
      "enter a num: 5\n",
      "     * \n",
      "    * * \n",
      "   * * * \n",
      "  * * * * \n",
      " * * * * * \n",
      "* * * * * * \n"
     ]
    }
   ],
   "source": [
    "n=int(input(\"enter a num: \"))\n",
    "for i in range(0,n+1):\n",
    "    for j in range(-1,n-i-1):\n",
    "        print(end=\" \")\n",
    "    for j in range(0,i+1):\n",
    "        print(\"*\",end=\" \")\n",
    "    print()"
   ]
  },
  {
   "cell_type": "code",
   "execution_count": 29,
   "id": "30deda88",
   "metadata": {},
   "outputs": [
    {
     "name": "stdout",
     "output_type": "stream",
     "text": [
      "enter a num: 5\n",
      "* * * * * \n",
      " * * * * \n",
      "  * * * \n",
      "   * * \n",
      "    * \n"
     ]
    }
   ],
   "source": [
    "n=int(input(\"enter a num: \"))\n",
    "for i in range(n,0,-1):\n",
    "    for j in range(0,n-i):\n",
    "        print(end=\" \")\n",
    "    for j in range(0,i):\n",
    "        print(\"*\",end=\" \")\n",
    "    print()"
   ]
  },
  {
   "cell_type": "code",
   "execution_count": 5,
   "id": "ccd1e27c",
   "metadata": {},
   "outputs": [
    {
     "name": "stdout",
     "output_type": "stream",
     "text": [
      "enter your name:tt\n",
      "enter your name:tt\n",
      "enter your name:tt\n",
      "enter your name:tt\n",
      "enter your name:thamarai\n",
      "thaks\n"
     ]
    }
   ],
   "source": [
    "name=\"\"\n",
    "while name!=\"thamarai\":\n",
    "  name=input(\"enter your name:\")\n",
    "print(\"thaks\")"
   ]
  },
  {
   "cell_type": "code",
   "execution_count": null,
   "id": "d468deb6",
   "metadata": {},
   "outputs": [],
   "source": [
    "name=[\"tts\",\"sachin\",\"dhill\"]\n",
    "sq_name=[lambda x: x*2 for x in name]\n",
    "print(sq_name)"
   ]
  },
  {
   "cell_type": "code",
   "execution_count": null,
   "id": "c1ec7cc2",
   "metadata": {},
   "outputs": [],
   "source": [
    "names = [\"tts\", \"sachin\", \"dhill\"]\n",
    "squared_names = [lambda x: x*2 for x in names]\n",
    "result = [func(name) for func, name in zip(squared_names, names)]\n",
    "print(result)\n"
   ]
  },
  {
   "cell_type": "code",
   "execution_count": null,
   "id": "2818f20c",
   "metadata": {},
   "outputs": [],
   "source": [
    "numbers = [1, 2, 3, 4, 5]\n",
    "squared_numbers = [lambda x: x**2 for x in numbers]\n",
    "print(squared_numbers)  # Output: [<function <listcomp>.<lambda> at 0x...>, ...]\n"
   ]
  },
  {
   "cell_type": "code",
   "execution_count": null,
   "id": "2115fac5",
   "metadata": {},
   "outputs": [],
   "source": [
    "name=lambda x:x*2 if x==2 else (x+x if x!=2 else print(x))\n",
    "print(name(int(input(\"enter anum: \"))))"
   ]
  },
  {
   "cell_type": "code",
   "execution_count": null,
   "id": "55ee3afd",
   "metadata": {},
   "outputs": [],
   "source": [
    "set1=set()\n",
    "print(set1)"
   ]
  },
  {
   "cell_type": "code",
   "execution_count": null,
   "id": "a934def8",
   "metadata": {},
   "outputs": [],
   "source": [
    "s1=\"tts\"\n",
    "s2=\"lotus\"\n",
    "print(s1*2)"
   ]
  },
  {
   "cell_type": "code",
   "execution_count": null,
   "id": "d4ffa599",
   "metadata": {},
   "outputs": [],
   "source": [
    "dir(list)"
   ]
  },
  {
   "cell_type": "code",
   "execution_count": null,
   "id": "6c510c58",
   "metadata": {},
   "outputs": [],
   "source": [
    "l=[]\n",
    "#append\n",
    "l.append(3)\n",
    "l.append(5)\n",
    "l.append(5)\n",
    "l.append(6)\n",
    "print(l)\n",
    "\n",
    "#copy\n",
    "copy_l=l.copy()\n",
    "print(copy_l)\n",
    "\n",
    "#count\n",
    "count_l=l.count(5)\n",
    "print(count_l)\n",
    "\n",
    "#extend\n",
    "exdend_l=[9,7,0,2]\n",
    "l.extend(exdend_l)\n",
    "print(l)\n",
    "\n",
    "#index acces\n",
    "print(l[0])\n",
    "\n",
    "#insert\n",
    "l.insert(5,\"@\")\n",
    "print(l)\n",
    "\n",
    "#remove\n",
    "l.remove(\"@\")\n",
    "print(l)\n",
    "\n",
    "#reverse\n",
    "l.reverse()\n",
    "print(l)\n",
    "\n",
    "#sort\n",
    "l.sort()\n",
    "print(l)\n",
    "\n",
    "#pop\n",
    "pop_l=l.pop()\n",
    "print(pop_l)\n",
    "print(l)\n",
    "\n",
    "#clear\n",
    "l.clear()\n",
    "print(l)"
   ]
  },
  {
   "cell_type": "code",
   "execution_count": null,
   "id": "ee1e9e4d",
   "metadata": {},
   "outputs": [],
   "source": [
    "dir(tuple)"
   ]
  },
  {
   "cell_type": "code",
   "execution_count": null,
   "id": "4ccc619a",
   "metadata": {},
   "outputs": [],
   "source": [
    "dir(set)"
   ]
  },
  {
   "cell_type": "code",
   "execution_count": null,
   "id": "d6316902",
   "metadata": {},
   "outputs": [],
   "source": [
    "dir(dict)"
   ]
  },
  {
   "cell_type": "code",
   "execution_count": null,
   "id": "6cad4f19",
   "metadata": {},
   "outputs": [],
   "source": [
    "keys = ['name', 'age', 'city']\n",
    "default_dict = dict.fromkeys( 'N/A',keys)\n",
    "print(\"Default Dictionary:\", default_dict)"
   ]
  },
  {
   "cell_type": "code",
   "execution_count": null,
   "id": "d054f42d",
   "metadata": {},
   "outputs": [],
   "source": [
    "num=int(input(\"enter a number: \"))\n",
    "sum=0\n",
    "add=1\n",
    "\n",
    "while add<=num:\n",
    "  sum+=add\n",
    "  add+=1\n",
    "print(\"the sum is: \",sum)"
   ]
  },
  {
   "cell_type": "code",
   "execution_count": null,
   "id": "ff31d645",
   "metadata": {},
   "outputs": [],
   "source": [
    "li=[5,5,5,5]\n",
    "sum=0\n",
    "for i in li:\n",
    "  sum=sum+i\n",
    "print(sum)"
   ]
  },
  {
   "cell_type": "code",
   "execution_count": null,
   "id": "ae258e91",
   "metadata": {},
   "outputs": [],
   "source": [
    "for i in \"hari\":\n",
    "  if i==\"r\":\n",
    "    break\n",
    "  print(i)\n",
    "print(\"the end\")"
   ]
  },
  {
   "cell_type": "code",
   "execution_count": null,
   "id": "443509e8",
   "metadata": {},
   "outputs": [],
   "source": [
    "for i in \"hari\":\n",
    "  if i==\"r\":\n",
    "    continue\n",
    "  print(i)\n",
    "print(\"the end\")"
   ]
  },
  {
   "cell_type": "code",
   "execution_count": null,
   "id": "f13023e6",
   "metadata": {},
   "outputs": [],
   "source": [
    "name=\"lotus\"\n",
    "\n",
    "for i in name:\n",
    "  if i==\"t\":\n",
    "    break\n",
    "  print(i)\n",
    "print(\"this is break\")"
   ]
  },
  {
   "cell_type": "code",
   "execution_count": null,
   "id": "566aa26a",
   "metadata": {},
   "outputs": [],
   "source": [
    "name=\"lotus\"\n",
    "for i in name:\n",
    "  if i==\"t\":\n",
    "    continue\n",
    "  print(i)\n",
    "print(\"this is continue\")\n",
    "\n"
   ]
  },
  {
   "cell_type": "code",
   "execution_count": null,
   "id": "b15d8cdf",
   "metadata": {},
   "outputs": [],
   "source": [
    "name=[1,2,4,5,\"tts\"]\n",
    "for i in name:\n",
    "  if i==5:\n",
    "    continue\n",
    "  print(i)\n",
    "print(\"this is continue\")\n",
    "\n"
   ]
  },
  {
   "cell_type": "code",
   "execution_count": null,
   "id": "4f2bed96",
   "metadata": {},
   "outputs": [],
   "source": [
    "def fact(x):\n",
    "  if x==1:\n",
    "    return 1\n",
    "  else:\n",
    "    return (x*fact(x-1))\n",
    "\n",
    "num=fact(int (input(\"enter a number: \")))\n",
    "print(num)"
   ]
  },
  {
   "cell_type": "code",
   "execution_count": null,
   "id": "8e0591ee",
   "metadata": {},
   "outputs": [],
   "source": [
    "value=lambda x:x+6\n",
    "print(value(4))"
   ]
  },
  {
   "cell_type": "code",
   "execution_count": null,
   "id": "3675f235",
   "metadata": {},
   "outputs": [],
   "source": [
    "value=lambda x,y,z:(x+1)+(y-1)+(z+1)\n",
    "print(value(4,7,2))"
   ]
  },
  {
   "cell_type": "code",
   "execution_count": null,
   "id": "09f1f047",
   "metadata": {},
   "outputs": [],
   "source": [
    "help('modules')"
   ]
  },
  {
   "cell_type": "code",
   "execution_count": null,
   "id": "651d2ee5",
   "metadata": {},
   "outputs": [],
   "source": [
    "import sys\n",
    "print(dir(\"modules\"))"
   ]
  },
  {
   "cell_type": "code",
   "execution_count": null,
   "id": "99831aeb",
   "metadata": {},
   "outputs": [],
   "source": [
    "help(__builtins__)"
   ]
  },
  {
   "cell_type": "code",
   "execution_count": null,
   "id": "5092b368",
   "metadata": {},
   "outputs": [],
   "source": [
    "import sys\n",
    "\n",
    "# Get the list of built-in modules\n",
    "built_in_modules = sys.builtin_module_names\n",
    "\n",
    "# Print the list of built-in modules\n",
    "print(built_in_modules)\n"
   ]
  },
  {
   "cell_type": "code",
   "execution_count": null,
   "id": "5d1aefd0",
   "metadata": {},
   "outputs": [],
   "source": [
    "greet=\"hello All\"\n",
    "count=0\n",
    "while count<len(greet):\n",
    "  print (greet[count],end=\" \")\n",
    "  count+=1"
   ]
  },
  {
   "cell_type": "code",
   "execution_count": null,
   "id": "2a850d30",
   "metadata": {},
   "outputs": [],
   "source": []
  },
  {
   "cell_type": "code",
   "execution_count": null,
   "id": "2d424bbb",
   "metadata": {},
   "outputs": [],
   "source": []
  },
  {
   "cell_type": "code",
   "execution_count": null,
   "id": "cb36f02a",
   "metadata": {},
   "outputs": [],
   "source": []
  },
  {
   "cell_type": "code",
   "execution_count": null,
   "id": "7e88173b",
   "metadata": {},
   "outputs": [],
   "source": []
  },
  {
   "cell_type": "code",
   "execution_count": null,
   "id": "45d30b04",
   "metadata": {},
   "outputs": [],
   "source": []
  },
  {
   "cell_type": "code",
   "execution_count": null,
   "id": "a5ac9a44",
   "metadata": {},
   "outputs": [],
   "source": []
  },
  {
   "cell_type": "code",
   "execution_count": null,
   "id": "a5083a1d",
   "metadata": {},
   "outputs": [],
   "source": []
  },
  {
   "cell_type": "code",
   "execution_count": null,
   "id": "2eb7e2d9",
   "metadata": {},
   "outputs": [],
   "source": []
  },
  {
   "cell_type": "code",
   "execution_count": null,
   "id": "86ab462a",
   "metadata": {},
   "outputs": [],
   "source": []
  },
  {
   "cell_type": "code",
   "execution_count": null,
   "id": "639cba84",
   "metadata": {},
   "outputs": [],
   "source": []
  },
  {
   "cell_type": "code",
   "execution_count": null,
   "id": "f1b012fe",
   "metadata": {},
   "outputs": [],
   "source": []
  }
 ],
 "metadata": {
  "kernelspec": {
   "display_name": "Python 3 (ipykernel)",
   "language": "python",
   "name": "python3"
  },
  "language_info": {
   "codemirror_mode": {
    "name": "ipython",
    "version": 3
   },
   "file_extension": ".py",
   "mimetype": "text/x-python",
   "name": "python",
   "nbconvert_exporter": "python",
   "pygments_lexer": "ipython3",
   "version": "3.11.5"
  }
 },
 "nbformat": 4,
 "nbformat_minor": 5
}
