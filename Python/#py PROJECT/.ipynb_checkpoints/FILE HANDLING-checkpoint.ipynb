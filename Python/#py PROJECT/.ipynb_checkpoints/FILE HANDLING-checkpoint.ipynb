{
 "cells": [
  {
   "cell_type": "markdown",
   "id": "1d20490c",
   "metadata": {},
   "source": [
    "# FILE HANDLING"
   ]
  },
  {
   "cell_type": "code",
   "execution_count": 59,
   "id": "31933498",
   "metadata": {},
   "outputs": [
    {
     "name": "stdout",
     "output_type": "stream",
     "text": [
      "content writting successfully...!\n",
      "HI  I  THAMARAI THIS IS FLIE HANDLING TO READ A FILE this is qjhdgaggsjdgjjdbabsd 'appending' asxgjjaxugaghfahgfayffatfhgaft\n",
      " this is qjhdgaggsjdgjjdbabsd 'appending' asxgjjaxugaghfahgfayffatfhgaft\n",
      " this is qjhdgaggsjdgjjdbabsd 'appending' asxgjjaxugaghfahgfayffatfhgaft\n",
      " this is qjhdgaggsjdgjjdbabsd 'appending' asxgjjaxugaghfahgfayffatfhgaft\n",
      "sadgajjsvdhfhgvhtashvatsxfavjjasccc\n",
      "sadgajjsvdhfhgvhtashvatsxfavjjasccc\n",
      "appending successfully\n",
      "thiss file is deleted\n"
     ]
    }
   ],
   "source": [
    "import os \n",
    "import shutil\n",
    "\n",
    "#file path\n",
    "\n",
    "file_path=\"CONTENT.txt\"\n",
    "folder_path=\"EMPTY FOLDER\"\n",
    "non_empty_folder_path=\"CONTENT FOLDER\"\n",
    "\n",
    "\n",
    "#writting a file 1\n",
    "\n",
    "try:\n",
    "    with open(\"CONTENT_WRITE.txt\",\"w\") as file:\n",
    "        file.write(\"hi this is writing file in file handling\")\n",
    "        print(\"content writting successfully...!\")\n",
    "except IOError:\n",
    "    print(f\"erroor writing file '{content_write.txt}'\")\n",
    "    \n",
    "    \n",
    "# WRITTING 2\n",
    "\n",
    "content=open(\"CONTENT_WRITE01.txt\",\"w\")\n",
    "content.write(\"hi this is writting file 2\")\n",
    "content.close()\n",
    "\n",
    "#reading afile\n",
    "\n",
    "try:\n",
    "    with open(file_path,\"r\") as file:\n",
    "        content=file.read()\n",
    "        print(content)\n",
    "except FileNotFoundError:\n",
    "    print(\"sdcgfgc\")\n",
    "\n",
    "#reading 2   \n",
    "content1=open(file_path,\"r\")\n",
    "content1.read()\n",
    "\n",
    "# appending a text in fiile\n",
    "\n",
    "try:\n",
    "    with open(file_path, \"a\") as file:\n",
    "        file.write(\"\\n this is qjhdgaggsjdgjjdbabsd 'appending' asxgjjaxugaghfahgfayffatfhgaft\")\n",
    "        print(\"appending successfully\")\n",
    "except FileNotFoundError:\n",
    "    print(\"this file not found\")\n",
    "    \n",
    "    \n",
    "# appending 2\n",
    "content3=open(file_path,\"a\")\n",
    "content3.write(\"\\nsadgajjsvdhfhgvhtashvatsxfavjjasccc\")\n",
    "content3.close()\n",
    "\n",
    "#deleteing a file\n",
    "\n",
    "try:\n",
    "    os.remove(\"Delete_file.txt\")\n",
    "    print(\"thiss file is deleted\")\n",
    "except FileNotFoundError:\n",
    "    print(\"file is not uund\")"
   ]
  },
  {
   "cell_type": "code",
   "execution_count": 62,
   "id": "0b7f1240",
   "metadata": {},
   "outputs": [
    {
     "name": "stdout",
     "output_type": "stream",
     "text": [
      "EMPTY FOLDER created\n"
     ]
    }
   ],
   "source": [
    "#creating a empty folder\n",
    "\n",
    "try:\n",
    "    os.mkdir(\"EMPTY FOLDER\")\n",
    "    print(\"EMPTY FOLDER created\")\n",
    "except FileNotFoundError:\n",
    "    print(\"folder is not foundable\")\n",
    "    "
   ]
  },
  {
   "cell_type": "code",
   "execution_count": 63,
   "id": "3738dbb4",
   "metadata": {},
   "outputs": [
    {
     "name": "stdout",
     "output_type": "stream",
     "text": [
      "deletd sucess\n"
     ]
    }
   ],
   "source": [
    "#deleting a empty folder\n",
    "\n",
    "try:\n",
    "    os.rmdir(\"EMPTY FOLDER\")\n",
    "    print(\"EMPTY FOLDER deleted\")\n",
    "except FileNotFoundError:\n",
    "    print(\"folder is not foundable\")\n",
    "\n",
    "# method 2\n",
    "content=os.rmdir(\"EMPTY FOLDER\")\n",
    "print(\"deletd sucess\")"
   ]
  }
 ],
 "metadata": {
  "kernelspec": {
   "display_name": "Python 3 (ipykernel)",
   "language": "python",
   "name": "python3"
  },
  "language_info": {
   "codemirror_mode": {
    "name": "ipython",
    "version": 3
   },
   "file_extension": ".py",
   "mimetype": "text/x-python",
   "name": "python",
   "nbconvert_exporter": "python",
   "pygments_lexer": "ipython3",
   "version": "3.11.5"
  }
 },
 "nbformat": 4,
 "nbformat_minor": 5
}
