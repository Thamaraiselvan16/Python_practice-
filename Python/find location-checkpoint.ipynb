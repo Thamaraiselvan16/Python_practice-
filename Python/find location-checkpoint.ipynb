{
 "cells": [
  {
   "cell_type": "code",
   "execution_count": 1,
   "id": "dbc4c67a",
   "metadata": {},
   "outputs": [
    {
     "name": "stdout",
     "output_type": "stream",
     "text": [
      "['__add__', '__class__', '__class_getitem__', '__contains__', '__delattr__', '__delitem__', '__dir__', '__doc__', '__eq__', '__format__', '__ge__', '__getattribute__', '__getitem__', '__getstate__', '__gt__', '__hash__', '__iadd__', '__imul__', '__init__', '__init_subclass__', '__iter__', '__le__', '__len__', '__lt__', '__mul__', '__ne__', '__new__', '__reduce__', '__reduce_ex__', '__repr__', '__reversed__', '__rmul__', '__setattr__', '__setitem__', '__sizeof__', '__str__', '__subclasshook__', 'append', 'clear', 'copy', 'count', 'extend', 'index', 'insert', 'pop', 'remove', 'reverse', 'sort']\n"
     ]
    }
   ],
   "source": [
    "print(dir(list))"
   ]
  },
  {
   "cell_type": "code",
   "execution_count": 3,
   "id": "47eae793",
   "metadata": {},
   "outputs": [
    {
     "name": "stdout",
     "output_type": "stream",
     "text": [
      "['__doc__', '__loader__', '__name__', '__package__', '__spec__', 'acos', 'acosh', 'asin', 'asinh', 'atan', 'atan2', 'atanh', 'cbrt', 'ceil', 'comb', 'copysign', 'cos', 'cosh', 'degrees', 'dist', 'e', 'erf', 'erfc', 'exp', 'exp2', 'expm1', 'fabs', 'factorial', 'floor', 'fmod', 'frexp', 'fsum', 'gamma', 'gcd', 'hypot', 'inf', 'isclose', 'isfinite', 'isinf', 'isnan', 'isqrt', 'lcm', 'ldexp', 'lgamma', 'log', 'log10', 'log1p', 'log2', 'modf', 'nan', 'nextafter', 'perm', 'pi', 'pow', 'prod', 'radians', 'remainder', 'sin', 'sinh', 'sqrt', 'tan', 'tanh', 'tau', 'trunc', 'ulp']\n"
     ]
    }
   ],
   "source": [
    "import math\n",
    "print(dir(math))"
   ]
  },
  {
   "cell_type": "code",
   "execution_count": 4,
   "id": "c5b6e1e0",
   "metadata": {},
   "outputs": [
    {
     "name": "stdout",
     "output_type": "stream",
     "text": [
      "['__add__', '__class__', '__class_getitem__', '__contains__', '__delattr__', '__dir__', '__doc__', '__eq__', '__format__', '__ge__', '__getattribute__', '__getitem__', '__getnewargs__', '__getstate__', '__gt__', '__hash__', '__init__', '__init_subclass__', '__iter__', '__le__', '__len__', '__lt__', '__mul__', '__ne__', '__new__', '__reduce__', '__reduce_ex__', '__repr__', '__rmul__', '__setattr__', '__sizeof__', '__str__', '__subclasshook__', 'count', 'index']\n"
     ]
    }
   ],
   "source": [
    "print(dir(tuple))"
   ]
  },
  {
   "cell_type": "code",
   "execution_count": 5,
   "id": "45163e3d",
   "metadata": {},
   "outputs": [
    {
     "name": "stdout",
     "output_type": "stream",
     "text": [
      "['__call__', '__class__', '__delattr__', '__dir__', '__doc__', '__eq__', '__format__', '__ge__', '__getattribute__', '__getstate__', '__gt__', '__hash__', '__init__', '__init_subclass__', '__le__', '__lt__', '__module__', '__name__', '__ne__', '__new__', '__qualname__', '__reduce__', '__reduce_ex__', '__repr__', '__self__', '__setattr__', '__sizeof__', '__str__', '__subclasshook__', '__text_signature__']\n"
     ]
    }
   ],
   "source": [
    "print(dir(dir))"
   ]
  },
  {
   "cell_type": "code",
   "execution_count": 6,
   "id": "7c3e43c7",
   "metadata": {},
   "outputs": [
    {
     "name": "stdout",
     "output_type": "stream",
     "text": [
      "['In', 'Out', '_', '__', '___', '__builtin__', '__builtins__', '__doc__', '__loader__', '__name__', '__package__', '__spec__', '_dh', '_i', '_i1', '_i2', '_i3', '_i4', '_i5', '_i6', '_ih', '_ii', '_iii', '_oh', 'exit', 'get_ipython', 'math', 'open', 'quit']\n"
     ]
    }
   ],
   "source": [
    "print(dir())"
   ]
  },
  {
   "cell_type": "code",
   "execution_count": 7,
   "id": "0abde2bf",
   "metadata": {},
   "outputs": [
    {
     "name": "stdout",
     "output_type": "stream",
     "text": [
      "['__and__', '__class__', '__class_getitem__', '__contains__', '__delattr__', '__dir__', '__doc__', '__eq__', '__format__', '__ge__', '__getattribute__', '__getstate__', '__gt__', '__hash__', '__iand__', '__init__', '__init_subclass__', '__ior__', '__isub__', '__iter__', '__ixor__', '__le__', '__len__', '__lt__', '__ne__', '__new__', '__or__', '__rand__', '__reduce__', '__reduce_ex__', '__repr__', '__ror__', '__rsub__', '__rxor__', '__setattr__', '__sizeof__', '__str__', '__sub__', '__subclasshook__', '__xor__', 'add', 'clear', 'copy', 'difference', 'difference_update', 'discard', 'intersection', 'intersection_update', 'isdisjoint', 'issubset', 'issuperset', 'pop', 'remove', 'symmetric_difference', 'symmetric_difference_update', 'union', 'update']\n"
     ]
    }
   ],
   "source": [
    "print(dir(set))"
   ]
  },
  {
   "cell_type": "code",
   "execution_count": 8,
   "id": "81b800ae",
   "metadata": {},
   "outputs": [
    {
     "data": {
      "text/plain": [
       "['__add__',\n",
       " '__class__',\n",
       " '__class_getitem__',\n",
       " '__contains__',\n",
       " '__delattr__',\n",
       " '__delitem__',\n",
       " '__dir__',\n",
       " '__doc__',\n",
       " '__eq__',\n",
       " '__format__',\n",
       " '__ge__',\n",
       " '__getattribute__',\n",
       " '__getitem__',\n",
       " '__getstate__',\n",
       " '__gt__',\n",
       " '__hash__',\n",
       " '__iadd__',\n",
       " '__imul__',\n",
       " '__init__',\n",
       " '__init_subclass__',\n",
       " '__iter__',\n",
       " '__le__',\n",
       " '__len__',\n",
       " '__lt__',\n",
       " '__mul__',\n",
       " '__ne__',\n",
       " '__new__',\n",
       " '__reduce__',\n",
       " '__reduce_ex__',\n",
       " '__repr__',\n",
       " '__reversed__',\n",
       " '__rmul__',\n",
       " '__setattr__',\n",
       " '__setitem__',\n",
       " '__sizeof__',\n",
       " '__str__',\n",
       " '__subclasshook__',\n",
       " 'append',\n",
       " 'clear',\n",
       " 'copy',\n",
       " 'count',\n",
       " 'extend',\n",
       " 'index',\n",
       " 'insert',\n",
       " 'pop',\n",
       " 'remove',\n",
       " 'reverse',\n",
       " 'sort']"
      ]
     },
     "execution_count": 8,
     "metadata": {},
     "output_type": "execute_result"
    }
   ],
   "source": [
    "dir(list)"
   ]
  },
  {
   "cell_type": "code",
   "execution_count": null,
   "id": "f2ddc1d1",
   "metadata": {},
   "outputs": [],
   "source": [
    "#Write a program using functions to Compute the monthly payment, given the loan amount, number of years and the annual interest rate.\n",
    "def calculate_monthly_payment(loan_amount, annual_interest_rate, num_years):\n",
    "    # Calculate the monthly interest rate as a decimal\n",
    "    monthly_interest_rate = (annual_interest_rate / 12) / 100\n",
    "    \n",
    "    # Calculate the total number of monthly payments\n",
    "    num_months = num_years * 12\n",
    "    \n",
    "    # Calculate the monthly payment using the formula\n",
    "    monthly_payment = (loan_amount * monthly_interest_rate * (1 + monthly_interest_rate)**num_months) / ((1 + monthly_interest_rate)**num_months - 1)\n",
    "    \n",
    "    return monthly_payment\n",
    "\t\n",
    "\n",
    "# Input values\n",
    "loan_amount = float(input(\"Enter the loan amount: $\"))\n",
    "annual_interest_rate = float(input(\"Enter the annual interest rate (%): \"))\n",
    "num_years = int(input(\"Enter the number of years: \"))\n",
    "\n",
    "# Calculate and display the monthly payment\n",
    "monthly_payment = calculate_monthly_payment(loan_amount, annual_interest_rate, num_years)\n",
    "print(f\"Monthly Payment: ${monthly_payment:.2f}\")"
   ]
  },
  {
   "cell_type": "code",
   "execution_count": 1,
   "id": "3360b5d8",
   "metadata": {},
   "outputs": [
    {
     "ename": "ModuleNotFoundError",
     "evalue": "No module named 'phonenumbers'",
     "output_type": "error",
     "traceback": [
      "\u001b[1;31m---------------------------------------------------------------------------\u001b[0m",
      "\u001b[1;31mModuleNotFoundError\u001b[0m                       Traceback (most recent call last)",
      "Cell \u001b[1;32mIn[1], line 2\u001b[0m\n\u001b[0;32m      1\u001b[0m \u001b[38;5;66;03m#location finder\u001b[39;00m\n\u001b[1;32m----> 2\u001b[0m \u001b[38;5;28;01mimport\u001b[39;00m \u001b[38;5;21;01mphonenumbers\u001b[39;00m\n\u001b[0;32m      3\u001b[0m \u001b[38;5;28;01mfrom\u001b[39;00m \u001b[38;5;21;01mphonenumbers\u001b[39;00m \u001b[38;5;28;01mimport\u001b[39;00m geocoder\n\u001b[0;32m      4\u001b[0m phone_num1\u001b[38;5;241m=\u001b[39mphonenumbers\u001b[38;5;241m.\u001b[39mparse(\u001b[38;5;124m\"\u001b[39m\u001b[38;5;124m+919894367303\u001b[39m\u001b[38;5;124m\"\u001b[39m)\n",
      "\u001b[1;31mModuleNotFoundError\u001b[0m: No module named 'phonenumbers'"
     ]
    }
   ],
   "source": [
    "#location finder\n",
    "import phonenumbers\n",
    "from phonenumbers import geocoder\n",
    "phone_num1=phonenumbers.parse(\"+919894367303\")\n",
    "phone_num2=phonenumbers.parse(\"+917538844612\")\n",
    "\n",
    "print(\"\\nPhone Numbers Location\\n\")\n",
    "print (geocoder.description_for_number(phone_num1,\"en\"))\n",
    "print (geocoder.description_for_number(phone_num1,\"en\"))"
   ]
  },
  {
   "cell_type": "code",
   "execution_count": 5,
   "id": "f5b35aaf",
   "metadata": {},
   "outputs": [
    {
     "ename": "ModuleNotFoundError",
     "evalue": "No module named 'phonenumbers'",
     "output_type": "error",
     "traceback": [
      "\u001b[1;31m---------------------------------------------------------------------------\u001b[0m",
      "\u001b[1;31mModuleNotFoundError\u001b[0m                       Traceback (most recent call last)",
      "Cell \u001b[1;32mIn[5], line 1\u001b[0m\n\u001b[1;32m----> 1\u001b[0m \u001b[38;5;28;01mimport\u001b[39;00m \u001b[38;5;21;01mphonenumbers\u001b[39;00m\n\u001b[0;32m      2\u001b[0m \u001b[38;5;28;01mfrom\u001b[39;00m \u001b[38;5;21;01mphonenumbers\u001b[39;00m \u001b[38;5;28;01mimport\u001b[39;00m geocoder\n\u001b[0;32m      4\u001b[0m phone_num1 \u001b[38;5;241m=\u001b[39m phonenumbers\u001b[38;5;241m.\u001b[39mparse(\u001b[38;5;124m\"\u001b[39m\u001b[38;5;124m+919894367303\u001b[39m\u001b[38;5;124m\"\u001b[39m)\n",
      "\u001b[1;31mModuleNotFoundError\u001b[0m: No module named 'phonenumbers'"
     ]
    }
   ],
   "source": [
    "import phonenumbers\n",
    "from phonenumbers import geocoder\n",
    "\n",
    "phone_num1 = phonenumbers.parse(\"+919894367303\")\n",
    "phone_num2 = phonenumbers.parse(\"+917538844612\")\n",
    "\n",
    "print(\"\\nPhone Numbers Location\\n\")\n",
    "print(geocoder.description_for_number(phone_num1, \"en\"))\n",
    "print(geocoder.description_for_number(phone_num2, \"en\"))\n"
   ]
  },
  {
   "cell_type": "code",
   "execution_count": 3,
   "id": "6d870505",
   "metadata": {},
   "outputs": [
    {
     "ename": "ModuleNotFoundError",
     "evalue": "No module named 'pyautogui'",
     "output_type": "error",
     "traceback": [
      "\u001b[1;31m---------------------------------------------------------------------------\u001b[0m",
      "\u001b[1;31mModuleNotFoundError\u001b[0m                       Traceback (most recent call last)",
      "Cell \u001b[1;32mIn[3], line 2\u001b[0m\n\u001b[0;32m      1\u001b[0m \u001b[38;5;28;01mimport\u001b[39;00m \u001b[38;5;21;01mrandom\u001b[39;00m\n\u001b[1;32m----> 2\u001b[0m \u001b[38;5;28;01mimport\u001b[39;00m \u001b[38;5;21;01mpyautogui\u001b[39;00m\n\u001b[0;32m      3\u001b[0m \u001b[38;5;28;01mimport\u001b[39;00m \u001b[38;5;21;01mtime\u001b[39;00m\n\u001b[0;32m      5\u001b[0m \u001b[38;5;66;03m# Words to choose from\u001b[39;00m\n",
      "\u001b[1;31mModuleNotFoundError\u001b[0m: No module named 'pyautogui'"
     ]
    }
   ],
   "source": [
    "import random\n",
    "import pyautogui\n",
    "import time\n",
    "\n",
    "# Words to choose from\n",
    "words = (\"____\", \"good\", \"simply\")\n",
    "\n",
    "# Delay to allow you to focus on the input field\n",
    "time.sleep(5)\n",
    "\n",
    "# Number of sentences to generate\n",
    "num_sentences = 20\n",
    "\n",
    "for _ in range(num_sentences):\n",
    "    # Select a random word from the words tuple\n",
    "    random_word = random.choice(words)\n",
    "    \n",
    "    # Form a sentence and type it\n",
    "    sentence = f\"you are a {random_word}\"\n",
    "    pyautogui.write(sentence)\n",
    "    \n",
    "    # Press Enter to submit the sentence\n",
    "    pyautogui.press(\"enter\")\n",
    "    \n",
    "    # Add a delay between sentences (adjust as needed)\n",
    "    time.sleep(1)\n",
    "\n",
    "# Optional: Add a closing message after all sentences are typed\n",
    "pyautogui.write(\"All sentences have been typed!\")\n",
    "\n",
    "# Keep the script running to observe the generated sentences\n",
    "input(\"Press Enter to exit...\")\n"
   ]
  },
  {
   "cell_type": "code",
   "execution_count": 1,
   "id": "bf7cb513",
   "metadata": {},
   "outputs": [
    {
     "name": "stdout",
     "output_type": "stream",
     "text": [
      "Defaulting to user installation because normal site-packages is not writeable\n",
      "Collecting pyautogui\n",
      "  Using cached PyAutoGUI-0.9.54-py3-none-any.whl\n",
      "Collecting pymsgbox (from pyautogui)\n",
      "  Using cached PyMsgBox-1.0.9-py3-none-any.whl\n",
      "Collecting pytweening>=1.0.4 (from pyautogui)\n",
      "  Using cached pytweening-1.0.7-py3-none-any.whl\n",
      "Collecting pyscreeze>=0.1.21 (from pyautogui)\n",
      "  Using cached PyScreeze-0.1.29-py3-none-any.whl\n",
      "Collecting pygetwindow>=0.0.5 (from pyautogui)\n",
      "  Using cached PyGetWindow-0.0.9-py3-none-any.whl\n",
      "Collecting mouseinfo (from pyautogui)\n",
      "  Using cached MouseInfo-0.1.3-py3-none-any.whl\n",
      "Collecting pyrect (from pygetwindow>=0.0.5->pyautogui)\n",
      "  Using cached PyRect-0.2.0-py2.py3-none-any.whl\n",
      "Collecting pyscreenshot (from pyscreeze>=0.1.21->pyautogui)\n",
      "  Using cached pyscreenshot-3.1-py3-none-any.whl (28 kB)\n",
      "Requirement already satisfied: Pillow>=9.3.0 in c:\\programdata\\anaconda3\\lib\\site-packages (from pyscreeze>=0.1.21->pyautogui) (9.4.0)\n",
      "Collecting pyperclip (from mouseinfo->pyautogui)\n",
      "  Using cached pyperclip-1.8.2-py3-none-any.whl\n",
      "Collecting EasyProcess (from pyscreenshot->pyscreeze>=0.1.21->pyautogui)\n",
      "  Using cached EasyProcess-1.1-py3-none-any.whl (8.7 kB)\n",
      "Collecting entrypoint2 (from pyscreenshot->pyscreeze>=0.1.21->pyautogui)\n",
      "  Using cached entrypoint2-1.1-py2.py3-none-any.whl (9.9 kB)\n",
      "Collecting mss (from pyscreenshot->pyscreeze>=0.1.21->pyautogui)\n",
      "  Using cached mss-9.0.1-py3-none-any.whl (22 kB)\n",
      "Installing collected packages: pytweening, pyrect, pyperclip, pymsgbox, entrypoint2, EasyProcess, pygetwindow, mss, mouseinfo, pyscreenshot, pyscreeze, pyautogui\n",
      "Successfully installed EasyProcess-1.1 entrypoint2-1.1 mouseinfo-0.1.3 mss-9.0.1 pyautogui-0.9.54 pygetwindow-0.0.9 pymsgbox-1.0.9 pyperclip-1.8.2 pyrect-0.2.0 pyscreenshot-3.1 pyscreeze-0.1.29 pytweening-1.0.7\n",
      "Note: you may need to restart the kernel to use updated packages.\n"
     ]
    },
    {
     "name": "stderr",
     "output_type": "stream",
     "text": [
      "  WARNING: The script mss.exe is installed in 'C:\\Users\\91753\\AppData\\Roaming\\Python\\Python311\\Scripts' which is not on PATH.\n",
      "  Consider adding this directory to PATH or, if you prefer to suppress this warning, use --no-warn-script-location.\n"
     ]
    }
   ],
   "source": [
    "pip install pyautogui\n"
   ]
  },
  {
   "cell_type": "code",
   "execution_count": 4,
   "id": "d89ac2be",
   "metadata": {},
   "outputs": [
    {
     "name": "stdout",
     "output_type": "stream",
     "text": [
      "['__add__', '__class__', '__class_getitem__', '__contains__', '__delattr__', '__delitem__', '__dir__', '__doc__', '__eq__', '__format__', '__ge__', '__getattribute__', '__getitem__', '__getstate__', '__gt__', '__hash__', '__iadd__', '__imul__', '__init__', '__init_subclass__', '__iter__', '__le__', '__len__', '__lt__', '__mul__', '__ne__', '__new__', '__reduce__', '__reduce_ex__', '__repr__', '__reversed__', '__rmul__', '__setattr__', '__setitem__', '__sizeof__', '__str__', '__subclasshook__', 'append', 'clear', 'copy', 'count', 'extend', 'index', 'insert', 'pop', 'remove', 'reverse', 'sort']\n"
     ]
    }
   ],
   "source": [
    "print(dir(list))"
   ]
  },
  {
   "cell_type": "code",
   "execution_count": 5,
   "id": "e59ef9f6",
   "metadata": {},
   "outputs": [
    {
     "name": "stdout",
     "output_type": "stream",
     "text": [
      "['__add__', '__class__', '__class_getitem__', '__contains__', '__delattr__', '__dir__', '__doc__', '__eq__', '__format__', '__ge__', '__getattribute__', '__getitem__', '__getnewargs__', '__getstate__', '__gt__', '__hash__', '__init__', '__init_subclass__', '__iter__', '__le__', '__len__', '__lt__', '__mul__', '__ne__', '__new__', '__reduce__', '__reduce_ex__', '__repr__', '__rmul__', '__setattr__', '__sizeof__', '__str__', '__subclasshook__', 'count', 'index']\n"
     ]
    }
   ],
   "source": [
    "print(dir(tuple))"
   ]
  },
  {
   "cell_type": "code",
   "execution_count": 7,
   "id": "c39e703e",
   "metadata": {},
   "outputs": [
    {
     "name": "stdout",
     "output_type": "stream",
     "text": [
      "['In', 'Out', '_', '__', '___', '__builtin__', '__builtins__', '__doc__', '__loader__', '__name__', '__package__', '__spec__', '_dh', '_exit_code', '_i', '_i1', '_i2', '_i3', '_i4', '_i5', '_i6', '_i7', '_ih', '_ii', '_iii', '_oh', 'exit', 'get_ipython', 'open', 'quit', 'random']\n"
     ]
    }
   ],
   "source": [
    "print(dir())"
   ]
  },
  {
   "cell_type": "code",
   "execution_count": 8,
   "id": "b38a9ad9",
   "metadata": {},
   "outputs": [
    {
     "name": "stdout",
     "output_type": "stream",
     "text": [
      "['__class__', '__class_getitem__', '__contains__', '__delattr__', '__delitem__', '__dir__', '__doc__', '__eq__', '__format__', '__ge__', '__getattribute__', '__getitem__', '__getstate__', '__gt__', '__hash__', '__init__', '__init_subclass__', '__ior__', '__iter__', '__le__', '__len__', '__lt__', '__ne__', '__new__', '__or__', '__reduce__', '__reduce_ex__', '__repr__', '__reversed__', '__ror__', '__setattr__', '__setitem__', '__sizeof__', '__str__', '__subclasshook__', 'clear', 'copy', 'fromkeys', 'get', 'items', 'keys', 'pop', 'popitem', 'setdefault', 'update', 'values']\n"
     ]
    }
   ],
   "source": [
    "print(dir(dict))"
   ]
  }
 ],
 "metadata": {
  "kernelspec": {
   "display_name": "Python 3 (ipykernel)",
   "language": "python",
   "name": "python3"
  },
  "language_info": {
   "codemirror_mode": {
    "name": "ipython",
    "version": 3
   },
   "file_extension": ".py",
   "mimetype": "text/x-python",
   "name": "python",
   "nbconvert_exporter": "python",
   "pygments_lexer": "ipython3",
   "version": "3.11.3"
  }
 },
 "nbformat": 4,
 "nbformat_minor": 5
}
