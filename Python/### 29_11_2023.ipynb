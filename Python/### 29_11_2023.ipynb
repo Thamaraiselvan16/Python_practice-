{
 "cells": [
  {
   "cell_type": "code",
   "execution_count": 2,
   "id": "e705567c",
   "metadata": {},
   "outputs": [
    {
     "name": "stdout",
     "output_type": "stream",
     "text": [
      "i am thamaraiselvan\n",
      "i am from tamilnadu\n"
     ]
    }
   ],
   "source": [
    "def profile():\n",
    "    print (\"i am thamaraiselvan\")\n",
    "    print (\"i am from tamilnadu\")\n",
    "    \n",
    "profile() "
   ]
  },
  {
   "cell_type": "code",
   "execution_count": 8,
   "id": "d93f6043",
   "metadata": {},
   "outputs": [
    {
     "name": "stdout",
     "output_type": "stream",
     "text": [
      "hari hello\n"
     ]
    }
   ],
   "source": [
    "def hari(a):\n",
    "    print(a)\n",
    "\n",
    "hari(\"hari hello\")"
   ]
  },
  {
   "cell_type": "code",
   "execution_count": 19,
   "id": "ec46ce16",
   "metadata": {},
   "outputs": [
    {
     "name": "stdout",
     "output_type": "stream",
     "text": [
      "thamarai\n",
      "402\n"
     ]
    }
   ],
   "source": [
    "def thamarai(detail):\n",
    "    print(detail)\n",
    "    \n",
    "def hari(goood_boy):\n",
    "    print(goood_boy)\n",
    "    \n",
    "thamarai(\"thamarai\")\n",
    "\n",
    "hari(402)"
   ]
  },
  {
   "cell_type": "code",
   "execution_count": null,
   "id": "11fd3f0d",
   "metadata": {},
   "outputs": [],
   "source": [
    " "
   ]
  }
 ],
 "metadata": {
  "kernelspec": {
   "display_name": "Python 3 (ipykernel)",
   "language": "python",
   "name": "python3"
  },
  "language_info": {
   "codemirror_mode": {
    "name": "ipython",
    "version": 3
   },
   "file_extension": ".py",
   "mimetype": "text/x-python",
   "name": "python",
   "nbconvert_exporter": "python",
   "pygments_lexer": "ipython3",
   "version": "3.11.5"
  }
 },
 "nbformat": 4,
 "nbformat_minor": 5
}
