{
 "cells": [
  {
   "cell_type": "code",
   "execution_count": 3,
   "id": "0fe32a9d",
   "metadata": {},
   "outputs": [
    {
     "name": "stdout",
     "output_type": "stream",
     "text": [
      "10\n"
     ]
    }
   ],
   "source": [
    "print(10)"
   ]
  },
  {
   "cell_type": "code",
   "execution_count": 7,
   "id": "bd234974",
   "metadata": {},
   "outputs": [
    {
     "name": "stdout",
     "output_type": "stream",
     "text": [
      "['False', 'None', 'True', 'and', 'as', 'assert', 'async', 'await', 'break', 'class', 'continue', 'def', 'del', 'elif', 'else', 'except', 'finally', 'for', 'from', 'global', 'if', 'import', 'in', 'is', 'lambda', 'nonlocal', 'not', 'or', 'pass', 'raise', 'return', 'try', 'while', 'with', 'yield']\n"
     ]
    }
   ],
   "source": [
    "import keyword\n",
    "k=keyword.kwlist\n",
    "print(k)"
   ]
  },
  {
   "cell_type": "code",
   "execution_count": 11,
   "id": "41beda60",
   "metadata": {},
   "outputs": [
    {
     "name": "stdout",
     "output_type": "stream",
     "text": [
      "Name: tts Age: 21\n"
     ]
    }
   ],
   "source": [
    "#object\n",
    "my_name=\"tts\"\n",
    "age=21\n",
    "print(\"Name:\",my_name,\"Age:\",age)"
   ]
  },
  {
   "cell_type": "code",
   "execution_count": 13,
   "id": "2d25a5b6",
   "metadata": {},
   "outputs": [
    {
     "name": "stdout",
     "output_type": "stream",
     "text": [
      "tts 21 thiruppattur\n"
     ]
    }
   ],
   "source": [
    "#seperator\n",
    "print(\"tts\",21,\"thiruppattur\")"
   ]
  },
  {
   "cell_type": "code",
   "execution_count": 16,
   "id": "1bee94b4",
   "metadata": {},
   "outputs": [
    {
     "name": "stdout",
     "output_type": "stream",
     "text": [
      "hello thamarai\n"
     ]
    }
   ],
   "source": [
    "#end\n",
    "print(\"hello\",end=\" \")\n",
    "print(\"thamarai\")"
   ]
  },
  {
   "cell_type": "code",
   "execution_count": 21,
   "id": "f246ff32",
   "metadata": {},
   "outputs": [],
   "source": [
    "#file parameter to write a file\n",
    "with open(\"tts.txt\",\"w\")as f:\n",
    "    print(\"dhill's amma\",file=f)"
   ]
  },
  {
   "cell_type": "code",
   "execution_count": null,
   "id": "e944b4d9",
   "metadata": {},
   "outputs": [],
   "source": [
    "#flush parameter\n",
    "import time\n",
    "print(\"\")"
   ]
  }
 ],
 "metadata": {
  "kernelspec": {
   "display_name": "Python 3 (ipykernel)",
   "language": "python",
   "name": "python3"
  },
  "language_info": {
   "codemirror_mode": {
    "name": "ipython",
    "version": 3
   },
   "file_extension": ".py",
   "mimetype": "text/x-python",
   "name": "python",
   "nbconvert_exporter": "python",
   "pygments_lexer": "ipython3",
   "version": "3.11.3"
  }
 },
 "nbformat": 4,
 "nbformat_minor": 5
}
