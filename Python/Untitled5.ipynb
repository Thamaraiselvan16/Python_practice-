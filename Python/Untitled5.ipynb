{
 "cells": [
  {
   "cell_type": "code",
   "execution_count": 2,
   "id": "be70bda5",
   "metadata": {},
   "outputs": [],
   "source": [
    "import pandas as pd"
   ]
  },
  {
   "cell_type": "code",
   "execution_count": 3,
   "id": "8e9bc051",
   "metadata": {},
   "outputs": [
    {
     "name": "stdout",
     "output_type": "stream",
     "text": [
      "0    1\n",
      "1    2\n",
      "2    3\n",
      "3    4\n",
      "4    5\n",
      "dtype: int64\n"
     ]
    }
   ],
   "source": [
    "#series\n",
    "#int ,float,list,dict,tuples\n",
    "\n",
    "x=[1,2,3,4,5]\n",
    "df=pd.Series(x)\n",
    "print(df)"
   ]
  },
  {
   "cell_type": "code",
   "execution_count": 4,
   "id": "ab4824df",
   "metadata": {},
   "outputs": [
    {
     "name": "stdout",
     "output_type": "stream",
     "text": [
      "0    1\n",
      "1    2\n",
      "2    3\n",
      "3    4\n",
      "4    5\n",
      "dtype: int64\n"
     ]
    }
   ],
   "source": [
    "x=(1,2,3,4,5)\n",
    "df=pd.Series(x)\n",
    "print(df)"
   ]
  },
  {
   "cell_type": "code",
   "execution_count": 5,
   "id": "0d9f5379",
   "metadata": {},
   "outputs": [
    {
     "name": "stdout",
     "output_type": "stream",
     "text": [
      "1    a\n",
      "2    b\n",
      "3    c\n",
      "4    d\n",
      "5    e\n",
      "dtype: object\n"
     ]
    }
   ],
   "source": [
    "x={1:\"a\",2:\"b\",3:\"c\",4:\"d\",5:\"e\"}\n",
    "df=pd.Series(x)\n",
    "print(df)"
   ]
  },
  {
   "cell_type": "code",
   "execution_count": 21,
   "id": "0c0d94b9",
   "metadata": {},
   "outputs": [
    {
     "name": "stdout",
     "output_type": "stream",
     "text": [
      "   id stuname feedback\n",
      "0   1       a     good\n",
      "1   2       b      bad\n",
      "2   3       c      wow\n"
     ]
    }
   ],
   "source": [
    "data={\n",
    "    \"id\":[1,2,3],\n",
    "    \"stuname\":[\"a\",\"b\",\"c\"],\n",
    "    \"feedback\":[\"good\",\"bad\",\"wow\"]\n",
    "}\n",
    "df=pd.DataFrame(data)\n",
    "print(df)"
   ]
  },
  {
   "cell_type": "code",
   "execution_count": 29,
   "id": "9ba9be84",
   "metadata": {},
   "outputs": [
    {
     "name": "stdout",
     "output_type": "stream",
     "text": [
      "<class 'str'> : 2\n",
      "<class 'int'> : 3\n",
      "<class 'float'> : 2\n",
      "<class 'bool'> : 2\n",
      "<class 'NoneType'> : 1\n"
     ]
    }
   ],
   "source": [
    "from collections import Counter\n",
    "my_list=[\"apple\",1,3,4,\"panda\",12.4,23.5,True,False,None]\n",
    "\n",
    "result=Counter(map(type,my_list))\n",
    "for datatype,count  in result.items():\n",
    "    print(f\"{datatype} : {count}\")"
   ]
  },
  {
   "cell_type": "code",
   "execution_count": 9,
   "id": "a90067fd",
   "metadata": {},
   "outputs": [
    {
     "name": "stdout",
     "output_type": "stream",
     "text": [
      "enter a number: 10\n",
      "[3, 4, 6, 7, 8, 9]\n"
     ]
    }
   ],
   "source": [
    "num=int(input(\"enter a number: \"))\n",
    "result=[i for i in range(2,num+1) if num%i!=0]\n",
    "print(result)"
   ]
  },
  {
   "cell_type": "code",
   "execution_count": 1,
   "id": "c257b7fb",
   "metadata": {},
   "outputs": [
    {
     "name": "stdout",
     "output_type": "stream",
     "text": [
      "enter tha your mark414\n",
      "69.0\n"
     ]
    }
   ],
   "source": [
    "val=int(input(\"enter tha your mark\"))\n",
    "\n",
    "result=(val/600)*100\n",
    "print(result)"
   ]
  }
 ],
 "metadata": {
  "kernelspec": {
   "display_name": "Python 3 (ipykernel)",
   "language": "python",
   "name": "python3"
  },
  "language_info": {
   "codemirror_mode": {
    "name": "ipython",
    "version": 3
   },
   "file_extension": ".py",
   "mimetype": "text/x-python",
   "name": "python",
   "nbconvert_exporter": "python",
   "pygments_lexer": "ipython3",
   "version": "3.11.5"
  }
 },
 "nbformat": 4,
 "nbformat_minor": 5
}
