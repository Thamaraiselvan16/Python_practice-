{
 "cells": [
  {
   "cell_type": "code",
   "execution_count": 1,
   "id": "59c83434",
   "metadata": {},
   "outputs": [
    {
     "name": "stdout",
     "output_type": "stream",
     "text": [
      "hello\n",
      "<class 'str'>\n"
     ]
    }
   ],
   "source": [
    "#singel quote\n",
    "s= 'hello'\n",
    "print(s)\n",
    "print (type(s))"
   ]
  },
  {
   "cell_type": "code",
   "execution_count": 3,
   "id": "ab82f879",
   "metadata": {},
   "outputs": [
    {
     "name": "stdout",
     "output_type": "stream",
     "text": [
      "hello\n",
      "<class 'str'>\n"
     ]
    }
   ],
   "source": [
    "#tripLe quote\n",
    "s=\"\"\"hello\"\"\"\n",
    "print(s)\n",
    "print (type(s))"
   ]
  },
  {
   "cell_type": "code",
   "execution_count": 10,
   "id": "8f2f2d5f",
   "metadata": {},
   "outputs": [
    {
     "name": "stdout",
     "output_type": "stream",
     "text": [
      "hello world\n"
     ]
    }
   ],
   "source": [
    "#concantenate\n",
    "s= (\"hello\" +\" \"+ \"world\")\n",
    "print(s)"
   ]
  },
  {
   "cell_type": "code",
   "execution_count": 13,
   "id": "7684a4df",
   "metadata": {},
   "outputs": [
    {
     "name": "stdout",
     "output_type": "stream",
     "text": [
      "['__add__', '__class__', '__contains__', '__delattr__', '__dir__', '__doc__', '__eq__', '__format__', '__ge__', '__getattribute__', '__getitem__', '__getnewargs__', '__getstate__', '__gt__', '__hash__', '__init__', '__init_subclass__', '__iter__', '__le__', '__len__', '__lt__', '__mod__', '__mul__', '__ne__', '__new__', '__reduce__', '__reduce_ex__', '__repr__', '__rmod__', '__rmul__', '__setattr__', '__sizeof__', '__str__', '__subclasshook__', 'capitalize', 'casefold', 'center', 'count', 'encode', 'endswith', 'expandtabs', 'find', 'format', 'format_map', 'index', 'isalnum', 'isalpha', 'isascii', 'isdecimal', 'isdigit', 'isidentifier', 'islower', 'isnumeric', 'isprintable', 'isspace', 'istitle', 'isupper', 'join', 'ljust', 'lower', 'lstrip', 'maketrans', 'partition', 'removeprefix', 'removesuffix', 'replace', 'rfind', 'rindex', 'rjust', 'rpartition', 'rsplit', 'rstrip', 'split', 'splitlines', 'startswith', 'strip', 'swapcase', 'title', 'translate', 'upper', 'zfill']\n"
     ]
    }
   ],
   "source": [
    "print(dir(str))"
   ]
  },
  {
   "cell_type": "code",
   "execution_count": 43,
   "id": "cb368d32",
   "metadata": {},
   "outputs": [
    {
     "name": "stdout",
     "output_type": "stream",
     "text": [
      "Te110w,wor1d! this is a sample string\n"
     ]
    }
   ],
   "source": [
    "#method 1\n",
    "#capitaLize\n",
    "#capitalize the first character of the string\n",
    "s=\"te110w,Wor1d! this is a sample string\"\n",
    "sl=s. capitalize()\n",
    "print(sl)\n"
   ]
  },
  {
   "cell_type": "code",
   "execution_count": 17,
   "id": "b70ff2b2",
   "metadata": {},
   "outputs": [
    {
     "name": "stdout",
     "output_type": "stream",
     "text": [
      "Hello,world! this is a sample string\n",
      "hello,world! this is a sample string\n"
     ]
    }
   ],
   "source": [
    "#Method 2\n",
    "#casefold\n",
    "#it will convert lowercase for case-insensitive comparision\n",
    "s=\"Hello,world! this is a sample string\"\n",
    "print(s)\n",
    "s1=s.casefold()    # hift+tab\n",
    "print(s1)"
   ]
  },
  {
   "cell_type": "code",
   "execution_count": 45,
   "id": "411e4c11",
   "metadata": {},
   "outputs": [
    {
     "name": "stdout",
     "output_type": "stream",
     "text": [
      "2\n"
     ]
    }
   ],
   "source": [
    "#metho 3\n",
    "#count\n",
    "#it wiLL count the occurances of a substring in the strin\n",
    "s=\"hello,world! this is a sample string\"\n",
    "s1=s.count(\"r\")\n",
    "print(s1)"
   ]
  },
  {
   "cell_type": "code",
   "execution_count": 21,
   "id": "8208378b",
   "metadata": {},
   "outputs": [
    {
     "name": "stdout",
     "output_type": "stream",
     "text": [
      "hello,world! this is a sample string\n",
      "b'hello,world! this is a sample string'\n"
     ]
    }
   ],
   "source": [
    "#method 4\n",
    "#encode\n",
    "#it will convert given string to the binary string\n",
    "s=\"hello,world! this is a sample string\"\n",
    "print(s)\n",
    "s1=s.encode(encoding='utf-8')\n",
    "print(s1)"
   ]
  },
  {
   "cell_type": "code",
   "execution_count": 22,
   "id": "fa9c6167",
   "metadata": {},
   "outputs": [
    {
     "name": "stdout",
     "output_type": "stream",
     "text": [
      "hello,world! this is a sample string\n",
      "False\n"
     ]
    }
   ],
   "source": [
    "#method 5\n",
    "#endswith\n",
    "#it will check the string ends with a specifed suffix\n",
    "s=\"hello,world! this is a sample string\"\n",
    "print(s)\n",
    "sl=s.endswith(\"world\")\n",
    "print(sl)"
   ]
  },
  {
   "cell_type": "code",
   "execution_count": 27,
   "id": "d87be9ff",
   "metadata": {},
   "outputs": [
    {
     "name": "stdout",
     "output_type": "stream",
     "text": [
      "hello\\world! this is a sample string\n",
      "hello\\world! this is a sample string\n"
     ]
    }
   ],
   "source": [
    "#method 6\n",
    "#expandtsbs\n",
    "s=\"hello\\world! this is a sample string\"\n",
    "print(s)\n",
    "s1=s.expandtabs(18)\n",
    "print(s1)"
   ]
  },
  {
   "cell_type": "code",
   "execution_count": 30,
   "id": "af09b0d7",
   "metadata": {},
   "outputs": [
    {
     "name": "stdout",
     "output_type": "stream",
     "text": [
      "hello,world! this is a sample string\n",
      "-1\n"
     ]
    }
   ],
   "source": [
    "#method 7\n",
    "#find\n",
    "#it searches for a substring and retruns the lowest index where its found\n",
    "s=\"hello,world! this is a sample string\"\n",
    "print(s)\n",
    "sl=s.find(\"World\")\n",
    "print(sl)"
   ]
  },
  {
   "cell_type": "code",
   "execution_count": 33,
   "id": "9ef6012e",
   "metadata": {},
   "outputs": [
    {
     "name": "stdout",
     "output_type": "stream",
     "text": [
      "my name is tts and i am21 years old\n"
     ]
    }
   ],
   "source": [
    "#method 8\n",
    "#format ( )\n",
    "#Formats the string by\n",
    "s=\"my name is {} and i am{} years old\".format(\"tts\",\"21\")\n",
    "print(s)\n"
   ]
  },
  {
   "cell_type": "code",
   "execution_count": 42,
   "id": "d0fcac20",
   "metadata": {},
   "outputs": [
    {
     "name": "stdout",
     "output_type": "stream",
     "text": [
      "my name is bob and i am 25 years old\n"
     ]
    }
   ],
   "source": [
    "#method 9\n",
    "#format_map ( )\n",
    "#similar to format()but uses a mapping(dict) for substitution\n",
    "info={'name':'bob',\"age\":\"25\"}\n",
    "s=\"my name is {name} and i am {age} years old\".format_map(info)\n",
    "print(s)"
   ]
  },
  {
   "cell_type": "code",
   "execution_count": 37,
   "id": "a110b209",
   "metadata": {},
   "outputs": [
    {
     "name": "stdout",
     "output_type": "stream",
     "text": [
      "hello world this is a sample string\n",
      "6\n"
     ]
    }
   ],
   "source": [
    "#method 10\n",
    "#index\n",
    "#it search for a substring and returns the Lowest index where its found\n",
    "s=\"hello world this is a sample string\"\n",
    "print(s)\n",
    "s1=s . index( \"world\" )\n",
    "print(s1)"
   ]
  },
  {
   "cell_type": "code",
   "execution_count": 50,
   "id": "10eb8062",
   "metadata": {},
   "outputs": [
    {
     "name": "stdout",
     "output_type": "stream",
     "text": [
      "this is a sample string\n",
      "True\n"
     ]
    }
   ],
   "source": [
    "#method 11\n",
    "#isalnum()\n",
    "\n",
    "s=\"this is a sample string\"\n",
    "s1=\"626576gf67\"\n",
    "print(s)\n",
    "sl=s1 . isalnum ()\n",
    "print(sl)"
   ]
  },
  {
   "cell_type": "code",
   "execution_count": 51,
   "id": "4a635fe8",
   "metadata": {},
   "outputs": [
    {
     "name": "stdout",
     "output_type": "stream",
     "text": [
      "this is a sample string\n",
      "False\n"
     ]
    }
   ],
   "source": [
    "#method 12\n",
    "#isalpha()\n",
    "s=\"this is a sample string\"\n",
    "s1=\"626576gf67\"\n",
    "print(s)\n",
    "sl=s1 . isalpha ()\n",
    "print(sl)"
   ]
  },
  {
   "cell_type": "code",
   "execution_count": 54,
   "id": "65496754",
   "metadata": {},
   "outputs": [
    {
     "name": "stdout",
     "output_type": "stream",
     "text": [
      "world@@ this is a sample string\n",
      "True\n"
     ]
    }
   ],
   "source": [
    "#method 13\n",
    "#isascii\n",
    "s=\"world! this is a sample string\"\n",
    "\n",
    "print(s)\n",
    "sl=s. isascii()\n",
    "print(sl)"
   ]
  },
  {
   "cell_type": "code",
   "execution_count": 68,
   "id": "392b17c3",
   "metadata": {},
   "outputs": [
    {
     "name": "stdout",
     "output_type": "stream",
     "text": [
      "1296\n",
      "True\n"
     ]
    }
   ],
   "source": [
    "#method 14\n",
    "#isdecimal\n",
    "#it checks if the string contains the decimal numbers\n",
    "#s=\"this is a sample string\"\n",
    "s= \"1296\"\n",
    "print(s)\n",
    "sl=s.isdecimal()\n",
    "print(sl)\n",
    "\n"
   ]
  },
  {
   "cell_type": "code",
   "execution_count": 75,
   "id": "2b0b2da3",
   "metadata": {},
   "outputs": [
    {
     "name": "stdout",
     "output_type": "stream",
     "text": [
      "13\n",
      "True\n"
     ]
    }
   ],
   "source": [
    "#method 15\n",
    "#isdigit\n",
    "#it will check if the string has only the\n",
    "#s=\"world! this is a sample string\"\n",
    "s=\"13\"\n",
    "print(s)\n",
    "sl=s.isdigit()\n",
    "print(sl)"
   ]
  },
  {
   "cell_type": "code",
   "execution_count": 78,
   "id": "33df0f53",
   "metadata": {},
   "outputs": [
    {
     "name": "stdout",
     "output_type": "stream",
     "text": [
      "n22\n",
      "True\n"
     ]
    }
   ],
   "source": [
    "#method 16\n",
    "#isidentifier\n",
    "#it will check whether the string is valid identifier or not\n",
    "#s=\"world! this is a sample string\"\n",
    "s=\"n22\"\n",
    "print(s)\n",
    "sl=s.isidentifier()\n",
    "print(sl)\n",
    "#isalpha #isidentifier"
   ]
  },
  {
   "cell_type": "code",
   "execution_count": 85,
   "id": "34ea0ef4",
   "metadata": {},
   "outputs": [
    {
     "name": "stdout",
     "output_type": "stream",
     "text": [
      "he110,wor1d! this is a sample string\n",
      "True\n"
     ]
    }
   ],
   "source": [
    "#method 17\n",
    "#islower\n",
    "#checks if the string and then convert into lowercase\n",
    "#s=\"He110,wor1d! this is a sample string\"\n",
    "s=\"he110,wor1d! this is a sample string\"\n",
    "print(s)\n",
    "sl=s.islower( )\n",
    "print(sl)"
   ]
  },
  {
   "cell_type": "code",
   "execution_count": 88,
   "id": "01e58cb3",
   "metadata": {},
   "outputs": [
    {
     "name": "stdout",
     "output_type": "stream",
     "text": [
      "1234\n",
      "True\n"
     ]
    }
   ],
   "source": [
    "#method 18\n",
    "#isnumeric()\n",
    "#it will check whether the string contains the numeric character or not\n",
    "s=\"1234\"\n",
    "print(s)\n",
    "sl=s.isnumeric()\n",
    "print(sl)"
   ]
  },
  {
   "cell_type": "code",
   "execution_count": 92,
   "id": "1bc50f89",
   "metadata": {},
   "outputs": [
    {
     "name": "stdout",
     "output_type": "stream",
     "text": [
      "this is a sample string\n",
      "True\n"
     ]
    }
   ],
   "source": [
    "#method 19\n",
    "#isprintabLe()\n",
    "#it checks whether all the characters are printable or not\n",
    "s=\"this is a sample string\"\n",
    "print(s)\n",
    "sl=s.isprintable()\n",
    "print(sl)"
   ]
  },
  {
   "cell_type": "code",
   "execution_count": 99,
   "id": "f6a2c4b2",
   "metadata": {},
   "outputs": [
    {
     "name": "stdout",
     "output_type": "stream",
     "text": [
      "   \n",
      "True\n"
     ]
    }
   ],
   "source": [
    "#method 20\n",
    "#isspace\n",
    "#it checks for the whitespaces\n",
    "#it will take only empty spacesl\n",
    "\n",
    "#s=\"world! ttks is a sample string\"\n",
    "s=\"   \"\n",
    "print(s)\n",
    "sl=s.isspace()\n",
    "print(sl)"
   ]
  },
  {
   "cell_type": "code",
   "execution_count": 112,
   "id": "c899cf0f",
   "metadata": {},
   "outputs": [
    {
     "name": "stdout",
     "output_type": "stream",
     "text": [
      "world       how are you\n"
     ]
    }
   ],
   "source": [
    "#method 21\n",
    "#join\n",
    "#it will join the List of string and then it will show\n",
    "wl=[\"world\", \"how are you\"]\n",
    "a=\"       \"\n",
    "s1=a.join(wl)\n",
    "print(s1)"
   ]
  },
  {
   "cell_type": "code",
   "execution_count": 113,
   "id": "645d8a89",
   "metadata": {},
   "outputs": [
    {
     "ename": "SyntaxError",
     "evalue": "invalid decimal literal (1605615727.py, line 5)",
     "output_type": "error",
     "traceback": [
      "\u001b[1;36m  Cell \u001b[1;32mIn[113], line 5\u001b[1;36m\u001b[0m\n\u001b[1;33m    sl=s.ljust(4e, \"@\" )\u001b[0m\n\u001b[1;37m               ^\u001b[0m\n\u001b[1;31mSyntaxError\u001b[0m\u001b[1;31m:\u001b[0m invalid decimal literal\n"
     ]
    }
   ],
   "source": [
    "#method 22\n",
    "#ljust\n",
    "s=\"hello, world! this is a sample string\"\n",
    "print(s)\n",
    "sl=s.just(4e, \"@\" )\n",
    "print(sl)"
   ]
  },
  {
   "cell_type": "code",
   "execution_count": null,
   "id": "a6667ab4",
   "metadata": {},
   "outputs": [],
   "source": [
    "#method 23\n",
    "#Lower()\n",
    "#converts a string to the Lower case\n",
    "sl=s. lower( )\n",
    "print(sl)"
   ]
  },
  {
   "cell_type": "code",
   "execution_count": 114,
   "id": "f8225e7f",
   "metadata": {},
   "outputs": [
    {
     "name": "stdout",
     "output_type": "stream",
     "text": [
      "hello,world! this is a sample string\n"
     ]
    },
    {
     "ename": "AttributeError",
     "evalue": "'str' object has no attribute 'lfind'",
     "output_type": "error",
     "traceback": [
      "\u001b[1;31m---------------------------------------------------------------------------\u001b[0m",
      "\u001b[1;31mAttributeError\u001b[0m                            Traceback (most recent call last)",
      "Cell \u001b[1;32mIn[114], line 6\u001b[0m\n\u001b[0;32m      4\u001b[0m s\u001b[38;5;241m=\u001b[39m\u001b[38;5;124m\"\u001b[39m\u001b[38;5;124mhello,world! this is a sample string\u001b[39m\u001b[38;5;124m\"\u001b[39m\n\u001b[0;32m      5\u001b[0m \u001b[38;5;28mprint\u001b[39m(s)\n\u001b[1;32m----> 6\u001b[0m sl\u001b[38;5;241m=\u001b[39ms\u001b[38;5;241m.\u001b[39m lfind(\u001b[38;5;124m\"\u001b[39m\u001b[38;5;124m \u001b[39m\u001b[38;5;124m\"\u001b[39m )\n\u001b[0;32m      7\u001b[0m \u001b[38;5;28mprint\u001b[39m(sl)\n",
      "\u001b[1;31mAttributeError\u001b[0m: 'str' object has no attribute 'lfind'"
     ]
    }
   ],
   "source": [
    "#method 24\n",
    "#Lstrip()\n",
    "#it will remove leading white spaces\n",
    "s=\"hello,world! this is a sample string\"\n",
    "print(s)\n",
    "sl=s. lfind(\" \" )\n",
    "print(sl)"
   ]
  },
  {
   "cell_type": "code",
   "execution_count": null,
   "id": "04c4b3b4",
   "metadata": {},
   "outputs": [],
   "source": [
    "#method 25\n",
    "#maketrans\n",
    "sl:str.\n",
    "\" \"123\")\n",
    "1\n",
    "print(sl)"
   ]
  },
  {
   "cell_type": "code",
   "execution_count": null,
   "id": "04d9ec5d",
   "metadata": {},
   "outputs": [],
   "source": [
    "#method 26\n",
    "#parti tion\n",
    "#it will split the string into three parts based on the first occurance of a substring\n",
    "s: \"hello, world! this is a sample string\"\n",
    "print(s)\n",
    "sl=s. partition( \"sample\" )\n",
    "print(sl)"
   ]
  },
  {
   "cell_type": "code",
   "execution_count": null,
   "id": "0b899f4a",
   "metadata": {},
   "outputs": [],
   "source": [
    "#method 27\n",
    "#removeprefix\n",
    "#it wiLL remove a specifed prefix from the string\n",
    "world\" .removeprefix(\"prefix:\")\n",
    "print(s)"
   ]
  },
  {
   "cell_type": "code",
   "execution_count": null,
   "id": "a42e8be0",
   "metadata": {},
   "outputs": [],
   "source": [
    "#method 28\n",
    "#removesuffix\n",
    "world\" . removesuffix(\"or\")\n",
    "print(s)"
   ]
  },
  {
   "cell_type": "code",
   "execution_count": null,
   "id": "6b96500d",
   "metadata": {},
   "outputs": [],
   "source": [
    "method 29\n",
    "#repLace()\n",
    "wit L replace a substring with another one\n",
    "this is a sample string\"\n",
    "print(s)\n",
    "sl=s . replace( \"hello\" , \"hi \" )\n",
    "print(sl)"
   ]
  },
  {
   "cell_type": "code",
   "execution_count": null,
   "id": "1e28d491",
   "metadata": {},
   "outputs": [],
   "source": [
    "#method 30\n",
    "#rfind\n",
    "#will return the hightes index of the string\n",
    "s=\"hello,world! this is a sample string\"\n",
    "print(s)\n",
    "sl=s. rfind(\" \" )\n",
    "print(sl)"
   ]
  },
  {
   "cell_type": "code",
   "execution_count": null,
   "id": "90fc5c8b",
   "metadata": {},
   "outputs": [],
   "source": [
    "#method 31\n",
    "#rindex\n",
    "s=\"hello,world! this is a sample string\"\n",
    "print(s)\n",
    "sl=s . rindex( \"s\")\n",
    "print(sl)\n",
    "1"
   ]
  },
  {
   "cell_type": "code",
   "execution_count": 101,
   "id": "6aff592a",
   "metadata": {},
   "outputs": [
    {
     "name": "stdout",
     "output_type": "stream",
     "text": [
      "this is a sample string\n",
      "@@@@@@@@@@@@@@this is a sample string\n"
     ]
    }
   ],
   "source": [
    "#method 32\n",
    "#rjUSt\n",
    "s=\"this is a sample string\"\n",
    "print(s)\n",
    "sl=s.rjust(37,\"@\" )\n",
    "print(sl)"
   ]
  },
  {
   "cell_type": "code",
   "execution_count": null,
   "id": "9d1aa1e7",
   "metadata": {},
   "outputs": [],
   "source": [
    "#methos 33\n",
    "#rpartition\n",
    "s: \"hello, world! this is a sample string\"\n",
    "print(s)\n",
    "sl=s . rpartition( \" is\")\n",
    "print(sl)"
   ]
  }
 ],
 "metadata": {
  "kernelspec": {
   "display_name": "Python 3 (ipykernel)",
   "language": "python",
   "name": "python3"
  },
  "language_info": {
   "codemirror_mode": {
    "name": "ipython",
    "version": 3
   },
   "file_extension": ".py",
   "mimetype": "text/x-python",
   "name": "python",
   "nbconvert_exporter": "python",
   "pygments_lexer": "ipython3",
   "version": "3.11.3"
  }
 },
 "nbformat": 4,
 "nbformat_minor": 5
}
